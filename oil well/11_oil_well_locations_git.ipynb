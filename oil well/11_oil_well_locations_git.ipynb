{
 "cells": [
  {
   "cell_type": "markdown",
   "metadata": {},
   "source": [
    "# Выбор локации для скважины"
   ]
  },
  {
   "cell_type": "markdown",
   "metadata": {},
   "source": [
    "\n",
    "Предоставлены пробы нефти в трёх регионах: в каждом 10 000 месторождений, где измерили качество нефти и объём её запасов. Необходимо построить модель машинного обучения, которая поможет определить регион, где добыча принесёт наибольшую прибыль. Требуется проанализировать возможную прибыль и риски техникой *Bootstrap.*\n",
    "\n",
    "Настоящее исследование подразумевает выполнение следующих шагов:\n",
    "\n",
    "- В избранном регионе ищут месторождения, для каждого определяют значения признаков;\n",
    "- Строят модель и оценивают объём запасов;\n",
    "- Выбирают месторождения с самым высокими оценками значений. Количество месторождений зависит от бюджета компании и стоимости разработки одной скважины;\n",
    "- Прибыль равна суммарной прибыли отобранных месторождений."
   ]
  },
  {
   "cell_type": "markdown",
   "metadata": {},
   "source": [
    "## Загрузка и подготовка данных"
   ]
  },
  {
   "cell_type": "code",
   "execution_count": 1,
   "metadata": {},
   "outputs": [],
   "source": [
    "# импортируем необходимые библиотеки\n",
    "import pandas as pd\n",
    "import matplotlib.pyplot as plt\n",
    "import numpy as np\n",
    "import matplotlib\n",
    "from sklearn.linear_model import LinearRegression\n",
    "from sklearn.preprocessing import StandardScaler\n",
    "from sklearn.model_selection import train_test_split\n",
    "from sklearn.metrics import mean_squared_error"
   ]
  },
  {
   "cell_type": "code",
   "execution_count": 2,
   "metadata": {},
   "outputs": [],
   "source": [
    "# загрузим в соответствующие переменные данные из трех регионов претендентов на открытие скважины\n",
    "geo_0 = pd.read_csv('/datasets/geo_data_0.csv')\n",
    "geo_1 = pd.read_csv('/datasets/geo_data_1.csv')\n",
    "geo_2 = pd.read_csv('/datasets/geo_data_2.csv')"
   ]
  },
  {
   "cell_type": "markdown",
   "metadata": {},
   "source": [
    "### Ознакомление с данными"
   ]
  },
  {
   "cell_type": "markdown",
   "metadata": {},
   "source": [
    "Стуктуры трех датасетов идентичны, данные собраны для трех регионов по одной методике, поэтому можно дать общий обзор на примере данных только одного из регионов, например, geo_1:"
   ]
  },
  {
   "cell_type": "code",
   "execution_count": 3,
   "metadata": {},
   "outputs": [
    {
     "data": {
      "text/html": [
       "<div>\n",
       "<style scoped>\n",
       "    .dataframe tbody tr th:only-of-type {\n",
       "        vertical-align: middle;\n",
       "    }\n",
       "\n",
       "    .dataframe tbody tr th {\n",
       "        vertical-align: top;\n",
       "    }\n",
       "\n",
       "    .dataframe thead th {\n",
       "        text-align: right;\n",
       "    }\n",
       "</style>\n",
       "<table border=\"1\" class=\"dataframe\">\n",
       "  <thead>\n",
       "    <tr style=\"text-align: right;\">\n",
       "      <th></th>\n",
       "      <th>id</th>\n",
       "      <th>f0</th>\n",
       "      <th>f1</th>\n",
       "      <th>f2</th>\n",
       "      <th>product</th>\n",
       "    </tr>\n",
       "  </thead>\n",
       "  <tbody>\n",
       "    <tr>\n",
       "      <th>34373</th>\n",
       "      <td>rdJeX</td>\n",
       "      <td>0.709363</td>\n",
       "      <td>-8.800175</td>\n",
       "      <td>0.997669</td>\n",
       "      <td>30.132364</td>\n",
       "    </tr>\n",
       "    <tr>\n",
       "      <th>9225</th>\n",
       "      <td>HW7et</td>\n",
       "      <td>-10.890456</td>\n",
       "      <td>-1.908382</td>\n",
       "      <td>3.001627</td>\n",
       "      <td>84.038886</td>\n",
       "    </tr>\n",
       "    <tr>\n",
       "      <th>71455</th>\n",
       "      <td>BKcwn</td>\n",
       "      <td>10.346354</td>\n",
       "      <td>-7.530732</td>\n",
       "      <td>-0.004061</td>\n",
       "      <td>0.000000</td>\n",
       "    </tr>\n",
       "    <tr>\n",
       "      <th>63567</th>\n",
       "      <td>zc8Ue</td>\n",
       "      <td>-8.304229</td>\n",
       "      <td>-7.789619</td>\n",
       "      <td>3.004747</td>\n",
       "      <td>84.038886</td>\n",
       "    </tr>\n",
       "    <tr>\n",
       "      <th>99285</th>\n",
       "      <td>hXzn0</td>\n",
       "      <td>-0.355643</td>\n",
       "      <td>-7.665861</td>\n",
       "      <td>1.986542</td>\n",
       "      <td>57.085625</td>\n",
       "    </tr>\n",
       "  </tbody>\n",
       "</table>\n",
       "</div>"
      ],
      "text/plain": [
       "          id         f0        f1        f2    product\n",
       "34373  rdJeX   0.709363 -8.800175  0.997669  30.132364\n",
       "9225   HW7et -10.890456 -1.908382  3.001627  84.038886\n",
       "71455  BKcwn  10.346354 -7.530732 -0.004061   0.000000\n",
       "63567  zc8Ue  -8.304229 -7.789619  3.004747  84.038886\n",
       "99285  hXzn0  -0.355643 -7.665861  1.986542  57.085625"
      ]
     },
     "execution_count": 3,
     "metadata": {},
     "output_type": "execute_result"
    }
   ],
   "source": [
    "# визуальный осмотр датасета\n",
    "geo_1.sample(5)"
   ]
  },
  {
   "cell_type": "markdown",
   "metadata": {},
   "source": [
    "- id — уникальный идентификатор скважины;\n",
    "- f0, f1, f2 — три признака точек (обучающие признаки), характеристики скважин на основе значений которых строится предположение о запасах скважины;\n",
    "- product — объём запасов в скважине тыс. баррелей (целевой признак)"
   ]
  },
  {
   "cell_type": "code",
   "execution_count": 4,
   "metadata": {},
   "outputs": [
    {
     "name": "stdout",
     "output_type": "stream",
     "text": [
      "<class 'pandas.core.frame.DataFrame'>\n",
      "RangeIndex: 100000 entries, 0 to 99999\n",
      "Data columns (total 5 columns):\n",
      " #   Column   Non-Null Count   Dtype  \n",
      "---  ------   --------------   -----  \n",
      " 0   id       100000 non-null  object \n",
      " 1   f0       100000 non-null  float64\n",
      " 2   f1       100000 non-null  float64\n",
      " 3   f2       100000 non-null  float64\n",
      " 4   product  100000 non-null  float64\n",
      "dtypes: float64(4), object(1)\n",
      "memory usage: 3.8+ MB\n"
     ]
    }
   ],
   "source": [
    "# сводная информация для набора данных по geo_1\n",
    "geo_1.info()"
   ]
  },
  {
   "cell_type": "markdown",
   "metadata": {},
   "source": [
    "Данные содержат информацию по 100000 замерам для каждого региона. Типы данных соответствуют измеряемым величинам, пропусков нет. Названия столбцов выдержаны в едином формате. В колонке 'id' содержится небольшое количество дубликатов:"
   ]
  },
  {
   "cell_type": "code",
   "execution_count": 5,
   "metadata": {},
   "outputs": [
    {
     "data": {
      "text/html": [
       "<div>\n",
       "<style scoped>\n",
       "    .dataframe tbody tr th:only-of-type {\n",
       "        vertical-align: middle;\n",
       "    }\n",
       "\n",
       "    .dataframe tbody tr th {\n",
       "        vertical-align: top;\n",
       "    }\n",
       "\n",
       "    .dataframe thead th {\n",
       "        text-align: right;\n",
       "    }\n",
       "</style>\n",
       "<table border=\"1\" class=\"dataframe\">\n",
       "  <thead>\n",
       "    <tr style=\"text-align: right;\">\n",
       "      <th></th>\n",
       "      <th>id</th>\n",
       "      <th>f0</th>\n",
       "      <th>f1</th>\n",
       "      <th>f2</th>\n",
       "      <th>product</th>\n",
       "    </tr>\n",
       "  </thead>\n",
       "  <tbody>\n",
       "    <tr>\n",
       "      <th>41906</th>\n",
       "      <td>LHZR0</td>\n",
       "      <td>-8.989672</td>\n",
       "      <td>-4.286607</td>\n",
       "      <td>2.009139</td>\n",
       "      <td>57.085625</td>\n",
       "    </tr>\n",
       "    <tr>\n",
       "      <th>82178</th>\n",
       "      <td>bfPNe</td>\n",
       "      <td>-6.202799</td>\n",
       "      <td>-4.820045</td>\n",
       "      <td>2.995107</td>\n",
       "      <td>84.038886</td>\n",
       "    </tr>\n",
       "    <tr>\n",
       "      <th>82873</th>\n",
       "      <td>wt4Uk</td>\n",
       "      <td>10.259972</td>\n",
       "      <td>-9.376355</td>\n",
       "      <td>4.994297</td>\n",
       "      <td>134.766305</td>\n",
       "    </tr>\n",
       "    <tr>\n",
       "      <th>84461</th>\n",
       "      <td>5ltQ6</td>\n",
       "      <td>18.213839</td>\n",
       "      <td>2.191999</td>\n",
       "      <td>3.993869</td>\n",
       "      <td>107.813044</td>\n",
       "    </tr>\n",
       "  </tbody>\n",
       "</table>\n",
       "</div>"
      ],
      "text/plain": [
       "          id         f0        f1        f2     product\n",
       "41906  LHZR0  -8.989672 -4.286607  2.009139   57.085625\n",
       "82178  bfPNe  -6.202799 -4.820045  2.995107   84.038886\n",
       "82873  wt4Uk  10.259972 -9.376355  4.994297  134.766305\n",
       "84461  5ltQ6  18.213839  2.191999  3.993869  107.813044"
      ]
     },
     "execution_count": 5,
     "metadata": {},
     "output_type": "execute_result"
    }
   ],
   "source": [
    "# 4 дубликата в идентификаторах замеров для geo_1\n",
    "geo_1.loc[geo_1['id'].duplicated()]"
   ]
  },
  {
   "cell_type": "code",
   "execution_count": 6,
   "metadata": {},
   "outputs": [
    {
     "data": {
      "text/html": [
       "<div>\n",
       "<style scoped>\n",
       "    .dataframe tbody tr th:only-of-type {\n",
       "        vertical-align: middle;\n",
       "    }\n",
       "\n",
       "    .dataframe tbody tr th {\n",
       "        vertical-align: top;\n",
       "    }\n",
       "\n",
       "    .dataframe thead th {\n",
       "        text-align: right;\n",
       "    }\n",
       "</style>\n",
       "<table border=\"1\" class=\"dataframe\">\n",
       "  <thead>\n",
       "    <tr style=\"text-align: right;\">\n",
       "      <th></th>\n",
       "      <th>id</th>\n",
       "      <th>f0</th>\n",
       "      <th>f1</th>\n",
       "      <th>f2</th>\n",
       "      <th>product</th>\n",
       "    </tr>\n",
       "  </thead>\n",
       "  <tbody>\n",
       "    <tr>\n",
       "      <th>1305</th>\n",
       "      <td>LHZR0</td>\n",
       "      <td>11.170835</td>\n",
       "      <td>-1.945066</td>\n",
       "      <td>3.002872</td>\n",
       "      <td>80.859783</td>\n",
       "    </tr>\n",
       "    <tr>\n",
       "      <th>41906</th>\n",
       "      <td>LHZR0</td>\n",
       "      <td>-8.989672</td>\n",
       "      <td>-4.286607</td>\n",
       "      <td>2.009139</td>\n",
       "      <td>57.085625</td>\n",
       "    </tr>\n",
       "  </tbody>\n",
       "</table>\n",
       "</div>"
      ],
      "text/plain": [
       "          id         f0        f1        f2    product\n",
       "1305   LHZR0  11.170835 -1.945066  3.002872  80.859783\n",
       "41906  LHZR0  -8.989672 -4.286607  2.009139  57.085625"
      ]
     },
     "execution_count": 6,
     "metadata": {},
     "output_type": "execute_result"
    }
   ],
   "source": [
    "# значения f0, f1, f3 различны для одинаковых id\n",
    "geo_1.loc[geo_1['id']=='LHZR0']"
   ]
  },
  {
   "cell_type": "markdown",
   "metadata": {},
   "source": [
    "В данных остальных регионов также имеются дубликаты идентификаторов замеров (причем характеристики f0, f1, f2 этих дубликатов различны). Повторяющихся значений для geo_0 - 10шт, geo_2 - 4шт. Необходимо выяснить в компании причину возникновения таких повторов. Принимая во внимание их малое количество, а также тот факт, что характеристики скважин отличаются (то  есть это \"неполный дубликат\"), будем каждый каждый такой повтор считать уникальной записью."
   ]
  },
  {
   "cell_type": "code",
   "execution_count": 7,
   "metadata": {},
   "outputs": [
    {
     "data": {
      "text/plain": [
       "id         0\n",
       "f0         0\n",
       "f1         0\n",
       "f2         0\n",
       "product    0\n",
       "dtype: int64"
      ]
     },
     "execution_count": 7,
     "metadata": {},
     "output_type": "execute_result"
    }
   ],
   "source": [
    "# объединим таблицы регионов и проверим на пропуски. Пропуски отсутствуют\n",
    "pd.concat([geo_0, geo_1, geo_2], axis=0).isnull().sum()"
   ]
  },
  {
   "cell_type": "markdown",
   "metadata": {},
   "source": [
    "### Данные не учавствующие в обучении модели"
   ]
  },
  {
   "cell_type": "code",
   "execution_count": 8,
   "metadata": {},
   "outputs": [],
   "source": [
    "# необходимо удалить из датасета идентификатор измерения - столбец \"id\", так как он \n",
    "# не несет никакого полезного сигнала для модели\n",
    "geo_0 = geo_0.drop('id', axis=1)\n",
    "geo_1 = geo_1.drop('id', axis=1)\n",
    "geo_2 = geo_2.drop('id', axis=1)"
   ]
  },
  {
   "cell_type": "markdown",
   "metadata": {},
   "source": [
    "### Масштабирование признаков"
   ]
  },
  {
   "cell_type": "markdown",
   "metadata": {},
   "source": [
    "Признаками для обучения модели будут столбцы f0, f1, f2. Они принимают исключительно числовые значения. Посмотрим разброс этих значений."
   ]
  },
  {
   "cell_type": "code",
   "execution_count": 9,
   "metadata": {},
   "outputs": [
    {
     "data": {
      "image/png": "[encoded data removed]",
      "text/plain": [
       "<Figure size 432x288 with 1 Axes>"
      ]
     },
     "metadata": {
      "needs_background": "light"
     },
     "output_type": "display_data"
    }
   ],
   "source": [
    "# оценим визуально разброс значений признаков f0, f1, f2\n",
    "geo_1.f0.hist()\n",
    "geo_1.f1.hist()\n",
    "geo_1.f2.hist();"
   ]
  },
  {
   "cell_type": "markdown",
   "metadata": {},
   "source": [
    "Заметно, что диапазоны значений различны и поэтому необходимо произвести масштабирование значений. Сделаем это с помощью стандартного инструмента из библиотеки sklearn StandardScaler(). На данном этапе создадим функцию Scaling().  Использовать ее будем после разбиения данных на обучающую и валидационную выборки."
   ]
  },
  {
   "cell_type": "code",
   "execution_count": 10,
   "metadata": {},
   "outputs": [],
   "source": [
    "# строка позволяющая избежать предупреждения SettingWithCopy\n",
    "pd.options.mode.chained_assignment = None"
   ]
  },
  {
   "cell_type": "code",
   "execution_count": 11,
   "metadata": {},
   "outputs": [],
   "source": [
    "# создадим объект структуры StandardScaler()\n",
    "scaler = StandardScaler()"
   ]
  },
  {
   "cell_type": "code",
   "execution_count": 12,
   "metadata": {},
   "outputs": [],
   "source": [
    "# функция принимает на вход два объекта DataFrame, в нашем случае это будут обучающие и валидационные данные\n",
    "def scaling(train, valid):\n",
    "    scaler.fit(train)  # на train данных обучаем scaler и\n",
    "    # преобразуем признаки train и valid\n",
    "    return pd.DataFrame(scaler.transform(train), columns=['f0', 'f1', 'f2']), \\\n",
    "           pd.DataFrame(scaler.transform(valid), columns=['f0', 'f1', 'f2'])"
   ]
  },
  {
   "cell_type": "markdown",
   "metadata": {},
   "source": [
    "### Вывод"
   ]
  },
  {
   "cell_type": "markdown",
   "metadata": {},
   "source": [
    "На данном этапе мы располагаем данными в объеме 100000 измерений для каждого из трех регионов. На основе этих данных нам предстоит создать модель, которая предсказывает запасы сырья. Для этих целей был отброшен неинформативный столбец \"id\". Предстоит масштабирование значений - для этого создан объект структуры StandardScaler(). Также мы убедились в отсутствии пропусков. Обнаружили неполные дубликаты, которые остаются в датсетах. Поскольку нам ничего не известно о критериях  f0, f1, f2, мы можем только предполагать какие значения должны принимать эти переменные, какие из них являются аномалией или выбегом - оставляем их как есть в датасете."
   ]
  },
  {
   "cell_type": "markdown",
   "metadata": {},
   "source": [
    "## Обучение и проверка модели"
   ]
  },
  {
   "cell_type": "markdown",
   "metadata": {},
   "source": [
    "Создадим, обучим и посмотрим на результаты работы модели линейной регрессии для каждого из регионов. Обучающими признаками для нашей модели послужат столбцы f0, f1, f2. Целевым признаком - product:"
   ]
  },
  {
   "cell_type": "code",
   "execution_count": 13,
   "metadata": {},
   "outputs": [],
   "source": [
    "# создадим список регионов\n",
    "regions = [geo_0, geo_1, geo_2]"
   ]
  },
  {
   "cell_type": "code",
   "execution_count": 14,
   "metadata": {},
   "outputs": [],
   "source": [
    "# переменные для хранения необходимых  в дальнейшем показателей и инструментов\n",
    "models, rmse, predictions, targets, all_features = [],[],[],[],[]"
   ]
  },
  {
   "cell_type": "markdown",
   "metadata": {},
   "source": [
    " - models - хранит обученные модели линейной регрессии\n",
    " - rmse - значения квадратного корня из среднеквадратичного отклонения для каждой из моделей\n",
    " - predictions - значения запасов нефти предсказанное моделями\n",
    " - targets - реальные значения запасов нефти\n",
    " - all_features - обучающие признаки f0, f1, f2 для каждого региона\n",
    " \n",
    "Все переменные это списки. Номер индекса элемента списка это номер региона."
   ]
  },
  {
   "cell_type": "code",
   "execution_count": 15,
   "metadata": {},
   "outputs": [],
   "source": [
    "# создадим функцию split(), выполняющую разбиение на обучающую и валидационную выборку\n",
    "def split(features, target):\n",
    "    return train_test_split(features, target, test_size=0.25, random_state=12345)"
   ]
  },
  {
   "cell_type": "markdown",
   "metadata": {},
   "source": [
    "Создадим функцию predict_and_rmse(), которая заполняет описанные выше переменные, необходимые для дальнейших расчетов:"
   ]
  },
  {
   "cell_type": "code",
   "execution_count": 16,
   "metadata": {},
   "outputs": [],
   "source": [
    "# функция predict_and_rmse() принимает на вход датасет, geo_0, geo_1, или geo_2\n",
    "def predict_and_rmse(dataset):\n",
    "# отделяет обучающие данные от целевого признака\n",
    "    target = dataset['product']\n",
    "    features = dataset.drop(['product'] , axis=1)\n",
    "# делит на обучающую и валидационную выборки функцией split()\n",
    "    features_train, features_valid, target_train, target_valid = split(features, target)\n",
    "# масштабирует признаки функцией scaling()\n",
    "    features_train, features_valid = scaling(features_train, features_valid)      \n",
    "# обучает модель\n",
    "    model = LinearRegression()\n",
    "    model.fit(features_train, target_train)\n",
    "# делает предсказания\n",
    "    predicted_valid = model.predict(features_valid)\n",
    "# оценивает качество предсказания\n",
    "    mse = mean_squared_error(target_valid, predicted_valid)\n",
    "# возвращает model, rmse для model, предсказания, целевой признак и признаки выборки valid для каждого региона\n",
    "    models.append(model)\n",
    "    rmse.append(mse**.5)\n",
    "    predictions.append(predicted_valid)\n",
    "    targets.append(target_valid)\n",
    "    all_features.append(features_valid)"
   ]
  },
  {
   "cell_type": "code",
   "execution_count": 17,
   "metadata": {},
   "outputs": [],
   "source": [
    "# передадим на вход функции predict_and_rmse() данные каждого из регионов\n",
    "for region in regions:\n",
    "    predict_and_rmse(region)"
   ]
  },
  {
   "cell_type": "markdown",
   "metadata": {},
   "source": [
    "Выведем на экран результаты работы модели - предсказанный средний объем запасов сырья и квадратный корень из средней квадратичной ошибки для каждого из 3-х регионов:"
   ]
  },
  {
   "cell_type": "code",
   "execution_count": 18,
   "metadata": {
    "scrolled": true
   },
   "outputs": [
    {
     "name": "stdout",
     "output_type": "stream",
     "text": [
      "Регион 0\n",
      "Средний объем запасов сырья: 92.59 тыс. баррелей\n",
      "RMSE модели:  37.5794 тыс. баррелей\n",
      "\n",
      "Регион 1\n",
      "Средний объем запасов сырья: 68.73 тыс. баррелей\n",
      "RMSE модели:  0.8931 тыс. баррелей\n",
      "\n",
      "Регион 2\n",
      "Средний объем запасов сырья: 94.97 тыс. баррелей\n",
      "RMSE модели:  40.0297 тыс. баррелей\n",
      "\n"
     ]
    }
   ],
   "source": [
    "# средний запас предсказанного сырья и RMSE для трех регионов\n",
    "for i in range(len(regions)):\n",
    "    mean = predictions[i].mean()\n",
    "    print('Регион', i)\n",
    "    print(f'Средний объем запасов сырья: {mean:.2f} тыс. баррелей')\n",
    "    print(\"RMSE модели: \", round(rmse[i],4), \"тыс. баррелей\")\n",
    "    print()"
   ]
  },
  {
   "cell_type": "markdown",
   "metadata": {},
   "source": [
    "### Вывод"
   ]
  },
  {
   "cell_type": "markdown",
   "metadata": {},
   "source": [
    "Мы подготовили данные для расчетов, создали модель линейной регрессии для каждого региона и обучили ее. Значения RMSE для региона 1 много меньше значений отклонений остальных регионов - это говорит о том, что показаниям из данного региона стоит доверять больше.\n",
    "\n",
    "На следующем шаге, подготовим данные для расчета прибыли и риска убытков для каждого из регионов."
   ]
  },
  {
   "cell_type": "markdown",
   "metadata": {},
   "source": [
    "## Подготовка к расчёту прибыли"
   ]
  },
  {
   "cell_type": "markdown",
   "metadata": {},
   "source": [
    "Для расчета прибыли нам понадобятся следующие переменные:"
   ]
  },
  {
   "cell_type": "code",
   "execution_count": 19,
   "metadata": {},
   "outputs": [],
   "source": [
    "# бюджет на разработку месторождения в одном регионе 10 млрд.руб\n",
    "BUDGET = 1e10\n",
    "# стоимость барреля 450 руб.\n",
    "BARREL = 450\n",
    "# создадим переменную state через которую будем передавать формируемым выборкам случайное значение для random_state\n",
    "state = np.random.RandomState(12345)"
   ]
  },
  {
   "cell_type": "markdown",
   "metadata": {},
   "source": [
    "Перед созданием функции для вычисления прибыли, найдем точку безубыточности. В денежном выражении она составляет  10млрд. руб. на регион, или 50млн.руб на каждую из 200 скважин. Исходя из того, что рыночная цена составляет 450 руб. за баррель, то для того чтобы отбить затраты и перейти к извлечению прибыли необходимо добыть 50 млн.руб/ 450 руб = 111111 баррелей с одной скважины или 22222222 баррелей с 200 скважин по всему региону. Это значения точки безубыточности в натуральном выражении."
   ]
  },
  {
   "cell_type": "markdown",
   "metadata": {},
   "source": [
    "Создадим функцию для вычисления прибыли income(). Функция принимает набор из двухсот значений. Каждое значение это запас нефти в одной из двухсот скважин для одного из трех регионов. Чтобы подсчитать прибыль для региона, нужно сложить все 200 значений, умножить на стоимость барреля нефти (переменная BARREL) и вычесть из полученного произведения затраты связанные с разведкой, разработкой и обслуживанием месторождения региона (переменная BUDGET). Функция возвращает сумму прибыли в рублях."
   ]
  },
  {
   "cell_type": "code",
   "execution_count": 20,
   "metadata": {},
   "outputs": [],
   "source": [
    "# функция для расчета прибыли\n",
    "def income(dataset):\n",
    "    return dataset.sum() * 1000 * BARREL - BUDGET"
   ]
  },
  {
   "cell_type": "markdown",
   "metadata": {},
   "source": [
    "### Вывод"
   ]
  },
  {
   "cell_type": "markdown",
   "metadata": {},
   "source": [
    "У нас есть необходимые данные, переменные, функции для расчетов. Создадим сводную функцию, позволяющую сделать окончательный вывод в пользу того или иного региона, что и является целью настоящего исследования"
   ]
  },
  {
   "cell_type": "markdown",
   "metadata": {},
   "source": [
    "## Расчёт прибыли и рисков "
   ]
  },
  {
   "cell_type": "markdown",
   "metadata": {},
   "source": [
    "Чем удачней были выбраны точки для предполагаемых скважин (чем выше в них содержание нефти), тем выше возможная прибыль для каждого из рассматриваемых регионов. Попробуем оценить возможную прибыль для каждого из регионов техникой Bootstrap. \n",
    "* Будем случайным образом выбирать порцию данных по 500 записей  из списка predicts. Этот список содержит три набора данных по 25000 записей для каждого региона. Эти записи - предсказания нашей модели линейной регрессии (см. п.2).\n",
    "* Выбрав 500 записей, отберем 200 записей с наибольшим показателем запасов нефти. Возьмем из переменной targets 200 записей с индексами, соответствующими индексам записей, отобранных нами ранее из переменной predictions. targets - это реальные данные. \n",
    "* Передав targets в качестве параметра в функцию income(), посчитаем прибыль и, таким образом, поймем сколько бы мы заработали на самом деле, выбрав текущую комбинацию 500 записей.\n",
    "* Выполним 1000 таких итераций для каждого региона и получим распределение значений прибыли. На основе этих данных получим среднюю прибыль, построим 95% доверительный интервал и оценим риск убытков (отношение числа отрицательных значений прибыли к общему числу итераций). \n",
    "* Получив эти значения можно будет сделать выбор в пользу одного из регионов."
   ]
  },
  {
   "cell_type": "code",
   "execution_count": 21,
   "metadata": {},
   "outputs": [],
   "source": [
    "# функция для оценки прибыльности и риска убытков\n",
    "def mean_income_risk(targts, feature, model):\n",
    "    values = []\n",
    "    # используя обученную ранее модель делаем предсказания\n",
    "    predicts = model.predict(feature)\n",
    "    # преобразуем входные данные в объект pd.Series и присвоим объекту одинаковые индексы\n",
    "    targts = pd.Series(targts).reset_index(drop=True)\n",
    "    predicts = pd.Series(predicts).reset_index(drop=True)\n",
    "    # bootstrap\n",
    "    for i in range(1000):\n",
    "        # 500 записей из предсказаний модели\n",
    "        predicts_subsample = predicts.sample(n=500, replace=True, random_state=state)\n",
    "        # из предсказанных значений выбираем 200 лучших\n",
    "        predicts_subsample200 = predicts_subsample.sort_values(ascending=False)[:200]\n",
    "        # соответствующие им записи из реальных значений\n",
    "        targts_subsample = targts[predicts_subsample200.index]\n",
    "        # сортируем по убыванию, берем первые 200 записей, функцией income()\n",
    "        # считаем прибыль и добавляем это значение в values        \n",
    "        values.append(income(targts_subsample)) \n",
    "    values = pd.Series(values)\n",
    "    mean_income = values.mean() # средняя прибыль\n",
    "    lower = values.quantile(0.025) # нижняя граница доверительного интервала\n",
    "    upper = values.quantile(0.975) # верхняя граница доверительного интервала\n",
    "    risk = (values <= 0).sum()/len(values) # оценка риска, доля неокупившихся скважин из общего числа скважин\n",
    "    return mean_income, lower, upper, risk"
   ]
  },
  {
   "cell_type": "code",
   "execution_count": null,
   "metadata": {},
   "outputs": [],
   "source": []
  },
  {
   "cell_type": "code",
   "execution_count": null,
   "metadata": {},
   "outputs": [],
   "source": []
  },
  {
   "cell_type": "code",
   "execution_count": 22,
   "metadata": {},
   "outputs": [],
   "source": [
    "# создадим список, в который поместим все необходимые характеристики регионов\n",
    "key_values = []"
   ]
  },
  {
   "cell_type": "code",
   "execution_count": 23,
   "metadata": {},
   "outputs": [],
   "source": [
    "# заполним key_values() и посмотрим на их значения\n",
    "for i in range(len(regions)):\n",
    "    key_values.append(mean_income_risk(targets[i], all_features[i], models[i]))"
   ]
  },
  {
   "cell_type": "code",
   "execution_count": 24,
   "metadata": {},
   "outputs": [
    {
     "name": "stdout",
     "output_type": "stream",
     "text": [
      "Регион 0\n",
      "Средняя прибыль: 396164984.80 руб\n",
      "Наименьшая возможная прибыль: -111215545.89 руб\n",
      "Наибольшая возможная прибыль: 909766941.55 руб\n",
      "Риск понести убыток: 6.9 %\n",
      "\n",
      "Регион 1\n",
      "Средняя прибыль: 461155817.28 руб\n",
      "Наименьшая возможная прибыль: 78050810.75 руб\n",
      "Наибольшая возможная прибыль: 862952060.26 руб\n",
      "Риск понести убыток: 0.7 %\n",
      "\n",
      "Регион 2\n",
      "Средняя прибыль: 392950475.17 руб\n",
      "Наименьшая возможная прибыль: -112227625.38 руб\n",
      "Наибольшая возможная прибыль: 934562914.55 руб\n",
      "Риск понести убыток: 6.5 %\n",
      "\n"
     ]
    }
   ],
   "source": [
    "# рассмотрим key_values регионов\n",
    "for i in range(len(regions)):\n",
    "#    mean = predictions[i].mean()\n",
    "    print('Регион', i)\n",
    "    print(f'Средняя прибыль: {key_values[i][0]:.2f} руб')\n",
    "    print(f'Наименьшая возможная прибыль: {key_values[i][1]:.2f} руб')\n",
    "    print(f'Наибольшая возможная прибыль: {key_values[i][2]:.2f} руб')\n",
    "    print(f'Риск понести убыток: {(key_values[i][3])*100:.1f} %')\n",
    "    print()"
   ]
  },
  {
   "cell_type": "markdown",
   "metadata": {},
   "source": [
    "## Общий вывод"
   ]
  },
  {
   "cell_type": "markdown",
   "metadata": {},
   "source": [
    "Как видно из расчетных показателей, предпочтительным регионом для разработки месторождения оказался регион 1: среднее значение прибыли для него 461 млн.руб выше, чем у остальных регионов (396 и 393 млн.руб). И хотя регион 1 не превосходит регионы 0 и 2 по максимальному значению возможной прибыли, его риск убытка (0.7%) на порядок ниже рисков для этих регионов (6,9% и 6,5% соответственно)."
   ]
  },
  {
   "cell_type": "code",
   "execution_count": null,
   "metadata": {},
   "outputs": [],
   "source": []
  },
  {
   "cell_type": "code",
   "execution_count": null,
   "metadata": {},
   "outputs": [],
   "source": []
  },
  {
   "cell_type": "code",
   "execution_count": null,
   "metadata": {},
   "outputs": [],
   "source": []
  }
 ],
 "metadata": {
  "ExecuteTimeLog": [
   {
    "duration": 2187,
    "start_time": "2022-05-09T20:44:21.725Z"
   },
   {
    "duration": 239,
    "start_time": "2022-05-09T20:44:23.915Z"
   },
   {
    "duration": 1127,
    "start_time": "2022-05-09T20:46:28.320Z"
   },
   {
    "duration": 116,
    "start_time": "2022-05-09T20:47:33.319Z"
   },
   {
    "duration": 149,
    "start_time": "2022-05-09T20:48:02.038Z"
   },
   {
    "duration": 60,
    "start_time": "2022-05-09T20:48:10.910Z"
   },
   {
    "duration": 68,
    "start_time": "2022-05-09T20:48:28.852Z"
   },
   {
    "duration": 23,
    "start_time": "2022-05-09T21:19:42.266Z"
   },
   {
    "duration": 63,
    "start_time": "2022-05-09T21:31:16.978Z"
   },
   {
    "duration": 63,
    "start_time": "2022-05-09T21:33:50.174Z"
   },
   {
    "duration": 81,
    "start_time": "2022-05-09T21:38:48.939Z"
   },
   {
    "duration": 66,
    "start_time": "2022-05-09T21:39:18.666Z"
   },
   {
    "duration": 72,
    "start_time": "2022-05-09T21:39:32.424Z"
   },
   {
    "duration": 1666,
    "start_time": "2022-05-10T16:31:38.786Z"
   },
   {
    "duration": 380,
    "start_time": "2022-05-10T16:31:40.454Z"
   },
   {
    "duration": 17,
    "start_time": "2022-05-10T16:31:40.836Z"
   },
   {
    "duration": 79,
    "start_time": "2022-05-10T16:31:40.855Z"
   },
   {
    "duration": 111,
    "start_time": "2022-05-10T16:33:44.862Z"
   },
   {
    "duration": 15,
    "start_time": "2022-05-10T16:33:52.300Z"
   },
   {
    "duration": 3,
    "start_time": "2022-05-10T16:41:38.283Z"
   },
   {
    "duration": 14,
    "start_time": "2022-05-10T16:46:20.105Z"
   },
   {
    "duration": 17,
    "start_time": "2022-05-10T16:48:59.644Z"
   },
   {
    "duration": 22,
    "start_time": "2022-05-10T16:49:32.629Z"
   },
   {
    "duration": 22,
    "start_time": "2022-05-10T16:50:23.162Z"
   },
   {
    "duration": 28,
    "start_time": "2022-05-10T16:50:49.687Z"
   },
   {
    "duration": 4,
    "start_time": "2022-05-10T16:51:52.120Z"
   },
   {
    "duration": 4,
    "start_time": "2022-05-10T16:52:17.087Z"
   },
   {
    "duration": 4,
    "start_time": "2022-05-10T16:52:27.593Z"
   },
   {
    "duration": 5,
    "start_time": "2022-05-10T16:52:42.324Z"
   },
   {
    "duration": 3,
    "start_time": "2022-05-10T16:52:52.805Z"
   },
   {
    "duration": 4,
    "start_time": "2022-05-10T16:53:05.784Z"
   },
   {
    "duration": 3,
    "start_time": "2022-05-10T16:53:16.586Z"
   },
   {
    "duration": 4,
    "start_time": "2022-05-10T16:53:27.141Z"
   },
   {
    "duration": 5,
    "start_time": "2022-05-10T16:53:36.256Z"
   },
   {
    "duration": 4,
    "start_time": "2022-05-10T16:53:48.107Z"
   },
   {
    "duration": 16,
    "start_time": "2022-05-10T16:58:39.896Z"
   },
   {
    "duration": 21,
    "start_time": "2022-05-10T16:59:47.639Z"
   },
   {
    "duration": 15,
    "start_time": "2022-05-10T17:00:59.577Z"
   },
   {
    "duration": 149,
    "start_time": "2022-05-10T17:12:48.736Z"
   },
   {
    "duration": 185,
    "start_time": "2022-05-10T17:13:16.709Z"
   },
   {
    "duration": 175,
    "start_time": "2022-05-10T17:46:32.568Z"
   },
   {
    "duration": 189,
    "start_time": "2022-05-10T17:46:56.530Z"
   },
   {
    "duration": 182,
    "start_time": "2022-05-10T17:47:18.263Z"
   },
   {
    "duration": 13,
    "start_time": "2022-05-10T17:48:10.016Z"
   },
   {
    "duration": 14,
    "start_time": "2022-05-10T17:48:25.022Z"
   },
   {
    "duration": 17,
    "start_time": "2022-05-10T17:48:29.931Z"
   },
   {
    "duration": 13,
    "start_time": "2022-05-10T17:48:43.047Z"
   },
   {
    "duration": 12,
    "start_time": "2022-05-10T17:48:47.660Z"
   },
   {
    "duration": 12,
    "start_time": "2022-05-10T17:49:07.368Z"
   },
   {
    "duration": 11,
    "start_time": "2022-05-10T17:49:21.053Z"
   },
   {
    "duration": 3,
    "start_time": "2022-05-10T17:49:28.446Z"
   },
   {
    "duration": 379,
    "start_time": "2022-05-10T17:49:28.453Z"
   },
   {
    "duration": 12,
    "start_time": "2022-05-10T17:49:28.834Z"
   },
   {
    "duration": 18,
    "start_time": "2022-05-10T17:49:28.848Z"
   },
   {
    "duration": 24,
    "start_time": "2022-05-10T17:49:28.868Z"
   },
   {
    "duration": 45,
    "start_time": "2022-05-10T17:49:28.894Z"
   },
   {
    "duration": 189,
    "start_time": "2022-05-10T17:49:28.941Z"
   },
   {
    "duration": 12,
    "start_time": "2022-05-10T17:49:29.133Z"
   },
   {
    "duration": 15,
    "start_time": "2022-05-10T17:49:29.147Z"
   },
   {
    "duration": 16,
    "start_time": "2022-05-10T17:49:29.164Z"
   },
   {
    "duration": 3,
    "start_time": "2022-05-10T17:49:29.182Z"
   },
   {
    "duration": 6,
    "start_time": "2022-05-10T17:49:29.186Z"
   },
   {
    "duration": 6,
    "start_time": "2022-05-10T17:49:29.194Z"
   },
   {
    "duration": 153,
    "start_time": "2022-05-10T17:49:29.233Z"
   },
   {
    "duration": 12,
    "start_time": "2022-05-10T17:49:29.388Z"
   },
   {
    "duration": 14,
    "start_time": "2022-05-10T17:49:29.402Z"
   },
   {
    "duration": 27,
    "start_time": "2022-05-10T17:49:29.418Z"
   },
   {
    "duration": 7,
    "start_time": "2022-05-10T17:49:29.446Z"
   },
   {
    "duration": 241,
    "start_time": "2022-05-10T17:50:27.865Z"
   },
   {
    "duration": 175,
    "start_time": "2022-05-10T17:50:39.026Z"
   },
   {
    "duration": 175,
    "start_time": "2022-05-10T17:50:53.486Z"
   },
   {
    "duration": 174,
    "start_time": "2022-05-10T17:55:57.452Z"
   },
   {
    "duration": 172,
    "start_time": "2022-05-10T17:57:55.242Z"
   },
   {
    "duration": 5,
    "start_time": "2022-05-10T21:09:24.094Z"
   },
   {
    "duration": 134,
    "start_time": "2022-05-10T21:16:11.579Z"
   },
   {
    "duration": 3,
    "start_time": "2022-05-10T22:08:29.703Z"
   },
   {
    "duration": 1659,
    "start_time": "2022-05-10T22:08:29.708Z"
   },
   {
    "duration": 14,
    "start_time": "2022-05-10T22:08:31.369Z"
   },
   {
    "duration": 26,
    "start_time": "2022-05-10T22:08:31.385Z"
   },
   {
    "duration": 38,
    "start_time": "2022-05-10T22:08:31.414Z"
   },
   {
    "duration": 31,
    "start_time": "2022-05-10T22:08:31.454Z"
   },
   {
    "duration": 223,
    "start_time": "2022-05-10T22:08:31.487Z"
   },
   {
    "duration": 2,
    "start_time": "2022-05-10T22:08:31.712Z"
   },
   {
    "duration": 30,
    "start_time": "2022-05-10T22:08:31.716Z"
   },
   {
    "duration": 40,
    "start_time": "2022-05-10T22:08:31.748Z"
   },
   {
    "duration": 170,
    "start_time": "2022-05-10T22:08:31.791Z"
   },
   {
    "duration": 280,
    "start_time": "2022-05-10T22:08:31.963Z"
   },
   {
    "duration": 4,
    "start_time": "2022-05-10T22:08:32.245Z"
   },
   {
    "duration": 19,
    "start_time": "2022-05-10T22:08:32.251Z"
   },
   {
    "duration": 4,
    "start_time": "2022-05-10T22:09:03.133Z"
   },
   {
    "duration": 375,
    "start_time": "2022-05-10T22:09:03.138Z"
   },
   {
    "duration": 13,
    "start_time": "2022-05-10T22:09:03.515Z"
   },
   {
    "duration": 14,
    "start_time": "2022-05-10T22:09:03.534Z"
   },
   {
    "duration": 25,
    "start_time": "2022-05-10T22:09:03.550Z"
   },
   {
    "duration": 18,
    "start_time": "2022-05-10T22:09:03.576Z"
   },
   {
    "duration": 208,
    "start_time": "2022-05-10T22:09:03.596Z"
   },
   {
    "duration": 3,
    "start_time": "2022-05-10T22:09:03.806Z"
   },
   {
    "duration": 8,
    "start_time": "2022-05-10T22:09:03.810Z"
   },
   {
    "duration": 17,
    "start_time": "2022-05-10T22:09:03.819Z"
   },
   {
    "duration": 162,
    "start_time": "2022-05-10T22:09:03.838Z"
   },
   {
    "duration": 177,
    "start_time": "2022-05-10T22:09:04.002Z"
   },
   {
    "duration": 4,
    "start_time": "2022-05-10T22:09:04.181Z"
   },
   {
    "duration": 70,
    "start_time": "2022-05-10T22:09:04.186Z"
   },
   {
    "duration": 5,
    "start_time": "2022-05-10T22:16:25.608Z"
   },
   {
    "duration": 12,
    "start_time": "2022-05-10T22:16:39.421Z"
   },
   {
    "duration": 16,
    "start_time": "2022-05-10T22:17:43.158Z"
   },
   {
    "duration": 3,
    "start_time": "2022-05-10T22:18:07.240Z"
   },
   {
    "duration": 397,
    "start_time": "2022-05-10T22:18:07.245Z"
   },
   {
    "duration": 13,
    "start_time": "2022-05-10T22:18:07.645Z"
   },
   {
    "duration": 19,
    "start_time": "2022-05-10T22:18:07.660Z"
   },
   {
    "duration": 53,
    "start_time": "2022-05-10T22:18:07.682Z"
   },
   {
    "duration": 22,
    "start_time": "2022-05-10T22:18:07.737Z"
   },
   {
    "duration": 202,
    "start_time": "2022-05-10T22:18:07.761Z"
   },
   {
    "duration": 3,
    "start_time": "2022-05-10T22:18:07.964Z"
   },
   {
    "duration": 6,
    "start_time": "2022-05-10T22:18:07.969Z"
   },
   {
    "duration": 6,
    "start_time": "2022-05-10T22:18:07.976Z"
   },
   {
    "duration": 152,
    "start_time": "2022-05-10T22:18:07.985Z"
   },
   {
    "duration": 178,
    "start_time": "2022-05-10T22:18:08.139Z"
   },
   {
    "duration": 21,
    "start_time": "2022-05-10T22:18:08.319Z"
   },
   {
    "duration": 10,
    "start_time": "2022-05-10T22:18:08.341Z"
   },
   {
    "duration": 83,
    "start_time": "2022-05-10T22:18:08.352Z"
   },
   {
    "duration": 3,
    "start_time": "2022-05-10T22:18:46.274Z"
   },
   {
    "duration": 3,
    "start_time": "2022-05-10T22:18:50.138Z"
   },
   {
    "duration": 365,
    "start_time": "2022-05-10T22:18:50.143Z"
   },
   {
    "duration": 13,
    "start_time": "2022-05-10T22:18:50.510Z"
   },
   {
    "duration": 32,
    "start_time": "2022-05-10T22:18:50.524Z"
   },
   {
    "duration": 25,
    "start_time": "2022-05-10T22:18:50.558Z"
   },
   {
    "duration": 19,
    "start_time": "2022-05-10T22:18:50.585Z"
   },
   {
    "duration": 211,
    "start_time": "2022-05-10T22:18:50.606Z"
   },
   {
    "duration": 2,
    "start_time": "2022-05-10T22:18:50.819Z"
   },
   {
    "duration": 3,
    "start_time": "2022-05-10T22:18:50.833Z"
   },
   {
    "duration": 6,
    "start_time": "2022-05-10T22:18:50.838Z"
   },
   {
    "duration": 173,
    "start_time": "2022-05-10T22:18:50.846Z"
   },
   {
    "duration": 188,
    "start_time": "2022-05-10T22:18:51.021Z"
   },
   {
    "duration": 12,
    "start_time": "2022-05-10T22:18:51.210Z"
   },
   {
    "duration": 4,
    "start_time": "2022-05-10T22:18:51.233Z"
   },
   {
    "duration": 27,
    "start_time": "2022-05-10T22:18:51.239Z"
   },
   {
    "duration": 243,
    "start_time": "2022-05-10T22:19:47.800Z"
   },
   {
    "duration": 1464,
    "start_time": "2022-05-11T17:45:45.497Z"
   },
   {
    "duration": 524,
    "start_time": "2022-05-11T17:45:46.963Z"
   },
   {
    "duration": 15,
    "start_time": "2022-05-11T17:45:47.488Z"
   },
   {
    "duration": 14,
    "start_time": "2022-05-11T17:45:47.505Z"
   },
   {
    "duration": 22,
    "start_time": "2022-05-11T17:45:47.520Z"
   },
   {
    "duration": 14,
    "start_time": "2022-05-11T17:45:47.571Z"
   },
   {
    "duration": 165,
    "start_time": "2022-05-11T17:45:47.586Z"
   },
   {
    "duration": 3,
    "start_time": "2022-05-11T17:45:47.753Z"
   },
   {
    "duration": 15,
    "start_time": "2022-05-11T17:45:47.757Z"
   },
   {
    "duration": 4,
    "start_time": "2022-05-11T17:45:47.774Z"
   },
   {
    "duration": 167,
    "start_time": "2022-05-11T17:45:47.780Z"
   },
   {
    "duration": 143,
    "start_time": "2022-05-11T17:45:47.949Z"
   },
   {
    "duration": 15,
    "start_time": "2022-05-11T17:45:48.094Z"
   },
   {
    "duration": 12,
    "start_time": "2022-05-11T17:45:48.111Z"
   },
   {
    "duration": 446,
    "start_time": "2022-05-11T17:45:48.125Z"
   },
   {
    "duration": 3,
    "start_time": "2022-05-11T17:46:29.351Z"
   },
   {
    "duration": 3,
    "start_time": "2022-05-11T17:46:39.019Z"
   },
   {
    "duration": 4,
    "start_time": "2022-05-11T17:46:45.232Z"
   },
   {
    "duration": 4,
    "start_time": "2022-05-11T18:10:04.539Z"
   },
   {
    "duration": 4,
    "start_time": "2022-05-11T18:10:23.439Z"
   },
   {
    "duration": 6,
    "start_time": "2022-05-11T18:18:27.901Z"
   },
   {
    "duration": 6,
    "start_time": "2022-05-11T18:19:00.690Z"
   },
   {
    "duration": 6,
    "start_time": "2022-05-11T18:20:29.137Z"
   },
   {
    "duration": 6,
    "start_time": "2022-05-11T18:21:45.865Z"
   },
   {
    "duration": 7,
    "start_time": "2022-05-11T19:03:19.351Z"
   },
   {
    "duration": 95,
    "start_time": "2022-05-11T19:05:47.613Z"
   },
   {
    "duration": 8,
    "start_time": "2022-05-11T19:06:12.674Z"
   },
   {
    "duration": 10,
    "start_time": "2022-05-11T19:06:28.660Z"
   },
   {
    "duration": 5,
    "start_time": "2022-05-11T19:06:53.324Z"
   },
   {
    "duration": 4,
    "start_time": "2022-05-11T19:07:02.447Z"
   },
   {
    "duration": 18,
    "start_time": "2022-05-11T20:22:00.978Z"
   },
   {
    "duration": 16,
    "start_time": "2022-05-11T20:22:47.200Z"
   },
   {
    "duration": 4,
    "start_time": "2022-05-11T20:22:59.685Z"
   },
   {
    "duration": 962,
    "start_time": "2022-05-11T20:22:59.705Z"
   },
   {
    "duration": 12,
    "start_time": "2022-05-11T20:23:00.669Z"
   },
   {
    "duration": 20,
    "start_time": "2022-05-11T20:23:00.682Z"
   },
   {
    "duration": 21,
    "start_time": "2022-05-11T20:23:00.704Z"
   },
   {
    "duration": 15,
    "start_time": "2022-05-11T20:23:00.727Z"
   },
   {
    "duration": 167,
    "start_time": "2022-05-11T20:23:00.744Z"
   },
   {
    "duration": 3,
    "start_time": "2022-05-11T20:23:00.913Z"
   },
   {
    "duration": 5,
    "start_time": "2022-05-11T20:23:00.917Z"
   },
   {
    "duration": 6,
    "start_time": "2022-05-11T20:23:00.924Z"
   },
   {
    "duration": 148,
    "start_time": "2022-05-11T20:23:00.932Z"
   },
   {
    "duration": 151,
    "start_time": "2022-05-11T20:23:01.082Z"
   },
   {
    "duration": 17,
    "start_time": "2022-05-11T20:23:01.235Z"
   },
   {
    "duration": 0,
    "start_time": "2022-05-11T20:23:01.253Z"
   },
   {
    "duration": 0,
    "start_time": "2022-05-11T20:23:01.271Z"
   },
   {
    "duration": 0,
    "start_time": "2022-05-11T20:23:01.272Z"
   },
   {
    "duration": 0,
    "start_time": "2022-05-11T20:23:01.273Z"
   },
   {
    "duration": 250,
    "start_time": "2022-05-11T20:25:52.370Z"
   },
   {
    "duration": 21,
    "start_time": "2022-05-11T20:26:42.032Z"
   },
   {
    "duration": 3,
    "start_time": "2022-05-11T20:27:15.328Z"
   },
   {
    "duration": 18,
    "start_time": "2022-05-11T20:27:20.179Z"
   },
   {
    "duration": 79,
    "start_time": "2022-05-11T20:27:46.947Z"
   },
   {
    "duration": 120,
    "start_time": "2022-05-11T20:28:05.326Z"
   },
   {
    "duration": 27,
    "start_time": "2022-05-11T20:28:10.870Z"
   },
   {
    "duration": 254,
    "start_time": "2022-05-11T20:28:40.912Z"
   },
   {
    "duration": 241,
    "start_time": "2022-05-11T20:28:56.340Z"
   },
   {
    "duration": 455,
    "start_time": "2022-05-11T20:31:13.567Z"
   },
   {
    "duration": 38,
    "start_time": "2022-05-11T21:06:00.920Z"
   },
   {
    "duration": 31,
    "start_time": "2022-05-11T21:06:52.408Z"
   },
   {
    "duration": 25,
    "start_time": "2022-05-11T21:12:54.963Z"
   },
   {
    "duration": 25,
    "start_time": "2022-05-11T21:13:10.318Z"
   },
   {
    "duration": 36,
    "start_time": "2022-05-11T21:13:24.402Z"
   },
   {
    "duration": 34,
    "start_time": "2022-05-11T21:13:37.196Z"
   },
   {
    "duration": 1709,
    "start_time": "2022-05-12T21:49:40.851Z"
   },
   {
    "duration": 680,
    "start_time": "2022-05-12T21:49:42.563Z"
   },
   {
    "duration": 19,
    "start_time": "2022-05-12T21:49:43.246Z"
   },
   {
    "duration": 18,
    "start_time": "2022-05-12T21:49:43.267Z"
   },
   {
    "duration": 53,
    "start_time": "2022-05-12T21:49:43.288Z"
   },
   {
    "duration": 23,
    "start_time": "2022-05-12T21:49:43.345Z"
   },
   {
    "duration": 52,
    "start_time": "2022-05-12T21:49:43.370Z"
   },
   {
    "duration": 25,
    "start_time": "2022-05-12T21:49:43.424Z"
   },
   {
    "duration": 196,
    "start_time": "2022-05-12T21:49:43.451Z"
   },
   {
    "duration": 4,
    "start_time": "2022-05-12T21:49:43.649Z"
   },
   {
    "duration": 14,
    "start_time": "2022-05-12T21:49:43.654Z"
   },
   {
    "duration": 17,
    "start_time": "2022-05-12T21:49:43.670Z"
   },
   {
    "duration": 161,
    "start_time": "2022-05-12T21:49:43.689Z"
   },
   {
    "duration": 0,
    "start_time": "2022-05-12T21:49:43.852Z"
   },
   {
    "duration": 4,
    "start_time": "2022-05-12T21:50:22.383Z"
   },
   {
    "duration": 418,
    "start_time": "2022-05-12T21:50:22.389Z"
   },
   {
    "duration": 13,
    "start_time": "2022-05-12T21:50:22.809Z"
   },
   {
    "duration": 28,
    "start_time": "2022-05-12T21:50:22.823Z"
   },
   {
    "duration": 25,
    "start_time": "2022-05-12T21:50:22.853Z"
   },
   {
    "duration": 20,
    "start_time": "2022-05-12T21:50:22.880Z"
   },
   {
    "duration": 47,
    "start_time": "2022-05-12T21:50:22.902Z"
   },
   {
    "duration": 16,
    "start_time": "2022-05-12T21:50:22.951Z"
   },
   {
    "duration": 205,
    "start_time": "2022-05-12T21:50:22.969Z"
   },
   {
    "duration": 2,
    "start_time": "2022-05-12T21:50:23.176Z"
   },
   {
    "duration": 5,
    "start_time": "2022-05-12T21:50:23.181Z"
   },
   {
    "duration": 5,
    "start_time": "2022-05-12T21:50:23.188Z"
   },
   {
    "duration": 458,
    "start_time": "2022-05-12T21:50:23.195Z"
   },
   {
    "duration": 90,
    "start_time": "2022-05-12T21:50:23.655Z"
   },
   {
    "duration": 1981,
    "start_time": "2022-05-19T19:41:48.212Z"
   },
   {
    "duration": 990,
    "start_time": "2022-05-19T19:41:50.205Z"
   },
   {
    "duration": 17,
    "start_time": "2022-05-19T19:41:51.197Z"
   },
   {
    "duration": 17,
    "start_time": "2022-05-19T19:41:51.216Z"
   },
   {
    "duration": 24,
    "start_time": "2022-05-19T19:41:51.234Z"
   },
   {
    "duration": 38,
    "start_time": "2022-05-19T19:41:51.259Z"
   },
   {
    "duration": 38,
    "start_time": "2022-05-19T19:41:51.300Z"
   },
   {
    "duration": 32,
    "start_time": "2022-05-19T19:41:51.340Z"
   },
   {
    "duration": 332,
    "start_time": "2022-05-19T19:41:51.374Z"
   },
   {
    "duration": 3,
    "start_time": "2022-05-19T19:41:51.711Z"
   },
   {
    "duration": 9,
    "start_time": "2022-05-19T19:41:51.716Z"
   },
   {
    "duration": 15,
    "start_time": "2022-05-19T19:41:51.727Z"
   },
   {
    "duration": 9,
    "start_time": "2022-05-19T19:41:51.744Z"
   },
   {
    "duration": 12,
    "start_time": "2022-05-19T19:41:51.755Z"
   },
   {
    "duration": 42,
    "start_time": "2022-05-19T19:41:51.769Z"
   },
   {
    "duration": 8,
    "start_time": "2022-05-19T19:41:51.814Z"
   },
   {
    "duration": 477,
    "start_time": "2022-05-19T19:41:51.824Z"
   },
   {
    "duration": 72,
    "start_time": "2022-05-19T19:41:52.303Z"
   },
   {
    "duration": 15,
    "start_time": "2022-05-19T19:41:52.378Z"
   },
   {
    "duration": 31,
    "start_time": "2022-05-19T19:41:52.473Z"
   },
   {
    "duration": 6,
    "start_time": "2022-05-19T19:41:52.506Z"
   },
   {
    "duration": 11,
    "start_time": "2022-05-19T19:41:52.513Z"
   },
   {
    "duration": 2482,
    "start_time": "2022-05-19T19:41:52.527Z"
   },
   {
    "duration": 5,
    "start_time": "2022-05-19T19:41:55.011Z"
   },
   {
    "duration": 156,
    "start_time": "2022-05-19T19:42:24.896Z"
   },
   {
    "duration": 9,
    "start_time": "2022-05-19T19:42:37.118Z"
   },
   {
    "duration": 5,
    "start_time": "2022-05-19T19:43:09.220Z"
   },
   {
    "duration": 5,
    "start_time": "2022-05-19T19:43:38.145Z"
   },
   {
    "duration": 5,
    "start_time": "2022-05-19T20:58:28.852Z"
   },
   {
    "duration": 474,
    "start_time": "2022-05-19T20:58:28.859Z"
   },
   {
    "duration": 12,
    "start_time": "2022-05-19T20:58:29.335Z"
   },
   {
    "duration": 33,
    "start_time": "2022-05-19T20:58:29.349Z"
   },
   {
    "duration": 25,
    "start_time": "2022-05-19T20:58:29.384Z"
   },
   {
    "duration": 17,
    "start_time": "2022-05-19T20:58:29.411Z"
   },
   {
    "duration": 68,
    "start_time": "2022-05-19T20:58:29.429Z"
   },
   {
    "duration": 19,
    "start_time": "2022-05-19T20:58:29.499Z"
   },
   {
    "duration": 205,
    "start_time": "2022-05-19T20:58:29.520Z"
   },
   {
    "duration": 3,
    "start_time": "2022-05-19T20:58:29.727Z"
   },
   {
    "duration": 8,
    "start_time": "2022-05-19T20:58:29.734Z"
   },
   {
    "duration": 7,
    "start_time": "2022-05-19T20:58:29.744Z"
   },
   {
    "duration": 14,
    "start_time": "2022-05-19T20:58:29.752Z"
   },
   {
    "duration": 7,
    "start_time": "2022-05-19T20:58:29.768Z"
   },
   {
    "duration": 11,
    "start_time": "2022-05-19T20:58:29.777Z"
   },
   {
    "duration": 17,
    "start_time": "2022-05-19T20:58:29.790Z"
   },
   {
    "duration": 378,
    "start_time": "2022-05-19T20:58:29.809Z"
   },
   {
    "duration": 77,
    "start_time": "2022-05-19T20:58:30.190Z"
   },
   {
    "duration": 118,
    "start_time": "2022-05-19T20:58:30.270Z"
   },
   {
    "duration": 30,
    "start_time": "2022-05-19T20:58:30.390Z"
   },
   {
    "duration": 23,
    "start_time": "2022-05-19T20:58:30.421Z"
   },
   {
    "duration": 17,
    "start_time": "2022-05-19T20:58:30.446Z"
   },
   {
    "duration": 47,
    "start_time": "2022-05-19T20:58:30.465Z"
   },
   {
    "duration": 0,
    "start_time": "2022-05-19T20:58:30.513Z"
   },
   {
    "duration": 3,
    "start_time": "2022-05-19T21:00:45.138Z"
   },
   {
    "duration": 406,
    "start_time": "2022-05-19T21:00:45.143Z"
   },
   {
    "duration": 15,
    "start_time": "2022-05-19T21:00:45.551Z"
   },
   {
    "duration": 20,
    "start_time": "2022-05-19T21:00:45.568Z"
   },
   {
    "duration": 24,
    "start_time": "2022-05-19T21:00:45.591Z"
   },
   {
    "duration": 14,
    "start_time": "2022-05-19T21:00:45.617Z"
   },
   {
    "duration": 58,
    "start_time": "2022-05-19T21:00:45.633Z"
   },
   {
    "duration": 16,
    "start_time": "2022-05-19T21:00:45.693Z"
   },
   {
    "duration": 189,
    "start_time": "2022-05-19T21:00:45.711Z"
   },
   {
    "duration": 3,
    "start_time": "2022-05-19T21:00:45.902Z"
   },
   {
    "duration": 7,
    "start_time": "2022-05-19T21:00:45.907Z"
   },
   {
    "duration": 5,
    "start_time": "2022-05-19T21:00:45.916Z"
   },
   {
    "duration": 5,
    "start_time": "2022-05-19T21:00:45.923Z"
   },
   {
    "duration": 7,
    "start_time": "2022-05-19T21:00:45.929Z"
   },
   {
    "duration": 28,
    "start_time": "2022-05-19T21:00:45.937Z"
   },
   {
    "duration": 7,
    "start_time": "2022-05-19T21:00:45.967Z"
   },
   {
    "duration": 399,
    "start_time": "2022-05-19T21:00:45.975Z"
   },
   {
    "duration": 89,
    "start_time": "2022-05-19T21:00:46.377Z"
   },
   {
    "duration": 97,
    "start_time": "2022-05-19T21:00:46.468Z"
   },
   {
    "duration": 8,
    "start_time": "2022-05-19T21:00:46.567Z"
   },
   {
    "duration": 7,
    "start_time": "2022-05-19T21:00:46.577Z"
   },
   {
    "duration": 13,
    "start_time": "2022-05-19T21:00:46.586Z"
   },
   {
    "duration": 2771,
    "start_time": "2022-05-19T21:00:46.601Z"
   },
   {
    "duration": 7,
    "start_time": "2022-05-19T21:00:49.373Z"
   },
   {
    "duration": 1422,
    "start_time": "2022-05-20T20:36:23.748Z"
   },
   {
    "duration": 842,
    "start_time": "2022-05-20T20:36:25.173Z"
   },
   {
    "duration": 24,
    "start_time": "2022-05-20T20:36:26.017Z"
   },
   {
    "duration": 31,
    "start_time": "2022-05-20T20:36:26.044Z"
   },
   {
    "duration": 28,
    "start_time": "2022-05-20T20:36:26.077Z"
   },
   {
    "duration": 40,
    "start_time": "2022-05-20T20:36:26.107Z"
   },
   {
    "duration": 41,
    "start_time": "2022-05-20T20:36:26.149Z"
   },
   {
    "duration": 20,
    "start_time": "2022-05-20T20:36:26.192Z"
   },
   {
    "duration": 265,
    "start_time": "2022-05-20T20:36:26.229Z"
   },
   {
    "duration": 3,
    "start_time": "2022-05-20T20:36:26.497Z"
   },
   {
    "duration": 5,
    "start_time": "2022-05-20T20:36:26.502Z"
   },
   {
    "duration": 34,
    "start_time": "2022-05-20T20:36:26.509Z"
   },
   {
    "duration": 5,
    "start_time": "2022-05-20T20:36:26.547Z"
   },
   {
    "duration": 5,
    "start_time": "2022-05-20T20:36:26.553Z"
   },
   {
    "duration": 5,
    "start_time": "2022-05-20T20:36:26.560Z"
   },
   {
    "duration": 6,
    "start_time": "2022-05-20T20:36:26.566Z"
   },
   {
    "duration": 375,
    "start_time": "2022-05-20T20:36:26.573Z"
   },
   {
    "duration": 10,
    "start_time": "2022-05-20T20:36:27.024Z"
   },
   {
    "duration": 106,
    "start_time": "2022-05-20T20:36:27.036Z"
   },
   {
    "duration": 8,
    "start_time": "2022-05-20T20:36:27.144Z"
   },
   {
    "duration": 7,
    "start_time": "2022-05-20T20:36:27.154Z"
   },
   {
    "duration": 10,
    "start_time": "2022-05-20T20:36:27.163Z"
   },
   {
    "duration": 260,
    "start_time": "2022-05-20T20:36:27.175Z"
   },
   {
    "duration": 0,
    "start_time": "2022-05-20T20:36:27.439Z"
   },
   {
    "duration": 1218,
    "start_time": "2022-05-20T20:39:30.636Z"
   },
   {
    "duration": 463,
    "start_time": "2022-05-20T20:39:31.856Z"
   },
   {
    "duration": 26,
    "start_time": "2022-05-20T20:39:32.322Z"
   },
   {
    "duration": 19,
    "start_time": "2022-05-20T20:39:32.350Z"
   },
   {
    "duration": 28,
    "start_time": "2022-05-20T20:39:32.372Z"
   },
   {
    "duration": 39,
    "start_time": "2022-05-20T20:39:32.401Z"
   },
   {
    "duration": 39,
    "start_time": "2022-05-20T20:39:32.442Z"
   },
   {
    "duration": 20,
    "start_time": "2022-05-20T20:39:32.482Z"
   },
   {
    "duration": 387,
    "start_time": "2022-05-20T20:39:32.504Z"
   },
   {
    "duration": 3,
    "start_time": "2022-05-20T20:39:32.893Z"
   },
   {
    "duration": 9,
    "start_time": "2022-05-20T20:39:32.898Z"
   },
   {
    "duration": 5,
    "start_time": "2022-05-20T20:39:32.908Z"
   },
   {
    "duration": 24,
    "start_time": "2022-05-20T20:39:32.915Z"
   },
   {
    "duration": 9,
    "start_time": "2022-05-20T20:39:32.942Z"
   },
   {
    "duration": 8,
    "start_time": "2022-05-20T20:39:32.952Z"
   },
   {
    "duration": 6,
    "start_time": "2022-05-20T20:39:32.962Z"
   },
   {
    "duration": 360,
    "start_time": "2022-05-20T20:39:32.970Z"
   },
   {
    "duration": 7,
    "start_time": "2022-05-20T20:39:33.333Z"
   },
   {
    "duration": 183,
    "start_time": "2022-05-20T20:39:33.343Z"
   },
   {
    "duration": 21,
    "start_time": "2022-05-20T20:39:33.529Z"
   },
   {
    "duration": 7,
    "start_time": "2022-05-20T20:39:33.552Z"
   },
   {
    "duration": 8,
    "start_time": "2022-05-20T20:39:33.561Z"
   },
   {
    "duration": 2626,
    "start_time": "2022-05-20T20:39:33.571Z"
   },
   {
    "duration": 5,
    "start_time": "2022-05-20T20:39:36.199Z"
   },
   {
    "duration": 1247,
    "start_time": "2022-05-20T22:21:10.314Z"
   },
   {
    "duration": 396,
    "start_time": "2022-05-20T22:21:11.563Z"
   },
   {
    "duration": 16,
    "start_time": "2022-05-20T22:21:11.961Z"
   },
   {
    "duration": 16,
    "start_time": "2022-05-20T22:21:11.980Z"
   },
   {
    "duration": 41,
    "start_time": "2022-05-20T22:21:11.997Z"
   },
   {
    "duration": 19,
    "start_time": "2022-05-20T22:21:12.039Z"
   },
   {
    "duration": 40,
    "start_time": "2022-05-20T22:21:12.060Z"
   },
   {
    "duration": 39,
    "start_time": "2022-05-20T22:21:12.102Z"
   },
   {
    "duration": 273,
    "start_time": "2022-05-20T22:21:12.143Z"
   },
   {
    "duration": 2,
    "start_time": "2022-05-20T22:21:12.419Z"
   },
   {
    "duration": 14,
    "start_time": "2022-05-20T22:21:12.425Z"
   },
   {
    "duration": 6,
    "start_time": "2022-05-20T22:21:12.441Z"
   },
   {
    "duration": 7,
    "start_time": "2022-05-20T22:21:12.448Z"
   },
   {
    "duration": 6,
    "start_time": "2022-05-20T22:21:12.457Z"
   },
   {
    "duration": 5,
    "start_time": "2022-05-20T22:21:12.464Z"
   },
   {
    "duration": 7,
    "start_time": "2022-05-20T22:21:12.471Z"
   },
   {
    "duration": 367,
    "start_time": "2022-05-20T22:21:12.479Z"
   },
   {
    "duration": 7,
    "start_time": "2022-05-20T22:21:12.922Z"
   },
   {
    "duration": 101,
    "start_time": "2022-05-20T22:21:12.930Z"
   },
   {
    "duration": 9,
    "start_time": "2022-05-20T22:21:13.036Z"
   },
   {
    "duration": 6,
    "start_time": "2022-05-20T22:21:13.047Z"
   },
   {
    "duration": 9,
    "start_time": "2022-05-20T22:21:13.054Z"
   },
   {
    "duration": 2514,
    "start_time": "2022-05-20T22:21:13.065Z"
   },
   {
    "duration": 6,
    "start_time": "2022-05-20T22:21:15.581Z"
   },
   {
    "duration": 1280,
    "start_time": "2022-05-20T22:38:03.700Z"
   },
   {
    "duration": 411,
    "start_time": "2022-05-20T22:38:04.983Z"
   },
   {
    "duration": 15,
    "start_time": "2022-05-20T22:38:05.396Z"
   },
   {
    "duration": 28,
    "start_time": "2022-05-20T22:38:05.413Z"
   },
   {
    "duration": 26,
    "start_time": "2022-05-20T22:38:05.443Z"
   },
   {
    "duration": 21,
    "start_time": "2022-05-20T22:38:05.470Z"
   },
   {
    "duration": 61,
    "start_time": "2022-05-20T22:38:05.492Z"
   },
   {
    "duration": 21,
    "start_time": "2022-05-20T22:38:05.554Z"
   },
   {
    "duration": 297,
    "start_time": "2022-05-20T22:38:05.577Z"
   },
   {
    "duration": 3,
    "start_time": "2022-05-20T22:38:05.876Z"
   },
   {
    "duration": 9,
    "start_time": "2022-05-20T22:38:05.881Z"
   },
   {
    "duration": 6,
    "start_time": "2022-05-20T22:38:05.892Z"
   },
   {
    "duration": 8,
    "start_time": "2022-05-20T22:38:05.900Z"
   },
   {
    "duration": 7,
    "start_time": "2022-05-20T22:38:05.910Z"
   },
   {
    "duration": 25,
    "start_time": "2022-05-20T22:38:05.918Z"
   },
   {
    "duration": 20,
    "start_time": "2022-05-20T22:38:05.945Z"
   },
   {
    "duration": 374,
    "start_time": "2022-05-20T22:38:05.967Z"
   },
   {
    "duration": 93,
    "start_time": "2022-05-20T22:38:06.344Z"
   },
   {
    "duration": 98,
    "start_time": "2022-05-20T22:38:06.441Z"
   },
   {
    "duration": 8,
    "start_time": "2022-05-20T22:38:06.541Z"
   },
   {
    "duration": 5,
    "start_time": "2022-05-20T22:38:06.551Z"
   },
   {
    "duration": 7,
    "start_time": "2022-05-20T22:38:06.557Z"
   },
   {
    "duration": 2724,
    "start_time": "2022-05-20T22:38:06.565Z"
   },
   {
    "duration": 7,
    "start_time": "2022-05-20T22:38:09.291Z"
   }
  ],
  "kernelspec": {
   "display_name": "Python 3",
   "language": "python",
   "name": "python3"
  },
  "language_info": {
   "codemirror_mode": {
    "name": "ipython",
    "version": 3
   },
   "file_extension": ".py",
   "mimetype": "text/x-python",
   "name": "python",
   "nbconvert_exporter": "python",
   "pygments_lexer": "ipython3",
   "version": "3.8.8"
  },
  "toc": {
   "base_numbering": 1,
   "nav_menu": {},
   "number_sections": true,
   "sideBar": true,
   "skip_h1_title": true,
   "title_cell": "Table of Contents",
   "title_sidebar": "Contents",
   "toc_cell": false,
   "toc_position": {},
   "toc_section_display": true,
   "toc_window_display": false
  }
 },
 "nbformat": 4,
 "nbformat_minor": 4
}
