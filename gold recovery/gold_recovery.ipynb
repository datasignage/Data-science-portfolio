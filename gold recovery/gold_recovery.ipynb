{
 "cells": [
  {
   "cell_type": "markdown",
   "metadata": {},
   "source": [
    "# Восстановление золота из руды"
   ]
  },
  {
   "cell_type": "markdown",
   "metadata": {},
   "source": [
    "## Постановка задачи"
   ]
  },
  {
   "cell_type": "markdown",
   "metadata": {},
   "source": [
    "Заказчиком является инжиниринговая компания, которая разрабатывает решения для эффективной работы промышленных предприятий.\n",
    "\n",
    "Требуется подготовить прототип модели машинного обучения, которая должна предсказать коэффициент восстановления золота из золотосодержащей руды. Модель поможет оптимизировать производство, чтобы не запускать предприятие с убыточными характеристиками.\n",
    "\n",
    "В нашем распоряжении имеются данные с параметрами добычи и очистки.\n",
    "\n",
    "Данные находятся в трёх файлах:\n",
    "\n",
    "    gold_recovery_train.csv — обучающая выборка;\n",
    "    gold_recovery_test.csv — тестовая выборка;\n",
    "    gold_recovery_full.csv — исходные данные.\n",
    "\n",
    "Данные индексируются датой и временем получения информации (признак date). Соседние по времени параметры часто похожи. Некоторые параметры недоступны, потому что замеряются и/или рассчитываются значительно позже. Из-за этого в тестовой выборке отсутствуют некоторые признаки, которые могут быть в обучающей. Также в тестовом наборе нет целевых признаков.\n",
    "Исходный датасет содержит обучающую и тестовую выборки со всеми признаками.\n",
    "\n",
    "Данные в нашем распоряжении являются сырыми: их просто выгрузили из хранилища. Прежде чем приступить к построению модели, требуется проверить их на корректность согласно согласованной с заказчиком инструкции.\n",
    "Наименование признаков\n",
    "\n",
    "Наименование признаков строится по следующему правилу:\n",
    "\n",
    "[этап].[тип_параметра].[название_параметра]\n",
    "\n",
    "Пример: rougher.input.feed_ag\n",
    "\n",
    "Возможные значения для блока [этап]:\n",
    "\n",
    "    rougher — флотация\n",
    "    primary_cleaner — первичная очистка\n",
    "    secondary_cleaner — вторичная очистка\n",
    "    final — финальные характеристики\n",
    "\n",
    "Возможные значения для блока [тип_параметра]:\n",
    "\n",
    "    input — параметры сырья\n",
    "    output — параметры продукта\n",
    "    state — параметры, характеризующие текущее состояние этапа\n",
    "    calculation — расчётные характеристики"
   ]
  },
  {
   "cell_type": "markdown",
   "metadata": {},
   "source": [
    "## Подготовка данных"
   ]
  },
  {
   "cell_type": "code",
   "execution_count": 3,
   "metadata": {},
   "outputs": [],
   "source": [
    "# импортируем необходимые библиотеки\n",
    "import pandas as pd\n",
    "import matplotlib.pyplot as plt\n",
    "import numpy as np\n",
    "import matplotlib\n",
    "import time\n",
    "\n",
    "# вспомогательный инструментарий\n",
    "from numpy.random import RandomState\n",
    "from sklearn.metrics import mean_squared_error, mean_absolute_error, make_scorer\n",
    "from sklearn.preprocessing import StandardScaler\n",
    "from sklearn.model_selection import cross_val_score, RandomizedSearchCV\n",
    "\n",
    "# модели, эффективность работы которых будем сравнивать\n",
    "from sklearn.linear_model import LinearRegression\n",
    "from sklearn.tree import DecisionTreeRegressor\n",
    "from sklearn.ensemble import RandomForestRegressor\n",
    "from sklearn.dummy import DummyRegressor"
   ]
  },
  {
   "cell_type": "markdown",
   "metadata": {},
   "source": [
    "Данные содержат колонку date. Для наших целей, считывая файлы, попытаемся спарсить эту колонку, которая имеет тип 'object', в тип данных 'datetime'. Кроме того, установим эту колонку в качестве индекса - это позволит нам сопоставлять данные из разных датасетов именно по дате наблюдения, а не по порядковому номеру."
   ]
  },
  {
   "cell_type": "code",
   "execution_count": 4,
   "metadata": {},
   "outputs": [],
   "source": [
    "train = pd.read_csv('gold_recovery_train_new.csv', parse_dates=True, index_col = \"date\")\n",
    "test = pd.read_csv('gold_recovery_test_new.csv', parse_dates=True, index_col = \"date\")\n",
    "full = pd.read_csv('gold_recovery_full_new.csv', parse_dates=True, index_col = \"date\")"
   ]
  },
  {
   "cell_type": "markdown",
   "metadata": {},
   "source": [
    "Для ознакомления с содержимым предоставленных файлов обратимся к info()"
   ]
  },
  {
   "cell_type": "code",
   "execution_count": 5,
   "metadata": {},
   "outputs": [
    {
     "name": "stdout",
     "output_type": "stream",
     "text": [
      "\n",
      "Full\n",
      "\n",
      "<class 'pandas.core.frame.DataFrame'>\n",
      "DatetimeIndex: 19439 entries, 2016-01-15 00:00:00 to 2018-08-18 10:59:59\n",
      "Data columns (total 86 columns):\n",
      " #   Column                                              Non-Null Count  Dtype  \n",
      "---  ------                                              --------------  -----  \n",
      " 0   final.output.concentrate_ag                         19438 non-null  float64\n",
      " 1   final.output.concentrate_pb                         19438 non-null  float64\n",
      " 2   final.output.concentrate_sol                        19228 non-null  float64\n",
      " 3   final.output.concentrate_au                         19439 non-null  float64\n",
      " 4   final.output.recovery                               19439 non-null  float64\n",
      " 5   final.output.tail_ag                                19438 non-null  float64\n",
      " 6   final.output.tail_pb                                19338 non-null  float64\n",
      " 7   final.output.tail_sol                               19433 non-null  float64\n",
      " 8   final.output.tail_au                                19439 non-null  float64\n",
      " 9   primary_cleaner.input.sulfate                       19415 non-null  float64\n",
      " 10  primary_cleaner.input.depressant                    19402 non-null  float64\n",
      " 11  primary_cleaner.input.feed_size                     19439 non-null  float64\n",
      " 12  primary_cleaner.input.xanthate                      19335 non-null  float64\n",
      " 13  primary_cleaner.output.concentrate_ag               19439 non-null  float64\n",
      " 14  primary_cleaner.output.concentrate_pb               19323 non-null  float64\n",
      " 15  primary_cleaner.output.concentrate_sol              19069 non-null  float64\n",
      " 16  primary_cleaner.output.concentrate_au               19439 non-null  float64\n",
      " 17  primary_cleaner.output.tail_ag                      19435 non-null  float64\n",
      " 18  primary_cleaner.output.tail_pb                      19418 non-null  float64\n",
      " 19  primary_cleaner.output.tail_sol                     19377 non-null  float64\n",
      " 20  primary_cleaner.output.tail_au                      19439 non-null  float64\n",
      " 21  primary_cleaner.state.floatbank8_a_air              19435 non-null  float64\n",
      " 22  primary_cleaner.state.floatbank8_a_level            19438 non-null  float64\n",
      " 23  primary_cleaner.state.floatbank8_b_air              19435 non-null  float64\n",
      " 24  primary_cleaner.state.floatbank8_b_level            19438 non-null  float64\n",
      " 25  primary_cleaner.state.floatbank8_c_air              19437 non-null  float64\n",
      " 26  primary_cleaner.state.floatbank8_c_level            19438 non-null  float64\n",
      " 27  primary_cleaner.state.floatbank8_d_air              19436 non-null  float64\n",
      " 28  primary_cleaner.state.floatbank8_d_level            19438 non-null  float64\n",
      " 29  rougher.calculation.sulfate_to_au_concentrate       19437 non-null  float64\n",
      " 30  rougher.calculation.floatbank10_sulfate_to_au_feed  19437 non-null  float64\n",
      " 31  rougher.calculation.floatbank11_sulfate_to_au_feed  19437 non-null  float64\n",
      " 32  rougher.calculation.au_pb_ratio                     19439 non-null  float64\n",
      " 33  rougher.input.feed_ag                               19439 non-null  float64\n",
      " 34  rougher.input.feed_pb                               19339 non-null  float64\n",
      " 35  rougher.input.feed_rate                             19428 non-null  float64\n",
      " 36  rougher.input.feed_size                             19294 non-null  float64\n",
      " 37  rougher.input.feed_sol                              19340 non-null  float64\n",
      " 38  rougher.input.feed_au                               19439 non-null  float64\n",
      " 39  rougher.input.floatbank10_sulfate                   19405 non-null  float64\n",
      " 40  rougher.input.floatbank10_xanthate                  19431 non-null  float64\n",
      " 41  rougher.input.floatbank11_sulfate                   19395 non-null  float64\n",
      " 42  rougher.input.floatbank11_xanthate                  18986 non-null  float64\n",
      " 43  rougher.output.concentrate_ag                       19439 non-null  float64\n",
      " 44  rougher.output.concentrate_pb                       19439 non-null  float64\n",
      " 45  rougher.output.concentrate_sol                      19416 non-null  float64\n",
      " 46  rougher.output.concentrate_au                       19439 non-null  float64\n",
      " 47  rougher.output.recovery                             19439 non-null  float64\n",
      " 48  rougher.output.tail_ag                              19438 non-null  float64\n",
      " 49  rougher.output.tail_pb                              19439 non-null  float64\n",
      " 50  rougher.output.tail_sol                             19439 non-null  float64\n",
      " 51  rougher.output.tail_au                              19439 non-null  float64\n",
      " 52  rougher.state.floatbank10_a_air                     19438 non-null  float64\n",
      " 53  rougher.state.floatbank10_a_level                   19438 non-null  float64\n",
      " 54  rougher.state.floatbank10_b_air                     19438 non-null  float64\n",
      " 55  rougher.state.floatbank10_b_level                   19438 non-null  float64\n",
      " 56  rougher.state.floatbank10_c_air                     19438 non-null  float64\n",
      " 57  rougher.state.floatbank10_c_level                   19438 non-null  float64\n",
      " 58  rougher.state.floatbank10_d_air                     19439 non-null  float64\n",
      " 59  rougher.state.floatbank10_d_level                   19439 non-null  float64\n",
      " 60  rougher.state.floatbank10_e_air                     19003 non-null  float64\n",
      " 61  rougher.state.floatbank10_e_level                   19439 non-null  float64\n",
      " 62  rougher.state.floatbank10_f_air                     19439 non-null  float64\n",
      " 63  rougher.state.floatbank10_f_level                   19439 non-null  float64\n",
      " 64  secondary_cleaner.output.tail_ag                    19437 non-null  float64\n",
      " 65  secondary_cleaner.output.tail_pb                    19427 non-null  float64\n",
      " 66  secondary_cleaner.output.tail_sol                   17691 non-null  float64\n",
      " 67  secondary_cleaner.output.tail_au                    19439 non-null  float64\n",
      " 68  secondary_cleaner.state.floatbank2_a_air            19219 non-null  float64\n",
      " 69  secondary_cleaner.state.floatbank2_a_level          19438 non-null  float64\n",
      " 70  secondary_cleaner.state.floatbank2_b_air            19416 non-null  float64\n",
      " 71  secondary_cleaner.state.floatbank2_b_level          19438 non-null  float64\n",
      " 72  secondary_cleaner.state.floatbank3_a_air            19426 non-null  float64\n",
      " 73  secondary_cleaner.state.floatbank3_a_level          19438 non-null  float64\n",
      " 74  secondary_cleaner.state.floatbank3_b_air            19438 non-null  float64\n",
      " 75  secondary_cleaner.state.floatbank3_b_level          19438 non-null  float64\n",
      " 76  secondary_cleaner.state.floatbank4_a_air            19433 non-null  float64\n",
      " 77  secondary_cleaner.state.floatbank4_a_level          19438 non-null  float64\n",
      " 78  secondary_cleaner.state.floatbank4_b_air            19438 non-null  float64\n",
      " 79  secondary_cleaner.state.floatbank4_b_level          19438 non-null  float64\n",
      " 80  secondary_cleaner.state.floatbank5_a_air            19438 non-null  float64\n",
      " 81  secondary_cleaner.state.floatbank5_a_level          19438 non-null  float64\n",
      " 82  secondary_cleaner.state.floatbank5_b_air            19438 non-null  float64\n",
      " 83  secondary_cleaner.state.floatbank5_b_level          19438 non-null  float64\n",
      " 84  secondary_cleaner.state.floatbank6_a_air            19437 non-null  float64\n",
      " 85  secondary_cleaner.state.floatbank6_a_level          19438 non-null  float64\n",
      "dtypes: float64(86)\n",
      "memory usage: 12.9 MB\n",
      "\n",
      "Train\n",
      "\n",
      "<class 'pandas.core.frame.DataFrame'>\n",
      "DatetimeIndex: 14149 entries, 2016-01-15 00:00:00 to 2018-08-18 10:59:59\n",
      "Data columns (total 86 columns):\n",
      " #   Column                                              Non-Null Count  Dtype  \n",
      "---  ------                                              --------------  -----  \n",
      " 0   final.output.concentrate_ag                         14148 non-null  float64\n",
      " 1   final.output.concentrate_pb                         14148 non-null  float64\n",
      " 2   final.output.concentrate_sol                        13938 non-null  float64\n",
      " 3   final.output.concentrate_au                         14149 non-null  float64\n",
      " 4   final.output.recovery                               14149 non-null  float64\n",
      " 5   final.output.tail_ag                                14149 non-null  float64\n",
      " 6   final.output.tail_pb                                14049 non-null  float64\n",
      " 7   final.output.tail_sol                               14144 non-null  float64\n",
      " 8   final.output.tail_au                                14149 non-null  float64\n",
      " 9   primary_cleaner.input.sulfate                       14129 non-null  float64\n",
      " 10  primary_cleaner.input.depressant                    14117 non-null  float64\n",
      " 11  primary_cleaner.input.feed_size                     14149 non-null  float64\n",
      " 12  primary_cleaner.input.xanthate                      14049 non-null  float64\n",
      " 13  primary_cleaner.output.concentrate_ag               14149 non-null  float64\n",
      " 14  primary_cleaner.output.concentrate_pb               14063 non-null  float64\n",
      " 15  primary_cleaner.output.concentrate_sol              13863 non-null  float64\n",
      " 16  primary_cleaner.output.concentrate_au               14149 non-null  float64\n",
      " 17  primary_cleaner.output.tail_ag                      14148 non-null  float64\n",
      " 18  primary_cleaner.output.tail_pb                      14134 non-null  float64\n",
      " 19  primary_cleaner.output.tail_sol                     14103 non-null  float64\n",
      " 20  primary_cleaner.output.tail_au                      14149 non-null  float64\n",
      " 21  primary_cleaner.state.floatbank8_a_air              14145 non-null  float64\n",
      " 22  primary_cleaner.state.floatbank8_a_level            14148 non-null  float64\n",
      " 23  primary_cleaner.state.floatbank8_b_air              14145 non-null  float64\n",
      " 24  primary_cleaner.state.floatbank8_b_level            14148 non-null  float64\n",
      " 25  primary_cleaner.state.floatbank8_c_air              14147 non-null  float64\n",
      " 26  primary_cleaner.state.floatbank8_c_level            14148 non-null  float64\n",
      " 27  primary_cleaner.state.floatbank8_d_air              14146 non-null  float64\n",
      " 28  primary_cleaner.state.floatbank8_d_level            14148 non-null  float64\n",
      " 29  rougher.calculation.sulfate_to_au_concentrate       14148 non-null  float64\n",
      " 30  rougher.calculation.floatbank10_sulfate_to_au_feed  14148 non-null  float64\n",
      " 31  rougher.calculation.floatbank11_sulfate_to_au_feed  14148 non-null  float64\n",
      " 32  rougher.calculation.au_pb_ratio                     14149 non-null  float64\n",
      " 33  rougher.input.feed_ag                               14149 non-null  float64\n",
      " 34  rougher.input.feed_pb                               14049 non-null  float64\n",
      " 35  rougher.input.feed_rate                             14141 non-null  float64\n",
      " 36  rougher.input.feed_size                             14005 non-null  float64\n",
      " 37  rougher.input.feed_sol                              14071 non-null  float64\n",
      " 38  rougher.input.feed_au                               14149 non-null  float64\n",
      " 39  rougher.input.floatbank10_sulfate                   14120 non-null  float64\n",
      " 40  rougher.input.floatbank10_xanthate                  14141 non-null  float64\n",
      " 41  rougher.input.floatbank11_sulfate                   14113 non-null  float64\n",
      " 42  rougher.input.floatbank11_xanthate                  13721 non-null  float64\n",
      " 43  rougher.output.concentrate_ag                       14149 non-null  float64\n",
      " 44  rougher.output.concentrate_pb                       14149 non-null  float64\n",
      " 45  rougher.output.concentrate_sol                      14127 non-null  float64\n",
      " 46  rougher.output.concentrate_au                       14149 non-null  float64\n",
      " 47  rougher.output.recovery                             14149 non-null  float64\n",
      " 48  rougher.output.tail_ag                              14148 non-null  float64\n",
      " 49  rougher.output.tail_pb                              14149 non-null  float64\n",
      " 50  rougher.output.tail_sol                             14149 non-null  float64\n",
      " 51  rougher.output.tail_au                              14149 non-null  float64\n",
      " 52  rougher.state.floatbank10_a_air                     14148 non-null  float64\n",
      " 53  rougher.state.floatbank10_a_level                   14148 non-null  float64\n",
      " 54  rougher.state.floatbank10_b_air                     14148 non-null  float64\n",
      " 55  rougher.state.floatbank10_b_level                   14148 non-null  float64\n",
      " 56  rougher.state.floatbank10_c_air                     14148 non-null  float64\n",
      " 57  rougher.state.floatbank10_c_level                   14148 non-null  float64\n",
      " 58  rougher.state.floatbank10_d_air                     14149 non-null  float64\n",
      " 59  rougher.state.floatbank10_d_level                   14149 non-null  float64\n",
      " 60  rougher.state.floatbank10_e_air                     13713 non-null  float64\n",
      " 61  rougher.state.floatbank10_e_level                   14149 non-null  float64\n",
      " 62  rougher.state.floatbank10_f_air                     14149 non-null  float64\n",
      " 63  rougher.state.floatbank10_f_level                   14149 non-null  float64\n",
      " 64  secondary_cleaner.output.tail_ag                    14147 non-null  float64\n",
      " 65  secondary_cleaner.output.tail_pb                    14139 non-null  float64\n",
      " 66  secondary_cleaner.output.tail_sol                   12544 non-null  float64\n",
      " 67  secondary_cleaner.output.tail_au                    14149 non-null  float64\n",
      " 68  secondary_cleaner.state.floatbank2_a_air            13932 non-null  float64\n",
      " 69  secondary_cleaner.state.floatbank2_a_level          14148 non-null  float64\n",
      " 70  secondary_cleaner.state.floatbank2_b_air            14128 non-null  float64\n",
      " 71  secondary_cleaner.state.floatbank2_b_level          14148 non-null  float64\n",
      " 72  secondary_cleaner.state.floatbank3_a_air            14145 non-null  float64\n",
      " 73  secondary_cleaner.state.floatbank3_a_level          14148 non-null  float64\n",
      " 74  secondary_cleaner.state.floatbank3_b_air            14148 non-null  float64\n",
      " 75  secondary_cleaner.state.floatbank3_b_level          14148 non-null  float64\n",
      " 76  secondary_cleaner.state.floatbank4_a_air            14143 non-null  float64\n",
      " 77  secondary_cleaner.state.floatbank4_a_level          14148 non-null  float64\n",
      " 78  secondary_cleaner.state.floatbank4_b_air            14148 non-null  float64\n",
      " 79  secondary_cleaner.state.floatbank4_b_level          14148 non-null  float64\n",
      " 80  secondary_cleaner.state.floatbank5_a_air            14148 non-null  float64\n",
      " 81  secondary_cleaner.state.floatbank5_a_level          14148 non-null  float64\n",
      " 82  secondary_cleaner.state.floatbank5_b_air            14148 non-null  float64\n",
      " 83  secondary_cleaner.state.floatbank5_b_level          14148 non-null  float64\n",
      " 84  secondary_cleaner.state.floatbank6_a_air            14147 non-null  float64\n",
      " 85  secondary_cleaner.state.floatbank6_a_level          14148 non-null  float64\n",
      "dtypes: float64(86)\n",
      "memory usage: 9.4 MB\n",
      "\n",
      "Test\n",
      "\n",
      "<class 'pandas.core.frame.DataFrame'>\n",
      "DatetimeIndex: 5290 entries, 2016-09-01 00:59:59 to 2017-12-31 23:59:59\n",
      "Data columns (total 52 columns):\n",
      " #   Column                                      Non-Null Count  Dtype  \n",
      "---  ------                                      --------------  -----  \n",
      " 0   primary_cleaner.input.sulfate               5286 non-null   float64\n",
      " 1   primary_cleaner.input.depressant            5285 non-null   float64\n",
      " 2   primary_cleaner.input.feed_size             5290 non-null   float64\n",
      " 3   primary_cleaner.input.xanthate              5286 non-null   float64\n",
      " 4   primary_cleaner.state.floatbank8_a_air      5290 non-null   float64\n",
      " 5   primary_cleaner.state.floatbank8_a_level    5290 non-null   float64\n",
      " 6   primary_cleaner.state.floatbank8_b_air      5290 non-null   float64\n",
      " 7   primary_cleaner.state.floatbank8_b_level    5290 non-null   float64\n",
      " 8   primary_cleaner.state.floatbank8_c_air      5290 non-null   float64\n",
      " 9   primary_cleaner.state.floatbank8_c_level    5290 non-null   float64\n",
      " 10  primary_cleaner.state.floatbank8_d_air      5290 non-null   float64\n",
      " 11  primary_cleaner.state.floatbank8_d_level    5290 non-null   float64\n",
      " 12  rougher.input.feed_ag                       5290 non-null   float64\n",
      " 13  rougher.input.feed_pb                       5290 non-null   float64\n",
      " 14  rougher.input.feed_rate                     5287 non-null   float64\n",
      " 15  rougher.input.feed_size                     5289 non-null   float64\n",
      " 16  rougher.input.feed_sol                      5269 non-null   float64\n",
      " 17  rougher.input.feed_au                       5290 non-null   float64\n",
      " 18  rougher.input.floatbank10_sulfate           5285 non-null   float64\n",
      " 19  rougher.input.floatbank10_xanthate          5290 non-null   float64\n",
      " 20  rougher.input.floatbank11_sulfate           5282 non-null   float64\n",
      " 21  rougher.input.floatbank11_xanthate          5265 non-null   float64\n",
      " 22  rougher.state.floatbank10_a_air             5290 non-null   float64\n",
      " 23  rougher.state.floatbank10_a_level           5290 non-null   float64\n",
      " 24  rougher.state.floatbank10_b_air             5290 non-null   float64\n",
      " 25  rougher.state.floatbank10_b_level           5290 non-null   float64\n",
      " 26  rougher.state.floatbank10_c_air             5290 non-null   float64\n",
      " 27  rougher.state.floatbank10_c_level           5290 non-null   float64\n",
      " 28  rougher.state.floatbank10_d_air             5290 non-null   float64\n",
      " 29  rougher.state.floatbank10_d_level           5290 non-null   float64\n",
      " 30  rougher.state.floatbank10_e_air             5290 non-null   float64\n",
      " 31  rougher.state.floatbank10_e_level           5290 non-null   float64\n",
      " 32  rougher.state.floatbank10_f_air             5290 non-null   float64\n",
      " 33  rougher.state.floatbank10_f_level           5290 non-null   float64\n",
      " 34  secondary_cleaner.state.floatbank2_a_air    5287 non-null   float64\n",
      " 35  secondary_cleaner.state.floatbank2_a_level  5290 non-null   float64\n",
      " 36  secondary_cleaner.state.floatbank2_b_air    5288 non-null   float64\n",
      " 37  secondary_cleaner.state.floatbank2_b_level  5290 non-null   float64\n",
      " 38  secondary_cleaner.state.floatbank3_a_air    5281 non-null   float64\n",
      " 39  secondary_cleaner.state.floatbank3_a_level  5290 non-null   float64\n",
      " 40  secondary_cleaner.state.floatbank3_b_air    5290 non-null   float64\n",
      " 41  secondary_cleaner.state.floatbank3_b_level  5290 non-null   float64\n",
      " 42  secondary_cleaner.state.floatbank4_a_air    5290 non-null   float64\n",
      " 43  secondary_cleaner.state.floatbank4_a_level  5290 non-null   float64\n",
      " 44  secondary_cleaner.state.floatbank4_b_air    5290 non-null   float64\n",
      " 45  secondary_cleaner.state.floatbank4_b_level  5290 non-null   float64\n",
      " 46  secondary_cleaner.state.floatbank5_a_air    5290 non-null   float64\n",
      " 47  secondary_cleaner.state.floatbank5_a_level  5290 non-null   float64\n",
      " 48  secondary_cleaner.state.floatbank5_b_air    5290 non-null   float64\n",
      " 49  secondary_cleaner.state.floatbank5_b_level  5290 non-null   float64\n",
      " 50  secondary_cleaner.state.floatbank6_a_air    5290 non-null   float64\n",
      " 51  secondary_cleaner.state.floatbank6_a_level  5290 non-null   float64\n",
      "dtypes: float64(52)\n",
      "memory usage: 2.1 MB\n"
     ]
    }
   ],
   "source": [
    "# ознакомимся с количеством и составом признаков, типами данных, количеством пропусков\n",
    "print('\\nFull\\n')\n",
    "full.info()\n",
    "print('\\nTrain\\n')\n",
    "train.info()\n",
    "print('\\nTest\\n')\n",
    "test.info()"
   ]
  },
  {
   "cell_type": "markdown",
   "metadata": {},
   "source": [
    "Чтобы понять, как соотносятся предоставленные данные между собой, расположим их на одной временнОй оси. Для отображения возьмем признак rougher.input.feed_au, так как он гарантированно должен присутствовать в каждом из наборов данных."
   ]
  },
  {
   "cell_type": "code",
   "execution_count": 4,
   "metadata": {
    "scrolled": true,
    "tags": []
   },
   "outputs": [
    {
     "data": {
      "image/png": "[encoded data removed]",
      "text/plain": [
       "<Figure size 720x648 with 3 Axes>"
      ]
     },
     "metadata": {
      "needs_background": "light"
     },
     "output_type": "display_data"
    }
   ],
   "source": [
    "# построим три графика отображающие распределение данных full, train, test во времени\n",
    "fig=plt.figure()\n",
    "fig.suptitle('Данные датасетов full, train и test на временной оси')\n",
    "fig.set_size_inches(10,9)\n",
    "\n",
    "ax_1=fig.add_subplot(3,1,1)\n",
    "ax_2=fig.add_subplot(3,1,2)\n",
    "ax_3=fig.add_subplot(3,1,3)\n",
    "\n",
    "ax_1.set_title('full')\n",
    "ax_2.set_title('train')\n",
    "ax_3.set(title = 'test')\n",
    "\n",
    "full['rougher.input.feed_au'].plot(ax=ax_1, grid=True)\n",
    "train['rougher.input.feed_au'].plot(ax=ax_2, grid=True)\n",
    "test['rougher.input.feed_au'].plot(ax=ax_3, grid=True)\n",
    "\n",
    "\n",
    "plt.subplots_adjust(hspace=1)\n",
    "plt.show()"
   ]
  },
  {
   "cell_type": "markdown",
   "metadata": {},
   "source": [
    "### Вывод"
   ]
  },
  {
   "cell_type": "markdown",
   "metadata": {
    "tags": []
   },
   "source": [
    "Нам даны три датасета. Набор признаков в двух из них идентичен - это full и train. В test содержится меньше признаков и нам предстоит выяснить почему. Данные описывают примерно одинаковый промежуток времени с января 2016 по сентябрь 2018. Если full это наиболее полный набор данных, то выбрки train и test это чередующиеся непересекающиеся временнЫе промежутки наблюдений. Количество наблюдений разное - самое полное в данных full. Можно подытожить:\n",
    "\n",
    "   - при необходимости сопоставлять наблюдения из разных наборов следует сопоставлять их по временной метке;\n",
    "   - если требуются данные для анализа, то взять их следует из full, как наиболее полного датасета;\n",
    "\n",
    "Исходя из описания технологического процесса нашими целевыми признаками являются rougher.output.recovery и final.output.recovery. Нам нужно так преобразовать выборки train и test (с помощью full), чтобы на train можно было обучить модель, а на test проверить. \n",
    "\n",
    "В составе признаков присутствуют calculate-признаки. Следовало бы уточнить у технологов, что это за расчеты, не являются ли эти признаки dummy, то есть расчитанными на основе уже присутствующих в таблице данных. В данной работе примем допущение, что это дополнительно расчитанные признаки и их можно использовать в обучении модели.\n"
   ]
  },
  {
   "cell_type": "markdown",
   "metadata": {},
   "source": [
    "## Проверка правильности расчета эффективности обогащения"
   ]
  },
  {
   "cell_type": "markdown",
   "metadata": {},
   "source": [
    "Датасет train содержит расчитанный ранее признак rougher.output.recovery. Для того, чтобы быть уверенными в том, что дальнейший анализ не основан на ошибочных расчетах, перепроверим расчет показателя rougher.output.recovery. Применим формулу из описания технологического процесса и рассчитаем его заново. Посмотрим на среднюю абсолютную ошибку наших расчетов."
   ]
  },
  {
   "cell_type": "code",
   "execution_count": 5,
   "metadata": {},
   "outputs": [],
   "source": [
    "# верифицируемое значение эффективности обогащения\n",
    "verifiable_recovery = train['rougher.output.recovery']"
   ]
  },
  {
   "cell_type": "code",
   "execution_count": 6,
   "metadata": {
    "scrolled": true
   },
   "outputs": [
    {
     "data": {
      "text/plain": [
       "date\n",
       "2016-01-15 00:00:00    87.107763\n",
       "2016-01-15 01:00:00    86.843261\n",
       "2016-01-15 02:00:00    86.842308\n",
       "2016-01-15 03:00:00    87.226430\n",
       "2016-01-15 04:00:00    86.688794\n",
       "                         ...    \n",
       "2018-08-18 06:59:59    89.574376\n",
       "2018-08-18 07:59:59    87.724007\n",
       "2018-08-18 08:59:59    88.890579\n",
       "2018-08-18 09:59:59    89.858126\n",
       "2018-08-18 10:59:59    89.514960\n",
       "Name: rougher.output.recovery, Length: 14149, dtype: float64"
      ]
     },
     "execution_count": 6,
     "metadata": {},
     "output_type": "execute_result"
    }
   ],
   "source": [
    "# значения ранее расчитанного признака\n",
    "verifiable_recovery"
   ]
  },
  {
   "cell_type": "code",
   "execution_count": 7,
   "metadata": {},
   "outputs": [],
   "source": [
    "# расчетное значение эффективности обогащения\n",
    "calculated_recovery= 100 * (train['rougher.output.concentrate_au']/train['rougher.input.feed_au'])*\\\n",
    "(train['rougher.input.feed_au'] - train['rougher.output.tail_au'])/\\\n",
    "(train['rougher.output.concentrate_au'] - train['rougher.output.tail_au'])"
   ]
  },
  {
   "cell_type": "code",
   "execution_count": 8,
   "metadata": {
    "scrolled": true
   },
   "outputs": [
    {
     "data": {
      "text/plain": [
       "date\n",
       "2016-01-15 00:00:00    87.107763\n",
       "2016-01-15 01:00:00    86.843261\n",
       "2016-01-15 02:00:00    86.842308\n",
       "2016-01-15 03:00:00    87.226430\n",
       "2016-01-15 04:00:00    86.688794\n",
       "                         ...    \n",
       "2018-08-18 06:59:59    89.574376\n",
       "2018-08-18 07:59:59    87.724007\n",
       "2018-08-18 08:59:59    88.890579\n",
       "2018-08-18 09:59:59    89.858126\n",
       "2018-08-18 10:59:59    89.514960\n",
       "Length: 14149, dtype: float64"
      ]
     },
     "execution_count": 8,
     "metadata": {},
     "output_type": "execute_result"
    }
   ],
   "source": [
    "# значения расчитанного нами признака\n",
    "calculated_recovery"
   ]
  },
  {
   "cell_type": "code",
   "execution_count": 9,
   "metadata": {},
   "outputs": [
    {
     "data": {
      "text/plain": [
       "1.18040035618949e-14"
      ]
     },
     "execution_count": 9,
     "metadata": {},
     "output_type": "execute_result"
    }
   ],
   "source": [
    "# считаем среднюю абсолютную ошибку\n",
    "mean_absolute_error(verifiable_recovery, calculated_recovery)"
   ]
  },
  {
   "cell_type": "markdown",
   "metadata": {},
   "source": [
    "### Вывод"
   ]
  },
  {
   "cell_type": "markdown",
   "metadata": {},
   "source": [
    "Значение среднего абсолютного отклонения мало. Значения расчитаны верно"
   ]
  },
  {
   "cell_type": "markdown",
   "metadata": {},
   "source": [
    "## Анализ признаков, недоступных в тестовой выборке"
   ]
  },
  {
   "cell_type": "markdown",
   "metadata": {},
   "source": [
    "Ранее мы обнаружили, что датасеты отличаются в том числе и по количеству признаков. Рассотрим в чем состоит это различие и как это влияет на наше исследование."
   ]
  },
  {
   "cell_type": "code",
   "execution_count": 10,
   "metadata": {},
   "outputs": [
    {
     "data": {
      "text/plain": [
       "Index([], dtype='object')"
      ]
     },
     "execution_count": 10,
     "metadata": {},
     "output_type": "execute_result"
    }
   ],
   "source": [
    "# full и train содержат одинаковый набор признаков \n",
    "full.columns.difference(train.columns)"
   ]
  },
  {
   "cell_type": "code",
   "execution_count": 11,
   "metadata": {},
   "outputs": [
    {
     "data": {
      "text/plain": [
       "Index(['final.output.concentrate_ag', 'final.output.concentrate_au',\n",
       "       'final.output.concentrate_pb', 'final.output.concentrate_sol',\n",
       "       'final.output.recovery', 'final.output.tail_ag', 'final.output.tail_au',\n",
       "       'final.output.tail_pb', 'final.output.tail_sol',\n",
       "       'primary_cleaner.output.concentrate_ag',\n",
       "       'primary_cleaner.output.concentrate_au',\n",
       "       'primary_cleaner.output.concentrate_pb',\n",
       "       'primary_cleaner.output.concentrate_sol',\n",
       "       'primary_cleaner.output.tail_ag', 'primary_cleaner.output.tail_au',\n",
       "       'primary_cleaner.output.tail_pb', 'primary_cleaner.output.tail_sol',\n",
       "       'rougher.calculation.au_pb_ratio',\n",
       "       'rougher.calculation.floatbank10_sulfate_to_au_feed',\n",
       "       'rougher.calculation.floatbank11_sulfate_to_au_feed',\n",
       "       'rougher.calculation.sulfate_to_au_concentrate',\n",
       "       'rougher.output.concentrate_ag', 'rougher.output.concentrate_au',\n",
       "       'rougher.output.concentrate_pb', 'rougher.output.concentrate_sol',\n",
       "       'rougher.output.recovery', 'rougher.output.tail_ag',\n",
       "       'rougher.output.tail_au', 'rougher.output.tail_pb',\n",
       "       'rougher.output.tail_sol', 'secondary_cleaner.output.tail_ag',\n",
       "       'secondary_cleaner.output.tail_au', 'secondary_cleaner.output.tail_pb',\n",
       "       'secondary_cleaner.output.tail_sol'],\n",
       "      dtype='object')"
      ]
     },
     "execution_count": 11,
     "metadata": {},
     "output_type": "execute_result"
    }
   ],
   "source": [
    "# выделим те признаки (колонки датасета), которые отсутствуют в test, \n",
    "# но присутствуют в train\n",
    "train.columns.difference(test.columns)"
   ]
  },
  {
   "cell_type": "markdown",
   "metadata": {},
   "source": [
    "### Вывод"
   ]
  },
  {
   "cell_type": "markdown",
   "metadata": {},
   "source": [
    "Обратим внимание на обозначение этапов технологического процесса в названиях признаков. Это:\n",
    "\n",
    "    final.output (окончательные характеристики продукта)\n",
    "    primary_cleaner.output (характеристики состава после первичной очистки)\n",
    "    rougher.calculation (расчетные характеристики)\n",
    "    rougher.output (характеристики состава после флотации)\n",
    "    secondary_cleaner.output (характеристики состава после вторичной очистки)\n",
    "\n",
    "Скорее всего в этих признаках заключены характеристики, появляющиеся уже в процессе обработки руды - *после* флотации, *после* первичной и вторичной очистки (в том числе и признаки rougher.output.recovery, final.output.recovery являющиеся целевыми).\n",
    "\n",
    "Поскольку мы должны будем оценивать наши модели на test-выборке, то состав признаков в train-выборке и test-выборке должен быть идентичен. На данном этапе сохраним отстствующие в test признаки в переменной MISSED_FEATURES. Впоследствии, для того чтобы обучить модель уберем из train-выборки колонки переменной MISSED_FEATURES. Таким образом наша модель будет обучена на данных, известных только до старта процесса. А для проверки на test-выборке возьмем целевые признаки из full-датасета. Эти целевые признаки не будут совпадать с целевыми признаками из train, так как данные train и данные test это непересекающиеся множества.\n"
   ]
  },
  {
   "cell_type": "code",
   "execution_count": 12,
   "metadata": {},
   "outputs": [],
   "source": [
    "# переменная MISSED_FEATURES хранит разницу в колонках выборок test и train\n",
    "MISSED_FEATURES = list(train.columns.difference(test.columns))"
   ]
  },
  {
   "cell_type": "markdown",
   "metadata": {},
   "source": [
    "##  Предобработка данных."
   ]
  },
  {
   "cell_type": "code",
   "execution_count": 13,
   "metadata": {},
   "outputs": [
    {
     "data": {
      "text/plain": [
       "0"
      ]
     },
     "execution_count": 13,
     "metadata": {},
     "output_type": "execute_result"
    }
   ],
   "source": [
    "# Проверим данные на дубликаты\n",
    "full.duplicated().sum()"
   ]
  },
  {
   "cell_type": "code",
   "execution_count": 14,
   "metadata": {},
   "outputs": [
    {
     "data": {
      "text/plain": [
       "0"
      ]
     },
     "execution_count": 14,
     "metadata": {},
     "output_type": "execute_result"
    }
   ],
   "source": [
    "train.duplicated().sum()"
   ]
  },
  {
   "cell_type": "code",
   "execution_count": 15,
   "metadata": {},
   "outputs": [
    {
     "data": {
      "text/plain": [
       "0"
      ]
     },
     "execution_count": 15,
     "metadata": {},
     "output_type": "execute_result"
    }
   ],
   "source": [
    "test.duplicated().sum()"
   ]
  },
  {
   "cell_type": "markdown",
   "metadata": {},
   "source": [
    "Дубликаты отсутствуют"
   ]
  },
  {
   "cell_type": "code",
   "execution_count": 16,
   "metadata": {},
   "outputs": [
    {
     "data": {
      "text/plain": [
       "4481"
      ]
     },
     "execution_count": 16,
     "metadata": {},
     "output_type": "execute_result"
    }
   ],
   "source": [
    "# проверим данные на пропуски\n",
    "full.isna().sum().sum()"
   ]
  },
  {
   "cell_type": "code",
   "execution_count": 17,
   "metadata": {},
   "outputs": [
    {
     "data": {
      "text/plain": [
       "4100"
      ]
     },
     "execution_count": 17,
     "metadata": {},
     "output_type": "execute_result"
    }
   ],
   "source": [
    "train.isna().sum().sum()"
   ]
  },
  {
   "cell_type": "code",
   "execution_count": 18,
   "metadata": {},
   "outputs": [
    {
     "data": {
      "text/plain": [
       "90"
      ]
     },
     "execution_count": 18,
     "metadata": {},
     "output_type": "execute_result"
    }
   ],
   "source": [
    "test.isna().sum().sum()"
   ]
  },
  {
   "cell_type": "code",
   "execution_count": 19,
   "metadata": {
    "scrolled": true
   },
   "outputs": [
    {
     "data": {
      "image/png": "[encoded data removed]",
      "text/plain": [
       "<Figure size 432x288 with 1 Axes>"
      ]
     },
     "metadata": {
      "needs_background": "light"
     },
     "output_type": "display_data"
    }
   ],
   "source": [
    "#посмотрим на распределение пропусков по всему объему данных выборка full\n",
    "pd.Series(full.loc[full.isna().any(1)].index).hist(bins=200, xrot=25);"
   ]
  },
  {
   "cell_type": "code",
   "execution_count": 20,
   "metadata": {
    "scrolled": true
   },
   "outputs": [
    {
     "data": {
      "image/png": "[encoded data removed]",
      "text/plain": [
       "<Figure size 432x288 with 1 Axes>"
      ]
     },
     "metadata": {
      "needs_background": "light"
     },
     "output_type": "display_data"
    }
   ],
   "source": [
    "# посмотрим на распределение пропусков по всему объему данных выборка train\n",
    "pd.Series(train.loc[train.isna().any(1)].index).hist(bins=200, xrot=25);"
   ]
  },
  {
   "cell_type": "code",
   "execution_count": 21,
   "metadata": {
    "scrolled": true
   },
   "outputs": [
    {
     "data": {
      "image/png": "[encoded data removed]",
      "text/plain": [
       "<Figure size 432x288 with 1 Axes>"
      ]
     },
     "metadata": {
      "needs_background": "light"
     },
     "output_type": "display_data"
    }
   ],
   "source": [
    "# посмотрим на распределение пропусков по всему объему данных выборка test\n",
    "pd.Series(test.loc[test.isna().any(1)].index).hist(bins=200, xrot=25);"
   ]
  },
  {
   "cell_type": "markdown",
   "metadata": {},
   "source": [
    "Объем пропусков значителен и составляет до 20-30% данных у full и train. Метод заполнения пропусков следует выбрать после консультаций с технологами. Как можно предположить из графиков распределения пропусков внутри данных, может иметь место значительное количество пропусков, *идущих подряд*. Мы можем предложить заполнение единичных пропусков предыдущим значением ('ffill'), методом ближайших средних (k-nearest) или средними значеними (mean). Для более протяженных гэпов совместно с технологами можно подобрать более сложный алгоритм заполнения. Для простоты воспользуемся методом 'ffill'."
   ]
  },
  {
   "cell_type": "code",
   "execution_count": 22,
   "metadata": {},
   "outputs": [],
   "source": [
    "# к каждому из наборов данных применим\n",
    "full = full.fillna(method='ffill')\n",
    "train = train.fillna(method='ffill')\n",
    "test = test.fillna(method='ffill')"
   ]
  },
  {
   "cell_type": "code",
   "execution_count": 23,
   "metadata": {},
   "outputs": [
    {
     "data": {
      "text/plain": [
       "0"
      ]
     },
     "execution_count": 23,
     "metadata": {},
     "output_type": "execute_result"
    }
   ],
   "source": [
    "# на примере full проверим как отработал метод\n",
    "full.isna().sum().sum()"
   ]
  },
  {
   "cell_type": "markdown",
   "metadata": {},
   "source": [
    "### Вывод"
   ]
  },
  {
   "cell_type": "markdown",
   "metadata": {},
   "source": [
    "Данные в выборках full и train содержат большое количество пропусков - до 20-30%. Методы борьбы с ними (заполнение, исключение записей) во избежание привнесения \"искусственности\" в данные выбирается совместно с технологами производства. В данной работе мы остановились на методе заполнения предыдущм значением 'ffill', поскольку что сам характер технологического процесса говорит нам о том, что значения меняются постепенно, относительно плавно и каждое последующее обычно похоже на предыдущее значение."
   ]
  },
  {
   "cell_type": "markdown",
   "metadata": {},
   "source": [
    "<div class=\"alert alert-success\">\n",
    "<h2> Комментарий ревьюера <a class=\"tocSkip\"> </h2>\n",
    "\n",
    "<b>Все отлично!👍:</b>\n",
    "    \n",
    "    \n",
    "Данные подготовили, приступаем к анализу)\n",
    "    \n",
    "Для интереса, оставляю тебе ссылку, по флотации руды: https://www.youtube.com/watch?v=qYuGEjR8ZKw&t=13s\n"
   ]
  },
  {
   "cell_type": "markdown",
   "metadata": {},
   "source": [
    "<div class=\"alert alert-block alert-info\">\n",
    "<b>Комментарий студента:</b> Спасибо за ссылку. Мне в свое время помог понять что такое флотация этот фильм.\n",
    "    \n",
    "\n",
    "    \n",
    "https://www.youtube.com/watch?v=BY9d1MC6qLs"
   ]
  },
  {
   "cell_type": "markdown",
   "metadata": {},
   "source": [
    "<div class=\"alert alert-success\">\n",
    "<h2> Комментарий ревьюера v.2 <a class=\"tocSkip\"> </h2>\n",
    "\n",
    "<b>Все отлично!👍:</b> \n",
    "\n",
    "Пожалуйста) Посмотрю твою ссылку)"
   ]
  },
  {
   "cell_type": "markdown",
   "metadata": {},
   "source": [
    "## Анализ данных"
   ]
  },
  {
   "cell_type": "markdown",
   "metadata": {},
   "source": [
    "Для более глубокого понимания того, как меняется содержание золота в течение технологического процесса, исследуем его концентрацию совместно с другими элементами, содержащимися в руде - металлами (Au, Ag, Pb).\n",
    "Концентрация золота на разных этапах очистки содержится в параметрах:\n",
    "\n",
    "    rougher.input.feed_au - концентрация золота в руде\n",
    "    rougher.output.concentrate_au - концентрация золота после флотации\n",
    "    primary_cleaner.output.concentrate_au - концентрация золота после первичной очистки\n",
    "    final.output.concentrate_au окончательная - концентрация золота"
   ]
  },
  {
   "cell_type": "code",
   "execution_count": 24,
   "metadata": {
    "scrolled": true
   },
   "outputs": [
    {
     "data": {
      "image/png": "[encoded data removed]",
      "text/plain": [
       "<Figure size 432x288 with 1 Axes>"
      ]
     },
     "metadata": {
      "needs_background": "light"
     },
     "output_type": "display_data"
    }
   ],
   "source": [
    "# построим гистограммы распределения концентрации золота по этапам технологического процесса\n",
    "full['rougher.input.feed_au'].hist(bins=50, legend=True)\n",
    "full['rougher.output.concentrate_au'].hist(bins=50, legend=True)\n",
    "full['primary_cleaner.output.concentrate_au'].hist(bins=50, legend=True)\n",
    "full['final.output.concentrate_au'].hist(bins=50, legend=True);"
   ]
  },
  {
   "cell_type": "markdown",
   "metadata": {},
   "source": [
    "Концентрация свинца на разных этапах очистки содержится в параметрах:\n",
    "\n",
    "    rougher.input.feed_pb - концентрация свинца в руде\n",
    "    rougher.output.concentrate_pb - концентрация свинца после флотации\n",
    "    primary_cleaner.output.concentrate_pb - концентрация свинца после первичной очистки\n",
    "    final.output.concentrate_pb окончательная - концентрация свинца"
   ]
  },
  {
   "cell_type": "code",
   "execution_count": 25,
   "metadata": {
    "scrolled": true
   },
   "outputs": [
    {
     "data": {
      "image/png": "[encoded data removed]",
      "text/plain": [
       "<Figure size 648x360 with 1 Axes>"
      ]
     },
     "metadata": {
      "needs_background": "light"
     },
     "output_type": "display_data"
    }
   ],
   "source": [
    "# построим гистограммы распределения концентрации свинца по этапам технологического процесса\n",
    "full['rougher.input.feed_pb'].hist(bins=50, legend=True, figsize=(9,5))\n",
    "full['rougher.output.concentrate_pb'].hist(bins=50, legend=True)\n",
    "full['primary_cleaner.output.concentrate_pb'].hist(bins=50, legend=True, alpha=0.6)\n",
    "full['final.output.concentrate_pb'].hist(bins=50, legend=True, alpha=0.6);"
   ]
  },
  {
   "cell_type": "markdown",
   "metadata": {},
   "source": [
    "Концентрация серебра на разных этапах очистки содержится в параметрах:\n",
    "\n",
    "    rougher.input.feed_ag - концентрация серебра в руде\n",
    "    rougher.output.concentrate_ag - концентрация серебра после флотации\n",
    "    primary_cleaner.output.concentrate_ag - концентрация серебра после первичной очистки\n",
    "    final.output.concentrate_ag окончательная - концентрация серебра"
   ]
  },
  {
   "cell_type": "code",
   "execution_count": 26,
   "metadata": {
    "scrolled": true
   },
   "outputs": [
    {
     "data": {
      "image/png": "[encoded data removed]",
      "text/plain": [
       "<Figure size 648x360 with 1 Axes>"
      ]
     },
     "metadata": {
      "needs_background": "light"
     },
     "output_type": "display_data"
    }
   ],
   "source": [
    "# построим гистограммы распределения концентрации серебра по этапам технологического процесса\n",
    "full['rougher.input.feed_ag'].hist(bins=50, legend=True, figsize=(9,5))\n",
    "full['rougher.output.concentrate_ag'].hist(bins=50, legend=True)\n",
    "full['primary_cleaner.output.concentrate_ag'].hist(bins=50, legend=True, alpha=0.6)\n",
    "full['final.output.concentrate_ag'].hist(bins=50, legend=True, alpha=0.6);"
   ]
  },
  {
   "cell_type": "markdown",
   "metadata": {},
   "source": [
    "### Вывод"
   ]
  },
  {
   "cell_type": "markdown",
   "metadata": {},
   "source": [
    "Сравнивая три графика можно отметить, что в отличие от остальных металлов, только концентрация у целевого продукта - золота - планомерно увеличивается от этапа к этапу. Это нам показывает ось Х. У оставшихся металлов концентрация незначительно растет после флотации (свинец - синий и желтый цвета), но в итоге все равно остается практически неизменной или даже снижается (серебро). Стоит отметить, что общей для всех веществ чертой является то, что по мере прохождения всех стадий процесса форма кривой вырастает и сужается. Это говорит об уменьшающемся разбросе значений каждого последующего измерения. Также можно отметить, что у каждого из компонентов есть некоторое количество наблюдений с концентрацией равной нулю."
   ]
  },
  {
   "cell_type": "markdown",
   "metadata": {},
   "source": [
    "## Сравним распределения размеров гранул сырья на обучающей и тестовой выборках"
   ]
  },
  {
   "cell_type": "code",
   "execution_count": 27,
   "metadata": {
    "scrolled": true
   },
   "outputs": [
    {
     "data": {
      "image/png": "[encoded data removed]",
      "text/plain": [
       "<Figure size 432x288 with 1 Axes>"
      ]
     },
     "metadata": {
      "needs_background": "light"
     },
     "output_type": "display_data"
    }
   ],
   "source": [
    "# построим гистограммы размера гранул сырья для тестовой и обучающей выборок\n",
    "test['rougher.input.feed_size'].plot.hist(bins=50, legend=True, xlim=(0,250))\n",
    "train['rougher.input.feed_size'].plot.hist(bins=50, alpha=.6, legend=True, xlim=(0,250));"
   ]
  },
  {
   "cell_type": "code",
   "execution_count": 28,
   "metadata": {
    "scrolled": true
   },
   "outputs": [
    {
     "data": {
      "text/plain": [
       "count    14149.000000\n",
       "mean        60.239856\n",
       "std         23.005310\n",
       "min          9.659576\n",
       "25%         48.966751\n",
       "50%         55.269784\n",
       "75%         66.007526\n",
       "max        484.967466\n",
       "Name: rougher.input.feed_size, dtype: float64"
      ]
     },
     "execution_count": 28,
     "metadata": {},
     "output_type": "execute_result"
    }
   ],
   "source": [
    "# убедимся, что средние значения отличаются несущественно\n",
    "train['rougher.input.feed_size'].describe()"
   ]
  },
  {
   "cell_type": "code",
   "execution_count": 29,
   "metadata": {
    "scrolled": true
   },
   "outputs": [
    {
     "data": {
      "text/plain": [
       "count    5290.000000\n",
       "mean       55.952754\n",
       "std        19.080334\n",
       "min         0.046369\n",
       "25%        43.906504\n",
       "50%        50.846843\n",
       "75%        62.451165\n",
       "max       392.494040\n",
       "Name: rougher.input.feed_size, dtype: float64"
      ]
     },
     "execution_count": 29,
     "metadata": {},
     "output_type": "execute_result"
    }
   ],
   "source": [
    "test['rougher.input.feed_size'].describe()"
   ]
  },
  {
   "cell_type": "markdown",
   "metadata": {},
   "source": [
    "### Вывод"
   ]
  },
  {
   "cell_type": "markdown",
   "metadata": {},
   "source": [
    "Размеры гранул практически совпадают- ось Х. Вывод describe() показывает средний размер гранул 60 и 56 для train и test соответственно. Разница высоты графиков объясняется лишь тем, что в выборке test данных на треть меньше. Данные можно использовать для обучения и проверки модели."
   ]
  },
  {
   "cell_type": "markdown",
   "metadata": {},
   "source": [
    "## Исследуем суммарную концентрацию всех веществ на разных стадиях: в сырье, в черновом и финальном концентратах."
   ]
  },
  {
   "cell_type": "markdown",
   "metadata": {},
   "source": [
    "Попробуем отследить строки с аномальными значениями концентрации. Признаки, содержащие необходимые нам стадии и вещества следующие: "
   ]
  },
  {
   "cell_type": "markdown",
   "metadata": {},
   "source": [
    "- стадия сырья: **rougher.input.feed**, вещества (ag, pb, sol, au);\n",
    "- стадия чернового концентрата: **rougher.output.concentrate**, вещества (ag, pb, sol, au);\n",
    "- стадия финального концентрата: **final.output.concentrate**, вещества (ag, pb, sol, au)."
   ]
  },
  {
   "cell_type": "markdown",
   "metadata": {},
   "source": [
    "Далее:\n",
    "- создадим список необходимых нам колонок для каждой стадии;\n",
    "- посмотрим распределение суммарных концентраций веществ на каждой стадии. \n",
    "- сделаем выводы"
   ]
  },
  {
   "cell_type": "code",
   "execution_count": 30,
   "metadata": {},
   "outputs": [],
   "source": [
    "# создание списка\n",
    "rougher_input_feed, rougher_output_concentrate, final_output_concentrate = [],[],[]\n",
    "for col in train.columns:\n",
    "    if 'rougher.input.feed' in col and 'size' not in col and 'rate' not in col:\n",
    "        rougher_input_feed.append(col)\n",
    "    elif 'rougher.output.concentrate' in col:\n",
    "        rougher_output_concentrate.append(col)\n",
    "    elif 'final.output.concentrate' in col:\n",
    "        final_output_concentrate.append(col)"
   ]
  },
  {
   "cell_type": "code",
   "execution_count": 31,
   "metadata": {
    "scrolled": true
   },
   "outputs": [
    {
     "data": {
      "image/png": "[encoded data removed]",
      "text/plain": [
       "<Figure size 432x288 with 1 Axes>"
      ]
     },
     "metadata": {
      "needs_background": "light"
     },
     "output_type": "display_data"
    }
   ],
   "source": [
    "# распределение суммарных концентраций веществ на стадии сырья\n",
    "train[rougher_input_feed].sum(axis=1).hist();"
   ]
  },
  {
   "cell_type": "code",
   "execution_count": 32,
   "metadata": {
    "scrolled": true
   },
   "outputs": [
    {
     "data": {
      "image/png": "[encoded data removed]",
      "text/plain": [
       "<Figure size 432x288 with 1 Axes>"
      ]
     },
     "metadata": {
      "needs_background": "light"
     },
     "output_type": "display_data"
    }
   ],
   "source": [
    "# распределение суммарных концентраций веществ на стадии чернового концентрата\n",
    "train[rougher_output_concentrate].sum(axis=1).hist();"
   ]
  },
  {
   "cell_type": "code",
   "execution_count": 33,
   "metadata": {
    "scrolled": true
   },
   "outputs": [
    {
     "data": {
      "image/png": "[encoded data removed]",
      "text/plain": [
       "<Figure size 432x288 with 1 Axes>"
      ]
     },
     "metadata": {
      "needs_background": "light"
     },
     "output_type": "display_data"
    }
   ],
   "source": [
    "# распределение суммарных концентраций веществ на стадии финального концентрата\n",
    "train[final_output_concentrate].sum(axis=1).hist();"
   ]
  },
  {
   "cell_type": "markdown",
   "metadata": {},
   "source": [
    "Вывод:\n",
    "\n",
    "На графике для стадии чернового концентрата видны нулевые значения. Значения концентраций веществ теоретически могут принимать сколь угодно малые значения, но их суммарная концентрация равная нулю - это явная аномалия. Такие строки нужно удалять. На графиках стадий сырья и финального концентрата нулевые значения не видны так явно, но они вполне могут быть. Необходимо удалять строки с нулевыми суммарными концентрациями и для этих стадий тоже."
   ]
  },
  {
   "cell_type": "code",
   "execution_count": 34,
   "metadata": {},
   "outputs": [
    {
     "name": "stdout",
     "output_type": "stream",
     "text": [
      "Число строк до удаления 14149\n"
     ]
    }
   ],
   "source": [
    "print('Число строк до удаления', train.shape[0])"
   ]
  },
  {
   "cell_type": "code",
   "execution_count": 35,
   "metadata": {},
   "outputs": [
    {
     "name": "stdout",
     "output_type": "stream",
     "text": [
      "Число строк после удаления 13795\n"
     ]
    }
   ],
   "source": [
    "# удаление \n",
    "train = train.loc[(train[final_output_concentrate].sum(axis=1) != 0) & \n",
    "                  (train[rougher_input_feed].sum(axis=1) != 0) & \n",
    "                  (train[rougher_output_concentrate].sum(axis=1) != 0)]\n",
    "print('Число строк после удаления', train.shape[0])"
   ]
  },
  {
   "cell_type": "markdown",
   "metadata": {},
   "source": [
    "### Вывод"
   ]
  },
  {
   "cell_type": "markdown",
   "metadata": {},
   "source": [
    "В дальнейшем мы планировали оценивать работу наших моделей на выборке test, используя целевые признаки из full. Однако, то что некоторые обучающте признаки неверны не значит, что целевой признак также ложен, ведь это не расчетные, а замеренные величины. Поэтому строки с аномальной суммой концентраций в full мы не проверяем, в отличии от выборки train, где они используются для обучения. \n",
    "\n",
    "То есть объекты, содержащие нули из выборки train мы удалили потому, что нули помешали бы обучить модели. А в датасете full мы оставили объекты с нулевыми концентрациями так как в этих объектах нам нужны будут только значения целевых признаков, которые мы \"подставим\" к соответствующим им по времени объектам из test."
   ]
  },
  {
   "cell_type": "markdown",
   "metadata": {},
   "source": [
    "## Напишем функцию для вычисления итоговой sMAPE"
   ]
  },
  {
   "attachments": {
    "d7109a97-5eec-4d84-91cd-b23e199c0aaa.png": {
     "image/png": "[encoded data removed]"
    }
   },
   "cell_type": "markdown",
   "metadata": {},
   "source": [
    "Эффективность обогащения рассчитывается по формуле\n",
    "\n",
    "![image.png](attachment:d7109a97-5eec-4d84-91cd-b23e199c0aaa.png)\n",
    "\n",
    "где:\n",
    "\n",
    "    C — доля золота в концентрате после флотации/очистки;\n",
    "    F — доля золота в сырье/концентрате до флотации/очистки;\n",
    "    T — доля золота в отвальных хвостах после флотации/очистки.\n",
    "\n",
    "Для прогноза коэффициента нужно найти долю золота в концентратах и хвостах. Причём важен не только финальный продукт, но и черновой концентрат."
   ]
  },
  {
   "cell_type": "markdown",
   "metadata": {},
   "source": [
    "Для решения задачи введём новую метрику качества — sMAPE (англ. Symmetric Mean Absolute Percentage Error, «симметричное среднее абсолютное процентное отклонение»).\n",
    "Она похожа на MAE, но выражается не в абсолютных величинах, а в относительных, потому что, она одинаково учитывает масштаб и целевого признака, и предсказания."
   ]
  },
  {
   "cell_type": "markdown",
   "metadata": {},
   "source": [
    "Мы будем обсчитывать каждую стадию процесса отдельно. Сначала rougher, затем final. Напишем функцию для расчета sMAPE. Это позволит нам видеть метрики для каждой стадии в отдельности. Формула для нашей функции:"
   ]
  },
  {
   "attachments": {
    "image.png": {
     "image/png": "[encoded data removed]"
    }
   },
   "cell_type": "markdown",
   "metadata": {},
   "source": [
    "![image.png](attachment:image.png)"
   ]
  },
  {
   "attachments": {
    "11650950-8588-4b23-be5a-5db788f334d2.png": {
     "image/png": "[encoded data removed]"
    },
    "92763e70-2ca0-4f66-a39a-e915dc51f5f6.png": {
     "image/png": "[encoded data removed]"
    },
    "a97b698e-abc5-4aaa-9b6e-cafe45023c51.png": {
     "image/png": "[encoded data removed]"
    },
    "b344407c-dfc0-4a05-b722-7ec63c35cae0.png": {
     "image/png": "[encoded data removed]"
    },
    "db9f5de6-925a-4a8c-9b67-647f8d183ee2.png": {
     "image/png": "[encoded data removed]"
    }
   },
   "cell_type": "markdown",
   "metadata": {},
   "source": [
    "Обозначения:\n",
    "![image.png](attachment:a97b698e-abc5-4aaa-9b6e-cafe45023c51.png)\n",
    "\n",
    "    Значение целевого признака для объекта с порядковым номером i в выборке, на которой измеряется качество.\n",
    "\n",
    "![image.png](attachment:11650950-8588-4b23-be5a-5db788f334d2.png)\n",
    "\n",
    "    Значение предсказания для объекта с порядковым номером i, например, в тестовой выборке.\n",
    "\n",
    "![image.png](attachment:92763e70-2ca0-4f66-a39a-e915dc51f5f6.png)\n",
    "\n",
    "    Количество объектов в выборке.\n",
    "\n",
    "![image.png](attachment:b344407c-dfc0-4a05-b722-7ec63c35cae0.png)\n",
    "\n",
    "    Суммирование по всем объектам выборки (i меняется от 1 до N).\n",
    "\n",
    "Нужно спрогнозировать сразу две величины:\n",
    "\n",
    "    эффективность обогащения чернового концентрата rougher.output.recovery;\n",
    "    эффективность обогащения финального концентрата final.output.recovery.\n",
    "\n",
    "Итоговая метрика складывается из двух величин:\n",
    "\n",
    "![image.png](attachment:db9f5de6-925a-4a8c-9b67-647f8d183ee2.png)"
   ]
  },
  {
   "cell_type": "code",
   "execution_count": 36,
   "metadata": {},
   "outputs": [],
   "source": [
    "# функция для подсчета sMAPE (НЕ итоговой sMAPE)\n",
    "def smape(target, predictions):\n",
    "    error = np.abs(target - predictions)\n",
    "# в знаменатель добавим константу, чтобы формула отрабатывала нулевые значения\n",
    "    scale = 0.0000001 + (np.abs(target) + np.abs(predictions)) / 2\n",
    "    return (error / scale).mean() * 100"
   ]
  },
  {
   "cell_type": "code",
   "execution_count": 37,
   "metadata": {},
   "outputs": [],
   "source": [
    "# напишем простую функцию для расчета итоговой метрики принимающую в качестве аргументов метрики для rougher и final\n",
    "def smape_final(smape_rougher, smape_final):\n",
    "    return .25 * smape_rougher + .75 * smape_final"
   ]
  },
  {
   "cell_type": "markdown",
   "metadata": {},
   "source": [
    "##  Подготовка выборок для обучения моделей"
   ]
  },
  {
   "cell_type": "markdown",
   "metadata": {},
   "source": [
    "Наши данные прошли ранее этап предоработки: были удалены пропуски, аномалии. Однако, необходимо сделать еще несколько шагов до того, как их можно будет использовать для обучения моделей, предсказаний и оценки предсказаний, а именно:\n",
    "1. выборка train\n",
    "   - удалить признаки не присутствующие в выборке test (MISSED_FEATURES п.1.3.1);\n",
    "   - удалить столбец date, который служил для нас индексом;\n",
    "   - разделить на обучающие и целевые признаки;\n",
    "   - выполнить масштабирование признаков;\n",
    "   - разделить обучающие признаки на rougher и final.\n",
    "2. выборка test\n",
    "   - пока в выборке присутствует индекс date, нужно по нему подобрать соответствующие строки целевых признаков из full;\n",
    "   - удалить столбец date, который служил для нас индексом;\n",
    "   - разделить на обучающие и целевые признаки;\n",
    "   - выполнить масштабирование признаков трансформером, обученным на train;\n",
    "   - разделить обучающие признаки на rougher и final."
   ]
  },
  {
   "cell_type": "markdown",
   "metadata": {},
   "source": [
    "Выборка train"
   ]
  },
  {
   "cell_type": "markdown",
   "metadata": {},
   "source": [
    "В списке MISSED_FEATURES есть два целевых признака, которые не нужно удалять из train. Удалим их из MISSED_FEATURES. "
   ]
  },
  {
   "cell_type": "code",
   "execution_count": 38,
   "metadata": {},
   "outputs": [],
   "source": [
    "# удалим из MISSED_FEATURES целевые признаки\n",
    "MISSED_FEATURES.remove('rougher.output.recovery')\n",
    "MISSED_FEATURES.remove('final.output.recovery')"
   ]
  },
  {
   "cell_type": "code",
   "execution_count": 39,
   "metadata": {},
   "outputs": [],
   "source": [
    "# удаление MISSED_FEATURES из train\n",
    "train = train.drop(columns=MISSED_FEATURES)"
   ]
  },
  {
   "cell_type": "code",
   "execution_count": 40,
   "metadata": {},
   "outputs": [
    {
     "data": {
      "text/plain": [
       "Index(['final.output.recovery', 'rougher.output.recovery'], dtype='object')"
      ]
     },
     "execution_count": 40,
     "metadata": {},
     "output_type": "execute_result"
    }
   ],
   "source": [
    "# теперь можно убедиться, что выборки test и train отличаются двумя целевыми признаками\n",
    "train.columns.difference(test.columns)"
   ]
  },
  {
   "cell_type": "code",
   "execution_count": 41,
   "metadata": {},
   "outputs": [],
   "source": [
    "# преобразуем date-index в обычный индекс\n",
    "train = train.reset_index(drop=True)"
   ]
  },
  {
   "cell_type": "code",
   "execution_count": 42,
   "metadata": {},
   "outputs": [],
   "source": [
    "# разделим train на обучающие и целевые признаки\n",
    "train_target_rougher = train['rougher.output.recovery']\n",
    "train_target_final = train['final.output.recovery']\n",
    "train_features_final = train.drop(columns=['final.output.recovery', \n",
    "                                                'rougher.output.recovery'])\n",
    "train_features_rougher = train[['rougher.input.feed_ag',\n",
    "       'rougher.input.feed_pb', 'rougher.input.feed_rate',\n",
    "       'rougher.input.feed_size', 'rougher.input.feed_sol',\n",
    "       'rougher.input.feed_au', 'rougher.input.floatbank10_sulfate',\n",
    "       'rougher.input.floatbank10_xanthate',\n",
    "       'rougher.input.floatbank11_sulfate',\n",
    "       'rougher.input.floatbank11_xanthate',\n",
    "       'rougher.state.floatbank10_a_air', 'rougher.state.floatbank10_a_level',\n",
    "       'rougher.state.floatbank10_b_air', 'rougher.state.floatbank10_b_level',\n",
    "       'rougher.state.floatbank10_c_air', 'rougher.state.floatbank10_c_level',\n",
    "       'rougher.state.floatbank10_d_air', 'rougher.state.floatbank10_d_level',\n",
    "       'rougher.state.floatbank10_e_air', 'rougher.state.floatbank10_e_level',\n",
    "       'rougher.state.floatbank10_f_air', 'rougher.state.floatbank10_f_level']]"
   ]
  },
  {
   "cell_type": "code",
   "execution_count": 43,
   "metadata": {},
   "outputs": [
    {
     "data": {
      "text/plain": [
       "StandardScaler()"
      ]
     },
     "execution_count": 43,
     "metadata": {},
     "output_type": "execute_result"
    }
   ],
   "source": [
    "# создадим объекты структуры StandardScaler() и настроим их на обучающих данных\n",
    "# два объекта для обеих стадий\n",
    "pd.options.mode.chained_assignment = None\n",
    "scaler_rougher = StandardScaler()\n",
    "scaler_rougher.fit(train_features_rougher)\n",
    "scaler_final = StandardScaler()\n",
    "scaler_final.fit(train_features_final)"
   ]
  },
  {
   "cell_type": "code",
   "execution_count": 44,
   "metadata": {},
   "outputs": [],
   "source": [
    "# преобразуем с помощью обученного scaler сами данные\n",
    "train_features_rougher = pd.DataFrame(scaler_rougher.transform(train_features_rougher), \n",
    "                                      columns=train_features_rougher.columns )\n",
    "train_features_final = pd.DataFrame(scaler_final.transform(train_features_final),\n",
    "                                   columns=train_features_final.columns)"
   ]
  },
  {
   "cell_type": "markdown",
   "metadata": {},
   "source": [
    "Данные выборки train для работы с моделями готовы. Теперь подготовим выборку test."
   ]
  },
  {
   "cell_type": "markdown",
   "metadata": {},
   "source": [
    "Выборка test"
   ]
  },
  {
   "cell_type": "code",
   "execution_count": 45,
   "metadata": {},
   "outputs": [],
   "source": [
    "# добавим в test целевые признаки из full:\n",
    "# выполним слияние по date, который служит индексом в обоих таблицах\n",
    "test = test.merge(full[['rougher.output.recovery','final.output.recovery']], on='date', how='left')"
   ]
  },
  {
   "cell_type": "code",
   "execution_count": 46,
   "metadata": {},
   "outputs": [
    {
     "data": {
      "text/plain": [
       "0"
      ]
     },
     "execution_count": 46,
     "metadata": {},
     "output_type": "execute_result"
    }
   ],
   "source": [
    "# в результате количество записей в test не изменилось, пропусков не появилось\n",
    "# значит каждой записи test сопоставлена запись из full\n",
    "test.isna().sum().sum()"
   ]
  },
  {
   "cell_type": "code",
   "execution_count": 47,
   "metadata": {},
   "outputs": [],
   "source": [
    "# удалим столбец date из test, он нам больше не нужен, его заменит числовой индекс\n",
    "test = test.reset_index(drop=True)"
   ]
  },
  {
   "cell_type": "code",
   "execution_count": 48,
   "metadata": {},
   "outputs": [],
   "source": [
    "# отделим обучающие признаки от целевых\n",
    "test_target_rougher = test['rougher.output.recovery']\n",
    "test_target_final = test['final.output.recovery']\n",
    "test_features_final = test.drop(columns = ['final.output.recovery', \n",
    "                                        'rougher.output.recovery'])\n",
    "test_features_rougher = test[['rougher.input.feed_ag',\n",
    "       'rougher.input.feed_pb', 'rougher.input.feed_rate',\n",
    "       'rougher.input.feed_size', 'rougher.input.feed_sol',\n",
    "       'rougher.input.feed_au', 'rougher.input.floatbank10_sulfate',\n",
    "       'rougher.input.floatbank10_xanthate',\n",
    "       'rougher.input.floatbank11_sulfate',\n",
    "       'rougher.input.floatbank11_xanthate',\n",
    "       'rougher.state.floatbank10_a_air', 'rougher.state.floatbank10_a_level',\n",
    "       'rougher.state.floatbank10_b_air', 'rougher.state.floatbank10_b_level',\n",
    "       'rougher.state.floatbank10_c_air', 'rougher.state.floatbank10_c_level',\n",
    "       'rougher.state.floatbank10_d_air', 'rougher.state.floatbank10_d_level',\n",
    "       'rougher.state.floatbank10_e_air', 'rougher.state.floatbank10_e_level',\n",
    "       'rougher.state.floatbank10_f_air', 'rougher.state.floatbank10_f_level']]"
   ]
  },
  {
   "cell_type": "code",
   "execution_count": 49,
   "metadata": {},
   "outputs": [],
   "source": [
    "# преобразуем с помощью обученного scaler данные test_features\n",
    "test_features_final = pd.DataFrame(scaler_final.transform(test_features_final),\n",
    "                                  columns=test_features_final.columns)\n",
    "test_features_rougher = pd.DataFrame(scaler_rougher.transform(test_features_rougher),\n",
    "                                    columns=test_features_rougher.columns)"
   ]
  },
  {
   "cell_type": "markdown",
   "metadata": {},
   "source": [
    "Данные выборки test для работы с моделями готовы."
   ]
  },
  {
   "cell_type": "markdown",
   "metadata": {},
   "source": [
    "## Построение прототипов моделей"
   ]
  },
  {
   "cell_type": "markdown",
   "metadata": {},
   "source": [
    "В качестве метрик для моделей в данном исследовании используется формула, заключенная в функции smape(). Чтобы передать результат работы этой функции в функцию кросс-валидации в качестве переметра scoring, напишем scorer:"
   ]
  },
  {
   "cell_type": "code",
   "execution_count": 50,
   "metadata": {},
   "outputs": [],
   "source": [
    "# scorer, через который значения метрик из smape() попадают в cross_val_score()\n",
    "scorer = make_scorer(smape, greater_is_better=False)"
   ]
  },
  {
   "cell_type": "markdown",
   "metadata": {},
   "source": [
    "Скорер для всех моделей выдает отрицательные значения так как мы используем параметр greater_is_better=False. Поэтому просто умножим результаты на -1."
   ]
  },
  {
   "cell_type": "markdown",
   "metadata": {},
   "source": [
    "### DecisionTreeRegressor"
   ]
  },
  {
   "cell_type": "markdown",
   "metadata": {},
   "source": [
    "Перебор гиперпараметров моделей производится вручную."
   ]
  },
  {
   "cell_type": "markdown",
   "metadata": {},
   "source": [
    "Стадия rougher:"
   ]
  },
  {
   "cell_type": "code",
   "execution_count": 51,
   "metadata": {
    "scrolled": true
   },
   "outputs": [
    {
     "name": "stdout",
     "output_type": "stream",
     "text": [
      "max_depth: 2 \n",
      " sMAPE rougher tree: 7.46627753771039\n",
      "max_depth: 3 \n",
      " sMAPE rougher tree: 7.1323163463635835\n",
      "max_depth: 4 \n",
      " sMAPE rougher tree: 7.024134379969814\n",
      "max_depth: 5 \n",
      " sMAPE rougher tree: 7.084423288177556\n",
      "max_depth: 6 \n",
      " sMAPE rougher tree: 7.216671364605828\n"
     ]
    }
   ],
   "source": [
    "# наилучший результат модель показывает с параметрами max_depth менее 10\n",
    "for depth in range(2,7,1):\n",
    "    model_rougher_tree = DecisionTreeRegressor(max_depth=depth, random_state=888)\n",
    "    scores_rougher_tree = cross_val_score(model_rougher_tree, train_features_rougher, train_target_rougher, \n",
    "                         scoring=scorer, cv=5)\n",
    "    smape_rougher_tree = -1 * sum(scores_rougher_tree)/len(scores_rougher_tree)\n",
    "    print('max_depth:', depth, '\\n', 'sMAPE rougher tree:', smape_rougher_tree,)"
   ]
  },
  {
   "cell_type": "code",
   "execution_count": 52,
   "metadata": {},
   "outputs": [],
   "source": [
    "# остановимся на max_depth=4\n",
    "smape_rougher_tree = 7.02"
   ]
  },
  {
   "cell_type": "markdown",
   "metadata": {},
   "source": [
    "Стадия final:"
   ]
  },
  {
   "cell_type": "code",
   "execution_count": 53,
   "metadata": {},
   "outputs": [
    {
     "name": "stdout",
     "output_type": "stream",
     "text": [
      "max_depth: 1 \n",
      " sMAPE final tree: 9.80465426862815\n",
      "max_depth: 2 \n",
      " sMAPE final tree: 9.38611466180671\n",
      "max_depth: 3 \n",
      " sMAPE final tree: 9.453212933724734\n",
      "max_depth: 4 \n",
      " sMAPE final tree: 9.625554154202439\n"
     ]
    }
   ],
   "source": [
    "# наилучший результат модель показывает с параметрами max_depth менее 10\n",
    "for depth in range(1,5,1):\n",
    "    model_final_tree = DecisionTreeRegressor(max_depth=depth, random_state=888)\n",
    "    scores_final_tree = cross_val_score(model_final_tree, train_features_final, train_target_final, \n",
    "                         scoring=scorer, cv=5)\n",
    "    smape_final_tree = -1 * sum(scores_final_tree)/len(scores_final_tree)\n",
    "    print('max_depth:', depth, '\\n', 'sMAPE final tree:', smape_final_tree,)"
   ]
  },
  {
   "cell_type": "code",
   "execution_count": 54,
   "metadata": {},
   "outputs": [],
   "source": [
    "# остановимся на max_depth=2\n",
    "smape_final_tree =  9.39"
   ]
  },
  {
   "cell_type": "markdown",
   "metadata": {},
   "source": [
    "Итоговую метрику можно подсчитать по формуле:"
   ]
  },
  {
   "attachments": {
    "image.png": {
     "image/png": "[encoded data removed]"
    }
   },
   "cell_type": "markdown",
   "metadata": {},
   "source": [
    "![image.png](attachment:image.png)"
   ]
  },
  {
   "cell_type": "code",
   "execution_count": 55,
   "metadata": {},
   "outputs": [
    {
     "data": {
      "text/plain": [
       "8.7975"
      ]
     },
     "execution_count": 55,
     "metadata": {},
     "output_type": "execute_result"
    }
   ],
   "source": [
    "# итоговая sMAPE для DecisionTreeRegressor\n",
    "smape_tree = smape_final(smape_rougher_tree, smape_final_tree)\n",
    "smape_tree"
   ]
  },
  {
   "cell_type": "markdown",
   "metadata": {},
   "source": [
    "### RandomForestRegressor"
   ]
  },
  {
   "cell_type": "markdown",
   "metadata": {},
   "source": [
    "Для подбора оптимальных параметров воспользуемся RandomizedSearchCV."
   ]
  },
  {
   "cell_type": "markdown",
   "metadata": {},
   "source": [
    "Стадия rougher:"
   ]
  },
  {
   "cell_type": "code",
   "execution_count": 56,
   "metadata": {},
   "outputs": [],
   "source": [
    "# инициируем модель\n",
    "model_rougher_forest = RandomForestRegressor(random_state=2345)"
   ]
  },
  {
   "cell_type": "code",
   "execution_count": 57,
   "metadata": {},
   "outputs": [
    {
     "name": "stdout",
     "output_type": "stream",
     "text": [
      "CPU times: user 2.48 s, sys: 145 ms, total: 2.62 s\n",
      "Wall time: 3min 6s\n"
     ]
    }
   ],
   "source": [
    "%%time\n",
    "# перечислим параметры для оптимизации \n",
    "parameters = {'n_estimators': range (15,31,5), \n",
    "                  'min_samples_split': range (2,5), \n",
    "                  'max_depth': range (4,13,2), \n",
    "                  'min_samples_leaf': range (1,6)}\n",
    "\n",
    "# создаем объект random_search c нашей моделью и параметрами\n",
    "random_search =  RandomizedSearchCV(estimator = model_rougher_forest,\n",
    "                                        param_distributions = parameters,\n",
    "                                        cv = 3, \n",
    "                                        scoring = scorer, \n",
    "                                        n_jobs=3)\n",
    "\n",
    "# обучаемся на данных rougher\n",
    "random_search.fit(train_features_rougher, train_target_rougher)\n",
    "best_parameters = random_search.best_params_\n",
    "smape_rougher_forest = np.abs(random_search.best_score_)"
   ]
  },
  {
   "cell_type": "code",
   "execution_count": 58,
   "metadata": {},
   "outputs": [
    {
     "name": "stdout",
     "output_type": "stream",
     "text": [
      "Оптимальные параметры стадии rougher: \n",
      " {'n_estimators': 20, 'min_samples_split': 2, 'min_samples_leaf': 3, 'max_depth': 4}\n",
      "Метрика cтадии rougher 7.762234772923365\n"
     ]
    }
   ],
   "source": [
    "print('Оптимальные параметры стадии rougher:','\\n', best_parameters)\n",
    "print('Метрика cтадии rougher' , smape_rougher_forest)"
   ]
  },
  {
   "cell_type": "markdown",
   "metadata": {},
   "source": [
    "Стадия final:"
   ]
  },
  {
   "cell_type": "code",
   "execution_count": 59,
   "metadata": {},
   "outputs": [],
   "source": [
    "# инициируем модель\n",
    "model_final_forest = RandomForestRegressor(random_state=2345)"
   ]
  },
  {
   "cell_type": "code",
   "execution_count": 60,
   "metadata": {},
   "outputs": [
    {
     "name": "stdout",
     "output_type": "stream",
     "text": [
      "CPU times: user 4.61 s, sys: 29.5 ms, total: 4.64 s\n",
      "Wall time: 6min 20s\n"
     ]
    }
   ],
   "source": [
    "%%time\n",
    "# перечислим параметры для оптимизации \n",
    "parameters = {'n_estimators': range (15,26,5), \n",
    "                  'min_samples_split': range (2,5), \n",
    "                  'max_depth': range (4,11,2), \n",
    "                  'min_samples_leaf': range (1,6)}\n",
    "\n",
    "# создаем объект random_search c нашей моделью и параметрами\n",
    "random_search =  RandomizedSearchCV(estimator = model_final_forest,\n",
    "                                        param_distributions = parameters,\n",
    "                                        cv = 3, \n",
    "                                        scoring = scorer, \n",
    "                                        n_jobs=3)\n",
    "\n",
    "# обучаемся на данных final\n",
    "random_search.fit(train_features_final, train_target_final)\n",
    "best_parameters = random_search.best_params_\n",
    "smape_final_forest = np.abs(random_search.best_score_)"
   ]
  },
  {
   "cell_type": "code",
   "execution_count": 61,
   "metadata": {},
   "outputs": [
    {
     "name": "stdout",
     "output_type": "stream",
     "text": [
      "Оптимальные параметры стадии final: \n",
      " {'n_estimators': 15, 'min_samples_split': 3, 'min_samples_leaf': 3, 'max_depth': 6}\n",
      "Метрика cтадии final 10.675276685391403\n"
     ]
    }
   ],
   "source": [
    "print('Оптимальные параметры стадии final:','\\n', best_parameters)\n",
    "print('Метрика cтадии final' , smape_final_forest)"
   ]
  },
  {
   "cell_type": "code",
   "execution_count": 62,
   "metadata": {},
   "outputs": [
    {
     "data": {
      "text/plain": [
       "9.947016207274393"
      ]
     },
     "execution_count": 62,
     "metadata": {},
     "output_type": "execute_result"
    }
   ],
   "source": [
    "# итоговая sMAPE для RandomForestRegressor\n",
    "smape_forest = smape_final(smape_rougher_forest, smape_final_forest)\n",
    "smape_forest"
   ]
  },
  {
   "cell_type": "markdown",
   "metadata": {},
   "source": [
    "### LinearRegression"
   ]
  },
  {
   "cell_type": "markdown",
   "metadata": {},
   "source": [
    "Стадия rougher:"
   ]
  },
  {
   "cell_type": "code",
   "execution_count": 63,
   "metadata": {},
   "outputs": [
    {
     "name": "stdout",
     "output_type": "stream",
     "text": [
      "sMAPE rougher linear regression: 6.660435967486007\n"
     ]
    }
   ],
   "source": [
    "model_rougher_rg = LinearRegression()\n",
    "scores_rougher_rg = cross_val_score(model_rougher_rg, train_features_rougher, train_target_rougher, \n",
    "                         scoring=scorer, cv=5)\n",
    "smape_rougher_rg = -1 * sum(scores_rougher_rg)/len(scores_rougher_rg)\n",
    "print('sMAPE rougher linear regression:', smape_rougher_rg)"
   ]
  },
  {
   "cell_type": "markdown",
   "metadata": {},
   "source": [
    "Стадия final:"
   ]
  },
  {
   "cell_type": "code",
   "execution_count": 64,
   "metadata": {},
   "outputs": [
    {
     "name": "stdout",
     "output_type": "stream",
     "text": [
      "sMAPE final linear regression: 10.990200497449166\n"
     ]
    }
   ],
   "source": [
    "model_final_rg = LinearRegression()\n",
    "scores_final_rg = cross_val_score(model_final_rg, train_features_final, train_target_final, \n",
    "                         scoring=scorer, cv=5)\n",
    "smape_final_rg = -1 * sum(scores_final_rg)/len(scores_final_rg)\n",
    "print('sMAPE final linear regression:', smape_final_rg)"
   ]
  },
  {
   "cell_type": "code",
   "execution_count": 65,
   "metadata": {},
   "outputs": [
    {
     "data": {
      "text/plain": [
       "9.907759364958377"
      ]
     },
     "execution_count": 65,
     "metadata": {},
     "output_type": "execute_result"
    }
   ],
   "source": [
    "# итоговая sMAPE для LinearRegression\n",
    "smape_rg = smape_final(smape_rougher_rg, smape_final_rg)\n",
    "smape_rg"
   ]
  },
  {
   "cell_type": "markdown",
   "metadata": {},
   "source": [
    "### Вывод"
   ]
  },
  {
   "cell_type": "markdown",
   "metadata": {},
   "source": [
    "Модели показали следующие результаты по метрикам sMAPE:\n",
    "- DecisionTreeRegressor: итоговая 8.79, rougher = 7.02, final = 9.39\n",
    "- RandomForestRegressor: итоговая 9.93, rougher = 7.63, final = 10,7\n",
    "- LinearRegression: итоговая 9.9, rougher = 6.66, final = 11\n",
    "\n",
    "Предварительно можно отметить, что качество предсказаний не сильно зависело от выбора использованных нами гиперпараметров для моделей. Значения метрик, расчитанных разными моделями отличается незначительно.\n",
    "\n",
    "Воспользуемся для расчета итоговой метрики sMAPE на выборке test моделью LinearRegression для стадии rougher. Модель производит расчеты быстрее остальных моделей, не требует подбора гиперпараметров, по точности расчета итоговой метрики уступает не сильно а для стадии rougher имеет лучший показатель. \n",
    "\n",
    "Для стадии final воспользуемся моделью DecisionTreeRegressor(max_depth=2), демонстрирующей лучший результат и ощутимо большую скорость по сравнению с RandomForestRegressor."
   ]
  },
  {
   "cell_type": "markdown",
   "metadata": {},
   "source": [
    "## Расчет sMAPE на выборке test"
   ]
  },
  {
   "cell_type": "markdown",
   "metadata": {},
   "source": [
    "### Отобранные нами модели"
   ]
  },
  {
   "cell_type": "markdown",
   "metadata": {},
   "source": [
    "Для стадии rougher мы отобрали модель LinearRegression, для стадии final DecisionTreeRegressor"
   ]
  },
  {
   "cell_type": "code",
   "execution_count": 66,
   "metadata": {},
   "outputs": [],
   "source": [
    "# создадим модели\n",
    "model_rougher_rg =LinearRegression()\n",
    "model_final_tree = DecisionTreeRegressor(max_depth=2, random_state=888)\n"
   ]
  },
  {
   "cell_type": "code",
   "execution_count": 67,
   "metadata": {},
   "outputs": [
    {
     "data": {
      "text/plain": [
       "DecisionTreeRegressor(max_depth=2, random_state=888)"
      ]
     },
     "execution_count": 67,
     "metadata": {},
     "output_type": "execute_result"
    }
   ],
   "source": [
    "# обучим модели\n",
    "model_rougher_rg.fit(train_features_rougher, train_target_rougher)\n",
    "model_final_tree.fit(train_features_final, train_target_final)"
   ]
  },
  {
   "cell_type": "code",
   "execution_count": 68,
   "metadata": {},
   "outputs": [],
   "source": [
    "# получим предсказания моделей:\n",
    "predictions_rougher = pd.Series(model_rougher_rg.predict(test_features_rougher))\n",
    "predictions_final = pd.Series(model_final_tree.predict(test_features_final))"
   ]
  },
  {
   "cell_type": "code",
   "execution_count": 69,
   "metadata": {},
   "outputs": [
    {
     "name": "stdout",
     "output_type": "stream",
     "text": [
      "метрика стадии rougher (линейная регрессия) 8.188480250355953\n",
      "метрика стадии final (дерево решений) 9.923707516233145\n"
     ]
    }
   ],
   "source": [
    "# расчитаем метрику для обеих стадий rougher и final\n",
    "smape_rougher_rg = smape(predictions_rougher, test_target_rougher)\n",
    "smape_final_tree = smape(predictions_final, test_target_final)\n",
    "print('метрика стадии rougher (линейная регрессия)', smape_rougher_rg)\n",
    "print('метрика стадии final (дерево решений)', smape_final_tree)"
   ]
  },
  {
   "cell_type": "markdown",
   "metadata": {},
   "source": [
    "Произведем расчет итоговой метрики sMAPE:"
   ]
  },
  {
   "cell_type": "code",
   "execution_count": 70,
   "metadata": {},
   "outputs": [
    {
     "data": {
      "text/plain": [
       "9.489900699763847"
      ]
     },
     "execution_count": 70,
     "metadata": {},
     "output_type": "execute_result"
    }
   ],
   "source": [
    "# итоговая метрика\n",
    "final_sMAPE = smape_final(smape_rougher_rg, smape_final_tree)\n",
    "final_sMAPE"
   ]
  },
  {
   "cell_type": "markdown",
   "metadata": {},
   "source": [
    "### DummyRegressor"
   ]
  },
  {
   "cell_type": "markdown",
   "metadata": {},
   "source": [
    "Для сравнения произведем расчет метрики технологического процесса прогнозируя показатели с помощью модели DummyRegressor."
   ]
  },
  {
   "cell_type": "code",
   "execution_count": 71,
   "metadata": {},
   "outputs": [],
   "source": [
    "# создаем модели\n",
    "model_dummy_rougher =  DummyRegressor(strategy='median')\n",
    "model_dummy_final =  DummyRegressor(strategy='median')"
   ]
  },
  {
   "cell_type": "code",
   "execution_count": 72,
   "metadata": {},
   "outputs": [
    {
     "data": {
      "text/plain": [
       "DummyRegressor(strategy='median')"
      ]
     },
     "execution_count": 72,
     "metadata": {},
     "output_type": "execute_result"
    }
   ],
   "source": [
    "# обучаем на данных выборки train\n",
    "model_dummy_rougher.fit(train_features_rougher, train_target_rougher)\n",
    "model_dummy_final.fit(train_features_final, train_target_final)"
   ]
  },
  {
   "cell_type": "code",
   "execution_count": 73,
   "metadata": {},
   "outputs": [],
   "source": [
    "# получаем предсказания\n",
    "predictions_rougher = pd.Series(model_dummy_rougher.predict(test_features_rougher))\n",
    "predictions_final = pd.Series(model_dummy_final.predict(test_features_final))"
   ]
  },
  {
   "cell_type": "code",
   "execution_count": 74,
   "metadata": {},
   "outputs": [
    {
     "data": {
      "text/plain": [
       "8.525870314847948"
      ]
     },
     "execution_count": 74,
     "metadata": {},
     "output_type": "execute_result"
    }
   ],
   "source": [
    "# расчет метрики для стадии rougher\n",
    "smape_rougher_dummy = smape(predictions_rougher, test_target_rougher)\n",
    "smape_rougher_dummy"
   ]
  },
  {
   "cell_type": "code",
   "execution_count": 75,
   "metadata": {},
   "outputs": [
    {
     "data": {
      "text/plain": [
       "9.743369291462525"
      ]
     },
     "execution_count": 75,
     "metadata": {},
     "output_type": "execute_result"
    }
   ],
   "source": [
    "# расчет метрики для всего процесса\n",
    "smape_final_dummy = smape(predictions_final, test_target_final)\n",
    "smape_final_dummy"
   ]
  },
  {
   "cell_type": "code",
   "execution_count": 76,
   "metadata": {},
   "outputs": [],
   "source": [
    "# расчет итоговой метрики для модели Dummy\n",
    "final_sMAPE = smape_final(smape_rougher_dummy, smape_final_dummy)"
   ]
  },
  {
   "cell_type": "code",
   "execution_count": 77,
   "metadata": {},
   "outputs": [
    {
     "data": {
      "text/plain": [
       "9.43899454730888"
      ]
     },
     "execution_count": 77,
     "metadata": {},
     "output_type": "execute_result"
    }
   ],
   "source": [
    "# итоговая метрика для предсказаний модели Dummy\n",
    "final_sMAPE"
   ]
  },
  {
   "cell_type": "markdown",
   "metadata": {},
   "source": [
    "### Вывод"
   ]
  },
  {
   "cell_type": "markdown",
   "metadata": {},
   "source": [
    "Метрика LinearRegression на выборке test (8.5) оказалась выше, чем на train выборке (6.66), из чего следует, что модель переобучилась. \n",
    "Метрика DecisionTreeRegressor на выборке test (9.74) осталась практически на пережнем уровне (9.39).\n",
    "Общий показатель итоговой метрики (9.49) показал средний результат если сравнивать его с показателями исследованных моделей.\n",
    "Однако он оказался хоть и несущественно но все же выше (хуже) Dummy модели (9.44)."
   ]
  },
  {
   "cell_type": "markdown",
   "metadata": {},
   "source": [
    "## Общий вывод"
   ]
  },
  {
   "cell_type": "markdown",
   "metadata": {},
   "source": [
    "Подготовка данных, а именно оформление обучающей и тестовой выборок, выбор целевых признаков, предобработка данных в данном исследовании составляет большую часть объема настоящего исследования и является определяющим для качества предсказаний моделей.\n",
    "\n",
    "Перебор рассмотренных нами гиперпараметров дает десятые доли процентов прироста качества. Мне кажется, что причиной тому являются сама природа данных. Это числовые значения меняющиеся с течением времени относительно плавно и правильней всего для таких данных было бы использовать линейные модели. В том числе, именно из-за этой особенности данных наши модели работают на уровне константной модели.\n",
    "\n",
    "Стоит отметить, что для всех моделей качество предсказания существенно падает с увеличением числа признаков: на rougher выборке sMAPE традиционно ниже у всех моделей чем на final выборке. То, в какой степени наблюдается это падение, может послужить критерием отбора той или иной модели.\n",
    "\n",
    "Стоит упомянуть и о качестве самих предоставленных данных: существенное количество пропусков, в том числе идущих подряд, не могло не сказаться на качестве предсказаний моделей. Мне кажется в данном случае, пропуски стоило бы заполнять в соответствии со стратегией, принятой совместно с технологами - а тот, что мы применили, кажется мне слишком искусственным."
   ]
  },
  {
   "cell_type": "code",
   "execution_count": null,
   "metadata": {},
   "outputs": [],
   "source": []
  }
 ],
 "metadata": {
  "ExecuteTimeLog": [
   {
    "duration": 1550,
    "start_time": "2022-05-30T08:12:35.434Z"
   },
   {
    "duration": 2885,
    "start_time": "2022-05-30T08:28:34.437Z"
   },
   {
    "duration": 35,
    "start_time": "2022-05-30T08:54:46.484Z"
   },
   {
    "duration": 29,
    "start_time": "2022-05-30T08:56:10.451Z"
   },
   {
    "duration": 40,
    "start_time": "2022-05-30T08:56:36.160Z"
   },
   {
    "duration": 27,
    "start_time": "2022-05-30T08:56:47.130Z"
   },
   {
    "duration": 34,
    "start_time": "2022-05-30T08:56:59.224Z"
   },
   {
    "duration": 30,
    "start_time": "2022-05-30T08:57:39.358Z"
   },
   {
    "duration": 29,
    "start_time": "2022-05-30T08:58:38.675Z"
   },
   {
    "duration": 31,
    "start_time": "2022-05-30T08:59:15.282Z"
   },
   {
    "duration": 30,
    "start_time": "2022-05-30T08:59:31.422Z"
   },
   {
    "duration": 29,
    "start_time": "2022-05-30T09:00:15.667Z"
   },
   {
    "duration": 28,
    "start_time": "2022-05-30T09:00:37.424Z"
   },
   {
    "duration": 31,
    "start_time": "2022-05-30T09:08:44.453Z"
   },
   {
    "duration": 850,
    "start_time": "2022-05-30T09:10:27.717Z"
   },
   {
    "duration": 3,
    "start_time": "2022-05-30T09:27:23.629Z"
   },
   {
    "duration": 6,
    "start_time": "2022-05-30T09:27:41.672Z"
   },
   {
    "duration": 263,
    "start_time": "2022-05-30T09:28:07.452Z"
   },
   {
    "duration": 5,
    "start_time": "2022-05-30T09:28:26.787Z"
   },
   {
    "duration": 11,
    "start_time": "2022-05-30T09:28:44.820Z"
   },
   {
    "duration": 5,
    "start_time": "2022-05-30T09:31:17.298Z"
   },
   {
    "duration": 6,
    "start_time": "2022-05-30T09:34:32.855Z"
   },
   {
    "duration": 4,
    "start_time": "2022-05-30T09:44:00.957Z"
   },
   {
    "duration": 232,
    "start_time": "2022-05-30T09:55:01.354Z"
   },
   {
    "duration": 143,
    "start_time": "2022-05-30T09:55:49.820Z"
   },
   {
    "duration": 20,
    "start_time": "2022-05-30T09:56:07.561Z"
   },
   {
    "duration": 8,
    "start_time": "2022-05-30T09:58:11.356Z"
   },
   {
    "duration": 8,
    "start_time": "2022-05-30T09:58:25.048Z"
   },
   {
    "duration": 7,
    "start_time": "2022-05-30T09:58:42.647Z"
   },
   {
    "duration": 435,
    "start_time": "2022-05-30T09:59:35.683Z"
   },
   {
    "duration": 411,
    "start_time": "2022-05-30T09:59:47.552Z"
   },
   {
    "duration": 523,
    "start_time": "2022-05-30T10:01:34.197Z"
   },
   {
    "duration": 437,
    "start_time": "2022-05-30T10:02:14.752Z"
   },
   {
    "duration": 24,
    "start_time": "2022-05-30T10:07:09.942Z"
   },
   {
    "duration": 9,
    "start_time": "2022-05-30T10:07:11.200Z"
   },
   {
    "duration": 483,
    "start_time": "2022-05-30T10:18:30.255Z"
   },
   {
    "duration": 512,
    "start_time": "2022-05-30T10:19:21.006Z"
   },
   {
    "duration": 53,
    "start_time": "2022-05-30T10:19:45.636Z"
   },
   {
    "duration": 651,
    "start_time": "2022-05-30T10:20:09.467Z"
   },
   {
    "duration": 351,
    "start_time": "2022-05-30T10:29:22.144Z"
   },
   {
    "duration": 294,
    "start_time": "2022-05-30T10:32:14.490Z"
   },
   {
    "duration": 12,
    "start_time": "2022-05-30T10:32:45.112Z"
   },
   {
    "duration": 8,
    "start_time": "2022-05-30T10:33:06.403Z"
   },
   {
    "duration": 7,
    "start_time": "2022-05-30T10:36:15.973Z"
   },
   {
    "duration": 146,
    "start_time": "2022-05-30T10:36:32.546Z"
   },
   {
    "duration": 17,
    "start_time": "2022-05-30T10:37:23.855Z"
   },
   {
    "duration": 8,
    "start_time": "2022-05-30T10:38:25.239Z"
   },
   {
    "duration": 6,
    "start_time": "2022-05-30T10:39:01.970Z"
   },
   {
    "duration": 23,
    "start_time": "2022-05-30T10:39:20.348Z"
   },
   {
    "duration": 4,
    "start_time": "2022-05-30T16:39:25.164Z"
   },
   {
    "duration": 2916,
    "start_time": "2022-05-30T16:39:25.172Z"
   },
   {
    "duration": 45,
    "start_time": "2022-05-30T16:39:28.090Z"
   },
   {
    "duration": 502,
    "start_time": "2022-05-30T16:39:28.137Z"
   },
   {
    "duration": 3,
    "start_time": "2022-05-30T16:39:28.642Z"
   },
   {
    "duration": 9,
    "start_time": "2022-05-30T16:39:28.646Z"
   },
   {
    "duration": 7,
    "start_time": "2022-05-30T16:39:28.656Z"
   },
   {
    "duration": 6,
    "start_time": "2022-05-30T16:39:28.664Z"
   },
   {
    "duration": 8,
    "start_time": "2022-05-30T16:39:28.672Z"
   },
   {
    "duration": 8,
    "start_time": "2022-05-30T16:39:28.682Z"
   },
   {
    "duration": 6,
    "start_time": "2022-05-30T16:39:28.692Z"
   },
   {
    "duration": 5,
    "start_time": "2022-05-30T16:39:28.699Z"
   },
   {
    "duration": 90,
    "start_time": "2022-05-30T16:39:28.726Z"
   },
   {
    "duration": 121,
    "start_time": "2022-05-30T16:39:28.830Z"
   },
   {
    "duration": 23,
    "start_time": "2022-05-30T16:39:28.953Z"
   },
   {
    "duration": 8,
    "start_time": "2022-05-30T16:39:28.978Z"
   },
   {
    "duration": 8,
    "start_time": "2022-05-30T16:39:28.987Z"
   },
   {
    "duration": 39,
    "start_time": "2022-05-30T16:39:28.997Z"
   },
   {
    "duration": 548,
    "start_time": "2022-05-30T16:39:29.037Z"
   },
   {
    "duration": 406,
    "start_time": "2022-05-30T16:39:29.587Z"
   },
   {
    "duration": 393,
    "start_time": "2022-05-30T16:39:29.995Z"
   },
   {
    "duration": 21,
    "start_time": "2022-05-30T16:39:30.389Z"
   },
   {
    "duration": 18,
    "start_time": "2022-05-30T16:39:30.411Z"
   },
   {
    "duration": 473,
    "start_time": "2022-05-30T16:39:30.432Z"
   },
   {
    "duration": 658,
    "start_time": "2022-05-30T16:39:30.907Z"
   },
   {
    "duration": 511,
    "start_time": "2022-05-30T16:39:31.567Z"
   },
   {
    "duration": 277,
    "start_time": "2022-05-30T16:39:32.080Z"
   },
   {
    "duration": 7,
    "start_time": "2022-05-30T16:39:32.359Z"
   },
   {
    "duration": 7,
    "start_time": "2022-05-30T16:39:32.369Z"
   },
   {
    "duration": 5,
    "start_time": "2022-05-30T16:39:32.378Z"
   },
   {
    "duration": 150,
    "start_time": "2022-05-30T16:39:32.384Z"
   },
   {
    "duration": 14,
    "start_time": "2022-05-30T16:39:32.537Z"
   },
   {
    "duration": 7,
    "start_time": "2022-05-30T16:39:32.553Z"
   },
   {
    "duration": 6,
    "start_time": "2022-05-30T16:39:32.562Z"
   },
   {
    "duration": 24,
    "start_time": "2022-05-30T16:39:32.569Z"
   },
   {
    "duration": 3,
    "start_time": "2022-05-30T16:39:32.596Z"
   },
   {
    "duration": 6,
    "start_time": "2022-05-30T16:45:39.748Z"
   },
   {
    "duration": 4,
    "start_time": "2022-05-30T17:32:02.345Z"
   },
   {
    "duration": 5,
    "start_time": "2022-05-30T17:32:26.449Z"
   },
   {
    "duration": 4,
    "start_time": "2022-05-30T17:32:48.851Z"
   },
   {
    "duration": 4,
    "start_time": "2022-05-30T17:35:00.236Z"
   },
   {
    "duration": 10,
    "start_time": "2022-05-30T17:36:29.120Z"
   },
   {
    "duration": 23,
    "start_time": "2022-05-30T17:37:13.192Z"
   },
   {
    "duration": 10,
    "start_time": "2022-05-30T17:37:39.603Z"
   },
   {
    "duration": 70,
    "start_time": "2022-05-30T17:38:02.420Z"
   },
   {
    "duration": 10,
    "start_time": "2022-05-30T17:43:39.580Z"
   },
   {
    "duration": 6,
    "start_time": "2022-05-30T17:44:07.756Z"
   },
   {
    "duration": 3,
    "start_time": "2022-05-30T17:44:50.656Z"
   },
   {
    "duration": 8,
    "start_time": "2022-05-30T17:45:14.189Z"
   },
   {
    "duration": 7,
    "start_time": "2022-05-30T17:45:36.258Z"
   },
   {
    "duration": 4,
    "start_time": "2022-05-30T18:13:25.040Z"
   },
   {
    "duration": 15018,
    "start_time": "2022-05-30T19:14:11.594Z"
   },
   {
    "duration": 15569,
    "start_time": "2022-05-30T19:15:58.089Z"
   },
   {
    "duration": 4354,
    "start_time": "2022-05-30T19:16:41.168Z"
   },
   {
    "duration": 2668,
    "start_time": "2022-05-30T19:17:11.700Z"
   },
   {
    "duration": 2487,
    "start_time": "2022-05-30T19:18:34.273Z"
   },
   {
    "duration": 2538,
    "start_time": "2022-05-30T19:30:40.806Z"
   },
   {
    "duration": 41705,
    "start_time": "2022-05-30T19:31:10.631Z"
   },
   {
    "duration": 3761,
    "start_time": "2022-05-30T19:32:21.010Z"
   },
   {
    "duration": 29,
    "start_time": "2022-05-30T19:43:25.076Z"
   },
   {
    "duration": 1589,
    "start_time": "2022-05-31T07:27:00.873Z"
   },
   {
    "duration": 3201,
    "start_time": "2022-05-31T07:27:02.465Z"
   },
   {
    "duration": 35,
    "start_time": "2022-05-31T07:27:05.667Z"
   },
   {
    "duration": 619,
    "start_time": "2022-05-31T07:27:05.704Z"
   },
   {
    "duration": 2,
    "start_time": "2022-05-31T07:27:06.325Z"
   },
   {
    "duration": 18,
    "start_time": "2022-05-31T07:27:06.329Z"
   },
   {
    "duration": 11,
    "start_time": "2022-05-31T07:27:06.349Z"
   },
   {
    "duration": 11,
    "start_time": "2022-05-31T07:27:06.362Z"
   },
   {
    "duration": 13,
    "start_time": "2022-05-31T07:27:06.374Z"
   },
   {
    "duration": 7,
    "start_time": "2022-05-31T07:27:06.391Z"
   },
   {
    "duration": 8,
    "start_time": "2022-05-31T07:27:06.399Z"
   },
   {
    "duration": 8,
    "start_time": "2022-05-31T07:27:06.409Z"
   },
   {
    "duration": 111,
    "start_time": "2022-05-31T07:27:06.419Z"
   },
   {
    "duration": 121,
    "start_time": "2022-05-31T07:27:06.531Z"
   },
   {
    "duration": 19,
    "start_time": "2022-05-31T07:27:06.653Z"
   },
   {
    "duration": 7,
    "start_time": "2022-05-31T07:27:06.674Z"
   },
   {
    "duration": 6,
    "start_time": "2022-05-31T07:27:06.682Z"
   },
   {
    "duration": 4,
    "start_time": "2022-05-31T07:27:06.690Z"
   },
   {
    "duration": 398,
    "start_time": "2022-05-31T07:27:06.696Z"
   },
   {
    "duration": 374,
    "start_time": "2022-05-31T07:27:07.096Z"
   },
   {
    "duration": 463,
    "start_time": "2022-05-31T07:27:07.471Z"
   },
   {
    "duration": 21,
    "start_time": "2022-05-31T07:27:07.935Z"
   },
   {
    "duration": 8,
    "start_time": "2022-05-31T07:27:07.957Z"
   },
   {
    "duration": 449,
    "start_time": "2022-05-31T07:27:07.967Z"
   },
   {
    "duration": 464,
    "start_time": "2022-05-31T07:27:08.418Z"
   },
   {
    "duration": 449,
    "start_time": "2022-05-31T07:27:08.884Z"
   },
   {
    "duration": 366,
    "start_time": "2022-05-31T07:27:09.335Z"
   },
   {
    "duration": 7,
    "start_time": "2022-05-31T07:27:09.705Z"
   },
   {
    "duration": 7,
    "start_time": "2022-05-31T07:27:09.726Z"
   },
   {
    "duration": 9,
    "start_time": "2022-05-31T07:27:09.735Z"
   },
   {
    "duration": 112,
    "start_time": "2022-05-31T07:27:09.745Z"
   },
   {
    "duration": 16,
    "start_time": "2022-05-31T07:27:09.858Z"
   },
   {
    "duration": 7,
    "start_time": "2022-05-31T07:27:09.875Z"
   },
   {
    "duration": 5,
    "start_time": "2022-05-31T07:27:09.884Z"
   },
   {
    "duration": 41,
    "start_time": "2022-05-31T07:27:09.890Z"
   },
   {
    "duration": 4,
    "start_time": "2022-05-31T07:27:09.932Z"
   },
   {
    "duration": 16,
    "start_time": "2022-05-31T07:27:09.937Z"
   },
   {
    "duration": 7,
    "start_time": "2022-05-31T07:27:09.954Z"
   },
   {
    "duration": 7,
    "start_time": "2022-05-31T07:27:09.962Z"
   },
   {
    "duration": 8,
    "start_time": "2022-05-31T07:27:09.971Z"
   },
   {
    "duration": 5,
    "start_time": "2022-05-31T07:27:09.980Z"
   },
   {
    "duration": 9,
    "start_time": "2022-05-31T07:27:09.987Z"
   },
   {
    "duration": 47,
    "start_time": "2022-05-31T07:27:09.997Z"
   },
   {
    "duration": 11,
    "start_time": "2022-05-31T07:27:10.046Z"
   },
   {
    "duration": 11,
    "start_time": "2022-05-31T07:27:10.058Z"
   },
   {
    "duration": 20,
    "start_time": "2022-05-31T07:27:10.070Z"
   },
   {
    "duration": 4,
    "start_time": "2022-05-31T07:27:10.092Z"
   },
   {
    "duration": 9,
    "start_time": "2022-05-31T07:27:10.097Z"
   },
   {
    "duration": 26,
    "start_time": "2022-05-31T07:27:10.108Z"
   },
   {
    "duration": 8,
    "start_time": "2022-05-31T07:27:10.136Z"
   },
   {
    "duration": 3,
    "start_time": "2022-05-31T07:27:10.145Z"
   },
   {
    "duration": 2276,
    "start_time": "2022-05-31T07:27:10.150Z"
   },
   {
    "duration": 3,
    "start_time": "2022-05-31T07:27:12.428Z"
   },
   {
    "duration": 2809,
    "start_time": "2022-05-31T07:27:12.432Z"
   },
   {
    "duration": 2,
    "start_time": "2022-05-31T07:27:15.243Z"
   },
   {
    "duration": 6,
    "start_time": "2022-05-31T07:27:15.247Z"
   },
   {
    "duration": 10,
    "start_time": "2022-05-31T07:27:15.254Z"
   },
   {
    "duration": 4,
    "start_time": "2022-05-31T07:27:30.884Z"
   },
   {
    "duration": 4324142,
    "start_time": "2022-05-31T07:38:38.795Z"
   },
   {
    "duration": 24355,
    "start_time": "2022-05-31T08:54:03.955Z"
   },
   {
    "duration": 6663,
    "start_time": "2022-05-31T08:56:00.771Z"
   },
   {
    "duration": 586389,
    "start_time": "2022-05-31T08:56:18.691Z"
   },
   {
    "duration": 3,
    "start_time": "2022-05-31T09:08:41.313Z"
   },
   {
    "duration": 5,
    "start_time": "2022-05-31T09:15:22.875Z"
   },
   {
    "duration": 5,
    "start_time": "2022-05-31T09:17:01.172Z"
   },
   {
    "duration": 6,
    "start_time": "2022-05-31T09:17:25.694Z"
   },
   {
    "duration": 6,
    "start_time": "2022-05-31T09:18:04.990Z"
   },
   {
    "duration": 530926,
    "start_time": "2022-05-31T09:18:12.398Z"
   },
   {
    "duration": 253774,
    "start_time": "2022-05-31T09:35:35.284Z"
   },
   {
    "duration": 4,
    "start_time": "2022-05-31T09:59:09.155Z"
   },
   {
    "duration": 71,
    "start_time": "2022-05-31T10:00:47.001Z"
   },
   {
    "duration": 608,
    "start_time": "2022-05-31T10:03:17.321Z"
   },
   {
    "duration": 20,
    "start_time": "2022-05-31T10:03:41.817Z"
   },
   {
    "duration": 1462,
    "start_time": "2022-05-31T10:05:20.669Z"
   },
   {
    "duration": 1372,
    "start_time": "2022-05-31T10:05:31.559Z"
   },
   {
    "duration": 3,
    "start_time": "2022-05-31T10:06:57.646Z"
   },
   {
    "duration": 5,
    "start_time": "2022-05-31T10:07:21.278Z"
   },
   {
    "duration": 1190,
    "start_time": "2022-05-31T10:55:57.666Z"
   },
   {
    "duration": 1082,
    "start_time": "2022-05-31T10:56:27.671Z"
   },
   {
    "duration": 12,
    "start_time": "2022-05-31T11:00:04.522Z"
   },
   {
    "duration": 253,
    "start_time": "2022-05-31T11:00:22.175Z"
   },
   {
    "duration": 210,
    "start_time": "2022-05-31T11:00:28.323Z"
   },
   {
    "duration": 1187,
    "start_time": "2022-05-31T11:00:35.942Z"
   },
   {
    "duration": 4,
    "start_time": "2022-05-31T11:02:39.196Z"
   },
   {
    "duration": 15,
    "start_time": "2022-05-31T11:40:00.566Z"
   },
   {
    "duration": 263,
    "start_time": "2022-05-31T12:07:18.065Z"
   },
   {
    "duration": 7,
    "start_time": "2022-05-31T12:07:21.435Z"
   },
   {
    "duration": 14,
    "start_time": "2022-05-31T12:07:30.103Z"
   },
   {
    "duration": 8,
    "start_time": "2022-05-31T12:08:26.462Z"
   },
   {
    "duration": 14,
    "start_time": "2022-05-31T12:08:39.824Z"
   },
   {
    "duration": 7,
    "start_time": "2022-05-31T12:09:20.607Z"
   },
   {
    "duration": 4,
    "start_time": "2022-05-31T12:12:07.692Z"
   },
   {
    "duration": 8,
    "start_time": "2022-05-31T12:12:45.362Z"
   },
   {
    "duration": 6,
    "start_time": "2022-05-31T12:15:51.995Z"
   },
   {
    "duration": 7,
    "start_time": "2022-05-31T12:15:55.113Z"
   },
   {
    "duration": 7,
    "start_time": "2022-05-31T12:16:18.736Z"
   },
   {
    "duration": 4,
    "start_time": "2022-05-31T12:24:42.976Z"
   },
   {
    "duration": 5,
    "start_time": "2022-05-31T12:24:54.070Z"
   },
   {
    "duration": 4,
    "start_time": "2022-05-31T12:25:02.056Z"
   },
   {
    "duration": 4,
    "start_time": "2022-05-31T12:25:09.775Z"
   },
   {
    "duration": 6,
    "start_time": "2022-05-31T12:33:16.960Z"
   },
   {
    "duration": 2850,
    "start_time": "2022-05-31T12:33:16.973Z"
   },
   {
    "duration": 41,
    "start_time": "2022-05-31T12:33:19.824Z"
   },
   {
    "duration": 527,
    "start_time": "2022-05-31T12:33:19.867Z"
   },
   {
    "duration": 3,
    "start_time": "2022-05-31T12:33:20.396Z"
   },
   {
    "duration": 40,
    "start_time": "2022-05-31T12:33:20.401Z"
   },
   {
    "duration": 21,
    "start_time": "2022-05-31T12:33:20.443Z"
   },
   {
    "duration": 28,
    "start_time": "2022-05-31T12:33:20.466Z"
   },
   {
    "duration": 34,
    "start_time": "2022-05-31T12:33:20.496Z"
   },
   {
    "duration": 23,
    "start_time": "2022-05-31T12:33:20.531Z"
   },
   {
    "duration": 30,
    "start_time": "2022-05-31T12:33:20.557Z"
   },
   {
    "duration": 28,
    "start_time": "2022-05-31T12:33:20.589Z"
   },
   {
    "duration": 109,
    "start_time": "2022-05-31T12:33:20.618Z"
   },
   {
    "duration": 114,
    "start_time": "2022-05-31T12:33:20.729Z"
   },
   {
    "duration": 20,
    "start_time": "2022-05-31T12:33:20.844Z"
   },
   {
    "duration": 23,
    "start_time": "2022-05-31T12:33:20.866Z"
   },
   {
    "duration": 25,
    "start_time": "2022-05-31T12:33:20.890Z"
   },
   {
    "duration": 16,
    "start_time": "2022-05-31T12:33:20.916Z"
   },
   {
    "duration": 541,
    "start_time": "2022-05-31T12:33:20.934Z"
   },
   {
    "duration": 391,
    "start_time": "2022-05-31T12:33:21.477Z"
   },
   {
    "duration": 380,
    "start_time": "2022-05-31T12:33:21.870Z"
   },
   {
    "duration": 16,
    "start_time": "2022-05-31T12:33:22.252Z"
   },
   {
    "duration": 24,
    "start_time": "2022-05-31T12:33:22.270Z"
   },
   {
    "duration": 466,
    "start_time": "2022-05-31T12:33:22.295Z"
   },
   {
    "duration": 689,
    "start_time": "2022-05-31T12:33:22.762Z"
   },
   {
    "duration": 480,
    "start_time": "2022-05-31T12:33:23.452Z"
   },
   {
    "duration": 273,
    "start_time": "2022-05-31T12:33:23.933Z"
   },
   {
    "duration": 8,
    "start_time": "2022-05-31T12:33:24.208Z"
   },
   {
    "duration": 8,
    "start_time": "2022-05-31T12:33:24.228Z"
   },
   {
    "duration": 6,
    "start_time": "2022-05-31T12:33:24.238Z"
   },
   {
    "duration": 139,
    "start_time": "2022-05-31T12:33:24.245Z"
   },
   {
    "duration": 14,
    "start_time": "2022-05-31T12:33:24.386Z"
   },
   {
    "duration": 25,
    "start_time": "2022-05-31T12:33:24.407Z"
   },
   {
    "duration": 10,
    "start_time": "2022-05-31T12:33:24.434Z"
   },
   {
    "duration": 28,
    "start_time": "2022-05-31T12:33:24.446Z"
   },
   {
    "duration": 5,
    "start_time": "2022-05-31T12:33:24.476Z"
   },
   {
    "duration": 8,
    "start_time": "2022-05-31T12:33:24.483Z"
   },
   {
    "duration": 12,
    "start_time": "2022-05-31T12:33:24.494Z"
   },
   {
    "duration": 9,
    "start_time": "2022-05-31T12:33:24.507Z"
   },
   {
    "duration": 11,
    "start_time": "2022-05-31T12:33:24.517Z"
   },
   {
    "duration": 12,
    "start_time": "2022-05-31T12:33:24.529Z"
   },
   {
    "duration": 13,
    "start_time": "2022-05-31T12:33:24.543Z"
   },
   {
    "duration": 13,
    "start_time": "2022-05-31T12:33:24.558Z"
   },
   {
    "duration": 32,
    "start_time": "2022-05-31T12:33:24.573Z"
   },
   {
    "duration": 11,
    "start_time": "2022-05-31T12:33:24.607Z"
   },
   {
    "duration": 18,
    "start_time": "2022-05-31T12:33:24.626Z"
   },
   {
    "duration": 6,
    "start_time": "2022-05-31T12:33:24.646Z"
   },
   {
    "duration": 3,
    "start_time": "2022-05-31T12:33:24.654Z"
   },
   {
    "duration": 9,
    "start_time": "2022-05-31T12:33:24.659Z"
   },
   {
    "duration": 10,
    "start_time": "2022-05-31T12:33:24.670Z"
   },
   {
    "duration": 15,
    "start_time": "2022-05-31T12:33:24.682Z"
   },
   {
    "duration": 3,
    "start_time": "2022-05-31T12:33:24.700Z"
   },
   {
    "duration": 2431,
    "start_time": "2022-05-31T12:33:24.727Z"
   },
   {
    "duration": 3,
    "start_time": "2022-05-31T12:33:27.160Z"
   },
   {
    "duration": 2846,
    "start_time": "2022-05-31T12:33:27.164Z"
   },
   {
    "duration": 2,
    "start_time": "2022-05-31T12:33:30.012Z"
   },
   {
    "duration": 21,
    "start_time": "2022-05-31T12:33:30.015Z"
   },
   {
    "duration": 29,
    "start_time": "2022-05-31T12:33:30.038Z"
   },
   {
    "duration": 19,
    "start_time": "2022-05-31T12:33:30.069Z"
   },
   {
    "duration": 248453,
    "start_time": "2022-05-31T12:33:30.089Z"
   },
   {
    "duration": 4,
    "start_time": "2022-05-31T12:37:38.543Z"
   },
   {
    "duration": 981,
    "start_time": "2022-05-31T12:37:38.549Z"
   },
   {
    "duration": 1494,
    "start_time": "2022-05-31T12:37:39.533Z"
   },
   {
    "duration": 4,
    "start_time": "2022-05-31T12:37:41.029Z"
   },
   {
    "duration": 394,
    "start_time": "2022-05-31T12:37:41.034Z"
   },
   {
    "duration": 96,
    "start_time": "2022-05-31T12:37:41.432Z"
   },
   {
    "duration": 7,
    "start_time": "2022-05-31T12:37:41.530Z"
   },
   {
    "duration": 97,
    "start_time": "2022-05-31T12:37:41.539Z"
   },
   {
    "duration": 9,
    "start_time": "2022-05-31T12:37:41.638Z"
   },
   {
    "duration": 9,
    "start_time": "2022-05-31T12:44:46.632Z"
   },
   {
    "duration": 14,
    "start_time": "2022-05-31T12:45:01.100Z"
   },
   {
    "duration": 10,
    "start_time": "2022-05-31T18:08:31.085Z"
   },
   {
    "duration": 4,
    "start_time": "2022-05-31T18:08:38.013Z"
   },
   {
    "duration": 5,
    "start_time": "2022-05-31T18:08:38.994Z"
   },
   {
    "duration": 5,
    "start_time": "2022-05-31T18:08:40.534Z"
   },
   {
    "duration": 1526,
    "start_time": "2022-05-31T18:09:29.125Z"
   },
   {
    "duration": 3135,
    "start_time": "2022-05-31T18:09:30.654Z"
   },
   {
    "duration": 49,
    "start_time": "2022-05-31T18:09:33.792Z"
   },
   {
    "duration": 662,
    "start_time": "2022-05-31T18:09:33.844Z"
   },
   {
    "duration": 3,
    "start_time": "2022-05-31T18:09:34.508Z"
   },
   {
    "duration": 15,
    "start_time": "2022-05-31T18:09:34.512Z"
   },
   {
    "duration": 12,
    "start_time": "2022-05-31T18:09:34.529Z"
   },
   {
    "duration": 10,
    "start_time": "2022-05-31T18:09:34.542Z"
   },
   {
    "duration": 11,
    "start_time": "2022-05-31T18:09:34.554Z"
   },
   {
    "duration": 13,
    "start_time": "2022-05-31T18:09:34.568Z"
   },
   {
    "duration": 12,
    "start_time": "2022-05-31T18:09:34.584Z"
   },
   {
    "duration": 10,
    "start_time": "2022-05-31T18:09:34.598Z"
   },
   {
    "duration": 118,
    "start_time": "2022-05-31T18:09:34.610Z"
   },
   {
    "duration": 127,
    "start_time": "2022-05-31T18:09:34.729Z"
   },
   {
    "duration": 20,
    "start_time": "2022-05-31T18:09:34.857Z"
   },
   {
    "duration": 7,
    "start_time": "2022-05-31T18:09:34.879Z"
   },
   {
    "duration": 8,
    "start_time": "2022-05-31T18:09:34.888Z"
   },
   {
    "duration": 31,
    "start_time": "2022-05-31T18:09:34.898Z"
   },
   {
    "duration": 402,
    "start_time": "2022-05-31T18:09:34.931Z"
   },
   {
    "duration": 399,
    "start_time": "2022-05-31T18:09:35.334Z"
   },
   {
    "duration": 482,
    "start_time": "2022-05-31T18:09:35.735Z"
   },
   {
    "duration": 28,
    "start_time": "2022-05-31T18:09:36.219Z"
   },
   {
    "duration": 9,
    "start_time": "2022-05-31T18:09:36.249Z"
   },
   {
    "duration": 483,
    "start_time": "2022-05-31T18:09:36.259Z"
   },
   {
    "duration": 511,
    "start_time": "2022-05-31T18:09:36.743Z"
   },
   {
    "duration": 501,
    "start_time": "2022-05-31T18:09:37.256Z"
   },
   {
    "duration": 428,
    "start_time": "2022-05-31T18:09:37.758Z"
   },
   {
    "duration": 9,
    "start_time": "2022-05-31T18:09:38.191Z"
   },
   {
    "duration": 27,
    "start_time": "2022-05-31T18:09:38.202Z"
   },
   {
    "duration": 7,
    "start_time": "2022-05-31T18:09:38.231Z"
   },
   {
    "duration": 129,
    "start_time": "2022-05-31T18:09:38.240Z"
   },
   {
    "duration": 17,
    "start_time": "2022-05-31T18:09:38.371Z"
   },
   {
    "duration": 19,
    "start_time": "2022-05-31T18:09:38.390Z"
   },
   {
    "duration": 14,
    "start_time": "2022-05-31T18:09:38.411Z"
   },
   {
    "duration": 46,
    "start_time": "2022-05-31T18:09:38.426Z"
   },
   {
    "duration": 5,
    "start_time": "2022-05-31T18:09:38.473Z"
   },
   {
    "duration": 20,
    "start_time": "2022-05-31T18:09:38.480Z"
   },
   {
    "duration": 23,
    "start_time": "2022-05-31T18:09:38.502Z"
   },
   {
    "duration": 9,
    "start_time": "2022-05-31T18:09:38.527Z"
   },
   {
    "duration": 11,
    "start_time": "2022-05-31T18:09:38.537Z"
   },
   {
    "duration": 18,
    "start_time": "2022-05-31T18:09:38.550Z"
   },
   {
    "duration": 16,
    "start_time": "2022-05-31T18:09:38.570Z"
   },
   {
    "duration": 20,
    "start_time": "2022-05-31T18:09:38.588Z"
   },
   {
    "duration": 56,
    "start_time": "2022-05-31T18:09:38.610Z"
   },
   {
    "duration": 12,
    "start_time": "2022-05-31T18:09:38.669Z"
   },
   {
    "duration": 43,
    "start_time": "2022-05-31T18:09:38.682Z"
   },
   {
    "duration": 16,
    "start_time": "2022-05-31T18:09:38.726Z"
   },
   {
    "duration": 18,
    "start_time": "2022-05-31T18:09:38.743Z"
   },
   {
    "duration": 10,
    "start_time": "2022-05-31T18:09:38.762Z"
   },
   {
    "duration": 34,
    "start_time": "2022-05-31T18:09:38.774Z"
   },
   {
    "duration": 22,
    "start_time": "2022-05-31T18:09:38.810Z"
   },
   {
    "duration": 14,
    "start_time": "2022-05-31T18:09:38.834Z"
   },
   {
    "duration": 2532,
    "start_time": "2022-05-31T18:09:38.850Z"
   },
   {
    "duration": 2,
    "start_time": "2022-05-31T18:09:41.384Z"
   },
   {
    "duration": 2987,
    "start_time": "2022-05-31T18:09:41.388Z"
   },
   {
    "duration": 7,
    "start_time": "2022-05-31T18:09:44.377Z"
   },
   {
    "duration": 28,
    "start_time": "2022-05-31T18:09:44.386Z"
   },
   {
    "duration": 9,
    "start_time": "2022-05-31T18:09:44.416Z"
   },
   {
    "duration": 22,
    "start_time": "2022-05-31T18:09:44.427Z"
   },
   {
    "duration": 22,
    "start_time": "2022-05-31T18:09:44.451Z"
   },
   {
    "duration": 171,
    "start_time": "2022-05-31T18:09:44.474Z"
   },
   {
    "duration": 0,
    "start_time": "2022-05-31T18:09:44.646Z"
   },
   {
    "duration": 0,
    "start_time": "2022-05-31T18:09:44.648Z"
   },
   {
    "duration": 0,
    "start_time": "2022-05-31T18:09:44.650Z"
   },
   {
    "duration": 0,
    "start_time": "2022-05-31T18:09:44.651Z"
   },
   {
    "duration": 0,
    "start_time": "2022-05-31T18:09:44.653Z"
   },
   {
    "duration": 0,
    "start_time": "2022-05-31T18:09:44.655Z"
   },
   {
    "duration": 0,
    "start_time": "2022-05-31T18:09:44.656Z"
   },
   {
    "duration": 0,
    "start_time": "2022-05-31T18:09:44.657Z"
   },
   {
    "duration": 4,
    "start_time": "2022-05-31T18:11:03.003Z"
   },
   {
    "duration": 737,
    "start_time": "2022-05-31T18:11:03.011Z"
   },
   {
    "duration": 37,
    "start_time": "2022-05-31T18:11:03.750Z"
   },
   {
    "duration": 493,
    "start_time": "2022-05-31T18:11:03.788Z"
   },
   {
    "duration": 3,
    "start_time": "2022-05-31T18:11:04.283Z"
   },
   {
    "duration": 11,
    "start_time": "2022-05-31T18:11:04.288Z"
   },
   {
    "duration": 7,
    "start_time": "2022-05-31T18:11:04.300Z"
   },
   {
    "duration": 21,
    "start_time": "2022-05-31T18:11:04.309Z"
   },
   {
    "duration": 15,
    "start_time": "2022-05-31T18:11:04.331Z"
   },
   {
    "duration": 16,
    "start_time": "2022-05-31T18:11:04.347Z"
   },
   {
    "duration": 14,
    "start_time": "2022-05-31T18:11:04.366Z"
   },
   {
    "duration": 9,
    "start_time": "2022-05-31T18:11:04.381Z"
   },
   {
    "duration": 120,
    "start_time": "2022-05-31T18:11:04.392Z"
   },
   {
    "duration": 147,
    "start_time": "2022-05-31T18:11:04.513Z"
   },
   {
    "duration": 27,
    "start_time": "2022-05-31T18:11:04.662Z"
   },
   {
    "duration": 10,
    "start_time": "2022-05-31T18:11:04.692Z"
   },
   {
    "duration": 28,
    "start_time": "2022-05-31T18:11:04.703Z"
   },
   {
    "duration": 6,
    "start_time": "2022-05-31T18:11:04.732Z"
   },
   {
    "duration": 393,
    "start_time": "2022-05-31T18:11:04.740Z"
   },
   {
    "duration": 397,
    "start_time": "2022-05-31T18:11:05.135Z"
   },
   {
    "duration": 532,
    "start_time": "2022-05-31T18:11:05.533Z"
   },
   {
    "duration": 19,
    "start_time": "2022-05-31T18:11:06.066Z"
   },
   {
    "duration": 22,
    "start_time": "2022-05-31T18:11:06.086Z"
   },
   {
    "duration": 456,
    "start_time": "2022-05-31T18:11:06.110Z"
   },
   {
    "duration": 513,
    "start_time": "2022-05-31T18:11:06.568Z"
   },
   {
    "duration": 642,
    "start_time": "2022-05-31T18:11:07.083Z"
   },
   {
    "duration": 302,
    "start_time": "2022-05-31T18:11:07.727Z"
   },
   {
    "duration": 9,
    "start_time": "2022-05-31T18:11:08.031Z"
   },
   {
    "duration": 22,
    "start_time": "2022-05-31T18:11:08.044Z"
   },
   {
    "duration": 10,
    "start_time": "2022-05-31T18:11:08.068Z"
   },
   {
    "duration": 130,
    "start_time": "2022-05-31T18:11:08.079Z"
   },
   {
    "duration": 26,
    "start_time": "2022-05-31T18:11:08.212Z"
   },
   {
    "duration": 10,
    "start_time": "2022-05-31T18:11:08.240Z"
   },
   {
    "duration": 6,
    "start_time": "2022-05-31T18:11:08.252Z"
   },
   {
    "duration": 24,
    "start_time": "2022-05-31T18:11:08.260Z"
   },
   {
    "duration": 5,
    "start_time": "2022-05-31T18:11:08.286Z"
   },
   {
    "duration": 34,
    "start_time": "2022-05-31T18:11:08.292Z"
   },
   {
    "duration": 13,
    "start_time": "2022-05-31T18:11:08.328Z"
   },
   {
    "duration": 19,
    "start_time": "2022-05-31T18:11:08.342Z"
   },
   {
    "duration": 11,
    "start_time": "2022-05-31T18:11:08.362Z"
   },
   {
    "duration": 11,
    "start_time": "2022-05-31T18:11:08.375Z"
   },
   {
    "duration": 10,
    "start_time": "2022-05-31T18:11:08.388Z"
   },
   {
    "duration": 17,
    "start_time": "2022-05-31T18:11:08.400Z"
   },
   {
    "duration": 25,
    "start_time": "2022-05-31T18:11:08.418Z"
   },
   {
    "duration": 10,
    "start_time": "2022-05-31T18:11:08.445Z"
   },
   {
    "duration": 12,
    "start_time": "2022-05-31T18:11:08.459Z"
   },
   {
    "duration": 6,
    "start_time": "2022-05-31T18:11:08.472Z"
   },
   {
    "duration": 8,
    "start_time": "2022-05-31T18:11:08.480Z"
   },
   {
    "duration": 37,
    "start_time": "2022-05-31T18:11:08.490Z"
   },
   {
    "duration": 10,
    "start_time": "2022-05-31T18:11:08.529Z"
   },
   {
    "duration": 7,
    "start_time": "2022-05-31T18:11:08.540Z"
   },
   {
    "duration": 3,
    "start_time": "2022-05-31T18:11:08.549Z"
   },
   {
    "duration": 2585,
    "start_time": "2022-05-31T18:11:08.554Z"
   },
   {
    "duration": 3,
    "start_time": "2022-05-31T18:11:11.140Z"
   },
   {
    "duration": 3073,
    "start_time": "2022-05-31T18:11:11.145Z"
   },
   {
    "duration": 3,
    "start_time": "2022-05-31T18:11:14.225Z"
   },
   {
    "duration": 9,
    "start_time": "2022-05-31T18:11:14.229Z"
   },
   {
    "duration": 21,
    "start_time": "2022-05-31T18:11:14.239Z"
   },
   {
    "duration": 9,
    "start_time": "2022-05-31T18:11:14.262Z"
   },
   {
    "duration": 6,
    "start_time": "2022-05-31T18:11:14.272Z"
   },
   {
    "duration": 12,
    "start_time": "2022-05-31T18:11:14.280Z"
   },
   {
    "duration": 744,
    "start_time": "2022-05-31T18:11:14.294Z"
   },
   {
    "duration": 1710,
    "start_time": "2022-05-31T18:11:15.126Z"
   },
   {
    "duration": 91,
    "start_time": "2022-05-31T18:11:16.838Z"
   },
   {
    "duration": 204,
    "start_time": "2022-05-31T18:11:16.931Z"
   },
   {
    "duration": 94,
    "start_time": "2022-05-31T18:11:17.137Z"
   },
   {
    "duration": 103,
    "start_time": "2022-05-31T18:11:17.233Z"
   },
   {
    "duration": 90,
    "start_time": "2022-05-31T18:11:17.338Z"
   },
   {
    "duration": 10,
    "start_time": "2022-05-31T18:11:17.430Z"
   },
   {
    "duration": 1747,
    "start_time": "2022-05-31T18:13:08.960Z"
   },
   {
    "duration": 5,
    "start_time": "2022-05-31T18:13:36.167Z"
   },
   {
    "duration": 8,
    "start_time": "2022-05-31T18:13:52.172Z"
   },
   {
    "duration": 72,
    "start_time": "2022-06-01T07:15:27.667Z"
   },
   {
    "duration": 1623,
    "start_time": "2022-06-01T07:15:35.573Z"
   },
   {
    "duration": 2996,
    "start_time": "2022-06-01T07:15:37.200Z"
   },
   {
    "duration": 61,
    "start_time": "2022-06-01T07:15:40.199Z"
   },
   {
    "duration": 700,
    "start_time": "2022-06-01T07:15:40.263Z"
   },
   {
    "duration": 3,
    "start_time": "2022-06-01T07:15:40.966Z"
   },
   {
    "duration": 37,
    "start_time": "2022-06-01T07:15:40.971Z"
   },
   {
    "duration": 7,
    "start_time": "2022-06-01T07:15:41.016Z"
   },
   {
    "duration": 17,
    "start_time": "2022-06-01T07:15:41.026Z"
   },
   {
    "duration": 17,
    "start_time": "2022-06-01T07:15:41.045Z"
   },
   {
    "duration": 9,
    "start_time": "2022-06-01T07:15:41.065Z"
   },
   {
    "duration": 13,
    "start_time": "2022-06-01T07:15:41.076Z"
   },
   {
    "duration": 22,
    "start_time": "2022-06-01T07:15:41.091Z"
   },
   {
    "duration": 146,
    "start_time": "2022-06-01T07:15:41.115Z"
   },
   {
    "duration": 148,
    "start_time": "2022-06-01T07:15:41.263Z"
   },
   {
    "duration": 29,
    "start_time": "2022-06-01T07:15:41.413Z"
   },
   {
    "duration": 9,
    "start_time": "2022-06-01T07:15:41.444Z"
   },
   {
    "duration": 7,
    "start_time": "2022-06-01T07:15:41.455Z"
   },
   {
    "duration": 10,
    "start_time": "2022-06-01T07:15:41.464Z"
   },
   {
    "duration": 514,
    "start_time": "2022-06-01T07:15:41.475Z"
   },
   {
    "duration": 444,
    "start_time": "2022-06-01T07:15:41.991Z"
   },
   {
    "duration": 562,
    "start_time": "2022-06-01T07:15:42.437Z"
   },
   {
    "duration": 30,
    "start_time": "2022-06-01T07:15:43.001Z"
   },
   {
    "duration": 10,
    "start_time": "2022-06-01T07:15:43.033Z"
   },
   {
    "duration": 489,
    "start_time": "2022-06-01T07:15:43.045Z"
   },
   {
    "duration": 536,
    "start_time": "2022-06-01T07:15:43.536Z"
   },
   {
    "duration": 505,
    "start_time": "2022-06-01T07:15:44.075Z"
   },
   {
    "duration": 500,
    "start_time": "2022-06-01T07:15:44.582Z"
   },
   {
    "duration": 12,
    "start_time": "2022-06-01T07:15:45.087Z"
   },
   {
    "duration": 28,
    "start_time": "2022-06-01T07:15:45.101Z"
   },
   {
    "duration": 7,
    "start_time": "2022-06-01T07:15:45.131Z"
   },
   {
    "duration": 148,
    "start_time": "2022-06-01T07:15:45.139Z"
   },
   {
    "duration": 18,
    "start_time": "2022-06-01T07:15:45.288Z"
   },
   {
    "duration": 24,
    "start_time": "2022-06-01T07:15:45.308Z"
   },
   {
    "duration": 6,
    "start_time": "2022-06-01T07:15:45.335Z"
   },
   {
    "duration": 27,
    "start_time": "2022-06-01T07:15:45.343Z"
   },
   {
    "duration": 6,
    "start_time": "2022-06-01T07:15:45.372Z"
   },
   {
    "duration": 12,
    "start_time": "2022-06-01T07:15:45.380Z"
   },
   {
    "duration": 32,
    "start_time": "2022-06-01T07:15:45.394Z"
   },
   {
    "duration": 7,
    "start_time": "2022-06-01T07:15:45.428Z"
   },
   {
    "duration": 10,
    "start_time": "2022-06-01T07:15:45.438Z"
   },
   {
    "duration": 17,
    "start_time": "2022-06-01T07:15:45.450Z"
   },
   {
    "duration": 24,
    "start_time": "2022-06-01T07:15:45.469Z"
   },
   {
    "duration": 10,
    "start_time": "2022-06-01T07:15:45.496Z"
   },
   {
    "duration": 28,
    "start_time": "2022-06-01T07:15:45.508Z"
   },
   {
    "duration": 12,
    "start_time": "2022-06-01T07:15:45.539Z"
   },
   {
    "duration": 11,
    "start_time": "2022-06-01T07:15:45.553Z"
   },
   {
    "duration": 9,
    "start_time": "2022-06-01T07:15:45.566Z"
   },
   {
    "duration": 7,
    "start_time": "2022-06-01T07:15:45.576Z"
   },
   {
    "duration": 20,
    "start_time": "2022-06-01T07:15:45.584Z"
   },
   {
    "duration": 55,
    "start_time": "2022-06-01T07:15:45.606Z"
   },
   {
    "duration": 20,
    "start_time": "2022-06-01T07:15:45.664Z"
   },
   {
    "duration": 8,
    "start_time": "2022-06-01T07:15:45.686Z"
   },
   {
    "duration": 2405,
    "start_time": "2022-06-01T07:15:45.696Z"
   },
   {
    "duration": 2,
    "start_time": "2022-06-01T07:15:48.103Z"
   },
   {
    "duration": 2871,
    "start_time": "2022-06-01T07:15:48.108Z"
   },
   {
    "duration": 2,
    "start_time": "2022-06-01T07:15:50.981Z"
   },
   {
    "duration": 9,
    "start_time": "2022-06-01T07:15:50.985Z"
   },
   {
    "duration": 17,
    "start_time": "2022-06-01T07:15:50.996Z"
   },
   {
    "duration": 19,
    "start_time": "2022-06-01T07:15:51.015Z"
   },
   {
    "duration": 8,
    "start_time": "2022-06-01T07:15:51.036Z"
   },
   {
    "duration": 19,
    "start_time": "2022-06-01T07:15:51.046Z"
   },
   {
    "duration": 766,
    "start_time": "2022-06-01T07:15:51.068Z"
   },
   {
    "duration": 1495,
    "start_time": "2022-06-01T07:15:51.836Z"
   },
   {
    "duration": 92,
    "start_time": "2022-06-01T07:15:53.333Z"
   },
   {
    "duration": 1696,
    "start_time": "2022-06-01T07:15:53.431Z"
   },
   {
    "duration": 6,
    "start_time": "2022-06-01T07:15:55.128Z"
   },
   {
    "duration": 16,
    "start_time": "2022-06-01T07:15:55.136Z"
   },
   {
    "duration": 9,
    "start_time": "2022-06-01T07:15:55.154Z"
   },
   {
    "duration": 15,
    "start_time": "2022-06-01T07:15:55.165Z"
   },
   {
    "duration": 20,
    "start_time": "2022-06-01T07:15:55.182Z"
   },
   {
    "duration": 3,
    "start_time": "2022-06-01T07:16:40.101Z"
   },
   {
    "duration": 9,
    "start_time": "2022-06-01T07:19:29.523Z"
   },
   {
    "duration": 4,
    "start_time": "2022-06-01T07:21:21.399Z"
   },
   {
    "duration": 6,
    "start_time": "2022-06-01T07:21:59.474Z"
   },
   {
    "duration": 13,
    "start_time": "2022-06-01T08:50:20.720Z"
   },
   {
    "duration": 130,
    "start_time": "2022-06-01T08:50:33.559Z"
   },
   {
    "duration": 148,
    "start_time": "2022-06-01T08:50:40.305Z"
   },
   {
    "duration": 135,
    "start_time": "2022-06-01T08:50:51.425Z"
   },
   {
    "duration": 5,
    "start_time": "2022-06-01T08:51:09.474Z"
   },
   {
    "duration": 135,
    "start_time": "2022-06-01T08:51:15.155Z"
   },
   {
    "duration": 3,
    "start_time": "2022-06-01T09:19:41.303Z"
   },
   {
    "duration": 5,
    "start_time": "2022-06-01T09:20:56.477Z"
   },
   {
    "duration": 3,
    "start_time": "2022-06-01T09:21:11.217Z"
   },
   {
    "duration": 5,
    "start_time": "2022-06-01T09:22:27.801Z"
   },
   {
    "duration": 4,
    "start_time": "2022-06-01T09:22:50.880Z"
   },
   {
    "duration": 5,
    "start_time": "2022-06-01T09:23:16.371Z"
   },
   {
    "duration": 4,
    "start_time": "2022-06-01T09:23:17.059Z"
   },
   {
    "duration": 5,
    "start_time": "2022-06-01T09:24:08.262Z"
   },
   {
    "duration": 769,
    "start_time": "2022-06-01T09:24:08.268Z"
   },
   {
    "duration": 41,
    "start_time": "2022-06-01T09:24:09.043Z"
   },
   {
    "duration": 546,
    "start_time": "2022-06-01T09:24:09.087Z"
   },
   {
    "duration": 6,
    "start_time": "2022-06-01T09:24:09.635Z"
   },
   {
    "duration": 16,
    "start_time": "2022-06-01T09:24:09.643Z"
   },
   {
    "duration": 5,
    "start_time": "2022-06-01T09:24:09.661Z"
   },
   {
    "duration": 9,
    "start_time": "2022-06-01T09:24:09.668Z"
   },
   {
    "duration": 8,
    "start_time": "2022-06-01T09:24:09.679Z"
   },
   {
    "duration": 9,
    "start_time": "2022-06-01T09:24:09.688Z"
   },
   {
    "duration": 6,
    "start_time": "2022-06-01T09:24:09.700Z"
   },
   {
    "duration": 20,
    "start_time": "2022-06-01T09:24:09.707Z"
   },
   {
    "duration": 120,
    "start_time": "2022-06-01T09:24:09.729Z"
   },
   {
    "duration": 119,
    "start_time": "2022-06-01T09:24:09.851Z"
   },
   {
    "duration": 20,
    "start_time": "2022-06-01T09:24:09.972Z"
   },
   {
    "duration": 8,
    "start_time": "2022-06-01T09:24:09.994Z"
   },
   {
    "duration": 31,
    "start_time": "2022-06-01T09:24:10.004Z"
   },
   {
    "duration": 12,
    "start_time": "2022-06-01T09:24:10.037Z"
   },
   {
    "duration": 568,
    "start_time": "2022-06-01T09:24:10.051Z"
   },
   {
    "duration": 423,
    "start_time": "2022-06-01T09:24:10.621Z"
   },
   {
    "duration": 408,
    "start_time": "2022-06-01T09:24:11.047Z"
   },
   {
    "duration": 22,
    "start_time": "2022-06-01T09:24:11.457Z"
   },
   {
    "duration": 9,
    "start_time": "2022-06-01T09:24:11.481Z"
   },
   {
    "duration": 506,
    "start_time": "2022-06-01T09:24:11.492Z"
   },
   {
    "duration": 751,
    "start_time": "2022-06-01T09:24:11.999Z"
   },
   {
    "duration": 506,
    "start_time": "2022-06-01T09:24:12.752Z"
   },
   {
    "duration": 297,
    "start_time": "2022-06-01T09:24:13.260Z"
   },
   {
    "duration": 9,
    "start_time": "2022-06-01T09:24:13.559Z"
   },
   {
    "duration": 7,
    "start_time": "2022-06-01T09:24:13.573Z"
   },
   {
    "duration": 14,
    "start_time": "2022-06-01T09:24:13.582Z"
   },
   {
    "duration": 146,
    "start_time": "2022-06-01T09:24:13.598Z"
   },
   {
    "duration": 16,
    "start_time": "2022-06-01T09:24:13.746Z"
   },
   {
    "duration": 9,
    "start_time": "2022-06-01T09:24:13.764Z"
   },
   {
    "duration": 10,
    "start_time": "2022-06-01T09:24:13.775Z"
   },
   {
    "duration": 54,
    "start_time": "2022-06-01T09:24:13.787Z"
   },
   {
    "duration": 5,
    "start_time": "2022-06-01T09:24:13.843Z"
   },
   {
    "duration": 11,
    "start_time": "2022-06-01T09:24:13.849Z"
   },
   {
    "duration": 14,
    "start_time": "2022-06-01T09:24:13.862Z"
   },
   {
    "duration": 21,
    "start_time": "2022-06-01T09:24:13.878Z"
   },
   {
    "duration": 10,
    "start_time": "2022-06-01T09:24:13.901Z"
   },
   {
    "duration": 11,
    "start_time": "2022-06-01T09:24:13.913Z"
   },
   {
    "duration": 28,
    "start_time": "2022-06-01T09:24:13.926Z"
   },
   {
    "duration": 9,
    "start_time": "2022-06-01T09:24:13.956Z"
   },
   {
    "duration": 28,
    "start_time": "2022-06-01T09:24:13.967Z"
   },
   {
    "duration": 10,
    "start_time": "2022-06-01T09:24:13.997Z"
   },
   {
    "duration": 10,
    "start_time": "2022-06-01T09:24:14.009Z"
   },
   {
    "duration": 23,
    "start_time": "2022-06-01T09:24:14.025Z"
   },
   {
    "duration": 4,
    "start_time": "2022-06-01T09:24:14.049Z"
   },
   {
    "duration": 9,
    "start_time": "2022-06-01T09:24:14.055Z"
   },
   {
    "duration": 10,
    "start_time": "2022-06-01T09:24:14.066Z"
   },
   {
    "duration": 8,
    "start_time": "2022-06-01T09:24:14.078Z"
   },
   {
    "duration": 9,
    "start_time": "2022-06-01T09:24:14.088Z"
   },
   {
    "duration": 2405,
    "start_time": "2022-06-01T09:24:14.099Z"
   },
   {
    "duration": 2,
    "start_time": "2022-06-01T09:24:16.506Z"
   },
   {
    "duration": 3127,
    "start_time": "2022-06-01T09:24:16.510Z"
   },
   {
    "duration": 3,
    "start_time": "2022-06-01T09:24:19.641Z"
   },
   {
    "duration": 7,
    "start_time": "2022-06-01T09:24:19.645Z"
   },
   {
    "duration": 5,
    "start_time": "2022-06-01T09:24:19.654Z"
   },
   {
    "duration": 8,
    "start_time": "2022-06-01T09:24:19.660Z"
   },
   {
    "duration": 6,
    "start_time": "2022-06-01T09:24:19.669Z"
   },
   {
    "duration": 14,
    "start_time": "2022-06-01T09:24:19.677Z"
   },
   {
    "duration": 836,
    "start_time": "2022-06-01T09:24:19.692Z"
   },
   {
    "duration": 2409,
    "start_time": "2022-06-01T09:24:20.532Z"
   },
   {
    "duration": 88,
    "start_time": "2022-06-01T09:24:22.945Z"
   },
   {
    "duration": 1712,
    "start_time": "2022-06-01T09:24:23.041Z"
   },
   {
    "duration": 5,
    "start_time": "2022-06-01T09:24:24.755Z"
   },
   {
    "duration": 8,
    "start_time": "2022-06-01T09:24:24.762Z"
   },
   {
    "duration": 7,
    "start_time": "2022-06-01T09:24:24.771Z"
   },
   {
    "duration": 133,
    "start_time": "2022-06-01T09:24:24.780Z"
   },
   {
    "duration": 3,
    "start_time": "2022-06-01T09:24:24.914Z"
   },
   {
    "duration": 14,
    "start_time": "2022-06-01T09:24:24.925Z"
   },
   {
    "duration": 9,
    "start_time": "2022-06-01T09:24:24.943Z"
   },
   {
    "duration": 8,
    "start_time": "2022-06-01T09:24:24.954Z"
   },
   {
    "duration": 5,
    "start_time": "2022-06-01T09:24:24.963Z"
   },
   {
    "duration": 6,
    "start_time": "2022-06-01T09:24:24.970Z"
   },
   {
    "duration": 7,
    "start_time": "2022-06-01T09:24:24.978Z"
   },
   {
    "duration": 83,
    "start_time": "2022-06-01T09:24:24.986Z"
   },
   {
    "duration": 4,
    "start_time": "2022-06-01T10:41:51.256Z"
   },
   {
    "duration": 871,
    "start_time": "2022-06-01T10:41:51.264Z"
   },
   {
    "duration": 50,
    "start_time": "2022-06-01T10:41:52.141Z"
   },
   {
    "duration": 569,
    "start_time": "2022-06-01T10:41:52.193Z"
   },
   {
    "duration": 3,
    "start_time": "2022-06-01T10:41:52.765Z"
   },
   {
    "duration": 18,
    "start_time": "2022-06-01T10:41:52.769Z"
   },
   {
    "duration": 6,
    "start_time": "2022-06-01T10:41:52.789Z"
   },
   {
    "duration": 7,
    "start_time": "2022-06-01T10:41:52.797Z"
   },
   {
    "duration": 21,
    "start_time": "2022-06-01T10:41:52.806Z"
   },
   {
    "duration": 6,
    "start_time": "2022-06-01T10:41:52.828Z"
   },
   {
    "duration": 29,
    "start_time": "2022-06-01T10:41:52.837Z"
   },
   {
    "duration": 7,
    "start_time": "2022-06-01T10:41:52.868Z"
   },
   {
    "duration": 112,
    "start_time": "2022-06-01T10:41:52.877Z"
   },
   {
    "duration": 132,
    "start_time": "2022-06-01T10:41:52.991Z"
   },
   {
    "duration": 40,
    "start_time": "2022-06-01T10:41:53.125Z"
   },
   {
    "duration": 14,
    "start_time": "2022-06-01T10:41:53.167Z"
   },
   {
    "duration": 8,
    "start_time": "2022-06-01T10:41:53.183Z"
   },
   {
    "duration": 6,
    "start_time": "2022-06-01T10:41:53.193Z"
   },
   {
    "duration": 640,
    "start_time": "2022-06-01T10:41:53.201Z"
   },
   {
    "duration": 473,
    "start_time": "2022-06-01T10:41:53.843Z"
   },
   {
    "duration": 466,
    "start_time": "2022-06-01T10:41:54.318Z"
   },
   {
    "duration": 21,
    "start_time": "2022-06-01T10:41:54.786Z"
   },
   {
    "duration": 32,
    "start_time": "2022-06-01T10:41:54.809Z"
   },
   {
    "duration": 523,
    "start_time": "2022-06-01T10:41:54.846Z"
   },
   {
    "duration": 830,
    "start_time": "2022-06-01T10:41:55.371Z"
   },
   {
    "duration": 570,
    "start_time": "2022-06-01T10:41:56.203Z"
   },
   {
    "duration": 380,
    "start_time": "2022-06-01T10:41:56.774Z"
   },
   {
    "duration": 9,
    "start_time": "2022-06-01T10:41:57.156Z"
   },
   {
    "duration": 7,
    "start_time": "2022-06-01T10:41:57.169Z"
   },
   {
    "duration": 78,
    "start_time": "2022-06-01T10:41:57.177Z"
   },
   {
    "duration": 268,
    "start_time": "2022-06-01T10:41:57.258Z"
   },
   {
    "duration": 18,
    "start_time": "2022-06-01T10:41:57.528Z"
   },
   {
    "duration": 22,
    "start_time": "2022-06-01T10:41:57.548Z"
   },
   {
    "duration": 5,
    "start_time": "2022-06-01T10:41:57.572Z"
   },
   {
    "duration": 63,
    "start_time": "2022-06-01T10:41:57.579Z"
   },
   {
    "duration": 6,
    "start_time": "2022-06-01T10:41:57.647Z"
   },
   {
    "duration": 15,
    "start_time": "2022-06-01T10:41:57.655Z"
   },
   {
    "duration": 11,
    "start_time": "2022-06-01T10:41:57.671Z"
   },
   {
    "duration": 48,
    "start_time": "2022-06-01T10:41:57.684Z"
   },
   {
    "duration": 32,
    "start_time": "2022-06-01T10:41:57.734Z"
   },
   {
    "duration": 7,
    "start_time": "2022-06-01T10:41:57.769Z"
   },
   {
    "duration": 9,
    "start_time": "2022-06-01T10:41:57.777Z"
   },
   {
    "duration": 42,
    "start_time": "2022-06-01T10:41:57.788Z"
   },
   {
    "duration": 54,
    "start_time": "2022-06-01T10:41:57.832Z"
   },
   {
    "duration": 12,
    "start_time": "2022-06-01T10:41:57.887Z"
   },
   {
    "duration": 11,
    "start_time": "2022-06-01T10:41:57.902Z"
   },
   {
    "duration": 13,
    "start_time": "2022-06-01T10:41:57.915Z"
   },
   {
    "duration": 22,
    "start_time": "2022-06-01T10:41:57.932Z"
   },
   {
    "duration": 14,
    "start_time": "2022-06-01T10:41:57.961Z"
   },
   {
    "duration": 8,
    "start_time": "2022-06-01T10:41:57.977Z"
   },
   {
    "duration": 6,
    "start_time": "2022-06-01T10:41:57.987Z"
   },
   {
    "duration": 5,
    "start_time": "2022-06-01T10:41:57.994Z"
   },
   {
    "duration": 2489,
    "start_time": "2022-06-01T10:41:58.000Z"
   },
   {
    "duration": 2,
    "start_time": "2022-06-01T10:42:00.492Z"
   },
   {
    "duration": 3224,
    "start_time": "2022-06-01T10:42:00.496Z"
   },
   {
    "duration": 15,
    "start_time": "2022-06-01T10:42:03.721Z"
   },
   {
    "duration": 24,
    "start_time": "2022-06-01T10:42:03.740Z"
   },
   {
    "duration": 10,
    "start_time": "2022-06-01T10:42:03.766Z"
   },
   {
    "duration": 23,
    "start_time": "2022-06-01T10:42:03.777Z"
   },
   {
    "duration": 5,
    "start_time": "2022-06-01T10:42:03.802Z"
   },
   {
    "duration": 6,
    "start_time": "2022-06-01T10:42:03.809Z"
   },
   {
    "duration": 1030,
    "start_time": "2022-06-01T10:42:03.816Z"
   },
   {
    "duration": 2304,
    "start_time": "2022-06-01T10:42:04.860Z"
   },
   {
    "duration": 11,
    "start_time": "2022-06-01T10:42:07.228Z"
   },
   {
    "duration": 1760,
    "start_time": "2022-06-01T10:42:07.242Z"
   },
   {
    "duration": 6,
    "start_time": "2022-06-01T10:42:09.003Z"
   },
   {
    "duration": 47,
    "start_time": "2022-06-01T10:42:09.011Z"
   },
   {
    "duration": 8,
    "start_time": "2022-06-01T10:42:09.060Z"
   },
   {
    "duration": 142,
    "start_time": "2022-06-01T10:42:09.069Z"
   },
   {
    "duration": 3,
    "start_time": "2022-06-01T10:42:09.213Z"
   },
   {
    "duration": 28,
    "start_time": "2022-06-01T10:42:09.225Z"
   },
   {
    "duration": 17,
    "start_time": "2022-06-01T10:42:09.256Z"
   },
   {
    "duration": 11,
    "start_time": "2022-06-01T10:42:09.275Z"
   },
   {
    "duration": 7,
    "start_time": "2022-06-01T10:42:09.288Z"
   },
   {
    "duration": 14,
    "start_time": "2022-06-01T10:42:09.296Z"
   },
   {
    "duration": 8,
    "start_time": "2022-06-01T10:42:09.311Z"
   },
   {
    "duration": 39,
    "start_time": "2022-06-01T10:42:09.320Z"
   },
   {
    "duration": 10,
    "start_time": "2022-06-01T10:58:24.351Z"
   },
   {
    "duration": 4,
    "start_time": "2022-06-01T10:58:39.803Z"
   },
   {
    "duration": 5,
    "start_time": "2022-06-01T10:59:01.272Z"
   },
   {
    "duration": 4,
    "start_time": "2022-06-01T11:00:04.059Z"
   },
   {
    "duration": 7,
    "start_time": "2022-06-01T11:00:40.635Z"
   },
   {
    "duration": 860,
    "start_time": "2022-06-01T11:00:40.648Z"
   },
   {
    "duration": 57,
    "start_time": "2022-06-01T11:00:41.511Z"
   },
   {
    "duration": 579,
    "start_time": "2022-06-01T11:00:41.570Z"
   },
   {
    "duration": 3,
    "start_time": "2022-06-01T11:00:42.153Z"
   },
   {
    "duration": 28,
    "start_time": "2022-06-01T11:00:42.158Z"
   },
   {
    "duration": 11,
    "start_time": "2022-06-01T11:00:42.189Z"
   },
   {
    "duration": 12,
    "start_time": "2022-06-01T11:00:42.201Z"
   },
   {
    "duration": 9,
    "start_time": "2022-06-01T11:00:42.215Z"
   },
   {
    "duration": 19,
    "start_time": "2022-06-01T11:00:42.228Z"
   },
   {
    "duration": 27,
    "start_time": "2022-06-01T11:00:42.250Z"
   },
   {
    "duration": 7,
    "start_time": "2022-06-01T11:00:42.279Z"
   },
   {
    "duration": 321,
    "start_time": "2022-06-01T11:00:42.288Z"
   },
   {
    "duration": 156,
    "start_time": "2022-06-01T11:00:42.611Z"
   },
   {
    "duration": 32,
    "start_time": "2022-06-01T11:00:42.769Z"
   },
   {
    "duration": 26,
    "start_time": "2022-06-01T11:00:42.803Z"
   },
   {
    "duration": 36,
    "start_time": "2022-06-01T11:00:42.831Z"
   },
   {
    "duration": 7,
    "start_time": "2022-06-01T11:00:42.869Z"
   },
   {
    "duration": 479,
    "start_time": "2022-06-01T11:00:42.878Z"
   },
   {
    "duration": 446,
    "start_time": "2022-06-01T11:00:43.360Z"
   },
   {
    "duration": 489,
    "start_time": "2022-06-01T11:00:43.808Z"
   },
   {
    "duration": 35,
    "start_time": "2022-06-01T11:00:44.299Z"
   },
   {
    "duration": 16,
    "start_time": "2022-06-01T11:00:44.342Z"
   },
   {
    "duration": 774,
    "start_time": "2022-06-01T11:00:44.359Z"
   },
   {
    "duration": 616,
    "start_time": "2022-06-01T11:00:45.139Z"
   },
   {
    "duration": 727,
    "start_time": "2022-06-01T11:00:45.757Z"
   },
   {
    "duration": 363,
    "start_time": "2022-06-01T11:00:46.486Z"
   },
   {
    "duration": 10,
    "start_time": "2022-06-01T11:00:46.851Z"
   },
   {
    "duration": 14,
    "start_time": "2022-06-01T11:00:46.865Z"
   },
   {
    "duration": 4,
    "start_time": "2022-06-01T11:00:46.881Z"
   },
   {
    "duration": 176,
    "start_time": "2022-06-01T11:00:46.887Z"
   },
   {
    "duration": 18,
    "start_time": "2022-06-01T11:00:47.066Z"
   },
   {
    "duration": 12,
    "start_time": "2022-06-01T11:00:47.086Z"
   },
   {
    "duration": 34,
    "start_time": "2022-06-01T11:00:47.100Z"
   },
   {
    "duration": 66,
    "start_time": "2022-06-01T11:00:47.150Z"
   },
   {
    "duration": 14,
    "start_time": "2022-06-01T11:00:47.219Z"
   },
   {
    "duration": 43,
    "start_time": "2022-06-01T11:00:47.235Z"
   },
   {
    "duration": 15,
    "start_time": "2022-06-01T11:00:47.280Z"
   },
   {
    "duration": 7,
    "start_time": "2022-06-01T11:00:47.297Z"
   },
   {
    "duration": 55,
    "start_time": "2022-06-01T11:00:47.306Z"
   },
   {
    "duration": 10,
    "start_time": "2022-06-01T11:00:47.363Z"
   },
   {
    "duration": 8,
    "start_time": "2022-06-01T11:00:47.376Z"
   },
   {
    "duration": 13,
    "start_time": "2022-06-01T11:00:47.386Z"
   },
   {
    "duration": 12,
    "start_time": "2022-06-01T11:00:47.401Z"
   },
   {
    "duration": 36,
    "start_time": "2022-06-01T11:00:47.415Z"
   },
   {
    "duration": 29,
    "start_time": "2022-06-01T11:00:47.453Z"
   },
   {
    "duration": 14,
    "start_time": "2022-06-01T11:00:47.484Z"
   },
   {
    "duration": 10,
    "start_time": "2022-06-01T11:00:47.500Z"
   },
   {
    "duration": 20,
    "start_time": "2022-06-01T11:00:47.513Z"
   },
   {
    "duration": 40,
    "start_time": "2022-06-01T11:00:47.535Z"
   },
   {
    "duration": 6,
    "start_time": "2022-06-01T11:00:47.578Z"
   },
   {
    "duration": 18,
    "start_time": "2022-06-01T11:00:47.586Z"
   },
   {
    "duration": 10,
    "start_time": "2022-06-01T11:00:47.606Z"
   },
   {
    "duration": 6,
    "start_time": "2022-06-01T11:00:47.618Z"
   },
   {
    "duration": 2618,
    "start_time": "2022-06-01T11:00:47.625Z"
   },
   {
    "duration": 6,
    "start_time": "2022-06-01T11:00:50.248Z"
   },
   {
    "duration": 3234,
    "start_time": "2022-06-01T11:00:50.256Z"
   },
   {
    "duration": 3,
    "start_time": "2022-06-01T11:00:53.492Z"
   },
   {
    "duration": 10,
    "start_time": "2022-06-01T11:00:53.497Z"
   },
   {
    "duration": 20,
    "start_time": "2022-06-01T11:00:53.510Z"
   },
   {
    "duration": 53,
    "start_time": "2022-06-01T11:00:53.532Z"
   },
   {
    "duration": 6,
    "start_time": "2022-06-01T11:00:53.587Z"
   },
   {
    "duration": 6,
    "start_time": "2022-06-01T11:00:53.594Z"
   },
   {
    "duration": 950,
    "start_time": "2022-06-01T11:00:53.602Z"
   },
   {
    "duration": 2074,
    "start_time": "2022-06-01T11:00:54.555Z"
   },
   {
    "duration": 11,
    "start_time": "2022-06-01T11:00:56.634Z"
   },
   {
    "duration": 1935,
    "start_time": "2022-06-01T11:00:56.655Z"
   },
   {
    "duration": 12,
    "start_time": "2022-06-01T11:00:58.592Z"
   },
   {
    "duration": 8,
    "start_time": "2022-06-01T11:00:58.606Z"
   },
   {
    "duration": 20,
    "start_time": "2022-06-01T11:00:58.616Z"
   },
   {
    "duration": 152,
    "start_time": "2022-06-01T11:00:58.638Z"
   },
   {
    "duration": 4,
    "start_time": "2022-06-01T11:00:58.792Z"
   },
   {
    "duration": 13,
    "start_time": "2022-06-01T11:00:58.798Z"
   },
   {
    "duration": 22,
    "start_time": "2022-06-01T11:00:58.814Z"
   },
   {
    "duration": 28,
    "start_time": "2022-06-01T11:00:58.838Z"
   },
   {
    "duration": 10,
    "start_time": "2022-06-01T11:00:58.868Z"
   },
   {
    "duration": 8,
    "start_time": "2022-06-01T11:00:58.880Z"
   },
   {
    "duration": 4,
    "start_time": "2022-06-01T11:00:58.890Z"
   },
   {
    "duration": 13,
    "start_time": "2022-06-01T11:00:58.896Z"
   },
   {
    "duration": 5,
    "start_time": "2022-06-01T11:19:50.054Z"
   },
   {
    "duration": 1692,
    "start_time": "2022-06-01T11:31:25.893Z"
   },
   {
    "duration": 5,
    "start_time": "2022-06-01T11:31:27.588Z"
   },
   {
    "duration": 9,
    "start_time": "2022-06-01T11:31:27.595Z"
   },
   {
    "duration": 7,
    "start_time": "2022-06-01T11:31:27.607Z"
   },
   {
    "duration": 6,
    "start_time": "2022-06-01T11:31:27.626Z"
   },
   {
    "duration": 7,
    "start_time": "2022-06-01T11:31:27.633Z"
   },
   {
    "duration": 12,
    "start_time": "2022-06-01T11:31:27.642Z"
   },
   {
    "duration": 23,
    "start_time": "2022-06-01T11:31:27.656Z"
   },
   {
    "duration": 37,
    "start_time": "2022-06-01T11:31:27.681Z"
   },
   {
    "duration": 8,
    "start_time": "2022-06-01T11:31:27.721Z"
   },
   {
    "duration": 12,
    "start_time": "2022-06-01T11:31:27.743Z"
   },
   {
    "duration": 9,
    "start_time": "2022-06-01T11:31:27.758Z"
   },
   {
    "duration": 6,
    "start_time": "2022-06-01T11:31:27.769Z"
   },
   {
    "duration": 10,
    "start_time": "2022-06-01T11:31:27.777Z"
   },
   {
    "duration": 761,
    "start_time": "2022-06-01T11:33:31.192Z"
   },
   {
    "duration": 196,
    "start_time": "2022-06-01T11:33:32.041Z"
   },
   {
    "duration": 77,
    "start_time": "2022-06-01T11:33:32.254Z"
   },
   {
    "duration": 17,
    "start_time": "2022-06-01T11:33:32.334Z"
   },
   {
    "duration": 9,
    "start_time": "2022-06-01T11:33:32.352Z"
   },
   {
    "duration": 5,
    "start_time": "2022-06-01T11:33:32.363Z"
   },
   {
    "duration": 9,
    "start_time": "2022-06-01T11:33:32.370Z"
   },
   {
    "duration": 10,
    "start_time": "2022-06-01T11:33:32.381Z"
   },
   {
    "duration": 7,
    "start_time": "2022-06-01T11:33:32.393Z"
   },
   {
    "duration": 30,
    "start_time": "2022-06-01T11:33:32.403Z"
   },
   {
    "duration": 19,
    "start_time": "2022-06-01T11:33:32.439Z"
   },
   {
    "duration": 15,
    "start_time": "2022-06-01T11:33:32.460Z"
   },
   {
    "duration": 16,
    "start_time": "2022-06-01T11:33:32.477Z"
   },
   {
    "duration": 4,
    "start_time": "2022-06-01T11:34:05.189Z"
   },
   {
    "duration": 803,
    "start_time": "2022-06-01T11:34:05.199Z"
   },
   {
    "duration": 60,
    "start_time": "2022-06-01T11:34:06.004Z"
   },
   {
    "duration": 794,
    "start_time": "2022-06-01T11:34:06.066Z"
   },
   {
    "duration": 3,
    "start_time": "2022-06-01T11:34:06.862Z"
   },
   {
    "duration": 14,
    "start_time": "2022-06-01T11:34:06.866Z"
   },
   {
    "duration": 7,
    "start_time": "2022-06-01T11:34:06.882Z"
   },
   {
    "duration": 8,
    "start_time": "2022-06-01T11:34:06.890Z"
   },
   {
    "duration": 7,
    "start_time": "2022-06-01T11:34:06.899Z"
   },
   {
    "duration": 20,
    "start_time": "2022-06-01T11:34:06.908Z"
   },
   {
    "duration": 9,
    "start_time": "2022-06-01T11:34:06.933Z"
   },
   {
    "duration": 5,
    "start_time": "2022-06-01T11:34:06.944Z"
   },
   {
    "duration": 100,
    "start_time": "2022-06-01T11:34:06.951Z"
   },
   {
    "duration": 125,
    "start_time": "2022-06-01T11:34:07.052Z"
   },
   {
    "duration": 20,
    "start_time": "2022-06-01T11:34:07.179Z"
   },
   {
    "duration": 8,
    "start_time": "2022-06-01T11:34:07.201Z"
   },
   {
    "duration": 12,
    "start_time": "2022-06-01T11:34:07.226Z"
   },
   {
    "duration": 10,
    "start_time": "2022-06-01T11:34:07.240Z"
   },
   {
    "duration": 424,
    "start_time": "2022-06-01T11:34:07.252Z"
   },
   {
    "duration": 439,
    "start_time": "2022-06-01T11:34:07.677Z"
   },
   {
    "duration": 441,
    "start_time": "2022-06-01T11:34:08.118Z"
   },
   {
    "duration": 16,
    "start_time": "2022-06-01T11:34:08.561Z"
   },
   {
    "duration": 8,
    "start_time": "2022-06-01T11:34:08.579Z"
   },
   {
    "duration": 721,
    "start_time": "2022-06-01T11:34:08.589Z"
   },
   {
    "duration": 547,
    "start_time": "2022-06-01T11:34:09.312Z"
   },
   {
    "duration": 544,
    "start_time": "2022-06-01T11:34:09.861Z"
   },
   {
    "duration": 314,
    "start_time": "2022-06-01T11:34:10.407Z"
   },
   {
    "duration": 16,
    "start_time": "2022-06-01T11:34:10.727Z"
   },
   {
    "duration": 11,
    "start_time": "2022-06-01T11:34:10.747Z"
   },
   {
    "duration": 11,
    "start_time": "2022-06-01T11:34:10.759Z"
   },
   {
    "duration": 157,
    "start_time": "2022-06-01T11:34:10.772Z"
   },
   {
    "duration": 27,
    "start_time": "2022-06-01T11:34:10.931Z"
   },
   {
    "duration": 10,
    "start_time": "2022-06-01T11:34:10.961Z"
   },
   {
    "duration": 6,
    "start_time": "2022-06-01T11:34:10.973Z"
   },
   {
    "duration": 25,
    "start_time": "2022-06-01T11:34:10.980Z"
   },
   {
    "duration": 25,
    "start_time": "2022-06-01T11:34:11.007Z"
   },
   {
    "duration": 27,
    "start_time": "2022-06-01T11:34:11.035Z"
   },
   {
    "duration": 6,
    "start_time": "2022-06-01T11:34:11.064Z"
   },
   {
    "duration": 8,
    "start_time": "2022-06-01T11:34:11.072Z"
   },
   {
    "duration": 9,
    "start_time": "2022-06-01T11:34:11.082Z"
   },
   {
    "duration": 10,
    "start_time": "2022-06-01T11:34:11.093Z"
   },
   {
    "duration": 11,
    "start_time": "2022-06-01T11:34:11.105Z"
   },
   {
    "duration": 27,
    "start_time": "2022-06-01T11:34:11.118Z"
   },
   {
    "duration": 28,
    "start_time": "2022-06-01T11:34:11.146Z"
   },
   {
    "duration": 12,
    "start_time": "2022-06-01T11:34:11.176Z"
   },
   {
    "duration": 12,
    "start_time": "2022-06-01T11:34:11.190Z"
   },
   {
    "duration": 6,
    "start_time": "2022-06-01T11:34:11.204Z"
   },
   {
    "duration": 19,
    "start_time": "2022-06-01T11:34:11.211Z"
   },
   {
    "duration": 12,
    "start_time": "2022-06-01T11:34:11.231Z"
   },
   {
    "duration": 15,
    "start_time": "2022-06-01T11:34:11.245Z"
   },
   {
    "duration": 13,
    "start_time": "2022-06-01T11:34:11.262Z"
   },
   {
    "duration": 7,
    "start_time": "2022-06-01T11:34:11.277Z"
   },
   {
    "duration": 3,
    "start_time": "2022-06-01T11:34:11.287Z"
   },
   {
    "duration": 2643,
    "start_time": "2022-06-01T11:34:11.291Z"
   },
   {
    "duration": 3,
    "start_time": "2022-06-01T11:34:13.940Z"
   },
   {
    "duration": 3030,
    "start_time": "2022-06-01T11:34:13.945Z"
   },
   {
    "duration": 2,
    "start_time": "2022-06-01T11:34:16.977Z"
   },
   {
    "duration": 7,
    "start_time": "2022-06-01T11:34:16.981Z"
   },
   {
    "duration": 5,
    "start_time": "2022-06-01T11:34:16.989Z"
   },
   {
    "duration": 9,
    "start_time": "2022-06-01T11:34:16.996Z"
   },
   {
    "duration": 5,
    "start_time": "2022-06-01T11:34:17.007Z"
   },
   {
    "duration": 7,
    "start_time": "2022-06-01T11:34:17.031Z"
   },
   {
    "duration": 795,
    "start_time": "2022-06-01T11:34:17.041Z"
   },
   {
    "duration": 1707,
    "start_time": "2022-06-01T11:34:17.843Z"
   },
   {
    "duration": 5,
    "start_time": "2022-06-01T11:34:19.631Z"
   },
   {
    "duration": 292,
    "start_time": "2022-06-01T11:34:19.639Z"
   },
   {
    "duration": 13,
    "start_time": "2022-06-01T11:34:19.932Z"
   },
   {
    "duration": 84,
    "start_time": "2022-06-01T11:34:19.947Z"
   },
   {
    "duration": 96,
    "start_time": "2022-06-01T11:34:20.034Z"
   },
   {
    "duration": 14,
    "start_time": "2022-06-01T11:34:20.138Z"
   },
   {
    "duration": 37,
    "start_time": "2022-06-01T11:34:20.153Z"
   },
   {
    "duration": 21,
    "start_time": "2022-06-01T11:34:20.192Z"
   },
   {
    "duration": 24,
    "start_time": "2022-06-01T11:34:20.215Z"
   },
   {
    "duration": 15,
    "start_time": "2022-06-01T11:34:20.241Z"
   },
   {
    "duration": 15,
    "start_time": "2022-06-01T11:34:20.258Z"
   },
   {
    "duration": 14,
    "start_time": "2022-06-01T11:34:20.274Z"
   },
   {
    "duration": 11,
    "start_time": "2022-06-01T11:34:20.290Z"
   },
   {
    "duration": 12,
    "start_time": "2022-06-01T11:34:20.303Z"
   },
   {
    "duration": 375,
    "start_time": "2022-06-01T11:36:09.671Z"
   },
   {
    "duration": 14,
    "start_time": "2022-06-01T11:36:10.126Z"
   },
   {
    "duration": 186,
    "start_time": "2022-06-01T11:36:10.142Z"
   },
   {
    "duration": 8,
    "start_time": "2022-06-01T11:36:10.333Z"
   },
   {
    "duration": 17,
    "start_time": "2022-06-01T11:36:10.343Z"
   },
   {
    "duration": 8,
    "start_time": "2022-06-01T11:36:10.362Z"
   },
   {
    "duration": 7,
    "start_time": "2022-06-01T11:36:10.372Z"
   },
   {
    "duration": 12,
    "start_time": "2022-06-01T11:36:10.381Z"
   },
   {
    "duration": 28,
    "start_time": "2022-06-01T11:36:10.395Z"
   },
   {
    "duration": 14,
    "start_time": "2022-06-01T11:36:10.426Z"
   },
   {
    "duration": 17,
    "start_time": "2022-06-01T11:36:10.442Z"
   },
   {
    "duration": 18,
    "start_time": "2022-06-01T11:36:10.460Z"
   },
   {
    "duration": 11,
    "start_time": "2022-06-01T11:36:10.480Z"
   },
   {
    "duration": 7,
    "start_time": "2022-06-01T11:36:10.493Z"
   },
   {
    "duration": 8,
    "start_time": "2022-06-01T11:36:10.502Z"
   },
   {
    "duration": 409,
    "start_time": "2022-06-01T11:36:40.439Z"
   },
   {
    "duration": 8,
    "start_time": "2022-06-01T11:36:40.934Z"
   },
   {
    "duration": 109,
    "start_time": "2022-06-01T11:36:40.944Z"
   },
   {
    "duration": 88,
    "start_time": "2022-06-01T11:36:41.056Z"
   },
   {
    "duration": 7,
    "start_time": "2022-06-01T11:36:41.146Z"
   },
   {
    "duration": 5,
    "start_time": "2022-06-01T11:36:41.154Z"
   },
   {
    "duration": 5,
    "start_time": "2022-06-01T11:36:41.160Z"
   },
   {
    "duration": 10,
    "start_time": "2022-06-01T11:36:41.166Z"
   },
   {
    "duration": 5,
    "start_time": "2022-06-01T11:36:41.177Z"
   },
   {
    "duration": 6,
    "start_time": "2022-06-01T11:36:41.185Z"
   },
   {
    "duration": 4,
    "start_time": "2022-06-01T11:36:41.193Z"
   },
   {
    "duration": 7,
    "start_time": "2022-06-01T11:36:41.199Z"
   },
   {
    "duration": 25,
    "start_time": "2022-06-01T11:36:41.207Z"
   },
   {
    "duration": 10,
    "start_time": "2022-06-01T11:36:41.233Z"
   },
   {
    "duration": 11,
    "start_time": "2022-06-01T11:36:41.244Z"
   },
   {
    "duration": 5,
    "start_time": "2022-06-01T11:36:41.257Z"
   },
   {
    "duration": 6,
    "start_time": "2022-06-01T11:36:41.264Z"
   },
   {
    "duration": 5,
    "start_time": "2022-06-01T12:35:00.470Z"
   },
   {
    "duration": 9,
    "start_time": "2022-06-01T12:35:58.124Z"
   },
   {
    "duration": 10,
    "start_time": "2022-06-01T12:36:03.791Z"
   },
   {
    "duration": 11,
    "start_time": "2022-06-01T12:36:31.269Z"
   },
   {
    "duration": 7,
    "start_time": "2022-06-01T12:36:39.906Z"
   },
   {
    "duration": 953,
    "start_time": "2022-06-01T12:36:39.919Z"
   },
   {
    "duration": 64,
    "start_time": "2022-06-01T12:36:40.875Z"
   },
   {
    "duration": 795,
    "start_time": "2022-06-01T12:36:40.941Z"
   },
   {
    "duration": 3,
    "start_time": "2022-06-01T12:36:41.739Z"
   },
   {
    "duration": 18,
    "start_time": "2022-06-01T12:36:41.744Z"
   },
   {
    "duration": 20,
    "start_time": "2022-06-01T12:36:41.764Z"
   },
   {
    "duration": 18,
    "start_time": "2022-06-01T12:36:41.786Z"
   },
   {
    "duration": 16,
    "start_time": "2022-06-01T12:36:41.807Z"
   },
   {
    "duration": 20,
    "start_time": "2022-06-01T12:36:41.825Z"
   },
   {
    "duration": 11,
    "start_time": "2022-06-01T12:36:41.849Z"
   },
   {
    "duration": 10,
    "start_time": "2022-06-01T12:36:41.862Z"
   },
   {
    "duration": 143,
    "start_time": "2022-06-01T12:36:41.875Z"
   },
   {
    "duration": 169,
    "start_time": "2022-06-01T12:36:42.021Z"
   },
   {
    "duration": 46,
    "start_time": "2022-06-01T12:36:42.193Z"
   },
   {
    "duration": 15,
    "start_time": "2022-06-01T12:36:42.241Z"
   },
   {
    "duration": 11,
    "start_time": "2022-06-01T12:36:42.259Z"
   },
   {
    "duration": 15,
    "start_time": "2022-06-01T12:36:42.272Z"
   },
   {
    "duration": 637,
    "start_time": "2022-06-01T12:36:42.289Z"
   },
   {
    "duration": 627,
    "start_time": "2022-06-01T12:36:42.927Z"
   },
   {
    "duration": 631,
    "start_time": "2022-06-01T12:36:43.557Z"
   },
   {
    "duration": 18,
    "start_time": "2022-06-01T12:36:44.190Z"
   },
   {
    "duration": 22,
    "start_time": "2022-06-01T12:36:44.211Z"
   },
   {
    "duration": 710,
    "start_time": "2022-06-01T12:36:44.235Z"
   },
   {
    "duration": 798,
    "start_time": "2022-06-01T12:36:44.947Z"
   },
   {
    "duration": 735,
    "start_time": "2022-06-01T12:36:45.747Z"
   },
   {
    "duration": 439,
    "start_time": "2022-06-01T12:36:46.484Z"
   },
   {
    "duration": 10,
    "start_time": "2022-06-01T12:36:46.926Z"
   },
   {
    "duration": 240,
    "start_time": "2022-06-01T12:36:46.942Z"
   },
   {
    "duration": 11,
    "start_time": "2022-06-01T12:36:47.184Z"
   },
   {
    "duration": 141,
    "start_time": "2022-06-01T12:36:47.197Z"
   },
   {
    "duration": 16,
    "start_time": "2022-06-01T12:36:47.340Z"
   },
   {
    "duration": 18,
    "start_time": "2022-06-01T12:36:47.358Z"
   },
   {
    "duration": 6,
    "start_time": "2022-06-01T12:36:47.379Z"
   },
   {
    "duration": 46,
    "start_time": "2022-06-01T12:36:47.387Z"
   },
   {
    "duration": 5,
    "start_time": "2022-06-01T12:36:47.435Z"
   },
   {
    "duration": 15,
    "start_time": "2022-06-01T12:36:47.442Z"
   },
   {
    "duration": 15,
    "start_time": "2022-06-01T12:36:47.460Z"
   },
   {
    "duration": 19,
    "start_time": "2022-06-01T12:36:47.477Z"
   },
   {
    "duration": 31,
    "start_time": "2022-06-01T12:36:47.498Z"
   },
   {
    "duration": 20,
    "start_time": "2022-06-01T12:36:47.531Z"
   },
   {
    "duration": 11,
    "start_time": "2022-06-01T12:36:47.553Z"
   },
   {
    "duration": 9,
    "start_time": "2022-06-01T12:36:47.567Z"
   },
   {
    "duration": 30,
    "start_time": "2022-06-01T12:36:47.578Z"
   },
   {
    "duration": 20,
    "start_time": "2022-06-01T12:36:47.610Z"
   },
   {
    "duration": 13,
    "start_time": "2022-06-01T12:36:47.632Z"
   },
   {
    "duration": 13,
    "start_time": "2022-06-01T12:36:47.647Z"
   },
   {
    "duration": 7,
    "start_time": "2022-06-01T12:36:47.662Z"
   },
   {
    "duration": 13,
    "start_time": "2022-06-01T12:36:47.671Z"
   },
   {
    "duration": 12,
    "start_time": "2022-06-01T12:36:47.686Z"
   },
   {
    "duration": 26,
    "start_time": "2022-06-01T12:36:47.700Z"
   },
   {
    "duration": 12,
    "start_time": "2022-06-01T12:36:47.728Z"
   },
   {
    "duration": 7,
    "start_time": "2022-06-01T12:36:47.744Z"
   },
   {
    "duration": 2643,
    "start_time": "2022-06-01T12:36:47.754Z"
   },
   {
    "duration": 7,
    "start_time": "2022-06-01T12:36:50.400Z"
   },
   {
    "duration": 3496,
    "start_time": "2022-06-01T12:36:50.408Z"
   },
   {
    "duration": 3,
    "start_time": "2022-06-01T12:36:53.906Z"
   },
   {
    "duration": 17,
    "start_time": "2022-06-01T12:36:53.912Z"
   },
   {
    "duration": 18,
    "start_time": "2022-06-01T12:36:53.933Z"
   },
   {
    "duration": 10,
    "start_time": "2022-06-01T12:36:53.953Z"
   },
   {
    "duration": 8,
    "start_time": "2022-06-01T12:36:53.965Z"
   },
   {
    "duration": 13,
    "start_time": "2022-06-01T12:36:53.975Z"
   },
   {
    "duration": 646,
    "start_time": "2022-06-01T12:36:53.990Z"
   },
   {
    "duration": 2789,
    "start_time": "2022-06-01T12:36:54.644Z"
   },
   {
    "duration": 8,
    "start_time": "2022-06-01T12:36:57.439Z"
   },
   {
    "duration": 480,
    "start_time": "2022-06-01T12:36:57.453Z"
   },
   {
    "duration": 100,
    "start_time": "2022-06-01T12:36:57.941Z"
   },
   {
    "duration": 112,
    "start_time": "2022-06-01T12:36:58.050Z"
   },
   {
    "duration": 74,
    "start_time": "2022-06-01T12:36:58.164Z"
   },
   {
    "duration": 15,
    "start_time": "2022-06-01T12:36:58.240Z"
   },
   {
    "duration": 25,
    "start_time": "2022-06-01T12:36:58.257Z"
   },
   {
    "duration": 14,
    "start_time": "2022-06-01T12:36:58.284Z"
   },
   {
    "duration": 16,
    "start_time": "2022-06-01T12:36:58.301Z"
   },
   {
    "duration": 11,
    "start_time": "2022-06-01T12:36:58.319Z"
   },
   {
    "duration": 14,
    "start_time": "2022-06-01T12:36:58.333Z"
   },
   {
    "duration": 15,
    "start_time": "2022-06-01T12:36:58.352Z"
   },
   {
    "duration": 7,
    "start_time": "2022-06-01T12:36:58.370Z"
   },
   {
    "duration": 18,
    "start_time": "2022-06-01T12:36:58.380Z"
   },
   {
    "duration": 22,
    "start_time": "2022-06-01T12:36:58.402Z"
   },
   {
    "duration": 26,
    "start_time": "2022-06-01T12:36:58.428Z"
   },
   {
    "duration": 10,
    "start_time": "2022-06-01T12:36:58.456Z"
   },
   {
    "duration": 14,
    "start_time": "2022-06-01T12:36:58.468Z"
   },
   {
    "duration": 5,
    "start_time": "2022-06-01T13:07:34.311Z"
   },
   {
    "duration": 783,
    "start_time": "2022-06-01T13:07:34.321Z"
   },
   {
    "duration": 55,
    "start_time": "2022-06-01T13:07:35.106Z"
   },
   {
    "duration": 618,
    "start_time": "2022-06-01T13:07:35.163Z"
   },
   {
    "duration": 4,
    "start_time": "2022-06-01T13:07:35.783Z"
   },
   {
    "duration": 15,
    "start_time": "2022-06-01T13:07:35.788Z"
   },
   {
    "duration": 45,
    "start_time": "2022-06-01T13:07:35.805Z"
   },
   {
    "duration": 12,
    "start_time": "2022-06-01T13:07:35.853Z"
   },
   {
    "duration": 14,
    "start_time": "2022-06-01T13:07:35.867Z"
   },
   {
    "duration": 27,
    "start_time": "2022-06-01T13:07:35.883Z"
   },
   {
    "duration": 12,
    "start_time": "2022-06-01T13:07:35.914Z"
   },
   {
    "duration": 21,
    "start_time": "2022-06-01T13:07:35.928Z"
   },
   {
    "duration": 104,
    "start_time": "2022-06-01T13:07:35.952Z"
   },
   {
    "duration": 123,
    "start_time": "2022-06-01T13:07:36.058Z"
   },
   {
    "duration": 22,
    "start_time": "2022-06-01T13:07:36.182Z"
   },
   {
    "duration": 27,
    "start_time": "2022-06-01T13:07:36.206Z"
   },
   {
    "duration": 16,
    "start_time": "2022-06-01T13:07:36.234Z"
   },
   {
    "duration": 12,
    "start_time": "2022-06-01T13:07:36.255Z"
   },
   {
    "duration": 452,
    "start_time": "2022-06-01T13:07:36.269Z"
   },
   {
    "duration": 429,
    "start_time": "2022-06-01T13:07:36.729Z"
   },
   {
    "duration": 643,
    "start_time": "2022-06-01T13:07:37.160Z"
   },
   {
    "duration": 27,
    "start_time": "2022-06-01T13:07:37.805Z"
   },
   {
    "duration": 20,
    "start_time": "2022-06-01T13:07:37.842Z"
   },
   {
    "duration": 595,
    "start_time": "2022-06-01T13:07:37.864Z"
   },
   {
    "duration": 572,
    "start_time": "2022-06-01T13:07:38.461Z"
   },
   {
    "duration": 551,
    "start_time": "2022-06-01T13:07:39.035Z"
   },
   {
    "duration": 507,
    "start_time": "2022-06-01T13:07:39.588Z"
   },
   {
    "duration": 10,
    "start_time": "2022-06-01T13:07:40.097Z"
   },
   {
    "duration": 33,
    "start_time": "2022-06-01T13:07:40.111Z"
   },
   {
    "duration": 9,
    "start_time": "2022-06-01T13:07:40.146Z"
   },
   {
    "duration": 153,
    "start_time": "2022-06-01T13:07:40.157Z"
   },
   {
    "duration": 22,
    "start_time": "2022-06-01T13:07:40.312Z"
   },
   {
    "duration": 14,
    "start_time": "2022-06-01T13:07:40.338Z"
   },
   {
    "duration": 10,
    "start_time": "2022-06-01T13:07:40.354Z"
   },
   {
    "duration": 28,
    "start_time": "2022-06-01T13:07:40.365Z"
   },
   {
    "duration": 4,
    "start_time": "2022-06-01T13:07:40.395Z"
   },
   {
    "duration": 38,
    "start_time": "2022-06-01T13:07:40.401Z"
   },
   {
    "duration": 12,
    "start_time": "2022-06-01T13:07:40.442Z"
   },
   {
    "duration": 10,
    "start_time": "2022-06-01T13:07:40.455Z"
   },
   {
    "duration": 9,
    "start_time": "2022-06-01T13:07:40.467Z"
   },
   {
    "duration": 8,
    "start_time": "2022-06-01T13:07:40.478Z"
   },
   {
    "duration": 9,
    "start_time": "2022-06-01T13:07:40.488Z"
   },
   {
    "duration": 10,
    "start_time": "2022-06-01T13:07:40.499Z"
   },
   {
    "duration": 37,
    "start_time": "2022-06-01T13:07:40.510Z"
   },
   {
    "duration": 15,
    "start_time": "2022-06-01T13:07:40.549Z"
   },
   {
    "duration": 12,
    "start_time": "2022-06-01T13:07:40.567Z"
   },
   {
    "duration": 7,
    "start_time": "2022-06-01T13:07:40.581Z"
   },
   {
    "duration": 4,
    "start_time": "2022-06-01T13:07:40.590Z"
   },
   {
    "duration": 31,
    "start_time": "2022-06-01T13:07:40.596Z"
   },
   {
    "duration": 26,
    "start_time": "2022-06-01T13:07:40.629Z"
   },
   {
    "duration": 15,
    "start_time": "2022-06-01T13:07:40.656Z"
   },
   {
    "duration": 8,
    "start_time": "2022-06-01T13:07:40.673Z"
   },
   {
    "duration": 3,
    "start_time": "2022-06-01T13:07:40.682Z"
   },
   {
    "duration": 2488,
    "start_time": "2022-06-01T13:07:40.687Z"
   },
   {
    "duration": 3,
    "start_time": "2022-06-01T13:07:43.177Z"
   },
   {
    "duration": 3079,
    "start_time": "2022-06-01T13:07:43.182Z"
   },
   {
    "duration": 2,
    "start_time": "2022-06-01T13:07:46.263Z"
   },
   {
    "duration": 32,
    "start_time": "2022-06-01T13:07:46.267Z"
   },
   {
    "duration": 17,
    "start_time": "2022-06-01T13:07:46.301Z"
   },
   {
    "duration": 32,
    "start_time": "2022-06-01T13:07:46.319Z"
   },
   {
    "duration": 26,
    "start_time": "2022-06-01T13:07:46.353Z"
   },
   {
    "duration": 24,
    "start_time": "2022-06-01T13:07:46.381Z"
   },
   {
    "duration": 737,
    "start_time": "2022-06-01T13:07:46.408Z"
   },
   {
    "duration": 2473,
    "start_time": "2022-06-01T13:07:47.152Z"
   },
   {
    "duration": 5,
    "start_time": "2022-06-01T13:07:49.633Z"
   },
   {
    "duration": 716,
    "start_time": "2022-06-01T13:07:49.640Z"
   },
   {
    "duration": 200,
    "start_time": "2022-06-01T13:07:50.429Z"
   },
   {
    "duration": 13,
    "start_time": "2022-06-01T13:07:50.631Z"
   },
   {
    "duration": 125,
    "start_time": "2022-06-01T13:07:50.646Z"
   },
   {
    "duration": 8,
    "start_time": "2022-06-01T13:07:50.773Z"
   },
   {
    "duration": 8,
    "start_time": "2022-06-01T13:07:50.782Z"
   },
   {
    "duration": 9,
    "start_time": "2022-06-01T13:07:50.792Z"
   },
   {
    "duration": 19,
    "start_time": "2022-06-01T13:07:50.803Z"
   },
   {
    "duration": 29,
    "start_time": "2022-06-01T13:07:50.823Z"
   },
   {
    "duration": 17,
    "start_time": "2022-06-01T13:07:50.854Z"
   },
   {
    "duration": 9,
    "start_time": "2022-06-01T13:07:50.872Z"
   },
   {
    "duration": 12,
    "start_time": "2022-06-01T13:07:50.882Z"
   },
   {
    "duration": 30,
    "start_time": "2022-06-01T13:07:50.896Z"
   },
   {
    "duration": 5,
    "start_time": "2022-06-01T13:07:50.928Z"
   },
   {
    "duration": 25,
    "start_time": "2022-06-01T13:07:50.937Z"
   },
   {
    "duration": 23,
    "start_time": "2022-06-01T13:07:50.964Z"
   },
   {
    "duration": 40,
    "start_time": "2022-06-01T13:07:50.989Z"
   },
   {
    "duration": 5,
    "start_time": "2022-06-01T13:08:19.866Z"
   },
   {
    "duration": 992,
    "start_time": "2022-06-01T13:08:19.877Z"
   },
   {
    "duration": 65,
    "start_time": "2022-06-01T13:08:20.871Z"
   },
   {
    "duration": 758,
    "start_time": "2022-06-01T13:08:20.941Z"
   },
   {
    "duration": 4,
    "start_time": "2022-06-01T13:08:21.702Z"
   },
   {
    "duration": 60,
    "start_time": "2022-06-01T13:08:21.708Z"
   },
   {
    "duration": 7,
    "start_time": "2022-06-01T13:08:21.771Z"
   },
   {
    "duration": 14,
    "start_time": "2022-06-01T13:08:21.780Z"
   },
   {
    "duration": 11,
    "start_time": "2022-06-01T13:08:21.796Z"
   },
   {
    "duration": 10,
    "start_time": "2022-06-01T13:08:21.809Z"
   },
   {
    "duration": 41,
    "start_time": "2022-06-01T13:08:21.823Z"
   },
   {
    "duration": 10,
    "start_time": "2022-06-01T13:08:21.866Z"
   },
   {
    "duration": 164,
    "start_time": "2022-06-01T13:08:21.878Z"
   },
   {
    "duration": 166,
    "start_time": "2022-06-01T13:08:22.047Z"
   },
   {
    "duration": 44,
    "start_time": "2022-06-01T13:08:22.215Z"
   },
   {
    "duration": 18,
    "start_time": "2022-06-01T13:08:22.261Z"
   },
   {
    "duration": 10,
    "start_time": "2022-06-01T13:08:22.281Z"
   },
   {
    "duration": 12,
    "start_time": "2022-06-01T13:08:22.293Z"
   },
   {
    "duration": 705,
    "start_time": "2022-06-01T13:08:22.327Z"
   },
   {
    "duration": 680,
    "start_time": "2022-06-01T13:08:23.041Z"
   },
   {
    "duration": 915,
    "start_time": "2022-06-01T13:08:23.732Z"
   },
   {
    "duration": 24,
    "start_time": "2022-06-01T13:08:24.649Z"
   },
   {
    "duration": 20,
    "start_time": "2022-06-01T13:08:24.675Z"
   },
   {
    "duration": 761,
    "start_time": "2022-06-01T13:08:24.697Z"
   },
   {
    "duration": 827,
    "start_time": "2022-06-01T13:08:25.463Z"
   },
   {
    "duration": 780,
    "start_time": "2022-06-01T13:08:26.292Z"
   },
   {
    "duration": 711,
    "start_time": "2022-06-01T13:08:27.074Z"
   },
   {
    "duration": 11,
    "start_time": "2022-06-01T13:08:27.787Z"
   },
   {
    "duration": 44,
    "start_time": "2022-06-01T13:08:27.804Z"
   },
   {
    "duration": 6,
    "start_time": "2022-06-01T13:08:27.854Z"
   },
   {
    "duration": 178,
    "start_time": "2022-06-01T13:08:27.862Z"
   },
   {
    "duration": 15,
    "start_time": "2022-06-01T13:08:28.044Z"
   },
   {
    "duration": 14,
    "start_time": "2022-06-01T13:08:28.063Z"
   },
   {
    "duration": 7,
    "start_time": "2022-06-01T13:08:28.079Z"
   },
   {
    "duration": 41,
    "start_time": "2022-06-01T13:08:28.088Z"
   },
   {
    "duration": 7,
    "start_time": "2022-06-01T13:08:28.132Z"
   },
   {
    "duration": 26,
    "start_time": "2022-06-01T13:08:28.141Z"
   },
   {
    "duration": 21,
    "start_time": "2022-06-01T13:08:28.170Z"
   },
   {
    "duration": 22,
    "start_time": "2022-06-01T13:08:28.193Z"
   },
   {
    "duration": 11,
    "start_time": "2022-06-01T13:08:28.217Z"
   },
   {
    "duration": 28,
    "start_time": "2022-06-01T13:08:28.233Z"
   },
   {
    "duration": 18,
    "start_time": "2022-06-01T13:08:28.263Z"
   },
   {
    "duration": 16,
    "start_time": "2022-06-01T13:08:28.283Z"
   },
   {
    "duration": 32,
    "start_time": "2022-06-01T13:08:28.301Z"
   },
   {
    "duration": 16,
    "start_time": "2022-06-01T13:08:28.336Z"
   },
   {
    "duration": 17,
    "start_time": "2022-06-01T13:08:28.363Z"
   },
   {
    "duration": 9,
    "start_time": "2022-06-01T13:08:28.382Z"
   },
   {
    "duration": 16,
    "start_time": "2022-06-01T13:08:28.393Z"
   },
   {
    "duration": 18,
    "start_time": "2022-06-01T13:08:28.412Z"
   },
   {
    "duration": 54,
    "start_time": "2022-06-01T13:08:28.432Z"
   },
   {
    "duration": 19,
    "start_time": "2022-06-01T13:08:28.487Z"
   },
   {
    "duration": 19,
    "start_time": "2022-06-01T13:08:28.509Z"
   },
   {
    "duration": 3097,
    "start_time": "2022-06-01T13:08:28.534Z"
   },
   {
    "duration": 2,
    "start_time": "2022-06-01T13:08:31.636Z"
   },
   {
    "duration": 3880,
    "start_time": "2022-06-01T13:08:31.640Z"
   },
   {
    "duration": 5,
    "start_time": "2022-06-01T13:08:35.527Z"
   },
   {
    "duration": 31,
    "start_time": "2022-06-01T13:08:35.534Z"
   },
   {
    "duration": 11,
    "start_time": "2022-06-01T13:08:35.567Z"
   },
   {
    "duration": 16,
    "start_time": "2022-06-01T13:08:35.579Z"
   },
   {
    "duration": 21,
    "start_time": "2022-06-01T13:08:35.597Z"
   },
   {
    "duration": 36,
    "start_time": "2022-06-01T13:08:35.619Z"
   },
   {
    "duration": 1193,
    "start_time": "2022-06-01T13:08:35.657Z"
   },
   {
    "duration": 2011,
    "start_time": "2022-06-01T13:08:36.927Z"
   },
   {
    "duration": 13,
    "start_time": "2022-06-01T13:08:38.946Z"
   },
   {
    "duration": 399,
    "start_time": "2022-06-01T13:08:38.963Z"
   },
   {
    "duration": 190,
    "start_time": "2022-06-01T13:08:39.365Z"
   },
   {
    "duration": 78,
    "start_time": "2022-06-01T13:08:39.557Z"
   },
   {
    "duration": 113,
    "start_time": "2022-06-01T13:08:39.648Z"
   },
   {
    "duration": 9,
    "start_time": "2022-06-01T13:08:39.763Z"
   },
   {
    "duration": 5,
    "start_time": "2022-06-01T13:08:39.774Z"
   },
   {
    "duration": 4,
    "start_time": "2022-06-01T13:08:39.781Z"
   },
   {
    "duration": 12,
    "start_time": "2022-06-01T13:08:39.787Z"
   },
   {
    "duration": 14,
    "start_time": "2022-06-01T13:08:39.801Z"
   },
   {
    "duration": 27,
    "start_time": "2022-06-01T13:08:39.818Z"
   },
   {
    "duration": 4,
    "start_time": "2022-06-01T13:08:39.848Z"
   },
   {
    "duration": 11,
    "start_time": "2022-06-01T13:08:39.854Z"
   },
   {
    "duration": 10,
    "start_time": "2022-06-01T13:08:39.868Z"
   },
   {
    "duration": 8,
    "start_time": "2022-06-01T13:08:39.880Z"
   },
   {
    "duration": 10,
    "start_time": "2022-06-01T13:08:39.891Z"
   },
   {
    "duration": 5,
    "start_time": "2022-06-01T13:08:39.903Z"
   },
   {
    "duration": 17,
    "start_time": "2022-06-01T13:08:39.910Z"
   },
   {
    "duration": 1533,
    "start_time": "2022-06-01T17:49:12.680Z"
   },
   {
    "duration": 3085,
    "start_time": "2022-06-01T17:49:14.217Z"
   },
   {
    "duration": 38,
    "start_time": "2022-06-01T17:49:17.304Z"
   },
   {
    "duration": 579,
    "start_time": "2022-06-01T17:49:17.344Z"
   },
   {
    "duration": 3,
    "start_time": "2022-06-01T17:49:17.925Z"
   },
   {
    "duration": 15,
    "start_time": "2022-06-01T17:49:17.929Z"
   },
   {
    "duration": 6,
    "start_time": "2022-06-01T17:49:17.946Z"
   },
   {
    "duration": 19,
    "start_time": "2022-06-01T17:49:17.954Z"
   },
   {
    "duration": 20,
    "start_time": "2022-06-01T17:49:17.975Z"
   },
   {
    "duration": 14,
    "start_time": "2022-06-01T17:49:17.998Z"
   },
   {
    "duration": 12,
    "start_time": "2022-06-01T17:49:18.013Z"
   },
   {
    "duration": 10,
    "start_time": "2022-06-01T17:49:18.027Z"
   },
   {
    "duration": 93,
    "start_time": "2022-06-01T17:49:18.038Z"
   },
   {
    "duration": 117,
    "start_time": "2022-06-01T17:49:18.133Z"
   },
   {
    "duration": 19,
    "start_time": "2022-06-01T17:49:18.252Z"
   },
   {
    "duration": 9,
    "start_time": "2022-06-01T17:49:18.280Z"
   },
   {
    "duration": 11,
    "start_time": "2022-06-01T17:49:18.291Z"
   },
   {
    "duration": 7,
    "start_time": "2022-06-01T17:49:18.303Z"
   },
   {
    "duration": 389,
    "start_time": "2022-06-01T17:49:18.312Z"
   },
   {
    "duration": 372,
    "start_time": "2022-06-01T17:49:18.703Z"
   },
   {
    "duration": 451,
    "start_time": "2022-06-01T17:49:19.076Z"
   },
   {
    "duration": 24,
    "start_time": "2022-06-01T17:49:19.528Z"
   },
   {
    "duration": 9,
    "start_time": "2022-06-01T17:49:19.554Z"
   },
   {
    "duration": 428,
    "start_time": "2022-06-01T17:49:19.565Z"
   },
   {
    "duration": 476,
    "start_time": "2022-06-01T17:49:19.994Z"
   },
   {
    "duration": 430,
    "start_time": "2022-06-01T17:49:20.471Z"
   },
   {
    "duration": 359,
    "start_time": "2022-06-01T17:49:20.902Z"
   },
   {
    "duration": 18,
    "start_time": "2022-06-01T17:49:21.264Z"
   },
   {
    "duration": 9,
    "start_time": "2022-06-01T17:49:21.283Z"
   },
   {
    "duration": 5,
    "start_time": "2022-06-01T17:49:21.295Z"
   },
   {
    "duration": 118,
    "start_time": "2022-06-01T17:49:21.302Z"
   },
   {
    "duration": 16,
    "start_time": "2022-06-01T17:49:21.421Z"
   },
   {
    "duration": 7,
    "start_time": "2022-06-01T17:49:21.439Z"
   },
   {
    "duration": 4,
    "start_time": "2022-06-01T17:49:21.448Z"
   },
   {
    "duration": 56,
    "start_time": "2022-06-01T17:49:21.454Z"
   },
   {
    "duration": 3,
    "start_time": "2022-06-01T17:49:21.511Z"
   },
   {
    "duration": 8,
    "start_time": "2022-06-01T17:49:21.516Z"
   },
   {
    "duration": 8,
    "start_time": "2022-06-01T17:49:21.526Z"
   },
   {
    "duration": 9,
    "start_time": "2022-06-01T17:49:21.536Z"
   },
   {
    "duration": 10,
    "start_time": "2022-06-01T17:49:21.546Z"
   },
   {
    "duration": 23,
    "start_time": "2022-06-01T17:49:21.557Z"
   },
   {
    "duration": 7,
    "start_time": "2022-06-01T17:49:21.581Z"
   },
   {
    "duration": 27,
    "start_time": "2022-06-01T17:49:21.590Z"
   },
   {
    "duration": 11,
    "start_time": "2022-06-01T17:49:21.618Z"
   },
   {
    "duration": 10,
    "start_time": "2022-06-01T17:49:21.630Z"
   },
   {
    "duration": 7,
    "start_time": "2022-06-01T17:49:21.641Z"
   },
   {
    "duration": 4,
    "start_time": "2022-06-01T17:49:21.679Z"
   },
   {
    "duration": 10,
    "start_time": "2022-06-01T17:49:21.685Z"
   },
   {
    "duration": 8,
    "start_time": "2022-06-01T17:49:21.697Z"
   },
   {
    "duration": 9,
    "start_time": "2022-06-01T17:49:21.707Z"
   },
   {
    "duration": 2318,
    "start_time": "2022-06-01T17:49:21.717Z"
   },
   {
    "duration": 3,
    "start_time": "2022-06-01T17:49:24.037Z"
   },
   {
    "duration": 2848,
    "start_time": "2022-06-01T17:49:24.041Z"
   },
   {
    "duration": 3,
    "start_time": "2022-06-01T17:49:26.891Z"
   },
   {
    "duration": 8,
    "start_time": "2022-06-01T17:49:26.896Z"
   },
   {
    "duration": 518878,
    "start_time": "2022-06-01T17:49:26.905Z"
   },
   {
    "duration": 3,
    "start_time": "2022-06-01T17:58:05.785Z"
   },
   {
    "duration": 244844,
    "start_time": "2022-06-01T17:58:05.789Z"
   },
   {
    "duration": 4,
    "start_time": "2022-06-01T18:02:10.635Z"
   },
   {
    "duration": 741,
    "start_time": "2022-06-01T18:02:10.640Z"
   },
   {
    "duration": 1500,
    "start_time": "2022-06-01T18:02:11.383Z"
   },
   {
    "duration": 5,
    "start_time": "2022-06-01T18:02:12.886Z"
   },
   {
    "duration": 488,
    "start_time": "2022-06-01T18:02:12.893Z"
   },
   {
    "duration": 97,
    "start_time": "2022-06-01T18:02:13.384Z"
   },
   {
    "duration": 99,
    "start_time": "2022-06-01T18:02:13.484Z"
   },
   {
    "duration": 94,
    "start_time": "2022-06-01T18:02:13.586Z"
   },
   {
    "duration": 4,
    "start_time": "2022-06-01T18:02:13.682Z"
   },
   {
    "duration": 10,
    "start_time": "2022-06-01T18:02:13.687Z"
   },
   {
    "duration": 8,
    "start_time": "2022-06-01T18:02:13.698Z"
   },
   {
    "duration": 8,
    "start_time": "2022-06-01T18:02:13.708Z"
   },
   {
    "duration": 6,
    "start_time": "2022-06-01T18:02:13.718Z"
   },
   {
    "duration": 19,
    "start_time": "2022-06-01T18:02:13.725Z"
   },
   {
    "duration": 12,
    "start_time": "2022-06-01T18:02:13.745Z"
   },
   {
    "duration": 9,
    "start_time": "2022-06-01T18:02:13.758Z"
   },
   {
    "duration": 6,
    "start_time": "2022-06-01T18:02:13.769Z"
   },
   {
    "duration": 9,
    "start_time": "2022-06-01T18:02:13.776Z"
   },
   {
    "duration": 14,
    "start_time": "2022-06-01T18:02:13.786Z"
   },
   {
    "duration": 6,
    "start_time": "2022-06-01T18:02:13.802Z"
   },
   {
    "duration": 12,
    "start_time": "2022-06-01T18:02:13.809Z"
   },
   {
    "duration": 2,
    "start_time": "2022-06-01T19:01:17.766Z"
   },
   {
    "duration": 0,
    "start_time": "2022-06-01T21:38:54.731Z"
   },
   {
    "duration": 0,
    "start_time": "2022-06-01T21:38:54.732Z"
   },
   {
    "duration": 0,
    "start_time": "2022-06-01T21:38:54.735Z"
   },
   {
    "duration": 0,
    "start_time": "2022-06-01T21:38:54.736Z"
   },
   {
    "duration": 0,
    "start_time": "2022-06-01T21:38:54.783Z"
   },
   {
    "duration": 0,
    "start_time": "2022-06-01T21:38:54.790Z"
   },
   {
    "duration": 0,
    "start_time": "2022-06-01T21:38:54.791Z"
   },
   {
    "duration": 0,
    "start_time": "2022-06-01T21:38:54.792Z"
   },
   {
    "duration": 0,
    "start_time": "2022-06-01T21:38:54.793Z"
   },
   {
    "duration": 0,
    "start_time": "2022-06-01T21:38:54.794Z"
   },
   {
    "duration": 0,
    "start_time": "2022-06-01T21:38:54.795Z"
   },
   {
    "duration": 0,
    "start_time": "2022-06-01T21:38:54.796Z"
   },
   {
    "duration": 0,
    "start_time": "2022-06-01T21:38:54.797Z"
   },
   {
    "duration": 0,
    "start_time": "2022-06-01T21:38:54.798Z"
   },
   {
    "duration": 0,
    "start_time": "2022-06-01T21:38:54.799Z"
   },
   {
    "duration": 0,
    "start_time": "2022-06-01T21:38:54.800Z"
   },
   {
    "duration": 0,
    "start_time": "2022-06-01T21:38:54.801Z"
   },
   {
    "duration": 0,
    "start_time": "2022-06-01T21:38:54.802Z"
   },
   {
    "duration": 0,
    "start_time": "2022-06-01T21:38:54.803Z"
   },
   {
    "duration": 0,
    "start_time": "2022-06-01T21:38:54.804Z"
   },
   {
    "duration": 0,
    "start_time": "2022-06-01T21:38:54.804Z"
   },
   {
    "duration": 0,
    "start_time": "2022-06-01T21:38:54.806Z"
   },
   {
    "duration": 0,
    "start_time": "2022-06-01T21:38:54.806Z"
   },
   {
    "duration": 0,
    "start_time": "2022-06-01T21:38:54.807Z"
   },
   {
    "duration": 0,
    "start_time": "2022-06-01T21:38:54.808Z"
   },
   {
    "duration": 0,
    "start_time": "2022-06-01T21:38:54.809Z"
   },
   {
    "duration": 0,
    "start_time": "2022-06-01T21:38:54.810Z"
   },
   {
    "duration": 0,
    "start_time": "2022-06-01T21:38:54.811Z"
   },
   {
    "duration": 0,
    "start_time": "2022-06-01T21:38:54.812Z"
   },
   {
    "duration": 0,
    "start_time": "2022-06-01T21:38:54.813Z"
   },
   {
    "duration": 0,
    "start_time": "2022-06-01T21:38:54.814Z"
   },
   {
    "duration": 0,
    "start_time": "2022-06-01T21:38:54.815Z"
   },
   {
    "duration": 0,
    "start_time": "2022-06-01T21:38:54.815Z"
   },
   {
    "duration": 0,
    "start_time": "2022-06-01T21:38:54.817Z"
   },
   {
    "duration": 0,
    "start_time": "2022-06-01T21:38:54.817Z"
   },
   {
    "duration": 0,
    "start_time": "2022-06-01T21:38:54.819Z"
   },
   {
    "duration": 0,
    "start_time": "2022-06-01T21:38:54.819Z"
   },
   {
    "duration": 0,
    "start_time": "2022-06-01T21:38:54.820Z"
   },
   {
    "duration": 0,
    "start_time": "2022-06-01T21:38:54.821Z"
   },
   {
    "duration": 0,
    "start_time": "2022-06-01T21:38:54.822Z"
   },
   {
    "duration": 0,
    "start_time": "2022-06-01T21:38:54.823Z"
   },
   {
    "duration": 0,
    "start_time": "2022-06-01T21:38:54.824Z"
   },
   {
    "duration": 0,
    "start_time": "2022-06-01T21:38:54.824Z"
   },
   {
    "duration": 0,
    "start_time": "2022-06-01T21:38:54.826Z"
   },
   {
    "duration": 0,
    "start_time": "2022-06-01T21:38:54.880Z"
   },
   {
    "duration": 0,
    "start_time": "2022-06-01T21:38:54.881Z"
   },
   {
    "duration": 0,
    "start_time": "2022-06-01T21:38:54.882Z"
   },
   {
    "duration": 1,
    "start_time": "2022-06-01T21:38:54.883Z"
   },
   {
    "duration": 0,
    "start_time": "2022-06-01T21:38:54.884Z"
   },
   {
    "duration": 0,
    "start_time": "2022-06-01T21:38:54.885Z"
   },
   {
    "duration": 0,
    "start_time": "2022-06-01T21:38:54.885Z"
   },
   {
    "duration": 0,
    "start_time": "2022-06-01T21:38:54.886Z"
   },
   {
    "duration": 0,
    "start_time": "2022-06-01T21:38:54.887Z"
   },
   {
    "duration": 0,
    "start_time": "2022-06-01T21:38:54.887Z"
   },
   {
    "duration": 0,
    "start_time": "2022-06-01T21:38:54.893Z"
   },
   {
    "duration": 0,
    "start_time": "2022-06-01T21:38:54.893Z"
   },
   {
    "duration": 0,
    "start_time": "2022-06-01T21:38:54.894Z"
   },
   {
    "duration": 0,
    "start_time": "2022-06-01T21:38:54.894Z"
   },
   {
    "duration": 0,
    "start_time": "2022-06-01T21:38:54.895Z"
   },
   {
    "duration": 0,
    "start_time": "2022-06-01T21:38:54.896Z"
   },
   {
    "duration": 0,
    "start_time": "2022-06-01T21:38:54.897Z"
   },
   {
    "duration": 0,
    "start_time": "2022-06-01T21:38:54.897Z"
   },
   {
    "duration": 0,
    "start_time": "2022-06-01T21:38:54.898Z"
   },
   {
    "duration": 0,
    "start_time": "2022-06-01T21:38:54.900Z"
   },
   {
    "duration": 0,
    "start_time": "2022-06-01T21:38:54.901Z"
   },
   {
    "duration": 0,
    "start_time": "2022-06-01T21:38:54.902Z"
   },
   {
    "duration": 0,
    "start_time": "2022-06-01T21:38:54.903Z"
   },
   {
    "duration": 0,
    "start_time": "2022-06-01T21:38:54.905Z"
   },
   {
    "duration": 0,
    "start_time": "2022-06-01T21:38:54.906Z"
   },
   {
    "duration": 0,
    "start_time": "2022-06-01T21:38:54.907Z"
   },
   {
    "duration": 0,
    "start_time": "2022-06-01T21:38:54.908Z"
   },
   {
    "duration": 0,
    "start_time": "2022-06-01T21:38:54.909Z"
   },
   {
    "duration": 0,
    "start_time": "2022-06-01T21:38:54.911Z"
   },
   {
    "duration": 0,
    "start_time": "2022-06-01T21:38:54.912Z"
   },
   {
    "duration": 0,
    "start_time": "2022-06-01T21:38:54.914Z"
   },
   {
    "duration": 0,
    "start_time": "2022-06-01T21:38:54.915Z"
   },
   {
    "duration": 0,
    "start_time": "2022-06-01T21:38:54.916Z"
   },
   {
    "duration": 0,
    "start_time": "2022-06-01T21:38:54.917Z"
   },
   {
    "duration": 0,
    "start_time": "2022-06-01T21:38:54.918Z"
   },
   {
    "duration": 1114,
    "start_time": "2022-06-01T21:39:13.250Z"
   },
   {
    "duration": 786,
    "start_time": "2022-06-01T21:39:14.366Z"
   },
   {
    "duration": 45,
    "start_time": "2022-06-01T21:39:15.153Z"
   },
   {
    "duration": 635,
    "start_time": "2022-06-01T21:39:15.200Z"
   },
   {
    "duration": 2,
    "start_time": "2022-06-01T21:39:15.837Z"
   },
   {
    "duration": 13,
    "start_time": "2022-06-01T21:39:15.841Z"
   },
   {
    "duration": 9,
    "start_time": "2022-06-01T21:39:15.856Z"
   },
   {
    "duration": 9,
    "start_time": "2022-06-01T21:39:15.866Z"
   },
   {
    "duration": 7,
    "start_time": "2022-06-01T21:39:15.877Z"
   },
   {
    "duration": 36,
    "start_time": "2022-06-01T21:39:15.888Z"
   },
   {
    "duration": 20,
    "start_time": "2022-06-01T21:39:15.926Z"
   },
   {
    "duration": 7,
    "start_time": "2022-06-01T21:39:15.948Z"
   },
   {
    "duration": 106,
    "start_time": "2022-06-01T21:39:15.957Z"
   },
   {
    "duration": 126,
    "start_time": "2022-06-01T21:39:16.065Z"
   },
   {
    "duration": 23,
    "start_time": "2022-06-01T21:39:16.192Z"
   },
   {
    "duration": 7,
    "start_time": "2022-06-01T21:39:16.216Z"
   },
   {
    "duration": 6,
    "start_time": "2022-06-01T21:39:16.225Z"
   },
   {
    "duration": 4,
    "start_time": "2022-06-01T21:39:16.233Z"
   },
   {
    "duration": 383,
    "start_time": "2022-06-01T21:39:16.239Z"
   },
   {
    "duration": 356,
    "start_time": "2022-06-01T21:39:16.623Z"
   },
   {
    "duration": 453,
    "start_time": "2022-06-01T21:39:16.983Z"
   },
   {
    "duration": 20,
    "start_time": "2022-06-01T21:39:17.438Z"
   },
   {
    "duration": 8,
    "start_time": "2022-06-01T21:39:17.460Z"
   },
   {
    "duration": 413,
    "start_time": "2022-06-01T21:39:17.488Z"
   },
   {
    "duration": 456,
    "start_time": "2022-06-01T21:39:17.903Z"
   },
   {
    "duration": 437,
    "start_time": "2022-06-01T21:39:18.361Z"
   },
   {
    "duration": 359,
    "start_time": "2022-06-01T21:39:18.800Z"
   },
   {
    "duration": 18,
    "start_time": "2022-06-01T21:39:19.163Z"
   },
   {
    "duration": 10,
    "start_time": "2022-06-01T21:39:19.183Z"
   },
   {
    "duration": 6,
    "start_time": "2022-06-01T21:39:19.195Z"
   },
   {
    "duration": 112,
    "start_time": "2022-06-01T21:39:19.203Z"
   },
   {
    "duration": 15,
    "start_time": "2022-06-01T21:39:19.317Z"
   },
   {
    "duration": 7,
    "start_time": "2022-06-01T21:39:19.333Z"
   },
   {
    "duration": 4,
    "start_time": "2022-06-01T21:39:19.341Z"
   },
   {
    "duration": 44,
    "start_time": "2022-06-01T21:39:19.347Z"
   },
   {
    "duration": 3,
    "start_time": "2022-06-01T21:39:19.393Z"
   },
   {
    "duration": 8,
    "start_time": "2022-06-01T21:39:19.398Z"
   },
   {
    "duration": 5,
    "start_time": "2022-06-01T21:39:19.408Z"
   },
   {
    "duration": 8,
    "start_time": "2022-06-01T21:39:19.414Z"
   },
   {
    "duration": 6,
    "start_time": "2022-06-01T21:39:19.423Z"
   },
   {
    "duration": 5,
    "start_time": "2022-06-01T21:39:19.431Z"
   },
   {
    "duration": 10,
    "start_time": "2022-06-01T21:39:19.438Z"
   },
   {
    "duration": 39,
    "start_time": "2022-06-01T21:39:19.449Z"
   },
   {
    "duration": 10,
    "start_time": "2022-06-01T21:39:19.491Z"
   },
   {
    "duration": 8,
    "start_time": "2022-06-01T21:39:19.503Z"
   },
   {
    "duration": 5,
    "start_time": "2022-06-01T21:39:19.513Z"
   },
   {
    "duration": 4,
    "start_time": "2022-06-01T21:39:19.519Z"
   },
   {
    "duration": 7,
    "start_time": "2022-06-01T21:39:19.524Z"
   },
   {
    "duration": 8,
    "start_time": "2022-06-01T21:39:19.533Z"
   },
   {
    "duration": 3,
    "start_time": "2022-06-01T21:39:19.542Z"
   },
   {
    "duration": 2311,
    "start_time": "2022-06-01T21:39:19.547Z"
   },
   {
    "duration": 2,
    "start_time": "2022-06-01T21:39:21.860Z"
   },
   {
    "duration": 2845,
    "start_time": "2022-06-01T21:39:21.863Z"
   },
   {
    "duration": 2,
    "start_time": "2022-06-01T21:39:24.710Z"
   },
   {
    "duration": 9,
    "start_time": "2022-06-01T21:39:24.714Z"
   },
   {
    "duration": 530349,
    "start_time": "2022-06-01T21:39:24.724Z"
   },
   {
    "duration": 9,
    "start_time": "2022-06-01T21:48:15.075Z"
   },
   {
    "duration": 251817,
    "start_time": "2022-06-01T21:48:15.085Z"
   },
   {
    "duration": 4,
    "start_time": "2022-06-01T21:52:26.904Z"
   },
   {
    "duration": 887,
    "start_time": "2022-06-01T21:52:26.909Z"
   },
   {
    "duration": 2994,
    "start_time": "2022-06-01T21:52:27.798Z"
   },
   {
    "duration": 8,
    "start_time": "2022-06-01T21:52:30.795Z"
   },
   {
    "duration": 493,
    "start_time": "2022-06-01T21:52:30.805Z"
   },
   {
    "duration": 120,
    "start_time": "2022-06-01T21:52:31.385Z"
   },
   {
    "duration": 9,
    "start_time": "2022-06-01T21:52:31.585Z"
   },
   {
    "duration": 100,
    "start_time": "2022-06-01T21:52:31.599Z"
   },
   {
    "duration": 5,
    "start_time": "2022-06-01T21:52:31.701Z"
   },
   {
    "duration": 5,
    "start_time": "2022-06-01T21:52:31.707Z"
   },
   {
    "duration": 13,
    "start_time": "2022-06-01T21:52:31.713Z"
   },
   {
    "duration": 9,
    "start_time": "2022-06-01T21:52:31.728Z"
   },
   {
    "duration": 11,
    "start_time": "2022-06-01T21:52:31.738Z"
   },
   {
    "duration": 13,
    "start_time": "2022-06-01T21:52:31.751Z"
   },
   {
    "duration": 5,
    "start_time": "2022-06-01T21:52:31.765Z"
   },
   {
    "duration": 8,
    "start_time": "2022-06-01T21:52:31.771Z"
   },
   {
    "duration": 17,
    "start_time": "2022-06-01T21:52:31.780Z"
   },
   {
    "duration": 7,
    "start_time": "2022-06-01T21:52:31.799Z"
   },
   {
    "duration": 4,
    "start_time": "2022-06-01T21:52:31.808Z"
   },
   {
    "duration": 6,
    "start_time": "2022-06-01T21:52:31.813Z"
   },
   {
    "duration": 5,
    "start_time": "2022-06-01T21:52:31.820Z"
   },
   {
    "duration": 1254,
    "start_time": "2022-06-01T21:56:57.878Z"
   },
   {
    "duration": 824,
    "start_time": "2022-06-01T21:56:59.135Z"
   },
   {
    "duration": 46,
    "start_time": "2022-06-01T21:56:59.961Z"
   },
   {
    "duration": 679,
    "start_time": "2022-06-01T21:57:00.010Z"
   },
   {
    "duration": 4,
    "start_time": "2022-06-01T21:57:00.692Z"
   },
   {
    "duration": 18,
    "start_time": "2022-06-01T21:57:00.697Z"
   },
   {
    "duration": 15,
    "start_time": "2022-06-01T21:57:00.716Z"
   },
   {
    "duration": 11,
    "start_time": "2022-06-01T21:57:00.733Z"
   },
   {
    "duration": 14,
    "start_time": "2022-06-01T21:57:00.746Z"
   },
   {
    "duration": 7,
    "start_time": "2022-06-01T21:57:00.764Z"
   },
   {
    "duration": 23,
    "start_time": "2022-06-01T21:57:00.773Z"
   },
   {
    "duration": 12,
    "start_time": "2022-06-01T21:57:00.797Z"
   },
   {
    "duration": 103,
    "start_time": "2022-06-01T21:57:00.810Z"
   },
   {
    "duration": 123,
    "start_time": "2022-06-01T21:57:00.915Z"
   },
   {
    "duration": 18,
    "start_time": "2022-06-01T21:57:01.040Z"
   },
   {
    "duration": 34,
    "start_time": "2022-06-01T21:57:01.060Z"
   },
   {
    "duration": 6,
    "start_time": "2022-06-01T21:57:01.096Z"
   },
   {
    "duration": 8,
    "start_time": "2022-06-01T21:57:01.104Z"
   },
   {
    "duration": 354,
    "start_time": "2022-06-01T21:57:01.114Z"
   },
   {
    "duration": 444,
    "start_time": "2022-06-01T21:57:01.469Z"
   },
   {
    "duration": 570,
    "start_time": "2022-06-01T21:57:01.915Z"
   },
   {
    "duration": 23,
    "start_time": "2022-06-01T21:57:02.486Z"
   },
   {
    "duration": 9,
    "start_time": "2022-06-01T21:57:02.511Z"
   },
   {
    "duration": 439,
    "start_time": "2022-06-01T21:57:02.522Z"
   },
   {
    "duration": 514,
    "start_time": "2022-06-01T21:57:02.962Z"
   },
   {
    "duration": 464,
    "start_time": "2022-06-01T21:57:03.477Z"
   },
   {
    "duration": 405,
    "start_time": "2022-06-01T21:57:03.943Z"
   },
   {
    "duration": 8,
    "start_time": "2022-06-01T21:57:04.352Z"
   },
   {
    "duration": 19,
    "start_time": "2022-06-01T21:57:04.361Z"
   },
   {
    "duration": 6,
    "start_time": "2022-06-01T21:57:04.393Z"
   },
   {
    "duration": 109,
    "start_time": "2022-06-01T21:57:04.400Z"
   },
   {
    "duration": 21,
    "start_time": "2022-06-01T21:57:04.511Z"
   },
   {
    "duration": 10,
    "start_time": "2022-06-01T21:57:04.534Z"
   },
   {
    "duration": 6,
    "start_time": "2022-06-01T21:57:04.545Z"
   },
   {
    "duration": 24,
    "start_time": "2022-06-01T21:57:04.579Z"
   },
   {
    "duration": 3,
    "start_time": "2022-06-01T21:57:04.604Z"
   },
   {
    "duration": 8,
    "start_time": "2022-06-01T21:57:04.609Z"
   },
   {
    "duration": 6,
    "start_time": "2022-06-01T21:57:04.619Z"
   },
   {
    "duration": 9,
    "start_time": "2022-06-01T21:57:04.626Z"
   },
   {
    "duration": 7,
    "start_time": "2022-06-01T21:57:04.637Z"
   },
   {
    "duration": 8,
    "start_time": "2022-06-01T21:57:04.646Z"
   },
   {
    "duration": 31,
    "start_time": "2022-06-01T21:57:04.655Z"
   },
   {
    "duration": 19,
    "start_time": "2022-06-01T21:57:04.696Z"
   },
   {
    "duration": 10,
    "start_time": "2022-06-01T21:57:04.717Z"
   },
   {
    "duration": 19,
    "start_time": "2022-06-01T21:57:04.728Z"
   },
   {
    "duration": 6,
    "start_time": "2022-06-01T21:57:04.749Z"
   },
   {
    "duration": 4,
    "start_time": "2022-06-01T21:57:04.756Z"
   },
   {
    "duration": 9,
    "start_time": "2022-06-01T21:57:04.761Z"
   },
   {
    "duration": 18,
    "start_time": "2022-06-01T21:57:04.771Z"
   },
   {
    "duration": 9,
    "start_time": "2022-06-01T21:57:04.790Z"
   },
   {
    "duration": 2537,
    "start_time": "2022-06-01T21:57:04.800Z"
   },
   {
    "duration": 3,
    "start_time": "2022-06-01T21:57:07.339Z"
   },
   {
    "duration": 2959,
    "start_time": "2022-06-01T21:57:07.343Z"
   },
   {
    "duration": 3,
    "start_time": "2022-06-01T21:57:10.303Z"
   },
   {
    "duration": 7,
    "start_time": "2022-06-01T21:57:10.308Z"
   },
   {
    "duration": 7,
    "start_time": "2022-06-01T21:57:10.316Z"
   },
   {
    "duration": 6,
    "start_time": "2022-06-01T21:57:10.324Z"
   },
   {
    "duration": 7,
    "start_time": "2022-06-01T21:57:10.331Z"
   },
   {
    "duration": 11,
    "start_time": "2022-06-01T21:57:10.339Z"
   },
   {
    "duration": 6,
    "start_time": "2022-06-01T21:57:10.351Z"
   },
   {
    "duration": 939,
    "start_time": "2022-06-01T21:57:10.358Z"
   },
   {
    "duration": 2291,
    "start_time": "2022-06-01T21:57:11.299Z"
   },
   {
    "duration": 7,
    "start_time": "2022-06-01T21:57:13.591Z"
   },
   {
    "duration": 689,
    "start_time": "2022-06-01T21:57:13.605Z"
   },
   {
    "duration": 187,
    "start_time": "2022-06-01T21:57:14.295Z"
   },
   {
    "duration": 91,
    "start_time": "2022-06-01T21:57:14.497Z"
   },
   {
    "duration": 13,
    "start_time": "2022-06-01T21:57:14.590Z"
   },
   {
    "duration": 5,
    "start_time": "2022-06-01T21:57:14.605Z"
   },
   {
    "duration": 6,
    "start_time": "2022-06-01T21:57:14.611Z"
   },
   {
    "duration": 3,
    "start_time": "2022-06-01T21:57:14.619Z"
   },
   {
    "duration": 5,
    "start_time": "2022-06-01T21:57:14.624Z"
   },
   {
    "duration": 3,
    "start_time": "2022-06-01T21:57:14.631Z"
   },
   {
    "duration": 9,
    "start_time": "2022-06-01T21:57:14.635Z"
   },
   {
    "duration": 3,
    "start_time": "2022-06-01T21:57:14.646Z"
   },
   {
    "duration": 32,
    "start_time": "2022-06-01T21:57:14.650Z"
   },
   {
    "duration": 8,
    "start_time": "2022-06-01T21:57:14.687Z"
   },
   {
    "duration": 5,
    "start_time": "2022-06-01T21:57:14.698Z"
   },
   {
    "duration": 4,
    "start_time": "2022-06-01T21:57:14.705Z"
   },
   {
    "duration": 4,
    "start_time": "2022-06-01T21:57:14.711Z"
   },
   {
    "duration": 6,
    "start_time": "2022-06-01T21:57:14.716Z"
   },
   {
    "duration": 6313,
    "start_time": "2022-06-02T10:48:03.927Z"
   },
   {
    "duration": 4924,
    "start_time": "2022-06-02T10:48:10.326Z"
   },
   {
    "duration": 121,
    "start_time": "2022-06-02T10:48:15.327Z"
   },
   {
    "duration": 4407,
    "start_time": "2022-06-02T10:48:15.528Z"
   },
   {
    "duration": 3,
    "start_time": "2022-06-02T10:48:19.938Z"
   },
   {
    "duration": 90,
    "start_time": "2022-06-02T10:48:19.943Z"
   },
   {
    "duration": 14,
    "start_time": "2022-06-02T10:48:20.035Z"
   },
   {
    "duration": 10,
    "start_time": "2022-06-02T10:48:20.127Z"
   },
   {
    "duration": 94,
    "start_time": "2022-06-02T10:48:20.139Z"
   },
   {
    "duration": 6,
    "start_time": "2022-06-02T10:48:20.237Z"
   },
   {
    "duration": 90,
    "start_time": "2022-06-02T10:48:20.245Z"
   },
   {
    "duration": 88,
    "start_time": "2022-06-02T10:48:20.338Z"
   },
   {
    "duration": 499,
    "start_time": "2022-06-02T10:48:20.428Z"
   },
   {
    "duration": 605,
    "start_time": "2022-06-02T10:48:20.929Z"
   },
   {
    "duration": 188,
    "start_time": "2022-06-02T10:48:21.537Z"
   },
   {
    "duration": 13,
    "start_time": "2022-06-02T10:48:21.728Z"
   },
   {
    "duration": 89,
    "start_time": "2022-06-02T10:48:21.743Z"
   },
   {
    "duration": 94,
    "start_time": "2022-06-02T10:48:21.834Z"
   },
   {
    "duration": 2410,
    "start_time": "2022-06-02T10:48:21.930Z"
   },
   {
    "duration": 2593,
    "start_time": "2022-06-02T10:48:24.343Z"
   },
   {
    "duration": 2707,
    "start_time": "2022-06-02T10:48:26.941Z"
   },
   {
    "duration": 179,
    "start_time": "2022-06-02T10:48:29.650Z"
   },
   {
    "duration": 14,
    "start_time": "2022-06-02T10:48:29.832Z"
   },
   {
    "duration": 2399,
    "start_time": "2022-06-02T10:48:29.927Z"
   },
   {
    "duration": 2605,
    "start_time": "2022-06-02T10:48:32.328Z"
   },
   {
    "duration": 2512,
    "start_time": "2022-06-02T10:48:34.935Z"
   },
   {
    "duration": 2101,
    "start_time": "2022-06-02T10:48:37.525Z"
   },
   {
    "duration": 95,
    "start_time": "2022-06-02T10:48:39.632Z"
   },
   {
    "duration": 13,
    "start_time": "2022-06-02T10:48:39.730Z"
   },
   {
    "duration": 9,
    "start_time": "2022-06-02T10:48:39.827Z"
   },
   {
    "duration": 601,
    "start_time": "2022-06-02T10:48:39.839Z"
   },
   {
    "duration": 101,
    "start_time": "2022-06-02T10:48:40.443Z"
   },
   {
    "duration": 89,
    "start_time": "2022-06-02T10:48:40.546Z"
   },
   {
    "duration": 89,
    "start_time": "2022-06-02T10:48:40.637Z"
   },
   {
    "duration": 114,
    "start_time": "2022-06-02T10:48:40.728Z"
   },
   {
    "duration": 5,
    "start_time": "2022-06-02T10:48:40.925Z"
   },
   {
    "duration": 11,
    "start_time": "2022-06-02T10:48:40.933Z"
   },
   {
    "duration": 6,
    "start_time": "2022-06-02T10:48:41.026Z"
   },
   {
    "duration": 92,
    "start_time": "2022-06-02T10:48:41.034Z"
   },
   {
    "duration": 7,
    "start_time": "2022-06-02T10:48:41.128Z"
   },
   {
    "duration": 9,
    "start_time": "2022-06-02T10:48:41.138Z"
   },
   {
    "duration": 14,
    "start_time": "2022-06-02T10:48:41.227Z"
   },
   {
    "duration": 191,
    "start_time": "2022-06-02T10:48:41.243Z"
   },
   {
    "duration": 96,
    "start_time": "2022-06-02T10:48:41.437Z"
   },
   {
    "duration": 90,
    "start_time": "2022-06-02T10:48:41.536Z"
   },
   {
    "duration": 9,
    "start_time": "2022-06-02T10:48:41.628Z"
   },
   {
    "duration": 90,
    "start_time": "2022-06-02T10:48:41.640Z"
   },
   {
    "duration": 94,
    "start_time": "2022-06-02T10:48:41.732Z"
   },
   {
    "duration": 14,
    "start_time": "2022-06-02T10:48:41.828Z"
   },
   {
    "duration": 4,
    "start_time": "2022-06-02T10:48:41.927Z"
   },
   {
    "duration": 13913,
    "start_time": "2022-06-02T10:48:41.933Z"
   },
   {
    "duration": 4,
    "start_time": "2022-06-02T10:48:55.927Z"
   },
   {
    "duration": 14612,
    "start_time": "2022-06-02T10:48:55.933Z"
   },
   {
    "duration": 4,
    "start_time": "2022-06-02T10:49:10.626Z"
   },
   {
    "duration": 94,
    "start_time": "2022-06-02T10:49:10.632Z"
   },
   {
    "duration": 12,
    "start_time": "2022-06-02T10:49:10.728Z"
   },
   {
    "duration": 84,
    "start_time": "2022-06-02T10:49:10.742Z"
   },
   {
    "duration": 14,
    "start_time": "2022-06-02T10:49:10.828Z"
   },
   {
    "duration": 82,
    "start_time": "2022-06-02T10:49:10.844Z"
   },
   {
    "duration": 10,
    "start_time": "2022-06-02T10:49:10.928Z"
   },
   {
    "duration": 1489,
    "start_time": "2022-06-02T10:49:10.940Z"
   },
   {
    "duration": 2794,
    "start_time": "2022-06-02T10:49:12.432Z"
   },
   {
    "duration": 5,
    "start_time": "2022-06-02T10:49:15.228Z"
   },
   {
    "duration": 996,
    "start_time": "2022-06-02T10:49:15.236Z"
   },
   {
    "duration": 96,
    "start_time": "2022-06-02T10:49:16.236Z"
   },
   {
    "duration": 97,
    "start_time": "2022-06-02T10:49:16.334Z"
   },
   {
    "duration": 97,
    "start_time": "2022-06-02T10:49:16.433Z"
   },
   {
    "duration": 99,
    "start_time": "2022-06-02T10:49:16.532Z"
   },
   {
    "duration": 94,
    "start_time": "2022-06-02T10:49:16.634Z"
   },
   {
    "duration": 8,
    "start_time": "2022-06-02T10:49:16.731Z"
   },
   {
    "duration": 86,
    "start_time": "2022-06-02T10:49:16.742Z"
   },
   {
    "duration": 10,
    "start_time": "2022-06-02T10:49:16.830Z"
   },
   {
    "duration": 11,
    "start_time": "2022-06-02T10:49:16.926Z"
   },
   {
    "duration": 101,
    "start_time": "2022-06-02T10:49:16.939Z"
   },
   {
    "duration": 95,
    "start_time": "2022-06-02T10:49:17.042Z"
   },
   {
    "duration": 87,
    "start_time": "2022-06-02T10:49:17.141Z"
   },
   {
    "duration": 95,
    "start_time": "2022-06-02T10:49:17.231Z"
   },
   {
    "duration": 99,
    "start_time": "2022-06-02T10:49:17.329Z"
   },
   {
    "duration": 9,
    "start_time": "2022-06-02T10:49:17.431Z"
   },
   {
    "duration": 8,
    "start_time": "2022-06-02T10:49:17.525Z"
   },
   {
    "duration": 64,
    "start_time": "2022-06-02T12:12:51.007Z"
   },
   {
    "duration": 30,
    "start_time": "2022-06-02T19:33:24.501Z"
   },
   {
    "duration": 4,
    "start_time": "2022-06-02T20:06:42.065Z"
   },
   {
    "duration": 4,
    "start_time": "2022-06-02T20:06:53.900Z"
   },
   {
    "duration": 1519,
    "start_time": "2022-06-03T11:19:44.269Z"
   },
   {
    "duration": 3075,
    "start_time": "2022-06-03T11:19:45.791Z"
   },
   {
    "duration": 50,
    "start_time": "2022-06-03T11:19:48.868Z"
   },
   {
    "duration": 682,
    "start_time": "2022-06-03T11:19:48.921Z"
   },
   {
    "duration": 2,
    "start_time": "2022-06-03T11:19:49.605Z"
   },
   {
    "duration": 27,
    "start_time": "2022-06-03T11:19:49.609Z"
   },
   {
    "duration": 12,
    "start_time": "2022-06-03T11:19:49.638Z"
   },
   {
    "duration": 9,
    "start_time": "2022-06-03T11:19:49.652Z"
   },
   {
    "duration": 16,
    "start_time": "2022-06-03T11:19:49.663Z"
   },
   {
    "duration": 14,
    "start_time": "2022-06-03T11:19:49.683Z"
   },
   {
    "duration": 9,
    "start_time": "2022-06-03T11:19:49.698Z"
   },
   {
    "duration": 13,
    "start_time": "2022-06-03T11:19:49.709Z"
   },
   {
    "duration": 100,
    "start_time": "2022-06-03T11:19:49.724Z"
   },
   {
    "duration": 124,
    "start_time": "2022-06-03T11:19:49.826Z"
   },
   {
    "duration": 21,
    "start_time": "2022-06-03T11:19:49.951Z"
   },
   {
    "duration": 8,
    "start_time": "2022-06-03T11:19:49.974Z"
   },
   {
    "duration": 8,
    "start_time": "2022-06-03T11:19:49.984Z"
   },
   {
    "duration": 36,
    "start_time": "2022-06-03T11:19:49.993Z"
   },
   {
    "duration": 397,
    "start_time": "2022-06-03T11:19:50.031Z"
   },
   {
    "duration": 405,
    "start_time": "2022-06-03T11:19:50.429Z"
   },
   {
    "duration": 500,
    "start_time": "2022-06-03T11:19:50.836Z"
   },
   {
    "duration": 21,
    "start_time": "2022-06-03T11:19:51.338Z"
   },
   {
    "duration": 9,
    "start_time": "2022-06-03T11:19:51.361Z"
   },
   {
    "duration": 523,
    "start_time": "2022-06-03T11:19:51.372Z"
   },
   {
    "duration": 510,
    "start_time": "2022-06-03T11:19:51.897Z"
   },
   {
    "duration": 482,
    "start_time": "2022-06-03T11:19:52.409Z"
   },
   {
    "duration": 420,
    "start_time": "2022-06-03T11:19:52.893Z"
   },
   {
    "duration": 10,
    "start_time": "2022-06-03T11:19:53.328Z"
   },
   {
    "duration": 9,
    "start_time": "2022-06-03T11:19:53.340Z"
   },
   {
    "duration": 6,
    "start_time": "2022-06-03T11:19:53.350Z"
   },
   {
    "duration": 140,
    "start_time": "2022-06-03T11:19:53.358Z"
   },
   {
    "duration": 29,
    "start_time": "2022-06-03T11:19:53.500Z"
   },
   {
    "duration": 8,
    "start_time": "2022-06-03T11:19:53.531Z"
   },
   {
    "duration": 2,
    "start_time": "2022-06-03T11:19:53.541Z"
   },
   {
    "duration": 127,
    "start_time": "2022-06-03T11:19:53.545Z"
   },
   {
    "duration": 1,
    "start_time": "2022-06-03T11:19:53.673Z"
   },
   {
    "duration": 0,
    "start_time": "2022-06-03T11:19:53.675Z"
   },
   {
    "duration": 0,
    "start_time": "2022-06-03T11:19:53.676Z"
   },
   {
    "duration": 0,
    "start_time": "2022-06-03T11:19:53.678Z"
   },
   {
    "duration": 0,
    "start_time": "2022-06-03T11:19:53.679Z"
   },
   {
    "duration": 1,
    "start_time": "2022-06-03T11:19:53.680Z"
   },
   {
    "duration": 0,
    "start_time": "2022-06-03T11:19:53.683Z"
   },
   {
    "duration": 0,
    "start_time": "2022-06-03T11:19:53.684Z"
   },
   {
    "duration": 0,
    "start_time": "2022-06-03T11:19:53.685Z"
   },
   {
    "duration": 0,
    "start_time": "2022-06-03T11:19:53.687Z"
   },
   {
    "duration": 0,
    "start_time": "2022-06-03T11:19:53.689Z"
   },
   {
    "duration": 0,
    "start_time": "2022-06-03T11:19:53.690Z"
   },
   {
    "duration": 0,
    "start_time": "2022-06-03T11:19:53.691Z"
   },
   {
    "duration": 0,
    "start_time": "2022-06-03T11:19:53.693Z"
   },
   {
    "duration": 0,
    "start_time": "2022-06-03T11:19:53.728Z"
   },
   {
    "duration": 0,
    "start_time": "2022-06-03T11:19:53.729Z"
   },
   {
    "duration": 0,
    "start_time": "2022-06-03T11:19:53.732Z"
   },
   {
    "duration": 0,
    "start_time": "2022-06-03T11:19:53.734Z"
   },
   {
    "duration": 0,
    "start_time": "2022-06-03T11:19:53.734Z"
   },
   {
    "duration": 0,
    "start_time": "2022-06-03T11:19:53.735Z"
   },
   {
    "duration": 0,
    "start_time": "2022-06-03T11:19:53.737Z"
   },
   {
    "duration": 0,
    "start_time": "2022-06-03T11:19:53.738Z"
   },
   {
    "duration": 0,
    "start_time": "2022-06-03T11:19:53.739Z"
   },
   {
    "duration": 0,
    "start_time": "2022-06-03T11:19:53.740Z"
   },
   {
    "duration": 0,
    "start_time": "2022-06-03T11:19:53.741Z"
   },
   {
    "duration": 0,
    "start_time": "2022-06-03T11:19:53.742Z"
   },
   {
    "duration": 0,
    "start_time": "2022-06-03T11:19:53.743Z"
   },
   {
    "duration": 0,
    "start_time": "2022-06-03T11:19:53.744Z"
   },
   {
    "duration": 0,
    "start_time": "2022-06-03T11:19:53.745Z"
   },
   {
    "duration": 0,
    "start_time": "2022-06-03T11:19:53.746Z"
   },
   {
    "duration": 0,
    "start_time": "2022-06-03T11:19:53.747Z"
   },
   {
    "duration": 0,
    "start_time": "2022-06-03T11:19:53.748Z"
   },
   {
    "duration": 0,
    "start_time": "2022-06-03T11:19:53.749Z"
   },
   {
    "duration": 0,
    "start_time": "2022-06-03T11:19:53.750Z"
   },
   {
    "duration": 0,
    "start_time": "2022-06-03T11:19:53.751Z"
   },
   {
    "duration": 0,
    "start_time": "2022-06-03T11:19:53.752Z"
   },
   {
    "duration": 0,
    "start_time": "2022-06-03T11:19:53.753Z"
   },
   {
    "duration": 0,
    "start_time": "2022-06-03T11:19:53.754Z"
   },
   {
    "duration": 0,
    "start_time": "2022-06-03T11:19:53.755Z"
   },
   {
    "duration": 0,
    "start_time": "2022-06-03T11:19:53.756Z"
   },
   {
    "duration": 0,
    "start_time": "2022-06-03T11:19:53.757Z"
   },
   {
    "duration": 0,
    "start_time": "2022-06-03T11:19:53.758Z"
   },
   {
    "duration": 0,
    "start_time": "2022-06-03T11:19:53.759Z"
   },
   {
    "duration": 0,
    "start_time": "2022-06-03T11:19:53.760Z"
   },
   {
    "duration": 0,
    "start_time": "2022-06-03T11:19:53.762Z"
   },
   {
    "duration": 0,
    "start_time": "2022-06-03T11:19:53.763Z"
   },
   {
    "duration": 0,
    "start_time": "2022-06-03T11:19:53.764Z"
   },
   {
    "duration": 0,
    "start_time": "2022-06-03T11:19:53.765Z"
   },
   {
    "duration": 0,
    "start_time": "2022-06-03T11:19:53.827Z"
   },
   {
    "duration": 0,
    "start_time": "2022-06-03T11:19:53.828Z"
   },
   {
    "duration": 7,
    "start_time": "2022-06-03T11:23:32.912Z"
   },
   {
    "duration": 40,
    "start_time": "2022-06-03T11:23:32.921Z"
   },
   {
    "duration": 45,
    "start_time": "2022-06-03T11:23:32.962Z"
   },
   {
    "duration": 6,
    "start_time": "2022-06-03T11:23:33.009Z"
   },
   {
    "duration": 20,
    "start_time": "2022-06-03T11:23:33.017Z"
   },
   {
    "duration": 53,
    "start_time": "2022-06-03T11:23:33.039Z"
   },
   {
    "duration": 21,
    "start_time": "2022-06-03T11:23:33.094Z"
   },
   {
    "duration": 18,
    "start_time": "2022-06-03T11:23:33.118Z"
   },
   {
    "duration": 18,
    "start_time": "2022-06-03T11:23:33.137Z"
   },
   {
    "duration": 28,
    "start_time": "2022-06-03T11:23:33.157Z"
   },
   {
    "duration": 18,
    "start_time": "2022-06-03T11:23:33.187Z"
   },
   {
    "duration": 56,
    "start_time": "2022-06-03T11:23:33.206Z"
   },
   {
    "duration": 26,
    "start_time": "2022-06-03T11:23:33.263Z"
   },
   {
    "duration": 281,
    "start_time": "2022-06-03T11:23:33.291Z"
   },
   {
    "duration": 11,
    "start_time": "2022-06-03T11:23:33.574Z"
   },
   {
    "duration": 19,
    "start_time": "2022-06-03T11:23:33.589Z"
   },
   {
    "duration": 36,
    "start_time": "2022-06-03T11:23:33.610Z"
   },
   {
    "duration": 12,
    "start_time": "2022-06-03T11:23:33.647Z"
   },
   {
    "duration": 34,
    "start_time": "2022-06-03T11:23:33.660Z"
   },
   {
    "duration": 22,
    "start_time": "2022-06-03T11:23:33.695Z"
   },
   {
    "duration": 15,
    "start_time": "2022-06-03T11:23:33.719Z"
   },
   {
    "duration": 2475,
    "start_time": "2022-06-03T11:23:33.736Z"
   },
   {
    "duration": 4,
    "start_time": "2022-06-03T11:23:36.214Z"
   },
   {
    "duration": 3994,
    "start_time": "2022-06-03T11:23:36.220Z"
   },
   {
    "duration": 3,
    "start_time": "2022-06-03T11:23:40.216Z"
   },
   {
    "duration": 27,
    "start_time": "2022-06-03T11:23:40.220Z"
   },
   {
    "duration": 30,
    "start_time": "2022-06-03T11:23:40.248Z"
   },
   {
    "duration": 32,
    "start_time": "2022-06-03T11:23:40.280Z"
   },
   {
    "duration": 32,
    "start_time": "2022-06-03T11:23:40.314Z"
   },
   {
    "duration": 37,
    "start_time": "2022-06-03T11:23:40.348Z"
   },
   {
    "duration": 25,
    "start_time": "2022-06-03T11:23:40.387Z"
   },
   {
    "duration": 1018,
    "start_time": "2022-06-03T11:23:40.414Z"
   },
   {
    "duration": 1701,
    "start_time": "2022-06-03T11:23:41.434Z"
   },
   {
    "duration": 98,
    "start_time": "2022-06-03T11:23:43.138Z"
   },
   {
    "duration": 297,
    "start_time": "2022-06-03T11:23:43.238Z"
   },
   {
    "duration": 197,
    "start_time": "2022-06-03T11:23:43.537Z"
   },
   {
    "duration": 196,
    "start_time": "2022-06-03T11:23:43.736Z"
   },
   {
    "duration": 24,
    "start_time": "2022-06-03T11:23:43.934Z"
   },
   {
    "duration": 7,
    "start_time": "2022-06-03T11:23:43.961Z"
   },
   {
    "duration": 6,
    "start_time": "2022-06-03T11:23:43.971Z"
   },
   {
    "duration": 8,
    "start_time": "2022-06-03T11:23:43.979Z"
   },
   {
    "duration": 17,
    "start_time": "2022-06-03T11:23:43.988Z"
   },
   {
    "duration": 12,
    "start_time": "2022-06-03T11:23:44.007Z"
   },
   {
    "duration": 11,
    "start_time": "2022-06-03T11:23:44.021Z"
   },
   {
    "duration": 6,
    "start_time": "2022-06-03T11:23:44.034Z"
   },
   {
    "duration": 9,
    "start_time": "2022-06-03T11:23:44.042Z"
   },
   {
    "duration": 8,
    "start_time": "2022-06-03T11:23:44.052Z"
   },
   {
    "duration": 13,
    "start_time": "2022-06-03T11:23:44.062Z"
   },
   {
    "duration": 20,
    "start_time": "2022-06-03T11:23:44.077Z"
   },
   {
    "duration": 10,
    "start_time": "2022-06-03T11:23:44.099Z"
   },
   {
    "duration": 14,
    "start_time": "2022-06-03T11:23:44.110Z"
   },
   {
    "duration": 5,
    "start_time": "2022-06-03T12:36:11.090Z"
   },
   {
    "duration": 2925,
    "start_time": "2022-06-03T12:36:11.102Z"
   },
   {
    "duration": 37,
    "start_time": "2022-06-03T12:36:14.029Z"
   },
   {
    "duration": 871,
    "start_time": "2022-06-03T12:36:14.068Z"
   },
   {
    "duration": 2,
    "start_time": "2022-06-03T12:36:14.942Z"
   },
   {
    "duration": 14,
    "start_time": "2022-06-03T12:36:14.946Z"
   },
   {
    "duration": 14,
    "start_time": "2022-06-03T12:36:14.962Z"
   },
   {
    "duration": 8,
    "start_time": "2022-06-03T12:36:14.977Z"
   },
   {
    "duration": 10,
    "start_time": "2022-06-03T12:36:14.986Z"
   },
   {
    "duration": 28,
    "start_time": "2022-06-03T12:36:14.997Z"
   },
   {
    "duration": 21,
    "start_time": "2022-06-03T12:36:15.027Z"
   },
   {
    "duration": 14,
    "start_time": "2022-06-03T12:36:15.049Z"
   },
   {
    "duration": 98,
    "start_time": "2022-06-03T12:36:15.064Z"
   },
   {
    "duration": 131,
    "start_time": "2022-06-03T12:36:15.164Z"
   },
   {
    "duration": 41,
    "start_time": "2022-06-03T12:36:15.297Z"
   },
   {
    "duration": 11,
    "start_time": "2022-06-03T12:36:15.340Z"
   },
   {
    "duration": 22,
    "start_time": "2022-06-03T12:36:15.353Z"
   },
   {
    "duration": 6,
    "start_time": "2022-06-03T12:36:15.377Z"
   },
   {
    "duration": 431,
    "start_time": "2022-06-03T12:36:15.385Z"
   },
   {
    "duration": 673,
    "start_time": "2022-06-03T12:36:15.817Z"
   },
   {
    "duration": 419,
    "start_time": "2022-06-03T12:36:16.492Z"
   },
   {
    "duration": 28,
    "start_time": "2022-06-03T12:36:16.913Z"
   },
   {
    "duration": 8,
    "start_time": "2022-06-03T12:36:16.943Z"
   },
   {
    "duration": 460,
    "start_time": "2022-06-03T12:36:16.952Z"
   },
   {
    "duration": 494,
    "start_time": "2022-06-03T12:36:17.414Z"
   },
   {
    "duration": 623,
    "start_time": "2022-06-03T12:36:17.910Z"
   },
   {
    "duration": 294,
    "start_time": "2022-06-03T12:36:18.535Z"
   },
   {
    "duration": 8,
    "start_time": "2022-06-03T12:36:18.831Z"
   },
   {
    "duration": 44,
    "start_time": "2022-06-03T12:36:18.843Z"
   },
   {
    "duration": 5,
    "start_time": "2022-06-03T12:36:18.889Z"
   },
   {
    "duration": 122,
    "start_time": "2022-06-03T12:36:18.895Z"
   },
   {
    "duration": 14,
    "start_time": "2022-06-03T12:36:19.019Z"
   },
   {
    "duration": 9,
    "start_time": "2022-06-03T12:36:19.034Z"
   },
   {
    "duration": 4,
    "start_time": "2022-06-03T12:36:19.045Z"
   },
   {
    "duration": 9,
    "start_time": "2022-06-03T12:36:19.051Z"
   },
   {
    "duration": 14,
    "start_time": "2022-06-03T12:36:19.061Z"
   },
   {
    "duration": 68,
    "start_time": "2022-06-03T12:36:19.076Z"
   },
   {
    "duration": 6,
    "start_time": "2022-06-03T12:36:19.146Z"
   },
   {
    "duration": 11,
    "start_time": "2022-06-03T12:36:19.153Z"
   },
   {
    "duration": 21,
    "start_time": "2022-06-03T12:36:19.166Z"
   },
   {
    "duration": 4,
    "start_time": "2022-06-03T12:36:19.188Z"
   },
   {
    "duration": 8,
    "start_time": "2022-06-03T12:36:19.193Z"
   },
   {
    "duration": 26,
    "start_time": "2022-06-03T12:36:19.202Z"
   },
   {
    "duration": 5,
    "start_time": "2022-06-03T12:36:19.230Z"
   },
   {
    "duration": 8,
    "start_time": "2022-06-03T12:36:19.237Z"
   },
   {
    "duration": 11,
    "start_time": "2022-06-03T12:36:19.247Z"
   },
   {
    "duration": 11,
    "start_time": "2022-06-03T12:36:19.260Z"
   },
   {
    "duration": 19,
    "start_time": "2022-06-03T12:36:19.272Z"
   },
   {
    "duration": 29,
    "start_time": "2022-06-03T12:36:19.296Z"
   },
   {
    "duration": 10,
    "start_time": "2022-06-03T12:36:19.327Z"
   },
   {
    "duration": 10,
    "start_time": "2022-06-03T12:36:19.338Z"
   },
   {
    "duration": 7,
    "start_time": "2022-06-03T12:36:19.350Z"
   },
   {
    "duration": 4,
    "start_time": "2022-06-03T12:36:19.358Z"
   },
   {
    "duration": 9,
    "start_time": "2022-06-03T12:36:19.363Z"
   },
   {
    "duration": 9,
    "start_time": "2022-06-03T12:36:19.374Z"
   },
   {
    "duration": 6,
    "start_time": "2022-06-03T12:36:19.385Z"
   },
   {
    "duration": 2368,
    "start_time": "2022-06-03T12:36:19.392Z"
   },
   {
    "duration": 3,
    "start_time": "2022-06-03T12:36:21.761Z"
   },
   {
    "duration": 2879,
    "start_time": "2022-06-03T12:36:21.765Z"
   },
   {
    "duration": 3,
    "start_time": "2022-06-03T12:36:24.645Z"
   },
   {
    "duration": 9,
    "start_time": "2022-06-03T12:36:24.649Z"
   },
   {
    "duration": 5,
    "start_time": "2022-06-03T12:36:24.659Z"
   },
   {
    "duration": 8,
    "start_time": "2022-06-03T12:36:24.665Z"
   },
   {
    "duration": 9,
    "start_time": "2022-06-03T12:36:24.674Z"
   },
   {
    "duration": 1237436,
    "start_time": "2022-06-03T12:36:24.684Z"
   },
   {
    "duration": 0,
    "start_time": "2022-06-03T12:57:02.122Z"
   },
   {
    "duration": 0,
    "start_time": "2022-06-03T12:57:02.123Z"
   },
   {
    "duration": 0,
    "start_time": "2022-06-03T12:57:02.124Z"
   },
   {
    "duration": 0,
    "start_time": "2022-06-03T12:57:02.125Z"
   },
   {
    "duration": 0,
    "start_time": "2022-06-03T12:57:02.126Z"
   },
   {
    "duration": 0,
    "start_time": "2022-06-03T12:57:02.127Z"
   },
   {
    "duration": 0,
    "start_time": "2022-06-03T12:57:02.129Z"
   },
   {
    "duration": 0,
    "start_time": "2022-06-03T12:57:02.135Z"
   },
   {
    "duration": 0,
    "start_time": "2022-06-03T12:57:02.136Z"
   },
   {
    "duration": 0,
    "start_time": "2022-06-03T12:57:02.137Z"
   },
   {
    "duration": 0,
    "start_time": "2022-06-03T12:57:02.139Z"
   },
   {
    "duration": 0,
    "start_time": "2022-06-03T12:57:02.140Z"
   },
   {
    "duration": 0,
    "start_time": "2022-06-03T12:57:02.141Z"
   },
   {
    "duration": 0,
    "start_time": "2022-06-03T12:57:02.143Z"
   },
   {
    "duration": 0,
    "start_time": "2022-06-03T12:57:02.144Z"
   },
   {
    "duration": 0,
    "start_time": "2022-06-03T12:57:02.145Z"
   },
   {
    "duration": 0,
    "start_time": "2022-06-03T12:57:02.146Z"
   },
   {
    "duration": 0,
    "start_time": "2022-06-03T12:57:02.147Z"
   },
   {
    "duration": 0,
    "start_time": "2022-06-03T12:57:02.149Z"
   },
   {
    "duration": 0,
    "start_time": "2022-06-03T12:57:02.151Z"
   },
   {
    "duration": 0,
    "start_time": "2022-06-03T12:57:02.152Z"
   },
   {
    "duration": 0,
    "start_time": "2022-06-03T12:57:02.154Z"
   },
   {
    "duration": 6,
    "start_time": "2022-06-03T13:00:06.276Z"
   },
   {
    "duration": 791,
    "start_time": "2022-06-03T13:00:06.290Z"
   },
   {
    "duration": 52,
    "start_time": "2022-06-03T13:00:07.083Z"
   },
   {
    "duration": 513,
    "start_time": "2022-06-03T13:00:07.136Z"
   },
   {
    "duration": 3,
    "start_time": "2022-06-03T13:00:07.651Z"
   },
   {
    "duration": 26,
    "start_time": "2022-06-03T13:00:07.656Z"
   },
   {
    "duration": 14,
    "start_time": "2022-06-03T13:00:07.683Z"
   },
   {
    "duration": 19,
    "start_time": "2022-06-03T13:00:07.698Z"
   },
   {
    "duration": 26,
    "start_time": "2022-06-03T13:00:07.718Z"
   },
   {
    "duration": 15,
    "start_time": "2022-06-03T13:00:07.746Z"
   },
   {
    "duration": 14,
    "start_time": "2022-06-03T13:00:07.764Z"
   },
   {
    "duration": 16,
    "start_time": "2022-06-03T13:00:07.780Z"
   },
   {
    "duration": 214,
    "start_time": "2022-06-03T13:00:07.798Z"
   },
   {
    "duration": 121,
    "start_time": "2022-06-03T13:00:08.013Z"
   },
   {
    "duration": 21,
    "start_time": "2022-06-03T13:00:08.142Z"
   },
   {
    "duration": 10,
    "start_time": "2022-06-03T13:00:08.165Z"
   },
   {
    "duration": 9,
    "start_time": "2022-06-03T13:00:08.176Z"
   },
   {
    "duration": 14,
    "start_time": "2022-06-03T13:00:08.186Z"
   },
   {
    "duration": 421,
    "start_time": "2022-06-03T13:00:08.202Z"
   },
   {
    "duration": 424,
    "start_time": "2022-06-03T13:00:08.624Z"
   },
   {
    "duration": 413,
    "start_time": "2022-06-03T13:00:09.049Z"
   },
   {
    "duration": 15,
    "start_time": "2022-06-03T13:00:09.464Z"
   },
   {
    "duration": 19,
    "start_time": "2022-06-03T13:00:09.480Z"
   },
   {
    "duration": 609,
    "start_time": "2022-06-03T13:00:09.500Z"
   },
   {
    "duration": 538,
    "start_time": "2022-06-03T13:00:10.111Z"
   },
   {
    "duration": 491,
    "start_time": "2022-06-03T13:00:10.651Z"
   },
   {
    "duration": 339,
    "start_time": "2022-06-03T13:00:11.144Z"
   },
   {
    "duration": 8,
    "start_time": "2022-06-03T13:00:11.485Z"
   },
   {
    "duration": 34,
    "start_time": "2022-06-03T13:00:11.497Z"
   },
   {
    "duration": 22,
    "start_time": "2022-06-03T13:00:11.540Z"
   },
   {
    "duration": 160,
    "start_time": "2022-06-03T13:00:11.563Z"
   },
   {
    "duration": 19,
    "start_time": "2022-06-03T13:00:11.724Z"
   },
   {
    "duration": 11,
    "start_time": "2022-06-03T13:00:11.745Z"
   },
   {
    "duration": 3,
    "start_time": "2022-06-03T13:00:11.758Z"
   },
   {
    "duration": 12,
    "start_time": "2022-06-03T13:00:11.762Z"
   },
   {
    "duration": 15,
    "start_time": "2022-06-03T13:00:11.775Z"
   },
   {
    "duration": 187,
    "start_time": "2022-06-03T13:00:11.791Z"
   },
   {
    "duration": 6,
    "start_time": "2022-06-03T13:00:11.980Z"
   },
   {
    "duration": 13,
    "start_time": "2022-06-03T13:00:11.988Z"
   },
   {
    "duration": 26,
    "start_time": "2022-06-03T13:00:12.003Z"
   },
   {
    "duration": 10,
    "start_time": "2022-06-03T13:00:12.031Z"
   },
   {
    "duration": 13,
    "start_time": "2022-06-03T13:00:12.043Z"
   },
   {
    "duration": 10,
    "start_time": "2022-06-03T13:00:12.058Z"
   },
   {
    "duration": 6,
    "start_time": "2022-06-03T13:00:12.069Z"
   },
   {
    "duration": 9,
    "start_time": "2022-06-03T13:00:12.076Z"
   },
   {
    "duration": 11,
    "start_time": "2022-06-03T13:00:12.087Z"
   },
   {
    "duration": 6,
    "start_time": "2022-06-03T13:00:12.099Z"
   },
   {
    "duration": 12,
    "start_time": "2022-06-03T13:00:12.106Z"
   },
   {
    "duration": 30,
    "start_time": "2022-06-03T13:00:12.120Z"
   },
   {
    "duration": 11,
    "start_time": "2022-06-03T13:00:12.152Z"
   },
   {
    "duration": 10,
    "start_time": "2022-06-03T13:00:12.164Z"
   },
   {
    "duration": 8,
    "start_time": "2022-06-03T13:00:12.176Z"
   },
   {
    "duration": 6,
    "start_time": "2022-06-03T13:00:12.186Z"
   },
   {
    "duration": 13,
    "start_time": "2022-06-03T13:00:12.195Z"
   },
   {
    "duration": 17,
    "start_time": "2022-06-03T13:00:12.227Z"
   },
   {
    "duration": 14,
    "start_time": "2022-06-03T13:00:12.246Z"
   },
   {
    "duration": 2581,
    "start_time": "2022-06-03T13:00:12.262Z"
   },
   {
    "duration": 3,
    "start_time": "2022-06-03T13:00:14.850Z"
   },
   {
    "duration": 3666,
    "start_time": "2022-06-03T13:00:14.855Z"
   },
   {
    "duration": 14,
    "start_time": "2022-06-03T13:00:18.522Z"
   },
   {
    "duration": 12,
    "start_time": "2022-06-03T13:00:18.543Z"
   },
   {
    "duration": 14,
    "start_time": "2022-06-03T13:00:18.557Z"
   },
   {
    "duration": 17,
    "start_time": "2022-06-03T13:00:18.572Z"
   },
   {
    "duration": 11,
    "start_time": "2022-06-03T13:00:18.591Z"
   },
   {
    "duration": 7,
    "start_time": "2022-06-03T13:00:18.604Z"
   },
   {
    "duration": 9,
    "start_time": "2022-06-03T13:00:18.612Z"
   },
   {
    "duration": 708,
    "start_time": "2022-06-03T13:00:18.622Z"
   },
   {
    "duration": 2697,
    "start_time": "2022-06-03T13:00:19.333Z"
   },
   {
    "duration": 9,
    "start_time": "2022-06-03T13:00:22.032Z"
   },
   {
    "duration": 506,
    "start_time": "2022-06-03T13:00:22.043Z"
   },
   {
    "duration": 385,
    "start_time": "2022-06-03T13:00:22.551Z"
   },
   {
    "duration": 97,
    "start_time": "2022-06-03T13:00:22.938Z"
   },
   {
    "duration": 20,
    "start_time": "2022-06-03T13:00:23.039Z"
   },
   {
    "duration": 10,
    "start_time": "2022-06-03T13:00:23.061Z"
   },
   {
    "duration": 5,
    "start_time": "2022-06-03T13:00:23.073Z"
   },
   {
    "duration": 5,
    "start_time": "2022-06-03T13:00:23.080Z"
   },
   {
    "duration": 8,
    "start_time": "2022-06-03T13:00:23.087Z"
   },
   {
    "duration": 10,
    "start_time": "2022-06-03T13:00:23.097Z"
   },
   {
    "duration": 13,
    "start_time": "2022-06-03T13:00:23.108Z"
   },
   {
    "duration": 26,
    "start_time": "2022-06-03T13:00:23.123Z"
   },
   {
    "duration": 11,
    "start_time": "2022-06-03T13:00:23.151Z"
   },
   {
    "duration": 8,
    "start_time": "2022-06-03T13:00:23.164Z"
   },
   {
    "duration": 9,
    "start_time": "2022-06-03T13:00:23.177Z"
   },
   {
    "duration": 8,
    "start_time": "2022-06-03T13:00:23.188Z"
   },
   {
    "duration": 7,
    "start_time": "2022-06-03T13:00:23.197Z"
   },
   {
    "duration": 9,
    "start_time": "2022-06-03T13:00:23.205Z"
   },
   {
    "duration": 6,
    "start_time": "2022-06-03T13:20:10.326Z"
   },
   {
    "duration": 720,
    "start_time": "2022-06-03T13:20:10.345Z"
   },
   {
    "duration": 37,
    "start_time": "2022-06-03T13:20:11.067Z"
   },
   {
    "duration": 555,
    "start_time": "2022-06-03T13:20:11.127Z"
   },
   {
    "duration": 4,
    "start_time": "2022-06-03T13:20:11.685Z"
   },
   {
    "duration": 27,
    "start_time": "2022-06-03T13:20:11.691Z"
   },
   {
    "duration": 40,
    "start_time": "2022-06-03T13:20:11.720Z"
   },
   {
    "duration": 17,
    "start_time": "2022-06-03T13:20:11.763Z"
   },
   {
    "duration": 33,
    "start_time": "2022-06-03T13:20:11.782Z"
   },
   {
    "duration": 31,
    "start_time": "2022-06-03T13:20:11.817Z"
   },
   {
    "duration": 20,
    "start_time": "2022-06-03T13:20:11.852Z"
   },
   {
    "duration": 31,
    "start_time": "2022-06-03T13:20:11.875Z"
   },
   {
    "duration": 106,
    "start_time": "2022-06-03T13:20:11.908Z"
   },
   {
    "duration": 126,
    "start_time": "2022-06-03T13:20:12.016Z"
   },
   {
    "duration": 37,
    "start_time": "2022-06-03T13:20:12.143Z"
   },
   {
    "duration": 8,
    "start_time": "2022-06-03T13:20:12.181Z"
   },
   {
    "duration": 20,
    "start_time": "2022-06-03T13:20:12.191Z"
   },
   {
    "duration": 41,
    "start_time": "2022-06-03T13:20:12.213Z"
   },
   {
    "duration": 419,
    "start_time": "2022-06-03T13:20:12.256Z"
   },
   {
    "duration": 436,
    "start_time": "2022-06-03T13:20:12.677Z"
   },
   {
    "duration": 560,
    "start_time": "2022-06-03T13:20:13.115Z"
   },
   {
    "duration": 19,
    "start_time": "2022-06-03T13:20:13.678Z"
   },
   {
    "duration": 11,
    "start_time": "2022-06-03T13:20:13.700Z"
   },
   {
    "duration": 571,
    "start_time": "2022-06-03T13:20:13.731Z"
   },
   {
    "duration": 547,
    "start_time": "2022-06-03T13:20:14.304Z"
   },
   {
    "duration": 530,
    "start_time": "2022-06-03T13:20:14.853Z"
   },
   {
    "duration": 455,
    "start_time": "2022-06-03T13:20:15.385Z"
   },
   {
    "duration": 10,
    "start_time": "2022-06-03T13:20:15.842Z"
   },
   {
    "duration": 8,
    "start_time": "2022-06-03T13:20:15.856Z"
   },
   {
    "duration": 7,
    "start_time": "2022-06-03T13:20:15.865Z"
   },
   {
    "duration": 146,
    "start_time": "2022-06-03T13:20:15.873Z"
   },
   {
    "duration": 26,
    "start_time": "2022-06-03T13:20:16.020Z"
   },
   {
    "duration": 10,
    "start_time": "2022-06-03T13:20:16.048Z"
   },
   {
    "duration": 6,
    "start_time": "2022-06-03T13:20:16.060Z"
   },
   {
    "duration": 13,
    "start_time": "2022-06-03T13:20:16.068Z"
   },
   {
    "duration": 18,
    "start_time": "2022-06-03T13:20:16.083Z"
   },
   {
    "duration": 70,
    "start_time": "2022-06-03T13:20:16.103Z"
   },
   {
    "duration": 7,
    "start_time": "2022-06-03T13:20:16.175Z"
   },
   {
    "duration": 7,
    "start_time": "2022-06-03T13:20:16.183Z"
   },
   {
    "duration": 43,
    "start_time": "2022-06-03T13:20:16.192Z"
   },
   {
    "duration": 5,
    "start_time": "2022-06-03T13:20:16.237Z"
   },
   {
    "duration": 16,
    "start_time": "2022-06-03T13:20:16.246Z"
   },
   {
    "duration": 14,
    "start_time": "2022-06-03T13:20:16.264Z"
   },
   {
    "duration": 8,
    "start_time": "2022-06-03T13:20:16.280Z"
   },
   {
    "duration": 13,
    "start_time": "2022-06-03T13:20:16.289Z"
   },
   {
    "duration": 50,
    "start_time": "2022-06-03T13:20:16.304Z"
   },
   {
    "duration": 14,
    "start_time": "2022-06-03T13:20:16.356Z"
   },
   {
    "duration": 14,
    "start_time": "2022-06-03T13:20:16.372Z"
   },
   {
    "duration": 40,
    "start_time": "2022-06-03T13:20:16.387Z"
   },
   {
    "duration": 21,
    "start_time": "2022-06-03T13:20:16.429Z"
   },
   {
    "duration": 20,
    "start_time": "2022-06-03T13:20:16.451Z"
   },
   {
    "duration": 8,
    "start_time": "2022-06-03T13:20:16.473Z"
   },
   {
    "duration": 12,
    "start_time": "2022-06-03T13:20:16.482Z"
   },
   {
    "duration": 12,
    "start_time": "2022-06-03T13:20:16.496Z"
   },
   {
    "duration": 32,
    "start_time": "2022-06-03T13:20:16.510Z"
   },
   {
    "duration": 17,
    "start_time": "2022-06-03T13:20:16.543Z"
   },
   {
    "duration": 2620,
    "start_time": "2022-06-03T13:20:16.563Z"
   },
   {
    "duration": 3,
    "start_time": "2022-06-03T13:20:19.184Z"
   },
   {
    "duration": 3682,
    "start_time": "2022-06-03T13:20:19.189Z"
   },
   {
    "duration": 3,
    "start_time": "2022-06-03T13:20:22.874Z"
   },
   {
    "duration": 4,
    "start_time": "2022-06-03T13:20:22.930Z"
   },
   {
    "duration": 24,
    "start_time": "2022-06-03T13:20:22.936Z"
   },
   {
    "duration": 10,
    "start_time": "2022-06-03T13:20:22.962Z"
   },
   {
    "duration": 9,
    "start_time": "2022-06-03T13:20:22.973Z"
   },
   {
    "duration": 11,
    "start_time": "2022-06-03T13:20:22.984Z"
   },
   {
    "duration": 8,
    "start_time": "2022-06-03T13:20:22.998Z"
   },
   {
    "duration": 1030,
    "start_time": "2022-06-03T13:20:23.008Z"
   },
   {
    "duration": 2894,
    "start_time": "2022-06-03T13:20:24.046Z"
   },
   {
    "duration": 86,
    "start_time": "2022-06-03T13:20:26.942Z"
   },
   {
    "duration": 52,
    "start_time": "2022-06-03T13:20:27.034Z"
   },
   {
    "duration": 0,
    "start_time": "2022-06-03T13:20:27.088Z"
   },
   {
    "duration": 0,
    "start_time": "2022-06-03T13:20:27.090Z"
   },
   {
    "duration": 0,
    "start_time": "2022-06-03T13:20:27.091Z"
   },
   {
    "duration": 0,
    "start_time": "2022-06-03T13:20:27.092Z"
   },
   {
    "duration": 1,
    "start_time": "2022-06-03T13:20:27.093Z"
   },
   {
    "duration": 0,
    "start_time": "2022-06-03T13:20:27.095Z"
   },
   {
    "duration": 0,
    "start_time": "2022-06-03T13:20:27.096Z"
   },
   {
    "duration": 0,
    "start_time": "2022-06-03T13:20:27.096Z"
   },
   {
    "duration": 0,
    "start_time": "2022-06-03T13:20:27.098Z"
   },
   {
    "duration": 0,
    "start_time": "2022-06-03T13:20:27.099Z"
   },
   {
    "duration": 0,
    "start_time": "2022-06-03T13:20:27.100Z"
   },
   {
    "duration": 0,
    "start_time": "2022-06-03T13:20:27.101Z"
   },
   {
    "duration": 0,
    "start_time": "2022-06-03T13:20:27.103Z"
   },
   {
    "duration": 0,
    "start_time": "2022-06-03T13:20:27.104Z"
   },
   {
    "duration": 0,
    "start_time": "2022-06-03T13:20:27.105Z"
   },
   {
    "duration": 0,
    "start_time": "2022-06-03T13:20:27.106Z"
   },
   {
    "duration": 0,
    "start_time": "2022-06-03T13:20:27.107Z"
   },
   {
    "duration": 0,
    "start_time": "2022-06-03T13:20:27.108Z"
   },
   {
    "duration": 0,
    "start_time": "2022-06-03T13:20:27.110Z"
   },
   {
    "duration": 0,
    "start_time": "2022-06-03T13:20:27.111Z"
   },
   {
    "duration": 0,
    "start_time": "2022-06-03T13:20:27.111Z"
   },
   {
    "duration": 0,
    "start_time": "2022-06-03T13:20:27.112Z"
   },
   {
    "duration": 0,
    "start_time": "2022-06-03T13:20:27.114Z"
   },
   {
    "duration": 0,
    "start_time": "2022-06-03T13:20:27.115Z"
   },
   {
    "duration": 0,
    "start_time": "2022-06-03T13:20:27.116Z"
   },
   {
    "duration": 371,
    "start_time": "2022-06-03T13:20:57.866Z"
   },
   {
    "duration": 13,
    "start_time": "2022-06-03T13:20:58.242Z"
   },
   {
    "duration": 12,
    "start_time": "2022-06-03T13:20:58.258Z"
   },
   {
    "duration": 7,
    "start_time": "2022-06-03T13:20:58.273Z"
   },
   {
    "duration": 7,
    "start_time": "2022-06-03T13:20:58.282Z"
   },
   {
    "duration": 13,
    "start_time": "2022-06-03T13:20:58.290Z"
   },
   {
    "duration": 12,
    "start_time": "2022-06-03T13:20:58.305Z"
   },
   {
    "duration": 38,
    "start_time": "2022-06-03T13:20:58.318Z"
   },
   {
    "duration": 383,
    "start_time": "2022-06-03T13:20:58.358Z"
   },
   {
    "duration": 109,
    "start_time": "2022-06-03T13:20:58.744Z"
   },
   {
    "duration": 74,
    "start_time": "2022-06-03T13:20:58.855Z"
   },
   {
    "duration": 15,
    "start_time": "2022-06-03T13:20:58.934Z"
   },
   {
    "duration": 76,
    "start_time": "2022-06-03T13:20:58.956Z"
   },
   {
    "duration": 10,
    "start_time": "2022-06-03T13:20:59.039Z"
   },
   {
    "duration": 12,
    "start_time": "2022-06-03T13:20:59.051Z"
   },
   {
    "duration": 7,
    "start_time": "2022-06-03T13:20:59.065Z"
   },
   {
    "duration": 5,
    "start_time": "2022-06-03T13:20:59.074Z"
   },
   {
    "duration": 9,
    "start_time": "2022-06-03T13:20:59.081Z"
   },
   {
    "duration": 24,
    "start_time": "2022-06-03T13:20:59.092Z"
   },
   {
    "duration": 32,
    "start_time": "2022-06-03T13:20:59.118Z"
   },
   {
    "duration": 10,
    "start_time": "2022-06-03T13:20:59.152Z"
   },
   {
    "duration": 6,
    "start_time": "2022-06-03T13:20:59.163Z"
   },
   {
    "duration": 6,
    "start_time": "2022-06-03T13:20:59.171Z"
   },
   {
    "duration": 13,
    "start_time": "2022-06-03T13:20:59.179Z"
   },
   {
    "duration": 23,
    "start_time": "2022-06-03T13:20:59.194Z"
   },
   {
    "duration": 99,
    "start_time": "2022-06-03T18:11:38.529Z"
   },
   {
    "duration": 1786,
    "start_time": "2022-06-03T18:11:47.647Z"
   },
   {
    "duration": 4566,
    "start_time": "2022-06-03T18:11:49.436Z"
   },
   {
    "duration": 49,
    "start_time": "2022-06-03T18:11:54.006Z"
   },
   {
    "duration": 778,
    "start_time": "2022-06-03T18:11:54.057Z"
   },
   {
    "duration": 3,
    "start_time": "2022-06-03T18:11:54.838Z"
   },
   {
    "duration": 11,
    "start_time": "2022-06-03T18:11:54.843Z"
   },
   {
    "duration": 15,
    "start_time": "2022-06-03T18:11:54.856Z"
   },
   {
    "duration": 45,
    "start_time": "2022-06-03T18:11:54.873Z"
   },
   {
    "duration": 6,
    "start_time": "2022-06-03T18:11:54.920Z"
   },
   {
    "duration": 5,
    "start_time": "2022-06-03T18:11:54.931Z"
   },
   {
    "duration": 7,
    "start_time": "2022-06-03T18:11:54.938Z"
   },
   {
    "duration": 5,
    "start_time": "2022-06-03T18:11:54.946Z"
   },
   {
    "duration": 127,
    "start_time": "2022-06-03T18:11:54.952Z"
   },
   {
    "duration": 146,
    "start_time": "2022-06-03T18:11:55.081Z"
   },
   {
    "duration": 22,
    "start_time": "2022-06-03T18:11:55.229Z"
   },
   {
    "duration": 29,
    "start_time": "2022-06-03T18:11:55.252Z"
   },
   {
    "duration": 36,
    "start_time": "2022-06-03T18:11:55.283Z"
   },
   {
    "duration": 8,
    "start_time": "2022-06-03T18:11:55.321Z"
   },
   {
    "duration": 463,
    "start_time": "2022-06-03T18:11:55.331Z"
   },
   {
    "duration": 481,
    "start_time": "2022-06-03T18:11:55.796Z"
   },
   {
    "duration": 596,
    "start_time": "2022-06-03T18:11:56.279Z"
   },
   {
    "duration": 28,
    "start_time": "2022-06-03T18:11:56.886Z"
   },
   {
    "duration": 15,
    "start_time": "2022-06-03T18:11:56.917Z"
   },
   {
    "duration": 567,
    "start_time": "2022-06-03T18:11:56.934Z"
   },
   {
    "duration": 628,
    "start_time": "2022-06-03T18:11:57.503Z"
   },
   {
    "duration": 618,
    "start_time": "2022-06-03T18:11:58.133Z"
   },
   {
    "duration": 579,
    "start_time": "2022-06-03T18:11:58.753Z"
   },
   {
    "duration": 13,
    "start_time": "2022-06-03T18:11:59.337Z"
   },
   {
    "duration": 18,
    "start_time": "2022-06-03T18:11:59.366Z"
   },
   {
    "duration": 51,
    "start_time": "2022-06-03T18:11:59.386Z"
   },
   {
    "duration": 186,
    "start_time": "2022-06-03T18:11:59.440Z"
   },
   {
    "duration": 24,
    "start_time": "2022-06-03T18:11:59.627Z"
   },
   {
    "duration": 54,
    "start_time": "2022-06-03T18:11:59.653Z"
   },
   {
    "duration": 35,
    "start_time": "2022-06-03T18:11:59.709Z"
   },
   {
    "duration": 23,
    "start_time": "2022-06-03T18:11:59.746Z"
   },
   {
    "duration": 20,
    "start_time": "2022-06-03T18:12:10.293Z"
   },
   {
    "duration": 1418,
    "start_time": "2022-06-03T19:37:57.357Z"
   },
   {
    "duration": 1008,
    "start_time": "2022-06-03T19:37:58.780Z"
   },
   {
    "duration": 46,
    "start_time": "2022-06-03T19:37:59.793Z"
   },
   {
    "duration": 801,
    "start_time": "2022-06-03T19:37:59.842Z"
   },
   {
    "duration": 4,
    "start_time": "2022-06-03T19:38:00.645Z"
   },
   {
    "duration": 66,
    "start_time": "2022-06-03T19:38:00.651Z"
   },
   {
    "duration": 26,
    "start_time": "2022-06-03T19:38:00.719Z"
   },
   {
    "duration": 16,
    "start_time": "2022-06-03T19:38:00.747Z"
   },
   {
    "duration": 58,
    "start_time": "2022-06-03T19:38:00.771Z"
   },
   {
    "duration": 38,
    "start_time": "2022-06-03T19:38:00.833Z"
   },
   {
    "duration": 71,
    "start_time": "2022-06-03T19:38:00.877Z"
   },
   {
    "duration": 20,
    "start_time": "2022-06-03T19:38:00.950Z"
   },
   {
    "duration": 157,
    "start_time": "2022-06-03T19:38:00.972Z"
   },
   {
    "duration": 159,
    "start_time": "2022-06-03T19:38:01.130Z"
   },
   {
    "duration": 26,
    "start_time": "2022-06-03T19:38:01.292Z"
   },
   {
    "duration": 19,
    "start_time": "2022-06-03T19:38:01.320Z"
   },
   {
    "duration": 13,
    "start_time": "2022-06-03T19:38:01.341Z"
   },
   {
    "duration": 34,
    "start_time": "2022-06-03T19:38:01.369Z"
   },
   {
    "duration": 519,
    "start_time": "2022-06-03T19:38:01.405Z"
   },
   {
    "duration": 659,
    "start_time": "2022-06-03T19:38:01.929Z"
   },
   {
    "duration": 640,
    "start_time": "2022-06-03T19:38:02.593Z"
   },
   {
    "duration": 34,
    "start_time": "2022-06-03T19:38:03.236Z"
   },
   {
    "duration": 13,
    "start_time": "2022-06-03T19:38:03.271Z"
   },
   {
    "duration": 630,
    "start_time": "2022-06-03T19:38:03.286Z"
   },
   {
    "duration": 630,
    "start_time": "2022-06-03T19:38:03.918Z"
   },
   {
    "duration": 646,
    "start_time": "2022-06-03T19:38:04.550Z"
   },
   {
    "duration": 567,
    "start_time": "2022-06-03T19:38:05.197Z"
   },
   {
    "duration": 11,
    "start_time": "2022-06-03T19:38:05.776Z"
   },
   {
    "duration": 49,
    "start_time": "2022-06-03T19:38:05.789Z"
   },
   {
    "duration": 7,
    "start_time": "2022-06-03T19:38:05.841Z"
   },
   {
    "duration": 197,
    "start_time": "2022-06-03T19:38:05.850Z"
   },
   {
    "duration": 28,
    "start_time": "2022-06-03T19:38:06.050Z"
   },
   {
    "duration": 34,
    "start_time": "2022-06-03T19:38:06.081Z"
   },
   {
    "duration": 14,
    "start_time": "2022-06-03T19:38:06.117Z"
   },
   {
    "duration": 21,
    "start_time": "2022-06-03T19:38:06.134Z"
   },
   {
    "duration": 17,
    "start_time": "2022-06-03T19:38:06.157Z"
   },
   {
    "duration": 140,
    "start_time": "2022-06-03T19:38:06.175Z"
   },
   {
    "duration": 6,
    "start_time": "2022-06-03T19:38:06.317Z"
   },
   {
    "duration": 11,
    "start_time": "2022-06-03T19:38:06.325Z"
   },
   {
    "duration": 52,
    "start_time": "2022-06-03T19:38:06.338Z"
   },
   {
    "duration": 4,
    "start_time": "2022-06-03T19:38:06.392Z"
   },
   {
    "duration": 14,
    "start_time": "2022-06-03T19:38:06.397Z"
   },
   {
    "duration": 10,
    "start_time": "2022-06-03T19:38:06.414Z"
   },
   {
    "duration": 7,
    "start_time": "2022-06-03T19:38:06.426Z"
   },
   {
    "duration": 11,
    "start_time": "2022-06-03T19:38:06.435Z"
   },
   {
    "duration": 8,
    "start_time": "2022-06-03T19:38:06.449Z"
   },
   {
    "duration": 55,
    "start_time": "2022-06-03T19:38:06.458Z"
   },
   {
    "duration": 8,
    "start_time": "2022-06-03T19:38:06.515Z"
   },
   {
    "duration": 31,
    "start_time": "2022-06-03T19:38:06.524Z"
   },
   {
    "duration": 15,
    "start_time": "2022-06-03T19:38:06.557Z"
   },
   {
    "duration": 63,
    "start_time": "2022-06-03T19:38:06.574Z"
   },
   {
    "duration": 13,
    "start_time": "2022-06-03T19:38:06.639Z"
   },
   {
    "duration": 7,
    "start_time": "2022-06-03T19:38:06.655Z"
   },
   {
    "duration": 52,
    "start_time": "2022-06-03T19:38:06.664Z"
   },
   {
    "duration": 17,
    "start_time": "2022-06-03T19:38:06.719Z"
   },
   {
    "duration": 18,
    "start_time": "2022-06-03T19:38:06.737Z"
   },
   {
    "duration": 2968,
    "start_time": "2022-06-03T19:38:06.757Z"
   },
   {
    "duration": 3,
    "start_time": "2022-06-03T19:38:09.727Z"
   },
   {
    "duration": 3468,
    "start_time": "2022-06-03T19:38:09.732Z"
   },
   {
    "duration": 5,
    "start_time": "2022-06-03T19:38:13.202Z"
   },
   {
    "duration": 10,
    "start_time": "2022-06-03T19:38:13.208Z"
   },
   {
    "duration": 8,
    "start_time": "2022-06-03T19:38:13.219Z"
   },
   {
    "duration": 10,
    "start_time": "2022-06-03T19:38:13.229Z"
   },
   {
    "duration": 6,
    "start_time": "2022-06-03T19:38:13.240Z"
   },
   {
    "duration": 10,
    "start_time": "2022-06-03T19:38:13.248Z"
   },
   {
    "duration": 26,
    "start_time": "2022-06-03T19:38:13.260Z"
   },
   {
    "duration": 879,
    "start_time": "2022-06-03T19:38:13.297Z"
   },
   {
    "duration": 2709,
    "start_time": "2022-06-03T19:38:14.179Z"
   },
   {
    "duration": 18,
    "start_time": "2022-06-03T19:38:16.911Z"
   },
   {
    "duration": 432,
    "start_time": "2022-06-03T19:38:16.931Z"
   },
   {
    "duration": 11,
    "start_time": "2022-06-03T19:38:17.367Z"
   },
   {
    "duration": 32,
    "start_time": "2022-06-03T19:38:17.379Z"
   },
   {
    "duration": 8,
    "start_time": "2022-06-03T19:38:17.413Z"
   },
   {
    "duration": 15,
    "start_time": "2022-06-03T19:38:17.423Z"
   },
   {
    "duration": 16,
    "start_time": "2022-06-03T19:38:17.440Z"
   },
   {
    "duration": 34,
    "start_time": "2022-06-03T19:38:17.458Z"
   },
   {
    "duration": 20,
    "start_time": "2022-06-03T19:38:17.495Z"
   },
   {
    "duration": 664,
    "start_time": "2022-06-03T19:38:17.517Z"
   },
   {
    "duration": 119,
    "start_time": "2022-06-03T19:38:18.189Z"
   },
   {
    "duration": 191,
    "start_time": "2022-06-03T19:38:18.311Z"
   },
   {
    "duration": 10,
    "start_time": "2022-06-03T19:38:18.509Z"
   },
   {
    "duration": 7,
    "start_time": "2022-06-03T19:38:18.527Z"
   },
   {
    "duration": 6,
    "start_time": "2022-06-03T19:38:18.536Z"
   },
   {
    "duration": 6,
    "start_time": "2022-06-03T19:38:18.544Z"
   },
   {
    "duration": 35,
    "start_time": "2022-06-03T19:38:18.553Z"
   },
   {
    "duration": 28,
    "start_time": "2022-06-03T19:38:18.590Z"
   },
   {
    "duration": 15,
    "start_time": "2022-06-03T19:38:18.620Z"
   },
   {
    "duration": 4,
    "start_time": "2022-06-03T19:38:18.637Z"
   },
   {
    "duration": 8,
    "start_time": "2022-06-03T19:38:18.643Z"
   },
   {
    "duration": 9,
    "start_time": "2022-06-03T19:38:18.653Z"
   },
   {
    "duration": 40,
    "start_time": "2022-06-03T19:38:18.663Z"
   },
   {
    "duration": 8,
    "start_time": "2022-06-03T19:38:18.705Z"
   },
   {
    "duration": 23,
    "start_time": "2022-06-03T19:38:18.715Z"
   },
   {
    "duration": 10,
    "start_time": "2022-06-03T19:38:18.739Z"
   },
   {
    "duration": 1495,
    "start_time": "2022-06-05T13:45:52.417Z"
   },
   {
    "duration": 3242,
    "start_time": "2022-06-05T13:45:53.914Z"
   },
   {
    "duration": 38,
    "start_time": "2022-06-05T13:45:57.157Z"
   },
   {
    "duration": 657,
    "start_time": "2022-06-05T13:45:57.198Z"
   },
   {
    "duration": 3,
    "start_time": "2022-06-05T13:45:57.857Z"
   },
   {
    "duration": 15,
    "start_time": "2022-06-05T13:45:57.861Z"
   },
   {
    "duration": 11,
    "start_time": "2022-06-05T13:45:57.878Z"
   },
   {
    "duration": 7,
    "start_time": "2022-06-05T13:45:57.890Z"
   },
   {
    "duration": 12,
    "start_time": "2022-06-05T13:45:57.898Z"
   },
   {
    "duration": 7,
    "start_time": "2022-06-05T13:45:57.913Z"
   },
   {
    "duration": 7,
    "start_time": "2022-06-05T13:45:57.922Z"
   },
   {
    "duration": 4,
    "start_time": "2022-06-05T13:45:57.931Z"
   },
   {
    "duration": 106,
    "start_time": "2022-06-05T13:45:57.937Z"
   },
   {
    "duration": 122,
    "start_time": "2022-06-05T13:45:58.045Z"
   },
   {
    "duration": 20,
    "start_time": "2022-06-05T13:45:58.169Z"
   },
   {
    "duration": 8,
    "start_time": "2022-06-05T13:45:58.190Z"
   },
   {
    "duration": 25,
    "start_time": "2022-06-05T13:45:58.199Z"
   },
   {
    "duration": 5,
    "start_time": "2022-06-05T13:45:58.225Z"
   },
   {
    "duration": 398,
    "start_time": "2022-06-05T13:45:58.231Z"
   },
   {
    "duration": 446,
    "start_time": "2022-06-05T13:45:58.631Z"
   },
   {
    "duration": 560,
    "start_time": "2022-06-05T13:45:59.079Z"
   },
   {
    "duration": 66,
    "start_time": "2022-06-05T13:45:59.640Z"
   },
   {
    "duration": 18,
    "start_time": "2022-06-05T13:45:59.708Z"
   },
   {
    "duration": 516,
    "start_time": "2022-06-05T13:45:59.727Z"
   },
   {
    "duration": 516,
    "start_time": "2022-06-05T13:46:00.245Z"
   },
   {
    "duration": 618,
    "start_time": "2022-06-05T13:46:00.762Z"
   },
   {
    "duration": 281,
    "start_time": "2022-06-05T13:46:01.382Z"
   },
   {
    "duration": 9,
    "start_time": "2022-06-05T13:46:01.666Z"
   },
   {
    "duration": 15,
    "start_time": "2022-06-05T13:46:01.676Z"
   },
   {
    "duration": 4,
    "start_time": "2022-06-05T13:46:12.303Z"
   },
   {
    "duration": 126,
    "start_time": "2022-06-05T14:27:00.541Z"
   },
   {
    "duration": 2,
    "start_time": "2022-06-05T14:28:22.298Z"
   },
   {
    "duration": 4,
    "start_time": "2022-06-05T14:40:09.461Z"
   },
   {
    "duration": 1023,
    "start_time": "2022-06-05T14:40:09.489Z"
   },
   {
    "duration": 40,
    "start_time": "2022-06-05T14:40:10.514Z"
   },
   {
    "duration": 485,
    "start_time": "2022-06-05T14:40:10.556Z"
   },
   {
    "duration": 3,
    "start_time": "2022-06-05T14:40:11.042Z"
   },
   {
    "duration": 17,
    "start_time": "2022-06-05T14:40:11.046Z"
   },
   {
    "duration": 9,
    "start_time": "2022-06-05T14:40:11.064Z"
   },
   {
    "duration": 10,
    "start_time": "2022-06-05T14:40:11.074Z"
   },
   {
    "duration": 7,
    "start_time": "2022-06-05T14:40:11.085Z"
   },
   {
    "duration": 8,
    "start_time": "2022-06-05T14:40:11.093Z"
   },
   {
    "duration": 6,
    "start_time": "2022-06-05T14:40:11.122Z"
   },
   {
    "duration": 8,
    "start_time": "2022-06-05T14:40:11.129Z"
   },
   {
    "duration": 138,
    "start_time": "2022-06-05T14:40:11.139Z"
   },
   {
    "duration": 119,
    "start_time": "2022-06-05T14:40:11.279Z"
   },
   {
    "duration": 36,
    "start_time": "2022-06-05T14:40:11.400Z"
   },
   {
    "duration": 9,
    "start_time": "2022-06-05T14:40:11.438Z"
   },
   {
    "duration": 8,
    "start_time": "2022-06-05T14:40:11.449Z"
   },
   {
    "duration": 5,
    "start_time": "2022-06-05T14:40:11.459Z"
   },
   {
    "duration": 408,
    "start_time": "2022-06-05T14:40:11.465Z"
   },
   {
    "duration": 405,
    "start_time": "2022-06-05T14:40:11.874Z"
   },
   {
    "duration": 585,
    "start_time": "2022-06-05T14:40:12.281Z"
   },
   {
    "duration": 18,
    "start_time": "2022-06-05T14:40:12.868Z"
   },
   {
    "duration": 7,
    "start_time": "2022-06-05T14:40:12.888Z"
   },
   {
    "duration": 473,
    "start_time": "2022-06-05T14:40:12.897Z"
   },
   {
    "duration": 485,
    "start_time": "2022-06-05T14:40:13.371Z"
   },
   {
    "duration": 590,
    "start_time": "2022-06-05T14:40:13.857Z"
   },
   {
    "duration": 284,
    "start_time": "2022-06-05T14:40:14.449Z"
   },
   {
    "duration": 9,
    "start_time": "2022-06-05T14:40:14.735Z"
   },
   {
    "duration": 8,
    "start_time": "2022-06-05T14:40:14.748Z"
   },
   {
    "duration": 4,
    "start_time": "2022-06-05T14:40:14.757Z"
   },
   {
    "duration": 4,
    "start_time": "2022-06-05T14:40:21.879Z"
   },
   {
    "duration": 15,
    "start_time": "2022-06-05T14:40:24.015Z"
   },
   {
    "duration": 4,
    "start_time": "2022-06-05T14:43:22.289Z"
   },
   {
    "duration": 21,
    "start_time": "2022-06-05T14:43:23.698Z"
   },
   {
    "duration": 5,
    "start_time": "2022-06-05T14:43:39.253Z"
   },
   {
    "duration": 19,
    "start_time": "2022-06-05T14:43:40.054Z"
   },
   {
    "duration": 4,
    "start_time": "2022-06-05T14:44:13.491Z"
   },
   {
    "duration": 15,
    "start_time": "2022-06-05T14:44:14.033Z"
   },
   {
    "duration": 9,
    "start_time": "2022-06-05T14:44:49.203Z"
   },
   {
    "duration": 13,
    "start_time": "2022-06-05T14:44:50.256Z"
   },
   {
    "duration": 15,
    "start_time": "2022-06-05T14:45:15.983Z"
   },
   {
    "duration": 5,
    "start_time": "2022-06-05T14:45:31.115Z"
   },
   {
    "duration": 10,
    "start_time": "2022-06-05T14:46:54.360Z"
   },
   {
    "duration": 4,
    "start_time": "2022-06-05T14:47:30.285Z"
   },
   {
    "duration": 14,
    "start_time": "2022-06-05T14:47:31.891Z"
   },
   {
    "duration": 13,
    "start_time": "2022-06-05T14:47:46.047Z"
   },
   {
    "duration": 8,
    "start_time": "2022-06-05T14:48:15.799Z"
   },
   {
    "duration": 123,
    "start_time": "2022-06-05T14:48:26.338Z"
   },
   {
    "duration": 136,
    "start_time": "2022-06-05T14:48:37.294Z"
   },
   {
    "duration": 160,
    "start_time": "2022-06-05T14:48:56.856Z"
   },
   {
    "duration": 136,
    "start_time": "2022-06-05T14:49:09.588Z"
   },
   {
    "duration": 114,
    "start_time": "2022-06-05T14:50:03.749Z"
   },
   {
    "duration": 150,
    "start_time": "2022-06-05T14:50:43.404Z"
   },
   {
    "duration": 13,
    "start_time": "2022-06-05T15:16:45.856Z"
   },
   {
    "duration": 13,
    "start_time": "2022-06-05T15:17:24.954Z"
   },
   {
    "duration": 39,
    "start_time": "2022-06-05T15:18:11.750Z"
   },
   {
    "duration": 11,
    "start_time": "2022-06-05T15:18:21.851Z"
   },
   {
    "duration": 10,
    "start_time": "2022-06-05T15:18:50.089Z"
   },
   {
    "duration": 79,
    "start_time": "2022-06-05T15:21:22.685Z"
   },
   {
    "duration": 4,
    "start_time": "2022-06-05T15:30:57.955Z"
   },
   {
    "duration": 705,
    "start_time": "2022-06-05T15:30:57.965Z"
   },
   {
    "duration": 35,
    "start_time": "2022-06-05T15:30:58.672Z"
   },
   {
    "duration": 523,
    "start_time": "2022-06-05T15:30:58.709Z"
   },
   {
    "duration": 3,
    "start_time": "2022-06-05T15:30:59.234Z"
   },
   {
    "duration": 11,
    "start_time": "2022-06-05T15:30:59.240Z"
   },
   {
    "duration": 7,
    "start_time": "2022-06-05T15:30:59.252Z"
   },
   {
    "duration": 11,
    "start_time": "2022-06-05T15:30:59.261Z"
   },
   {
    "duration": 7,
    "start_time": "2022-06-05T15:30:59.274Z"
   },
   {
    "duration": 5,
    "start_time": "2022-06-05T15:30:59.283Z"
   },
   {
    "duration": 32,
    "start_time": "2022-06-05T15:30:59.292Z"
   },
   {
    "duration": 5,
    "start_time": "2022-06-05T15:30:59.326Z"
   },
   {
    "duration": 217,
    "start_time": "2022-06-05T15:30:59.333Z"
   },
   {
    "duration": 123,
    "start_time": "2022-06-05T15:30:59.552Z"
   },
   {
    "duration": 20,
    "start_time": "2022-06-05T15:30:59.677Z"
   },
   {
    "duration": 8,
    "start_time": "2022-06-05T15:30:59.698Z"
   },
   {
    "duration": 7,
    "start_time": "2022-06-05T15:30:59.723Z"
   },
   {
    "duration": 5,
    "start_time": "2022-06-05T15:30:59.731Z"
   },
   {
    "duration": 398,
    "start_time": "2022-06-05T15:30:59.737Z"
   },
   {
    "duration": 380,
    "start_time": "2022-06-05T15:31:00.137Z"
   },
   {
    "duration": 379,
    "start_time": "2022-06-05T15:31:00.518Z"
   },
   {
    "duration": 26,
    "start_time": "2022-06-05T15:31:00.899Z"
   },
   {
    "duration": 9,
    "start_time": "2022-06-05T15:31:00.927Z"
   },
   {
    "duration": 582,
    "start_time": "2022-06-05T15:31:00.937Z"
   },
   {
    "duration": 530,
    "start_time": "2022-06-05T15:31:01.522Z"
   },
   {
    "duration": 492,
    "start_time": "2022-06-05T15:31:02.054Z"
   },
   {
    "duration": 370,
    "start_time": "2022-06-05T15:31:02.548Z"
   },
   {
    "duration": 11,
    "start_time": "2022-06-05T15:31:02.920Z"
   },
   {
    "duration": 8,
    "start_time": "2022-06-05T15:31:02.935Z"
   },
   {
    "duration": 3,
    "start_time": "2022-06-05T15:31:02.945Z"
   },
   {
    "duration": 7,
    "start_time": "2022-06-05T15:31:02.950Z"
   },
   {
    "duration": 157,
    "start_time": "2022-06-05T15:31:02.958Z"
   },
   {
    "duration": 125,
    "start_time": "2022-06-05T15:31:03.117Z"
   },
   {
    "duration": 286,
    "start_time": "2022-06-05T15:31:03.244Z"
   },
   {
    "duration": 10,
    "start_time": "2022-06-05T15:31:11.777Z"
   },
   {
    "duration": 4,
    "start_time": "2022-06-05T15:35:32.920Z"
   },
   {
    "duration": 713,
    "start_time": "2022-06-05T15:35:32.943Z"
   },
   {
    "duration": 35,
    "start_time": "2022-06-05T15:35:33.658Z"
   },
   {
    "duration": 473,
    "start_time": "2022-06-05T15:35:33.694Z"
   },
   {
    "duration": 2,
    "start_time": "2022-06-05T15:35:34.169Z"
   },
   {
    "duration": 11,
    "start_time": "2022-06-05T15:35:34.173Z"
   },
   {
    "duration": 6,
    "start_time": "2022-06-05T15:35:34.185Z"
   },
   {
    "duration": 7,
    "start_time": "2022-06-05T15:35:34.192Z"
   },
   {
    "duration": 10,
    "start_time": "2022-06-05T15:35:34.200Z"
   },
   {
    "duration": 3,
    "start_time": "2022-06-05T15:35:34.223Z"
   },
   {
    "duration": 15,
    "start_time": "2022-06-05T15:35:34.229Z"
   },
   {
    "duration": 10,
    "start_time": "2022-06-05T15:35:34.245Z"
   },
   {
    "duration": 93,
    "start_time": "2022-06-05T15:35:34.257Z"
   },
   {
    "duration": 110,
    "start_time": "2022-06-05T15:35:34.351Z"
   },
   {
    "duration": 20,
    "start_time": "2022-06-05T15:35:34.463Z"
   },
   {
    "duration": 7,
    "start_time": "2022-06-05T15:35:34.484Z"
   },
   {
    "duration": 22,
    "start_time": "2022-06-05T15:35:34.493Z"
   },
   {
    "duration": 6,
    "start_time": "2022-06-05T15:35:34.523Z"
   },
   {
    "duration": 362,
    "start_time": "2022-06-05T15:35:34.531Z"
   },
   {
    "duration": 358,
    "start_time": "2022-06-05T15:35:34.895Z"
   },
   {
    "duration": 471,
    "start_time": "2022-06-05T15:35:35.255Z"
   },
   {
    "duration": 15,
    "start_time": "2022-06-05T15:35:35.728Z"
   },
   {
    "duration": 9,
    "start_time": "2022-06-05T15:35:35.744Z"
   },
   {
    "duration": 458,
    "start_time": "2022-06-05T15:35:35.754Z"
   },
   {
    "duration": 468,
    "start_time": "2022-06-05T15:35:36.214Z"
   },
   {
    "duration": 440,
    "start_time": "2022-06-05T15:35:36.684Z"
   },
   {
    "duration": 394,
    "start_time": "2022-06-05T15:35:37.125Z"
   },
   {
    "duration": 8,
    "start_time": "2022-06-05T15:35:37.523Z"
   },
   {
    "duration": 8,
    "start_time": "2022-06-05T15:35:37.534Z"
   },
   {
    "duration": 3,
    "start_time": "2022-06-05T15:35:37.543Z"
   },
   {
    "duration": 12,
    "start_time": "2022-06-05T15:35:37.548Z"
   },
   {
    "duration": 145,
    "start_time": "2022-06-05T15:35:37.561Z"
   },
   {
    "duration": 123,
    "start_time": "2022-06-05T15:35:37.708Z"
   },
   {
    "duration": 138,
    "start_time": "2022-06-05T15:35:37.832Z"
   },
   {
    "duration": 12,
    "start_time": "2022-06-05T15:35:37.972Z"
   },
   {
    "duration": 4,
    "start_time": "2022-06-05T15:39:02.611Z"
   },
   {
    "duration": 16,
    "start_time": "2022-06-05T15:39:33.239Z"
   },
   {
    "duration": 4,
    "start_time": "2022-06-05T15:45:09.505Z"
   },
   {
    "duration": 684,
    "start_time": "2022-06-05T15:45:09.530Z"
   },
   {
    "duration": 36,
    "start_time": "2022-06-05T15:45:10.216Z"
   },
   {
    "duration": 465,
    "start_time": "2022-06-05T15:45:10.253Z"
   },
   {
    "duration": 3,
    "start_time": "2022-06-05T15:45:10.720Z"
   },
   {
    "duration": 10,
    "start_time": "2022-06-05T15:45:10.724Z"
   },
   {
    "duration": 7,
    "start_time": "2022-06-05T15:45:10.735Z"
   },
   {
    "duration": 7,
    "start_time": "2022-06-05T15:45:10.744Z"
   },
   {
    "duration": 6,
    "start_time": "2022-06-05T15:45:10.753Z"
   },
   {
    "duration": 5,
    "start_time": "2022-06-05T15:45:10.760Z"
   },
   {
    "duration": 7,
    "start_time": "2022-06-05T15:45:10.767Z"
   },
   {
    "duration": 8,
    "start_time": "2022-06-05T15:45:10.776Z"
   },
   {
    "duration": 107,
    "start_time": "2022-06-05T15:45:10.785Z"
   },
   {
    "duration": 114,
    "start_time": "2022-06-05T15:45:10.893Z"
   },
   {
    "duration": 30,
    "start_time": "2022-06-05T15:45:11.008Z"
   },
   {
    "duration": 7,
    "start_time": "2022-06-05T15:45:11.040Z"
   },
   {
    "duration": 9,
    "start_time": "2022-06-05T15:45:11.049Z"
   },
   {
    "duration": 7,
    "start_time": "2022-06-05T15:45:11.059Z"
   },
   {
    "duration": 459,
    "start_time": "2022-06-05T15:45:11.067Z"
   },
   {
    "duration": 518,
    "start_time": "2022-06-05T15:45:11.527Z"
   },
   {
    "duration": 389,
    "start_time": "2022-06-05T15:45:12.047Z"
   },
   {
    "duration": 15,
    "start_time": "2022-06-05T15:45:12.438Z"
   },
   {
    "duration": 7,
    "start_time": "2022-06-05T15:45:12.454Z"
   },
   {
    "duration": 531,
    "start_time": "2022-06-05T15:45:12.462Z"
   },
   {
    "duration": 457,
    "start_time": "2022-06-05T15:45:12.995Z"
   },
   {
    "duration": 596,
    "start_time": "2022-06-05T15:45:13.454Z"
   },
   {
    "duration": 261,
    "start_time": "2022-06-05T15:45:14.052Z"
   },
   {
    "duration": 13,
    "start_time": "2022-06-05T15:45:14.315Z"
   },
   {
    "duration": 7,
    "start_time": "2022-06-05T15:45:14.332Z"
   },
   {
    "duration": 4,
    "start_time": "2022-06-05T15:45:14.340Z"
   },
   {
    "duration": 138,
    "start_time": "2022-06-05T15:45:14.345Z"
   },
   {
    "duration": 120,
    "start_time": "2022-06-05T15:45:14.484Z"
   },
   {
    "duration": 125,
    "start_time": "2022-06-05T15:45:14.606Z"
   },
   {
    "duration": 4,
    "start_time": "2022-06-05T15:45:14.733Z"
   },
   {
    "duration": 15,
    "start_time": "2022-06-05T15:45:14.739Z"
   },
   {
    "duration": 4,
    "start_time": "2022-06-05T15:45:14.755Z"
   },
   {
    "duration": 5,
    "start_time": "2022-06-05T15:45:14.761Z"
   },
   {
    "duration": 6,
    "start_time": "2022-06-05T15:45:14.767Z"
   },
   {
    "duration": 11,
    "start_time": "2022-06-05T15:45:14.774Z"
   },
   {
    "duration": 7,
    "start_time": "2022-06-05T15:45:14.786Z"
   },
   {
    "duration": 31,
    "start_time": "2022-06-05T15:45:14.795Z"
   },
   {
    "duration": 10,
    "start_time": "2022-06-05T15:45:14.828Z"
   },
   {
    "duration": 27,
    "start_time": "2022-06-05T15:45:14.839Z"
   },
   {
    "duration": 10,
    "start_time": "2022-06-05T15:45:14.867Z"
   },
   {
    "duration": 9,
    "start_time": "2022-06-05T15:45:14.879Z"
   },
   {
    "duration": 13,
    "start_time": "2022-06-05T15:45:14.889Z"
   },
   {
    "duration": 3,
    "start_time": "2022-06-05T15:45:14.923Z"
   },
   {
    "duration": 9,
    "start_time": "2022-06-05T15:45:14.928Z"
   },
   {
    "duration": 12,
    "start_time": "2022-06-05T15:45:14.938Z"
   },
   {
    "duration": 4,
    "start_time": "2022-06-05T15:45:14.951Z"
   },
   {
    "duration": 2349,
    "start_time": "2022-06-05T15:45:14.956Z"
   },
   {
    "duration": 3,
    "start_time": "2022-06-05T15:45:17.306Z"
   },
   {
    "duration": 2914,
    "start_time": "2022-06-05T15:45:17.310Z"
   },
   {
    "duration": 2,
    "start_time": "2022-06-05T15:45:20.226Z"
   },
   {
    "duration": 7,
    "start_time": "2022-06-05T15:45:20.230Z"
   },
   {
    "duration": 5,
    "start_time": "2022-06-05T15:45:20.239Z"
   },
   {
    "duration": 9,
    "start_time": "2022-06-05T15:45:20.245Z"
   },
   {
    "duration": 8,
    "start_time": "2022-06-05T15:45:20.255Z"
   },
   {
    "duration": 5,
    "start_time": "2022-06-05T15:45:20.265Z"
   },
   {
    "duration": 7,
    "start_time": "2022-06-05T15:45:20.271Z"
   },
   {
    "duration": 967,
    "start_time": "2022-06-05T15:45:20.280Z"
   },
   {
    "duration": 1903,
    "start_time": "2022-06-05T15:45:21.324Z"
   },
   {
    "duration": 4,
    "start_time": "2022-06-05T15:45:23.229Z"
   },
   {
    "duration": 375,
    "start_time": "2022-06-05T15:45:23.235Z"
   },
   {
    "duration": 13,
    "start_time": "2022-06-05T15:45:23.612Z"
   },
   {
    "duration": 5,
    "start_time": "2022-06-05T15:45:23.627Z"
   },
   {
    "duration": 5,
    "start_time": "2022-06-05T15:45:23.633Z"
   },
   {
    "duration": 6,
    "start_time": "2022-06-05T15:45:23.639Z"
   },
   {
    "duration": 5,
    "start_time": "2022-06-05T15:45:23.646Z"
   },
   {
    "duration": 8,
    "start_time": "2022-06-05T15:45:23.652Z"
   },
   {
    "duration": 8,
    "start_time": "2022-06-05T15:45:23.661Z"
   },
   {
    "duration": 158,
    "start_time": "2022-06-05T15:45:23.671Z"
   },
   {
    "duration": 199,
    "start_time": "2022-06-05T15:45:23.832Z"
   },
   {
    "duration": 90,
    "start_time": "2022-06-05T15:45:24.034Z"
   },
   {
    "duration": 96,
    "start_time": "2022-06-05T15:45:24.129Z"
   },
   {
    "duration": 10,
    "start_time": "2022-06-05T15:45:24.227Z"
   },
   {
    "duration": 7,
    "start_time": "2022-06-05T15:45:24.238Z"
   },
   {
    "duration": 7,
    "start_time": "2022-06-05T15:45:24.246Z"
   },
   {
    "duration": 5,
    "start_time": "2022-06-05T15:45:24.255Z"
   },
   {
    "duration": 7,
    "start_time": "2022-06-05T15:45:24.261Z"
   },
   {
    "duration": 7,
    "start_time": "2022-06-05T15:45:24.269Z"
   },
   {
    "duration": 4,
    "start_time": "2022-06-05T15:45:24.278Z"
   },
   {
    "duration": 6,
    "start_time": "2022-06-05T15:45:24.286Z"
   },
   {
    "duration": 9,
    "start_time": "2022-06-05T15:45:24.293Z"
   },
   {
    "duration": 20,
    "start_time": "2022-06-05T15:45:24.303Z"
   },
   {
    "duration": 7,
    "start_time": "2022-06-05T15:45:24.325Z"
   },
   {
    "duration": 5,
    "start_time": "2022-06-05T15:45:24.333Z"
   },
   {
    "duration": 7,
    "start_time": "2022-06-05T15:45:24.339Z"
   },
   {
    "duration": 1339,
    "start_time": "2022-06-05T20:32:52.144Z"
   },
   {
    "duration": 3006,
    "start_time": "2022-06-05T20:32:53.485Z"
   },
   {
    "duration": 64,
    "start_time": "2022-06-05T20:32:56.493Z"
   },
   {
    "duration": 632,
    "start_time": "2022-06-05T20:32:56.559Z"
   },
   {
    "duration": 3,
    "start_time": "2022-06-05T20:32:57.193Z"
   },
   {
    "duration": 16,
    "start_time": "2022-06-05T20:32:57.198Z"
   },
   {
    "duration": 10,
    "start_time": "2022-06-05T20:32:57.215Z"
   },
   {
    "duration": 9,
    "start_time": "2022-06-05T20:32:57.227Z"
   },
   {
    "duration": 14,
    "start_time": "2022-06-05T20:32:57.237Z"
   },
   {
    "duration": 16,
    "start_time": "2022-06-05T20:32:57.254Z"
   },
   {
    "duration": 16,
    "start_time": "2022-06-05T20:32:57.272Z"
   },
   {
    "duration": 12,
    "start_time": "2022-06-05T20:32:57.290Z"
   },
   {
    "duration": 101,
    "start_time": "2022-06-05T20:32:57.303Z"
   },
   {
    "duration": 114,
    "start_time": "2022-06-05T20:32:57.406Z"
   },
   {
    "duration": 24,
    "start_time": "2022-06-05T20:32:57.527Z"
   },
   {
    "duration": 9,
    "start_time": "2022-06-05T20:32:57.552Z"
   },
   {
    "duration": 9,
    "start_time": "2022-06-05T20:32:57.562Z"
   },
   {
    "duration": 12,
    "start_time": "2022-06-05T20:32:57.572Z"
   },
   {
    "duration": 370,
    "start_time": "2022-06-05T20:32:57.586Z"
   },
   {
    "duration": 351,
    "start_time": "2022-06-05T20:32:57.958Z"
   },
   {
    "duration": 459,
    "start_time": "2022-06-05T20:32:58.311Z"
   },
   {
    "duration": 20,
    "start_time": "2022-06-05T20:32:58.772Z"
   },
   {
    "duration": 10,
    "start_time": "2022-06-05T20:32:58.793Z"
   },
   {
    "duration": 439,
    "start_time": "2022-06-05T20:32:58.805Z"
   },
   {
    "duration": 522,
    "start_time": "2022-06-05T20:32:59.247Z"
   },
   {
    "duration": 453,
    "start_time": "2022-06-05T20:32:59.771Z"
   },
   {
    "duration": 423,
    "start_time": "2022-06-05T20:33:00.226Z"
   },
   {
    "duration": 13,
    "start_time": "2022-06-05T20:33:00.654Z"
   },
   {
    "duration": 49,
    "start_time": "2022-06-05T20:33:00.670Z"
   },
   {
    "duration": 51,
    "start_time": "2022-06-05T20:33:00.722Z"
   },
   {
    "duration": 169,
    "start_time": "2022-06-05T20:33:00.775Z"
   },
   {
    "duration": 130,
    "start_time": "2022-06-05T20:33:00.945Z"
   },
   {
    "duration": 142,
    "start_time": "2022-06-05T20:33:01.077Z"
   },
   {
    "duration": 7,
    "start_time": "2022-06-05T20:33:01.221Z"
   },
   {
    "duration": 49,
    "start_time": "2022-06-05T20:33:01.230Z"
   },
   {
    "duration": 22,
    "start_time": "2022-06-05T20:33:01.281Z"
   },
   {
    "duration": 23,
    "start_time": "2022-06-05T20:33:01.304Z"
   },
   {
    "duration": 23,
    "start_time": "2022-06-05T20:33:01.329Z"
   },
   {
    "duration": 28,
    "start_time": "2022-06-05T20:33:01.354Z"
   },
   {
    "duration": 16,
    "start_time": "2022-06-05T20:33:01.384Z"
   },
   {
    "duration": 30,
    "start_time": "2022-06-05T20:33:01.402Z"
   },
   {
    "duration": 33,
    "start_time": "2022-06-05T20:33:01.434Z"
   },
   {
    "duration": 71,
    "start_time": "2022-06-05T20:33:01.469Z"
   },
   {
    "duration": 13,
    "start_time": "2022-06-05T20:33:01.542Z"
   },
   {
    "duration": 53,
    "start_time": "2022-06-05T20:33:01.556Z"
   },
   {
    "duration": 36,
    "start_time": "2022-06-05T20:33:01.611Z"
   },
   {
    "duration": 24,
    "start_time": "2022-06-05T20:33:01.649Z"
   },
   {
    "duration": 47,
    "start_time": "2022-06-05T20:33:01.675Z"
   },
   {
    "duration": 56,
    "start_time": "2022-06-05T20:33:01.724Z"
   },
   {
    "duration": 30,
    "start_time": "2022-06-05T20:33:01.782Z"
   },
   {
    "duration": 2418,
    "start_time": "2022-06-05T20:33:01.814Z"
   },
   {
    "duration": 4,
    "start_time": "2022-06-05T20:33:04.234Z"
   },
   {
    "duration": 2998,
    "start_time": "2022-06-05T20:33:04.241Z"
   },
   {
    "duration": 2,
    "start_time": "2022-06-05T20:33:07.241Z"
   },
   {
    "duration": 46,
    "start_time": "2022-06-05T20:33:07.246Z"
   },
   {
    "duration": 16,
    "start_time": "2022-06-05T20:33:07.295Z"
   },
   {
    "duration": 33,
    "start_time": "2022-06-05T20:33:07.313Z"
   },
   {
    "duration": 23,
    "start_time": "2022-06-05T20:33:07.348Z"
   },
   {
    "duration": 36,
    "start_time": "2022-06-05T20:33:07.373Z"
   },
   {
    "duration": 15,
    "start_time": "2022-06-05T20:33:07.411Z"
   },
   {
    "duration": 1100,
    "start_time": "2022-06-05T20:33:07.428Z"
   },
   {
    "duration": 1200,
    "start_time": "2022-06-05T20:33:08.530Z"
   },
   {
    "duration": 8,
    "start_time": "2022-06-05T20:33:09.732Z"
   },
   {
    "duration": 385,
    "start_time": "2022-06-05T20:33:09.743Z"
   },
   {
    "duration": 7,
    "start_time": "2022-06-05T20:33:10.130Z"
   },
   {
    "duration": 30,
    "start_time": "2022-06-05T20:33:10.140Z"
   },
   {
    "duration": 28,
    "start_time": "2022-06-05T20:33:10.172Z"
   },
   {
    "duration": 31,
    "start_time": "2022-06-05T20:33:10.201Z"
   },
   {
    "duration": 18,
    "start_time": "2022-06-05T20:33:10.234Z"
   },
   {
    "duration": 25,
    "start_time": "2022-06-05T20:33:10.254Z"
   },
   {
    "duration": 37,
    "start_time": "2022-06-05T20:33:10.281Z"
   },
   {
    "duration": 218,
    "start_time": "2022-06-05T20:33:10.319Z"
   },
   {
    "duration": 196,
    "start_time": "2022-06-05T20:33:10.539Z"
   },
   {
    "duration": 88,
    "start_time": "2022-06-05T20:33:10.738Z"
   },
   {
    "duration": 108,
    "start_time": "2022-06-05T20:33:10.829Z"
   },
   {
    "duration": 19,
    "start_time": "2022-06-05T20:33:10.939Z"
   },
   {
    "duration": 20,
    "start_time": "2022-06-05T20:33:10.960Z"
   },
   {
    "duration": 8,
    "start_time": "2022-06-05T20:33:10.982Z"
   },
   {
    "duration": 17,
    "start_time": "2022-06-05T20:33:10.992Z"
   },
   {
    "duration": 18,
    "start_time": "2022-06-05T20:33:11.011Z"
   },
   {
    "duration": 42,
    "start_time": "2022-06-05T20:33:11.031Z"
   },
   {
    "duration": 29,
    "start_time": "2022-06-05T20:33:11.079Z"
   },
   {
    "duration": 16,
    "start_time": "2022-06-05T20:33:11.110Z"
   },
   {
    "duration": 28,
    "start_time": "2022-06-05T20:33:11.128Z"
   },
   {
    "duration": 17,
    "start_time": "2022-06-05T20:33:11.158Z"
   },
   {
    "duration": 26,
    "start_time": "2022-06-05T20:33:11.178Z"
   },
   {
    "duration": 12,
    "start_time": "2022-06-05T20:33:11.206Z"
   },
   {
    "duration": 25,
    "start_time": "2022-06-05T20:33:11.219Z"
   },
   {
    "duration": 5,
    "start_time": "2022-06-05T20:33:31.005Z"
   },
   {
    "duration": 662,
    "start_time": "2022-06-05T20:33:31.017Z"
   },
   {
    "duration": 58,
    "start_time": "2022-06-05T20:33:31.681Z"
   },
   {
    "duration": 568,
    "start_time": "2022-06-05T20:33:31.742Z"
   },
   {
    "duration": 14,
    "start_time": "2022-06-05T20:33:32.313Z"
   },
   {
    "duration": 13,
    "start_time": "2022-06-05T20:33:32.329Z"
   },
   {
    "duration": 9,
    "start_time": "2022-06-05T20:33:32.344Z"
   },
   {
    "duration": 9,
    "start_time": "2022-06-05T20:33:32.355Z"
   },
   {
    "duration": 8,
    "start_time": "2022-06-05T20:33:32.365Z"
   },
   {
    "duration": 31,
    "start_time": "2022-06-05T20:33:32.375Z"
   },
   {
    "duration": 36,
    "start_time": "2022-06-05T20:33:32.408Z"
   },
   {
    "duration": 5,
    "start_time": "2022-06-05T20:33:32.446Z"
   },
   {
    "duration": 95,
    "start_time": "2022-06-05T20:33:32.453Z"
   },
   {
    "duration": 121,
    "start_time": "2022-06-05T20:33:32.550Z"
   },
   {
    "duration": 22,
    "start_time": "2022-06-05T20:33:32.672Z"
   },
   {
    "duration": 8,
    "start_time": "2022-06-05T20:33:32.696Z"
   },
   {
    "duration": 22,
    "start_time": "2022-06-05T20:33:32.706Z"
   },
   {
    "duration": 13,
    "start_time": "2022-06-05T20:33:32.729Z"
   },
   {
    "duration": 370,
    "start_time": "2022-06-05T20:33:32.744Z"
   },
   {
    "duration": 478,
    "start_time": "2022-06-05T20:33:33.116Z"
   },
   {
    "duration": 395,
    "start_time": "2022-06-05T20:33:33.596Z"
   },
   {
    "duration": 19,
    "start_time": "2022-06-05T20:33:33.993Z"
   },
   {
    "duration": 17,
    "start_time": "2022-06-05T20:33:34.013Z"
   },
   {
    "duration": 450,
    "start_time": "2022-06-05T20:33:34.032Z"
   },
   {
    "duration": 516,
    "start_time": "2022-06-05T20:33:34.484Z"
   },
   {
    "duration": 569,
    "start_time": "2022-06-05T20:33:35.001Z"
   },
   {
    "duration": 270,
    "start_time": "2022-06-05T20:33:35.572Z"
   },
   {
    "duration": 8,
    "start_time": "2022-06-05T20:33:35.844Z"
   },
   {
    "duration": 8,
    "start_time": "2022-06-05T20:33:35.855Z"
   },
   {
    "duration": 4,
    "start_time": "2022-06-05T20:33:35.864Z"
   },
   {
    "duration": 148,
    "start_time": "2022-06-05T20:33:35.869Z"
   },
   {
    "duration": 131,
    "start_time": "2022-06-05T20:33:36.019Z"
   },
   {
    "duration": 158,
    "start_time": "2022-06-05T20:33:36.151Z"
   },
   {
    "duration": 5,
    "start_time": "2022-06-05T20:33:36.311Z"
   },
   {
    "duration": 12,
    "start_time": "2022-06-05T20:33:36.328Z"
   },
   {
    "duration": 8,
    "start_time": "2022-06-05T20:33:36.342Z"
   },
   {
    "duration": 17,
    "start_time": "2022-06-05T20:33:36.352Z"
   },
   {
    "duration": 13,
    "start_time": "2022-06-05T20:33:36.371Z"
   },
   {
    "duration": 18,
    "start_time": "2022-06-05T20:33:36.386Z"
   },
   {
    "duration": 12,
    "start_time": "2022-06-05T20:33:36.406Z"
   },
   {
    "duration": 15,
    "start_time": "2022-06-05T20:33:36.420Z"
   },
   {
    "duration": 23,
    "start_time": "2022-06-05T20:33:36.437Z"
   },
   {
    "duration": 32,
    "start_time": "2022-06-05T20:33:36.462Z"
   },
   {
    "duration": 12,
    "start_time": "2022-06-05T20:33:36.496Z"
   },
   {
    "duration": 22,
    "start_time": "2022-06-05T20:33:36.510Z"
   },
   {
    "duration": 14,
    "start_time": "2022-06-05T20:33:36.534Z"
   },
   {
    "duration": 3,
    "start_time": "2022-06-05T20:33:36.550Z"
   },
   {
    "duration": 19,
    "start_time": "2022-06-05T20:33:36.555Z"
   },
   {
    "duration": 13,
    "start_time": "2022-06-05T20:33:36.575Z"
   },
   {
    "duration": 4,
    "start_time": "2022-06-05T20:33:36.590Z"
   },
   {
    "duration": 2306,
    "start_time": "2022-06-05T20:33:36.596Z"
   },
   {
    "duration": 2,
    "start_time": "2022-06-05T20:33:38.904Z"
   },
   {
    "duration": 2814,
    "start_time": "2022-06-05T20:33:38.908Z"
   },
   {
    "duration": 4,
    "start_time": "2022-06-05T20:33:41.724Z"
   },
   {
    "duration": 7,
    "start_time": "2022-06-05T20:33:41.730Z"
   },
   {
    "duration": 9,
    "start_time": "2022-06-05T20:33:41.738Z"
   },
   {
    "duration": 11,
    "start_time": "2022-06-05T20:33:41.748Z"
   },
   {
    "duration": 5,
    "start_time": "2022-06-05T20:33:41.760Z"
   },
   {
    "duration": 4,
    "start_time": "2022-06-05T20:33:41.767Z"
   },
   {
    "duration": 6,
    "start_time": "2022-06-05T20:33:41.773Z"
   },
   {
    "duration": 762,
    "start_time": "2022-06-05T20:33:41.781Z"
   },
   {
    "duration": 1787,
    "start_time": "2022-06-05T20:33:42.547Z"
   },
   {
    "duration": 92,
    "start_time": "2022-06-05T20:33:44.340Z"
   },
   {
    "duration": 372,
    "start_time": "2022-06-05T20:33:44.439Z"
   },
   {
    "duration": 15,
    "start_time": "2022-06-05T20:33:44.812Z"
   },
   {
    "duration": 27,
    "start_time": "2022-06-05T20:33:44.828Z"
   },
   {
    "duration": 22,
    "start_time": "2022-06-05T20:33:44.857Z"
   },
   {
    "duration": 12,
    "start_time": "2022-06-05T20:33:44.881Z"
   },
   {
    "duration": 22,
    "start_time": "2022-06-05T20:33:44.894Z"
   },
   {
    "duration": 10,
    "start_time": "2022-06-05T20:33:44.917Z"
   },
   {
    "duration": 27,
    "start_time": "2022-06-05T20:33:44.928Z"
   },
   {
    "duration": 371,
    "start_time": "2022-06-05T20:33:44.957Z"
   },
   {
    "duration": 106,
    "start_time": "2022-06-05T20:33:45.330Z"
   },
   {
    "duration": 190,
    "start_time": "2022-06-05T20:33:45.438Z"
   },
   {
    "duration": 24,
    "start_time": "2022-06-05T20:33:45.630Z"
   },
   {
    "duration": 18,
    "start_time": "2022-06-05T20:33:45.656Z"
   },
   {
    "duration": 40,
    "start_time": "2022-06-05T20:33:45.675Z"
   },
   {
    "duration": 33,
    "start_time": "2022-06-05T20:33:45.717Z"
   },
   {
    "duration": 24,
    "start_time": "2022-06-05T20:33:45.752Z"
   },
   {
    "duration": 16,
    "start_time": "2022-06-05T20:33:45.778Z"
   },
   {
    "duration": 24,
    "start_time": "2022-06-05T20:33:45.797Z"
   },
   {
    "duration": 22,
    "start_time": "2022-06-05T20:33:45.823Z"
   },
   {
    "duration": 13,
    "start_time": "2022-06-05T20:33:45.850Z"
   },
   {
    "duration": 16,
    "start_time": "2022-06-05T20:33:45.865Z"
   },
   {
    "duration": 29,
    "start_time": "2022-06-05T20:33:45.883Z"
   },
   {
    "duration": 9,
    "start_time": "2022-06-05T20:33:45.914Z"
   },
   {
    "duration": 30,
    "start_time": "2022-06-05T20:33:45.925Z"
   },
   {
    "duration": 13,
    "start_time": "2022-06-05T20:33:45.957Z"
   },
   {
    "duration": 4,
    "start_time": "2022-06-05T20:54:38.579Z"
   },
   {
    "duration": 776,
    "start_time": "2022-06-05T20:54:38.588Z"
   },
   {
    "duration": 36,
    "start_time": "2022-06-05T20:54:39.366Z"
   },
   {
    "duration": 479,
    "start_time": "2022-06-05T20:54:39.403Z"
   },
   {
    "duration": 2,
    "start_time": "2022-06-05T20:54:39.884Z"
   },
   {
    "duration": 30,
    "start_time": "2022-06-05T20:54:39.888Z"
   },
   {
    "duration": 20,
    "start_time": "2022-06-05T20:54:39.920Z"
   },
   {
    "duration": 10,
    "start_time": "2022-06-05T20:54:39.941Z"
   },
   {
    "duration": 17,
    "start_time": "2022-06-05T20:54:39.952Z"
   },
   {
    "duration": 20,
    "start_time": "2022-06-05T20:54:39.971Z"
   },
   {
    "duration": 9,
    "start_time": "2022-06-05T20:54:39.994Z"
   },
   {
    "duration": 5,
    "start_time": "2022-06-05T20:54:40.005Z"
   },
   {
    "duration": 105,
    "start_time": "2022-06-05T20:54:40.011Z"
   },
   {
    "duration": 110,
    "start_time": "2022-06-05T20:54:40.118Z"
   },
   {
    "duration": 20,
    "start_time": "2022-06-05T20:54:40.230Z"
   },
   {
    "duration": 8,
    "start_time": "2022-06-05T20:54:40.251Z"
   },
   {
    "duration": 12,
    "start_time": "2022-06-05T20:54:40.260Z"
   },
   {
    "duration": 12,
    "start_time": "2022-06-05T20:54:40.273Z"
   },
   {
    "duration": 471,
    "start_time": "2022-06-05T20:54:40.287Z"
   },
   {
    "duration": 349,
    "start_time": "2022-06-05T20:54:40.759Z"
   },
   {
    "duration": 349,
    "start_time": "2022-06-05T20:54:41.109Z"
   },
   {
    "duration": 14,
    "start_time": "2022-06-05T20:54:41.459Z"
   },
   {
    "duration": 7,
    "start_time": "2022-06-05T20:54:41.475Z"
   },
   {
    "duration": 432,
    "start_time": "2022-06-05T20:54:41.483Z"
   },
   {
    "duration": 595,
    "start_time": "2022-06-05T20:54:41.916Z"
   },
   {
    "duration": 482,
    "start_time": "2022-06-05T20:54:42.513Z"
   },
   {
    "duration": 301,
    "start_time": "2022-06-05T20:54:42.997Z"
   },
   {
    "duration": 9,
    "start_time": "2022-06-05T20:54:43.300Z"
   },
   {
    "duration": 18,
    "start_time": "2022-06-05T20:54:43.314Z"
   },
   {
    "duration": 4,
    "start_time": "2022-06-05T20:54:43.333Z"
   },
   {
    "duration": 132,
    "start_time": "2022-06-05T20:54:43.339Z"
   },
   {
    "duration": 127,
    "start_time": "2022-06-05T20:54:43.473Z"
   },
   {
    "duration": 127,
    "start_time": "2022-06-05T20:54:43.601Z"
   },
   {
    "duration": 4,
    "start_time": "2022-06-05T20:54:43.730Z"
   },
   {
    "duration": 20,
    "start_time": "2022-06-05T20:54:43.735Z"
   },
   {
    "duration": 4,
    "start_time": "2022-06-05T20:54:43.757Z"
   },
   {
    "duration": 12,
    "start_time": "2022-06-05T20:54:43.763Z"
   },
   {
    "duration": 9,
    "start_time": "2022-06-05T20:54:43.777Z"
   },
   {
    "duration": 11,
    "start_time": "2022-06-05T20:54:43.788Z"
   },
   {
    "duration": 15,
    "start_time": "2022-06-05T20:54:43.803Z"
   },
   {
    "duration": 8,
    "start_time": "2022-06-05T20:54:43.819Z"
   },
   {
    "duration": 25,
    "start_time": "2022-06-05T20:54:43.829Z"
   },
   {
    "duration": 35,
    "start_time": "2022-06-05T20:54:43.856Z"
   },
   {
    "duration": 12,
    "start_time": "2022-06-05T20:54:43.893Z"
   },
   {
    "duration": 133,
    "start_time": "2022-06-05T20:54:43.907Z"
   },
   {
    "duration": 5,
    "start_time": "2022-06-05T20:54:44.042Z"
   },
   {
    "duration": 8,
    "start_time": "2022-06-05T20:54:44.049Z"
   },
   {
    "duration": 14,
    "start_time": "2022-06-05T20:54:44.058Z"
   },
   {
    "duration": 9,
    "start_time": "2022-06-05T20:54:44.074Z"
   },
   {
    "duration": 5,
    "start_time": "2022-06-05T20:54:44.085Z"
   },
   {
    "duration": 2414,
    "start_time": "2022-06-05T20:54:44.091Z"
   },
   {
    "duration": 2,
    "start_time": "2022-06-05T20:54:46.507Z"
   },
   {
    "duration": 2810,
    "start_time": "2022-06-05T20:54:46.511Z"
   },
   {
    "duration": 2,
    "start_time": "2022-06-05T20:54:49.327Z"
   },
   {
    "duration": 14,
    "start_time": "2022-06-05T20:54:49.331Z"
   },
   {
    "duration": 7,
    "start_time": "2022-06-05T20:54:49.346Z"
   },
   {
    "duration": 13,
    "start_time": "2022-06-05T20:54:49.355Z"
   },
   {
    "duration": 7,
    "start_time": "2022-06-05T20:54:49.369Z"
   },
   {
    "duration": 7,
    "start_time": "2022-06-05T20:54:49.378Z"
   },
   {
    "duration": 15,
    "start_time": "2022-06-05T20:54:49.386Z"
   },
   {
    "duration": 334,
    "start_time": "2022-06-05T20:54:49.402Z"
   },
   {
    "duration": 2893,
    "start_time": "2022-06-05T20:54:49.738Z"
   },
   {
    "duration": 6,
    "start_time": "2022-06-05T20:54:52.633Z"
   },
   {
    "duration": 383,
    "start_time": "2022-06-05T20:54:52.642Z"
   },
   {
    "duration": 7,
    "start_time": "2022-06-05T20:54:53.027Z"
   },
   {
    "duration": 8,
    "start_time": "2022-06-05T20:54:53.035Z"
   },
   {
    "duration": 7,
    "start_time": "2022-06-05T20:54:53.045Z"
   },
   {
    "duration": 8,
    "start_time": "2022-06-05T20:54:53.054Z"
   },
   {
    "duration": 7,
    "start_time": "2022-06-05T20:54:53.064Z"
   },
   {
    "duration": 5,
    "start_time": "2022-06-05T20:54:53.072Z"
   },
   {
    "duration": 15,
    "start_time": "2022-06-05T20:54:53.078Z"
   },
   {
    "duration": 233,
    "start_time": "2022-06-05T20:54:53.094Z"
   },
   {
    "duration": 108,
    "start_time": "2022-06-05T20:54:53.329Z"
   },
   {
    "duration": 185,
    "start_time": "2022-06-05T20:54:53.442Z"
   },
   {
    "duration": 9,
    "start_time": "2022-06-05T20:54:53.629Z"
   },
   {
    "duration": 10,
    "start_time": "2022-06-05T20:54:53.640Z"
   },
   {
    "duration": 8,
    "start_time": "2022-06-05T20:54:53.651Z"
   },
   {
    "duration": 11,
    "start_time": "2022-06-05T20:54:53.660Z"
   },
   {
    "duration": 9,
    "start_time": "2022-06-05T20:54:53.673Z"
   },
   {
    "duration": 7,
    "start_time": "2022-06-05T20:54:53.684Z"
   },
   {
    "duration": 12,
    "start_time": "2022-06-05T20:54:53.692Z"
   },
   {
    "duration": 10,
    "start_time": "2022-06-05T20:54:53.705Z"
   },
   {
    "duration": 9,
    "start_time": "2022-06-05T20:54:53.719Z"
   },
   {
    "duration": 5,
    "start_time": "2022-06-05T20:54:53.730Z"
   },
   {
    "duration": 12,
    "start_time": "2022-06-05T20:54:53.736Z"
   },
   {
    "duration": 13,
    "start_time": "2022-06-05T20:54:53.749Z"
   },
   {
    "duration": 9,
    "start_time": "2022-06-05T20:54:53.764Z"
   },
   {
    "duration": 9,
    "start_time": "2022-06-05T20:54:53.775Z"
   },
   {
    "duration": 2,
    "start_time": "2022-06-05T21:04:38.943Z"
   },
   {
    "duration": 104,
    "start_time": "2022-06-05T21:04:42.454Z"
   },
   {
    "duration": 2,
    "start_time": "2022-06-05T21:04:59.306Z"
   },
   {
    "duration": 10,
    "start_time": "2022-06-05T21:05:02.771Z"
   },
   {
    "duration": 3,
    "start_time": "2022-06-05T21:06:31.492Z"
   },
   {
    "duration": 705,
    "start_time": "2022-06-05T21:06:31.500Z"
   },
   {
    "duration": 46,
    "start_time": "2022-06-05T21:06:32.207Z"
   },
   {
    "duration": 481,
    "start_time": "2022-06-05T21:06:32.254Z"
   },
   {
    "duration": 3,
    "start_time": "2022-06-05T21:06:32.737Z"
   },
   {
    "duration": 8,
    "start_time": "2022-06-05T21:06:32.742Z"
   },
   {
    "duration": 7,
    "start_time": "2022-06-05T21:06:32.752Z"
   },
   {
    "duration": 7,
    "start_time": "2022-06-05T21:06:32.760Z"
   },
   {
    "duration": 6,
    "start_time": "2022-06-05T21:06:32.769Z"
   },
   {
    "duration": 8,
    "start_time": "2022-06-05T21:06:32.777Z"
   },
   {
    "duration": 8,
    "start_time": "2022-06-05T21:06:32.787Z"
   },
   {
    "duration": 5,
    "start_time": "2022-06-05T21:06:32.796Z"
   },
   {
    "duration": 85,
    "start_time": "2022-06-05T21:06:32.827Z"
   },
   {
    "duration": 114,
    "start_time": "2022-06-05T21:06:32.914Z"
   },
   {
    "duration": 20,
    "start_time": "2022-06-05T21:06:33.030Z"
   },
   {
    "duration": 8,
    "start_time": "2022-06-05T21:06:33.052Z"
   },
   {
    "duration": 7,
    "start_time": "2022-06-05T21:06:33.062Z"
   },
   {
    "duration": 4,
    "start_time": "2022-06-05T21:06:33.071Z"
   },
   {
    "duration": 400,
    "start_time": "2022-06-05T21:06:33.077Z"
   },
   {
    "duration": 362,
    "start_time": "2022-06-05T21:06:33.478Z"
   },
   {
    "duration": 378,
    "start_time": "2022-06-05T21:06:33.842Z"
   },
   {
    "duration": 16,
    "start_time": "2022-06-05T21:06:34.222Z"
   },
   {
    "duration": 7,
    "start_time": "2022-06-05T21:06:34.240Z"
   },
   {
    "duration": 571,
    "start_time": "2022-06-05T21:06:34.249Z"
   },
   {
    "duration": 480,
    "start_time": "2022-06-05T21:06:34.822Z"
   },
   {
    "duration": 441,
    "start_time": "2022-06-05T21:06:35.304Z"
   },
   {
    "duration": 264,
    "start_time": "2022-06-05T21:06:35.746Z"
   },
   {
    "duration": 18,
    "start_time": "2022-06-05T21:06:36.012Z"
   },
   {
    "duration": 7,
    "start_time": "2022-06-05T21:06:36.035Z"
   },
   {
    "duration": 5,
    "start_time": "2022-06-05T21:06:36.044Z"
   },
   {
    "duration": 306,
    "start_time": "2022-06-05T21:06:36.050Z"
   },
   {
    "duration": 154,
    "start_time": "2022-06-05T21:06:36.357Z"
   },
   {
    "duration": 125,
    "start_time": "2022-06-05T21:06:36.512Z"
   },
   {
    "duration": 4,
    "start_time": "2022-06-05T21:06:36.638Z"
   },
   {
    "duration": 22,
    "start_time": "2022-06-05T21:06:36.643Z"
   },
   {
    "duration": 3,
    "start_time": "2022-06-05T21:06:36.666Z"
   },
   {
    "duration": 7,
    "start_time": "2022-06-05T21:06:36.670Z"
   },
   {
    "duration": 6,
    "start_time": "2022-06-05T21:06:36.678Z"
   },
   {
    "duration": 11,
    "start_time": "2022-06-05T21:06:36.686Z"
   },
   {
    "duration": 14,
    "start_time": "2022-06-05T21:06:36.698Z"
   },
   {
    "duration": 10,
    "start_time": "2022-06-05T21:06:36.713Z"
   },
   {
    "duration": 8,
    "start_time": "2022-06-05T21:06:36.726Z"
   },
   {
    "duration": 22,
    "start_time": "2022-06-05T21:06:36.736Z"
   },
   {
    "duration": 9,
    "start_time": "2022-06-05T21:06:36.760Z"
   },
   {
    "duration": 16,
    "start_time": "2022-06-05T21:06:36.771Z"
   },
   {
    "duration": 6,
    "start_time": "2022-06-05T21:06:36.788Z"
   },
   {
    "duration": 4,
    "start_time": "2022-06-05T21:06:36.795Z"
   },
   {
    "duration": 32,
    "start_time": "2022-06-05T21:06:36.800Z"
   },
   {
    "duration": 12,
    "start_time": "2022-06-05T21:06:36.833Z"
   },
   {
    "duration": 3,
    "start_time": "2022-06-05T21:06:36.847Z"
   },
   {
    "duration": 2278,
    "start_time": "2022-06-05T21:06:36.851Z"
   },
   {
    "duration": 2,
    "start_time": "2022-06-05T21:06:39.131Z"
   },
   {
    "duration": 2760,
    "start_time": "2022-06-05T21:06:39.134Z"
   },
   {
    "duration": 4,
    "start_time": "2022-06-05T21:06:59.682Z"
   },
   {
    "duration": 3,
    "start_time": "2022-06-05T21:09:30.097Z"
   },
   {
    "duration": 3,
    "start_time": "2022-06-05T21:09:45.797Z"
   },
   {
    "duration": 4,
    "start_time": "2022-06-05T21:09:51.196Z"
   },
   {
    "duration": 5,
    "start_time": "2022-06-05T21:14:14.102Z"
   },
   {
    "duration": 770,
    "start_time": "2022-06-05T21:14:14.113Z"
   },
   {
    "duration": 51,
    "start_time": "2022-06-05T21:14:14.885Z"
   },
   {
    "duration": 491,
    "start_time": "2022-06-05T21:14:14.938Z"
   },
   {
    "duration": 2,
    "start_time": "2022-06-05T21:14:15.431Z"
   },
   {
    "duration": 22,
    "start_time": "2022-06-05T21:14:15.435Z"
   },
   {
    "duration": 6,
    "start_time": "2022-06-05T21:14:15.459Z"
   },
   {
    "duration": 7,
    "start_time": "2022-06-05T21:14:15.467Z"
   },
   {
    "duration": 8,
    "start_time": "2022-06-05T21:14:15.475Z"
   },
   {
    "duration": 8,
    "start_time": "2022-06-05T21:14:15.484Z"
   },
   {
    "duration": 8,
    "start_time": "2022-06-05T21:14:15.494Z"
   },
   {
    "duration": 6,
    "start_time": "2022-06-05T21:14:15.503Z"
   },
   {
    "duration": 106,
    "start_time": "2022-06-05T21:14:15.511Z"
   },
   {
    "duration": 138,
    "start_time": "2022-06-05T21:14:15.618Z"
   },
   {
    "duration": 24,
    "start_time": "2022-06-05T21:14:15.758Z"
   },
   {
    "duration": 8,
    "start_time": "2022-06-05T21:14:15.784Z"
   },
   {
    "duration": 38,
    "start_time": "2022-06-05T21:14:15.794Z"
   },
   {
    "duration": 6,
    "start_time": "2022-06-05T21:14:15.834Z"
   },
   {
    "duration": 488,
    "start_time": "2022-06-05T21:14:15.842Z"
   },
   {
    "duration": 421,
    "start_time": "2022-06-05T21:14:16.332Z"
   },
   {
    "duration": 497,
    "start_time": "2022-06-05T21:14:16.755Z"
   },
   {
    "duration": 16,
    "start_time": "2022-06-05T21:14:17.254Z"
   },
   {
    "duration": 10,
    "start_time": "2022-06-05T21:14:17.272Z"
   },
   {
    "duration": 505,
    "start_time": "2022-06-05T21:14:17.283Z"
   },
   {
    "duration": 530,
    "start_time": "2022-06-05T21:14:17.790Z"
   },
   {
    "duration": 644,
    "start_time": "2022-06-05T21:14:18.322Z"
   },
   {
    "duration": 299,
    "start_time": "2022-06-05T21:14:18.967Z"
   },
   {
    "duration": 13,
    "start_time": "2022-06-05T21:14:19.268Z"
   },
   {
    "duration": 21,
    "start_time": "2022-06-05T21:14:19.287Z"
   },
   {
    "duration": 24,
    "start_time": "2022-06-05T21:14:19.310Z"
   },
   {
    "duration": 146,
    "start_time": "2022-06-05T21:14:19.336Z"
   },
   {
    "duration": 135,
    "start_time": "2022-06-05T21:14:19.484Z"
   },
   {
    "duration": 148,
    "start_time": "2022-06-05T21:14:19.621Z"
   },
   {
    "duration": 3,
    "start_time": "2022-06-05T21:14:19.771Z"
   },
   {
    "duration": 32,
    "start_time": "2022-06-05T21:14:19.776Z"
   },
   {
    "duration": 11,
    "start_time": "2022-06-05T21:14:19.811Z"
   },
   {
    "duration": 17,
    "start_time": "2022-06-05T21:14:19.823Z"
   },
   {
    "duration": 12,
    "start_time": "2022-06-05T21:14:19.842Z"
   },
   {
    "duration": 19,
    "start_time": "2022-06-05T21:14:19.856Z"
   },
   {
    "duration": 7,
    "start_time": "2022-06-05T21:14:19.877Z"
   },
   {
    "duration": 7,
    "start_time": "2022-06-05T21:14:19.886Z"
   },
   {
    "duration": 10,
    "start_time": "2022-06-05T21:14:19.895Z"
   },
   {
    "duration": 28,
    "start_time": "2022-06-05T21:14:19.906Z"
   },
   {
    "duration": 10,
    "start_time": "2022-06-05T21:14:19.935Z"
   },
   {
    "duration": 35,
    "start_time": "2022-06-05T21:14:19.947Z"
   },
   {
    "duration": 8,
    "start_time": "2022-06-05T21:14:19.984Z"
   },
   {
    "duration": 3,
    "start_time": "2022-06-05T21:14:19.994Z"
   },
   {
    "duration": 9,
    "start_time": "2022-06-05T21:14:19.999Z"
   },
   {
    "duration": 17,
    "start_time": "2022-06-05T21:14:20.010Z"
   },
   {
    "duration": 12,
    "start_time": "2022-06-05T21:14:20.029Z"
   },
   {
    "duration": 2373,
    "start_time": "2022-06-05T21:14:20.042Z"
   },
   {
    "duration": 2,
    "start_time": "2022-06-05T21:14:22.417Z"
   },
   {
    "duration": 2783,
    "start_time": "2022-06-05T21:14:22.426Z"
   },
   {
    "duration": 3,
    "start_time": "2022-06-05T21:14:25.211Z"
   },
   {
    "duration": 12,
    "start_time": "2022-06-05T21:14:25.216Z"
   },
   {
    "duration": 524272,
    "start_time": "2022-06-05T21:14:25.229Z"
   },
   {
    "duration": 2,
    "start_time": "2022-06-05T21:23:09.503Z"
   },
   {
    "duration": 7,
    "start_time": "2022-06-05T21:23:09.507Z"
   },
   {
    "duration": 14,
    "start_time": "2022-06-05T21:23:09.516Z"
   },
   {
    "duration": 7,
    "start_time": "2022-06-05T21:23:09.532Z"
   },
   {
    "duration": 895,
    "start_time": "2022-06-05T21:23:09.540Z"
   },
   {
    "duration": 1202,
    "start_time": "2022-06-05T21:23:10.528Z"
   },
   {
    "duration": 5,
    "start_time": "2022-06-05T21:23:11.733Z"
   },
   {
    "duration": 269,
    "start_time": "2022-06-05T21:23:11.826Z"
   },
   {
    "duration": 8,
    "start_time": "2022-06-05T21:23:12.096Z"
   },
   {
    "duration": 5,
    "start_time": "2022-06-05T21:23:12.105Z"
   },
   {
    "duration": 17,
    "start_time": "2022-06-05T21:23:12.111Z"
   },
   {
    "duration": 12,
    "start_time": "2022-06-05T21:23:12.129Z"
   },
   {
    "duration": 8,
    "start_time": "2022-06-05T21:23:12.142Z"
   },
   {
    "duration": 5,
    "start_time": "2022-06-05T21:23:12.151Z"
   },
   {
    "duration": 13,
    "start_time": "2022-06-05T21:23:12.157Z"
   },
   {
    "duration": 159,
    "start_time": "2022-06-05T21:23:12.172Z"
   },
   {
    "duration": 12,
    "start_time": "2022-06-05T21:23:12.427Z"
   },
   {
    "duration": 189,
    "start_time": "2022-06-05T21:23:12.441Z"
   },
   {
    "duration": 6,
    "start_time": "2022-06-05T21:23:12.632Z"
   },
   {
    "duration": 6,
    "start_time": "2022-06-05T21:23:12.640Z"
   },
   {
    "duration": 39,
    "start_time": "2022-06-05T21:23:12.647Z"
   },
   {
    "duration": 8,
    "start_time": "2022-06-05T21:23:12.688Z"
   },
   {
    "duration": 8,
    "start_time": "2022-06-05T21:23:12.698Z"
   },
   {
    "duration": 4,
    "start_time": "2022-06-05T21:23:12.708Z"
   },
   {
    "duration": 10,
    "start_time": "2022-06-05T21:23:12.714Z"
   },
   {
    "duration": 6,
    "start_time": "2022-06-05T21:23:12.726Z"
   },
   {
    "duration": 7,
    "start_time": "2022-06-05T21:23:12.737Z"
   },
   {
    "duration": 6,
    "start_time": "2022-06-05T21:23:12.745Z"
   },
   {
    "duration": 8,
    "start_time": "2022-06-05T21:23:12.753Z"
   },
   {
    "duration": 8,
    "start_time": "2022-06-05T21:23:12.762Z"
   },
   {
    "duration": 13,
    "start_time": "2022-06-05T21:23:12.772Z"
   },
   {
    "duration": 19,
    "start_time": "2022-06-05T21:23:12.787Z"
   },
   {
    "duration": 1183,
    "start_time": "2022-06-05T21:30:34.990Z"
   },
   {
    "duration": 801,
    "start_time": "2022-06-05T21:30:36.175Z"
   },
   {
    "duration": 49,
    "start_time": "2022-06-05T21:30:36.978Z"
   },
   {
    "duration": 589,
    "start_time": "2022-06-05T21:30:37.029Z"
   },
   {
    "duration": 3,
    "start_time": "2022-06-05T21:30:37.620Z"
   },
   {
    "duration": 48,
    "start_time": "2022-06-05T21:30:37.625Z"
   },
   {
    "duration": 34,
    "start_time": "2022-06-05T21:30:37.675Z"
   },
   {
    "duration": 32,
    "start_time": "2022-06-05T21:30:37.710Z"
   },
   {
    "duration": 40,
    "start_time": "2022-06-05T21:30:37.744Z"
   },
   {
    "duration": 11,
    "start_time": "2022-06-05T21:30:37.787Z"
   },
   {
    "duration": 47,
    "start_time": "2022-06-05T21:30:37.800Z"
   },
   {
    "duration": 49,
    "start_time": "2022-06-05T21:30:37.848Z"
   },
   {
    "duration": 137,
    "start_time": "2022-06-05T21:30:37.899Z"
   },
   {
    "duration": 117,
    "start_time": "2022-06-05T21:30:38.037Z"
   },
   {
    "duration": 18,
    "start_time": "2022-06-05T21:30:38.156Z"
   },
   {
    "duration": 17,
    "start_time": "2022-06-05T21:30:38.175Z"
   },
   {
    "duration": 23,
    "start_time": "2022-06-05T21:30:38.193Z"
   },
   {
    "duration": 44,
    "start_time": "2022-06-05T21:30:38.218Z"
   },
   {
    "duration": 370,
    "start_time": "2022-06-05T21:30:38.264Z"
   },
   {
    "duration": 349,
    "start_time": "2022-06-05T21:30:38.636Z"
   },
   {
    "duration": 450,
    "start_time": "2022-06-05T21:30:38.986Z"
   },
   {
    "duration": 20,
    "start_time": "2022-06-05T21:30:39.438Z"
   },
   {
    "duration": 21,
    "start_time": "2022-06-05T21:30:39.460Z"
   },
   {
    "duration": 473,
    "start_time": "2022-06-05T21:30:39.483Z"
   },
   {
    "duration": 453,
    "start_time": "2022-06-05T21:30:39.957Z"
   },
   {
    "duration": 433,
    "start_time": "2022-06-05T21:30:40.411Z"
   },
   {
    "duration": 402,
    "start_time": "2022-06-05T21:30:40.845Z"
   },
   {
    "duration": 9,
    "start_time": "2022-06-05T21:30:41.251Z"
   },
   {
    "duration": 9,
    "start_time": "2022-06-05T21:30:41.261Z"
   },
   {
    "duration": 7,
    "start_time": "2022-06-05T21:30:41.272Z"
   },
   {
    "duration": 155,
    "start_time": "2022-06-05T21:30:41.281Z"
   },
   {
    "duration": 113,
    "start_time": "2022-06-05T21:30:41.437Z"
   },
   {
    "duration": 122,
    "start_time": "2022-06-05T21:30:41.551Z"
   },
   {
    "duration": 3,
    "start_time": "2022-06-05T21:30:41.674Z"
   },
   {
    "duration": 18,
    "start_time": "2022-06-05T21:30:41.679Z"
   },
   {
    "duration": 9,
    "start_time": "2022-06-05T21:30:41.698Z"
   },
   {
    "duration": 11,
    "start_time": "2022-06-05T21:30:41.708Z"
   },
   {
    "duration": 11,
    "start_time": "2022-06-05T21:30:41.720Z"
   },
   {
    "duration": 17,
    "start_time": "2022-06-05T21:30:41.733Z"
   },
   {
    "duration": 10,
    "start_time": "2022-06-05T21:30:41.751Z"
   },
   {
    "duration": 24,
    "start_time": "2022-06-05T21:30:41.762Z"
   },
   {
    "duration": 25,
    "start_time": "2022-06-05T21:30:41.788Z"
   },
   {
    "duration": 27,
    "start_time": "2022-06-05T21:30:41.814Z"
   },
   {
    "duration": 10,
    "start_time": "2022-06-05T21:30:41.843Z"
   },
   {
    "duration": 17,
    "start_time": "2022-06-05T21:30:41.854Z"
   },
   {
    "duration": 7,
    "start_time": "2022-06-05T21:30:41.872Z"
   },
   {
    "duration": 13,
    "start_time": "2022-06-05T21:30:41.880Z"
   },
   {
    "duration": 15,
    "start_time": "2022-06-05T21:30:41.894Z"
   },
   {
    "duration": 13,
    "start_time": "2022-06-05T21:30:41.911Z"
   },
   {
    "duration": 6,
    "start_time": "2022-06-05T21:30:41.926Z"
   },
   {
    "duration": 2291,
    "start_time": "2022-06-05T21:30:41.934Z"
   },
   {
    "duration": 2,
    "start_time": "2022-06-05T21:30:44.227Z"
   },
   {
    "duration": 2874,
    "start_time": "2022-06-05T21:30:44.231Z"
   },
   {
    "duration": 3,
    "start_time": "2022-06-05T21:30:47.106Z"
   },
   {
    "duration": 15,
    "start_time": "2022-06-05T21:30:47.111Z"
   },
   {
    "duration": 522991,
    "start_time": "2022-06-05T21:30:47.127Z"
   },
   {
    "duration": 3,
    "start_time": "2022-06-05T21:39:30.119Z"
   },
   {
    "duration": 606766,
    "start_time": "2022-06-05T21:39:30.123Z"
   },
   {
    "duration": 0,
    "start_time": "2022-06-05T21:49:36.891Z"
   },
   {
    "duration": 0,
    "start_time": "2022-06-05T21:49:36.892Z"
   },
   {
    "duration": 0,
    "start_time": "2022-06-05T21:49:36.894Z"
   },
   {
    "duration": 0,
    "start_time": "2022-06-05T21:49:36.895Z"
   },
   {
    "duration": 0,
    "start_time": "2022-06-05T21:49:36.896Z"
   },
   {
    "duration": 0,
    "start_time": "2022-06-05T21:49:36.897Z"
   },
   {
    "duration": 0,
    "start_time": "2022-06-05T21:49:36.899Z"
   },
   {
    "duration": 0,
    "start_time": "2022-06-05T21:49:36.899Z"
   },
   {
    "duration": 0,
    "start_time": "2022-06-05T21:49:36.900Z"
   },
   {
    "duration": 0,
    "start_time": "2022-06-05T21:49:36.901Z"
   },
   {
    "duration": 0,
    "start_time": "2022-06-05T21:49:36.903Z"
   },
   {
    "duration": 0,
    "start_time": "2022-06-05T21:49:36.904Z"
   },
   {
    "duration": 0,
    "start_time": "2022-06-05T21:49:36.905Z"
   },
   {
    "duration": 0,
    "start_time": "2022-06-05T21:49:36.927Z"
   },
   {
    "duration": 0,
    "start_time": "2022-06-05T21:49:36.928Z"
   },
   {
    "duration": 0,
    "start_time": "2022-06-05T21:49:36.929Z"
   },
   {
    "duration": 0,
    "start_time": "2022-06-05T21:49:36.930Z"
   },
   {
    "duration": 0,
    "start_time": "2022-06-05T21:49:36.931Z"
   },
   {
    "duration": 0,
    "start_time": "2022-06-05T21:49:36.932Z"
   },
   {
    "duration": 0,
    "start_time": "2022-06-05T21:49:36.933Z"
   },
   {
    "duration": 0,
    "start_time": "2022-06-05T21:49:36.934Z"
   },
   {
    "duration": 0,
    "start_time": "2022-06-05T21:49:36.935Z"
   },
   {
    "duration": 0,
    "start_time": "2022-06-05T21:49:36.936Z"
   },
   {
    "duration": 0,
    "start_time": "2022-06-05T21:49:36.936Z"
   },
   {
    "duration": 0,
    "start_time": "2022-06-05T21:49:36.938Z"
   },
   {
    "duration": 0,
    "start_time": "2022-06-05T21:49:36.939Z"
   },
   {
    "duration": 0,
    "start_time": "2022-06-05T21:49:36.940Z"
   },
   {
    "duration": 0,
    "start_time": "2022-06-05T21:49:36.941Z"
   },
   {
    "duration": 0,
    "start_time": "2022-06-05T21:49:36.942Z"
   },
   {
    "duration": 0,
    "start_time": "2022-06-05T21:49:36.943Z"
   },
   {
    "duration": 3,
    "start_time": "2022-06-05T21:49:53.246Z"
   },
   {
    "duration": 4,
    "start_time": "2022-06-05T21:49:55.041Z"
   },
   {
    "duration": 778,
    "start_time": "2022-06-05T21:52:56.257Z"
   },
   {
    "duration": 1402,
    "start_time": "2022-06-05T21:52:57.128Z"
   },
   {
    "duration": 3,
    "start_time": "2022-06-05T21:52:58.532Z"
   },
   {
    "duration": 391,
    "start_time": "2022-06-05T21:52:58.538Z"
   },
   {
    "duration": 8,
    "start_time": "2022-06-05T21:52:58.931Z"
   },
   {
    "duration": 6,
    "start_time": "2022-06-05T21:52:58.940Z"
   },
   {
    "duration": 7,
    "start_time": "2022-06-05T21:52:58.948Z"
   },
   {
    "duration": 7,
    "start_time": "2022-06-05T21:52:58.957Z"
   },
   {
    "duration": 9,
    "start_time": "2022-06-05T21:52:58.965Z"
   },
   {
    "duration": 4,
    "start_time": "2022-06-05T21:52:58.977Z"
   },
   {
    "duration": 6,
    "start_time": "2022-06-05T21:52:58.982Z"
   },
   {
    "duration": 239,
    "start_time": "2022-06-05T21:52:58.990Z"
   },
   {
    "duration": 101,
    "start_time": "2022-06-05T21:52:59.231Z"
   },
   {
    "duration": 101,
    "start_time": "2022-06-05T21:52:59.335Z"
   },
   {
    "duration": 6,
    "start_time": "2022-06-05T21:52:59.528Z"
   },
   {
    "duration": 7,
    "start_time": "2022-06-05T21:52:59.536Z"
   },
   {
    "duration": 6,
    "start_time": "2022-06-05T21:52:59.544Z"
   },
   {
    "duration": 7,
    "start_time": "2022-06-05T21:52:59.552Z"
   },
   {
    "duration": 6,
    "start_time": "2022-06-05T21:52:59.560Z"
   },
   {
    "duration": 5,
    "start_time": "2022-06-05T21:52:59.568Z"
   },
   {
    "duration": 11,
    "start_time": "2022-06-05T21:52:59.574Z"
   },
   {
    "duration": 4,
    "start_time": "2022-06-05T21:52:59.586Z"
   },
   {
    "duration": 6,
    "start_time": "2022-06-05T21:52:59.592Z"
   },
   {
    "duration": 6,
    "start_time": "2022-06-05T21:52:59.600Z"
   },
   {
    "duration": 21,
    "start_time": "2022-06-05T21:52:59.607Z"
   },
   {
    "duration": 4,
    "start_time": "2022-06-05T21:52:59.630Z"
   },
   {
    "duration": 6,
    "start_time": "2022-06-05T21:52:59.635Z"
   },
   {
    "duration": 10,
    "start_time": "2022-06-05T21:52:59.644Z"
   },
   {
    "duration": 66,
    "start_time": "2022-06-05T22:15:10.504Z"
   },
   {
    "duration": 5,
    "start_time": "2022-06-05T22:15:10.571Z"
   },
   {
    "duration": 7,
    "start_time": "2022-06-05T22:15:10.577Z"
   },
   {
    "duration": 5,
    "start_time": "2022-06-05T22:15:10.586Z"
   },
   {
    "duration": 10,
    "start_time": "2022-06-05T22:15:10.593Z"
   },
   {
    "duration": 10,
    "start_time": "2022-06-05T22:15:10.604Z"
   },
   {
    "duration": 2,
    "start_time": "2022-06-05T22:15:10.626Z"
   },
   {
    "duration": 11,
    "start_time": "2022-06-05T22:15:10.630Z"
   },
   {
    "duration": 186,
    "start_time": "2022-06-05T22:15:10.643Z"
   },
   {
    "duration": 102,
    "start_time": "2022-06-05T22:15:10.832Z"
   },
   {
    "duration": 95,
    "start_time": "2022-06-05T22:15:10.936Z"
   },
   {
    "duration": 102,
    "start_time": "2022-06-05T22:15:11.034Z"
   },
   {
    "duration": 7,
    "start_time": "2022-06-05T22:15:11.138Z"
   },
   {
    "duration": 15,
    "start_time": "2022-06-05T22:15:11.147Z"
   },
   {
    "duration": 6,
    "start_time": "2022-06-05T22:15:11.164Z"
   },
   {
    "duration": 6,
    "start_time": "2022-06-05T22:15:11.172Z"
   },
   {
    "duration": 4,
    "start_time": "2022-06-05T22:15:11.180Z"
   },
   {
    "duration": 10,
    "start_time": "2022-06-05T22:15:11.185Z"
   },
   {
    "duration": 12,
    "start_time": "2022-06-05T22:15:11.196Z"
   },
   {
    "duration": 24,
    "start_time": "2022-06-05T22:15:11.209Z"
   },
   {
    "duration": 10,
    "start_time": "2022-06-05T22:15:11.234Z"
   },
   {
    "duration": 12,
    "start_time": "2022-06-05T22:15:11.246Z"
   },
   {
    "duration": 10,
    "start_time": "2022-06-05T22:15:11.260Z"
   },
   {
    "duration": 9,
    "start_time": "2022-06-05T22:15:11.271Z"
   },
   {
    "duration": 8,
    "start_time": "2022-06-05T22:15:11.281Z"
   },
   {
    "duration": 10,
    "start_time": "2022-06-05T22:17:29.622Z"
   },
   {
    "duration": 9,
    "start_time": "2022-06-05T22:17:29.636Z"
   },
   {
    "duration": 86,
    "start_time": "2022-06-05T22:17:29.648Z"
   },
   {
    "duration": 97,
    "start_time": "2022-06-05T22:17:29.737Z"
   },
   {
    "duration": 10,
    "start_time": "2022-06-05T22:17:29.836Z"
   },
   {
    "duration": 6,
    "start_time": "2022-06-05T22:17:29.848Z"
   },
   {
    "duration": 7,
    "start_time": "2022-06-05T22:17:29.855Z"
   },
   {
    "duration": 8,
    "start_time": "2022-06-05T22:17:29.864Z"
   },
   {
    "duration": 255,
    "start_time": "2022-06-05T22:17:29.874Z"
   },
   {
    "duration": 100,
    "start_time": "2022-06-05T22:17:30.132Z"
   },
   {
    "duration": 191,
    "start_time": "2022-06-05T22:17:30.235Z"
   },
   {
    "duration": 15,
    "start_time": "2022-06-05T22:17:30.429Z"
   },
   {
    "duration": 16,
    "start_time": "2022-06-05T22:17:30.445Z"
   },
   {
    "duration": 25,
    "start_time": "2022-06-05T22:17:30.463Z"
   },
   {
    "duration": 32,
    "start_time": "2022-06-05T22:17:30.489Z"
   },
   {
    "duration": 14,
    "start_time": "2022-06-05T22:17:30.523Z"
   },
   {
    "duration": 21,
    "start_time": "2022-06-05T22:17:30.539Z"
   },
   {
    "duration": 22,
    "start_time": "2022-06-05T22:17:30.562Z"
   },
   {
    "duration": 16,
    "start_time": "2022-06-05T22:17:30.586Z"
   },
   {
    "duration": 29,
    "start_time": "2022-06-05T22:17:30.604Z"
   },
   {
    "duration": 29,
    "start_time": "2022-06-05T22:17:30.635Z"
   },
   {
    "duration": 21,
    "start_time": "2022-06-05T22:17:30.665Z"
   },
   {
    "duration": 10,
    "start_time": "2022-06-05T22:17:30.688Z"
   },
   {
    "duration": 9,
    "start_time": "2022-06-05T22:17:30.700Z"
   },
   {
    "duration": 15,
    "start_time": "2022-06-05T22:17:30.710Z"
   },
   {
    "duration": 14,
    "start_time": "2022-06-05T22:20:10.884Z"
   },
   {
    "duration": 134,
    "start_time": "2022-06-05T22:20:10.902Z"
   },
   {
    "duration": 10,
    "start_time": "2022-06-05T22:20:11.127Z"
   },
   {
    "duration": 89,
    "start_time": "2022-06-05T22:20:11.139Z"
   },
   {
    "duration": 4,
    "start_time": "2022-06-05T22:20:11.231Z"
   },
   {
    "duration": 4,
    "start_time": "2022-06-05T22:20:11.237Z"
   },
   {
    "duration": 5,
    "start_time": "2022-06-05T22:20:11.243Z"
   },
   {
    "duration": 8,
    "start_time": "2022-06-05T22:20:11.249Z"
   },
   {
    "duration": 176,
    "start_time": "2022-06-05T22:20:11.259Z"
   },
   {
    "duration": 196,
    "start_time": "2022-06-05T22:20:11.437Z"
   },
   {
    "duration": 90,
    "start_time": "2022-06-05T22:20:11.638Z"
   },
   {
    "duration": 9,
    "start_time": "2022-06-05T22:20:11.731Z"
   },
   {
    "duration": 90,
    "start_time": "2022-06-05T22:20:11.742Z"
   },
   {
    "duration": 4,
    "start_time": "2022-06-05T22:20:11.834Z"
   },
   {
    "duration": 5,
    "start_time": "2022-06-05T22:20:11.840Z"
   },
   {
    "duration": 8,
    "start_time": "2022-06-05T22:20:11.847Z"
   },
   {
    "duration": 6,
    "start_time": "2022-06-05T22:20:11.856Z"
   },
   {
    "duration": 7,
    "start_time": "2022-06-05T22:20:11.864Z"
   },
   {
    "duration": 5,
    "start_time": "2022-06-05T22:20:11.872Z"
   },
   {
    "duration": 10,
    "start_time": "2022-06-05T22:20:11.878Z"
   },
   {
    "duration": 8,
    "start_time": "2022-06-05T22:20:11.890Z"
   },
   {
    "duration": 5,
    "start_time": "2022-06-05T22:20:11.926Z"
   },
   {
    "duration": 8,
    "start_time": "2022-06-05T22:20:11.933Z"
   },
   {
    "duration": 6,
    "start_time": "2022-06-05T22:20:11.943Z"
   },
   {
    "duration": 9,
    "start_time": "2022-06-05T22:20:11.950Z"
   },
   {
    "duration": 1102,
    "start_time": "2022-06-05T22:34:51.084Z"
   },
   {
    "duration": 764,
    "start_time": "2022-06-05T22:34:52.188Z"
   },
   {
    "duration": 34,
    "start_time": "2022-06-05T22:34:52.954Z"
   },
   {
    "duration": 584,
    "start_time": "2022-06-05T22:34:52.990Z"
   },
   {
    "duration": 3,
    "start_time": "2022-06-05T22:34:53.576Z"
   },
   {
    "duration": 14,
    "start_time": "2022-06-05T22:34:53.581Z"
   },
   {
    "duration": 12,
    "start_time": "2022-06-05T22:34:53.596Z"
   },
   {
    "duration": 6,
    "start_time": "2022-06-05T22:34:53.610Z"
   },
   {
    "duration": 8,
    "start_time": "2022-06-05T22:34:53.618Z"
   },
   {
    "duration": 9,
    "start_time": "2022-06-05T22:34:53.629Z"
   },
   {
    "duration": 9,
    "start_time": "2022-06-05T22:34:53.639Z"
   },
   {
    "duration": 12,
    "start_time": "2022-06-05T22:34:53.649Z"
   },
   {
    "duration": 98,
    "start_time": "2022-06-05T22:34:53.663Z"
   },
   {
    "duration": 132,
    "start_time": "2022-06-05T22:34:53.763Z"
   },
   {
    "duration": 32,
    "start_time": "2022-06-05T22:34:53.896Z"
   },
   {
    "duration": 7,
    "start_time": "2022-06-05T22:34:53.929Z"
   },
   {
    "duration": 21,
    "start_time": "2022-06-05T22:34:53.938Z"
   },
   {
    "duration": 10,
    "start_time": "2022-06-05T22:34:53.961Z"
   },
   {
    "duration": 361,
    "start_time": "2022-06-05T22:34:53.973Z"
   },
   {
    "duration": 369,
    "start_time": "2022-06-05T22:34:54.335Z"
   },
   {
    "duration": 471,
    "start_time": "2022-06-05T22:34:54.706Z"
   },
   {
    "duration": 21,
    "start_time": "2022-06-05T22:34:55.178Z"
   },
   {
    "duration": 9,
    "start_time": "2022-06-05T22:34:55.200Z"
   },
   {
    "duration": 438,
    "start_time": "2022-06-05T22:34:55.210Z"
   },
   {
    "duration": 454,
    "start_time": "2022-06-05T22:34:55.650Z"
   },
   {
    "duration": 523,
    "start_time": "2022-06-05T22:34:56.106Z"
   },
   {
    "duration": 376,
    "start_time": "2022-06-05T22:34:56.631Z"
   },
   {
    "duration": 17,
    "start_time": "2022-06-05T22:34:57.011Z"
   },
   {
    "duration": 7,
    "start_time": "2022-06-05T22:34:57.029Z"
   },
   {
    "duration": 3,
    "start_time": "2022-06-05T22:34:57.037Z"
   },
   {
    "duration": 129,
    "start_time": "2022-06-05T22:34:57.041Z"
   },
   {
    "duration": 113,
    "start_time": "2022-06-05T22:34:57.172Z"
   },
   {
    "duration": 145,
    "start_time": "2022-06-05T22:34:57.287Z"
   },
   {
    "duration": 3,
    "start_time": "2022-06-05T22:34:57.433Z"
   },
   {
    "duration": 27,
    "start_time": "2022-06-05T22:34:57.437Z"
   },
   {
    "duration": 10,
    "start_time": "2022-06-05T22:34:57.465Z"
   },
   {
    "duration": 6,
    "start_time": "2022-06-05T22:34:57.477Z"
   },
   {
    "duration": 12,
    "start_time": "2022-06-05T22:34:57.484Z"
   },
   {
    "duration": 10,
    "start_time": "2022-06-05T22:34:57.497Z"
   },
   {
    "duration": 12,
    "start_time": "2022-06-05T22:34:57.508Z"
   },
   {
    "duration": 26,
    "start_time": "2022-06-05T22:34:57.521Z"
   },
   {
    "duration": 17,
    "start_time": "2022-06-05T22:34:57.549Z"
   },
   {
    "duration": 35,
    "start_time": "2022-06-05T22:34:57.568Z"
   },
   {
    "duration": 10,
    "start_time": "2022-06-05T22:34:57.604Z"
   },
   {
    "duration": 13,
    "start_time": "2022-06-05T22:34:57.616Z"
   },
   {
    "duration": 10,
    "start_time": "2022-06-05T22:34:57.630Z"
   },
   {
    "duration": 6,
    "start_time": "2022-06-05T22:34:57.641Z"
   },
   {
    "duration": 11,
    "start_time": "2022-06-05T22:34:57.648Z"
   },
   {
    "duration": 8,
    "start_time": "2022-06-05T22:34:57.660Z"
   },
   {
    "duration": 9,
    "start_time": "2022-06-05T22:34:57.669Z"
   },
   {
    "duration": 2240,
    "start_time": "2022-06-05T22:34:57.679Z"
   },
   {
    "duration": 6,
    "start_time": "2022-06-05T22:34:59.921Z"
   },
   {
    "duration": 2825,
    "start_time": "2022-06-05T22:34:59.928Z"
   },
   {
    "duration": 3,
    "start_time": "2022-06-05T22:35:02.755Z"
   },
   {
    "duration": 9,
    "start_time": "2022-06-05T22:35:02.759Z"
   },
   {
    "duration": 5,
    "start_time": "2022-06-05T22:35:02.770Z"
   },
   {
    "duration": 36,
    "start_time": "2022-06-05T22:35:02.776Z"
   },
   {
    "duration": 30,
    "start_time": "2022-06-05T22:35:02.814Z"
   },
   {
    "duration": 14,
    "start_time": "2022-06-05T22:35:02.845Z"
   },
   {
    "duration": 13,
    "start_time": "2022-06-05T22:35:02.861Z"
   },
   {
    "duration": 763,
    "start_time": "2022-06-05T22:35:02.875Z"
   },
   {
    "duration": 1302,
    "start_time": "2022-06-05T22:35:03.730Z"
   },
   {
    "duration": 5,
    "start_time": "2022-06-05T22:35:05.034Z"
   },
   {
    "duration": 98,
    "start_time": "2022-06-05T22:35:05.041Z"
   },
   {
    "duration": 91,
    "start_time": "2022-06-05T22:35:05.142Z"
   },
   {
    "duration": 91,
    "start_time": "2022-06-05T22:35:05.237Z"
   },
   {
    "duration": 7,
    "start_time": "2022-06-05T22:35:05.330Z"
   },
   {
    "duration": 224,
    "start_time": "2022-06-05T22:35:05.339Z"
   },
   {
    "duration": 4,
    "start_time": "2022-06-05T22:35:05.565Z"
   },
   {
    "duration": 13,
    "start_time": "2022-06-05T22:35:05.571Z"
   },
   {
    "duration": 114,
    "start_time": "2022-06-05T22:35:05.586Z"
   },
   {
    "duration": 0,
    "start_time": "2022-06-05T22:35:05.702Z"
   },
   {
    "duration": 0,
    "start_time": "2022-06-05T22:35:05.703Z"
   },
   {
    "duration": 0,
    "start_time": "2022-06-05T22:35:05.704Z"
   },
   {
    "duration": 0,
    "start_time": "2022-06-05T22:35:05.706Z"
   },
   {
    "duration": 0,
    "start_time": "2022-06-05T22:35:05.707Z"
   },
   {
    "duration": 0,
    "start_time": "2022-06-05T22:35:05.708Z"
   },
   {
    "duration": 0,
    "start_time": "2022-06-05T22:35:05.727Z"
   },
   {
    "duration": 0,
    "start_time": "2022-06-05T22:35:05.728Z"
   },
   {
    "duration": 0,
    "start_time": "2022-06-05T22:35:05.729Z"
   },
   {
    "duration": 4,
    "start_time": "2022-06-05T22:40:04.683Z"
   },
   {
    "duration": 3,
    "start_time": "2022-06-05T22:40:11.056Z"
   },
   {
    "duration": 4,
    "start_time": "2022-06-05T22:41:18.556Z"
   },
   {
    "duration": 3,
    "start_time": "2022-06-05T22:41:20.106Z"
   },
   {
    "duration": 8,
    "start_time": "2022-06-05T22:41:36.544Z"
   },
   {
    "duration": 4,
    "start_time": "2022-06-05T22:41:48.409Z"
   },
   {
    "duration": 708,
    "start_time": "2022-06-05T22:41:48.452Z"
   },
   {
    "duration": 33,
    "start_time": "2022-06-05T22:41:49.162Z"
   },
   {
    "duration": 488,
    "start_time": "2022-06-05T22:41:49.197Z"
   },
   {
    "duration": 3,
    "start_time": "2022-06-05T22:41:49.687Z"
   },
   {
    "duration": 14,
    "start_time": "2022-06-05T22:41:49.692Z"
   },
   {
    "duration": 13,
    "start_time": "2022-06-05T22:41:49.707Z"
   },
   {
    "duration": 16,
    "start_time": "2022-06-05T22:41:49.722Z"
   },
   {
    "duration": 13,
    "start_time": "2022-06-05T22:41:49.739Z"
   },
   {
    "duration": 7,
    "start_time": "2022-06-05T22:41:49.753Z"
   },
   {
    "duration": 9,
    "start_time": "2022-06-05T22:41:49.763Z"
   },
   {
    "duration": 7,
    "start_time": "2022-06-05T22:41:49.773Z"
   },
   {
    "duration": 88,
    "start_time": "2022-06-05T22:41:49.781Z"
   },
   {
    "duration": 113,
    "start_time": "2022-06-05T22:41:49.871Z"
   },
   {
    "duration": 22,
    "start_time": "2022-06-05T22:41:49.986Z"
   },
   {
    "duration": 22,
    "start_time": "2022-06-05T22:41:50.010Z"
   },
   {
    "duration": 8,
    "start_time": "2022-06-05T22:41:50.033Z"
   },
   {
    "duration": 5,
    "start_time": "2022-06-05T22:41:50.043Z"
   },
   {
    "duration": 368,
    "start_time": "2022-06-05T22:41:50.050Z"
   },
   {
    "duration": 462,
    "start_time": "2022-06-05T22:41:50.420Z"
   },
   {
    "duration": 345,
    "start_time": "2022-06-05T22:41:50.884Z"
   },
   {
    "duration": 18,
    "start_time": "2022-06-05T22:41:51.231Z"
   },
   {
    "duration": 9,
    "start_time": "2022-06-05T22:41:51.251Z"
   },
   {
    "duration": 439,
    "start_time": "2022-06-05T22:41:51.261Z"
   },
   {
    "duration": 449,
    "start_time": "2022-06-05T22:41:51.701Z"
   },
   {
    "duration": 535,
    "start_time": "2022-06-05T22:41:52.151Z"
   },
   {
    "duration": 269,
    "start_time": "2022-06-05T22:41:52.687Z"
   },
   {
    "duration": 7,
    "start_time": "2022-06-05T22:41:52.958Z"
   },
   {
    "duration": 7,
    "start_time": "2022-06-05T22:41:52.969Z"
   },
   {
    "duration": 4,
    "start_time": "2022-06-05T22:41:52.977Z"
   },
   {
    "duration": 140,
    "start_time": "2022-06-05T22:41:52.982Z"
   },
   {
    "duration": 116,
    "start_time": "2022-06-05T22:41:53.126Z"
   },
   {
    "duration": 130,
    "start_time": "2022-06-05T22:41:53.243Z"
   },
   {
    "duration": 3,
    "start_time": "2022-06-05T22:41:53.375Z"
   },
   {
    "duration": 22,
    "start_time": "2022-06-05T22:41:53.380Z"
   },
   {
    "duration": 3,
    "start_time": "2022-06-05T22:41:53.403Z"
   },
   {
    "duration": 6,
    "start_time": "2022-06-05T22:41:53.408Z"
   },
   {
    "duration": 5,
    "start_time": "2022-06-05T22:41:53.416Z"
   },
   {
    "duration": 10,
    "start_time": "2022-06-05T22:41:53.427Z"
   },
   {
    "duration": 6,
    "start_time": "2022-06-05T22:41:53.438Z"
   },
   {
    "duration": 9,
    "start_time": "2022-06-05T22:41:53.446Z"
   },
   {
    "duration": 8,
    "start_time": "2022-06-05T22:41:53.456Z"
   },
   {
    "duration": 28,
    "start_time": "2022-06-05T22:41:53.465Z"
   },
   {
    "duration": 10,
    "start_time": "2022-06-05T22:41:53.494Z"
   },
   {
    "duration": 26,
    "start_time": "2022-06-05T22:41:53.506Z"
   },
   {
    "duration": 6,
    "start_time": "2022-06-05T22:41:53.534Z"
   },
   {
    "duration": 7,
    "start_time": "2022-06-05T22:41:53.542Z"
   },
   {
    "duration": 9,
    "start_time": "2022-06-05T22:41:53.550Z"
   },
   {
    "duration": 9,
    "start_time": "2022-06-05T22:41:53.560Z"
   },
   {
    "duration": 5,
    "start_time": "2022-06-05T22:41:53.570Z"
   },
   {
    "duration": 2280,
    "start_time": "2022-06-05T22:41:53.577Z"
   },
   {
    "duration": 3,
    "start_time": "2022-06-05T22:41:55.859Z"
   },
   {
    "duration": 2817,
    "start_time": "2022-06-05T22:41:55.864Z"
   },
   {
    "duration": 3,
    "start_time": "2022-06-05T22:41:58.683Z"
   },
   {
    "duration": 25,
    "start_time": "2022-06-05T22:41:58.688Z"
   },
   {
    "duration": 17,
    "start_time": "2022-06-05T22:41:58.715Z"
   },
   {
    "duration": 30,
    "start_time": "2022-06-05T22:41:58.734Z"
   },
   {
    "duration": 19,
    "start_time": "2022-06-05T22:41:58.765Z"
   },
   {
    "duration": 26,
    "start_time": "2022-06-05T22:41:58.786Z"
   },
   {
    "duration": 14,
    "start_time": "2022-06-05T22:41:58.813Z"
   },
   {
    "duration": 500,
    "start_time": "2022-06-05T22:41:58.829Z"
   },
   {
    "duration": 1197,
    "start_time": "2022-06-05T22:41:59.331Z"
   },
   {
    "duration": 5,
    "start_time": "2022-06-05T22:42:00.533Z"
   },
   {
    "duration": 109,
    "start_time": "2022-06-05T22:42:00.541Z"
   },
   {
    "duration": 102,
    "start_time": "2022-06-05T22:42:00.727Z"
   },
   {
    "duration": 99,
    "start_time": "2022-06-05T22:42:00.831Z"
   },
   {
    "duration": 39,
    "start_time": "2022-06-05T22:42:00.931Z"
   },
   {
    "duration": 171,
    "start_time": "2022-06-05T22:42:00.971Z"
   },
   {
    "duration": 4,
    "start_time": "2022-06-05T22:42:01.144Z"
   },
   {
    "duration": 25,
    "start_time": "2022-06-05T22:42:01.150Z"
   },
   {
    "duration": 32,
    "start_time": "2022-06-05T22:42:01.176Z"
   },
   {
    "duration": 26,
    "start_time": "2022-06-05T22:42:01.210Z"
   },
   {
    "duration": 42,
    "start_time": "2022-06-05T22:42:01.238Z"
   },
   {
    "duration": 24,
    "start_time": "2022-06-05T22:42:01.282Z"
   },
   {
    "duration": 28,
    "start_time": "2022-06-05T22:42:01.308Z"
   },
   {
    "duration": 63,
    "start_time": "2022-06-05T22:42:01.338Z"
   },
   {
    "duration": 29,
    "start_time": "2022-06-05T22:42:01.403Z"
   },
   {
    "duration": 17,
    "start_time": "2022-06-05T22:42:01.434Z"
   },
   {
    "duration": 34,
    "start_time": "2022-06-05T22:42:01.453Z"
   },
   {
    "duration": 22,
    "start_time": "2022-06-05T22:42:01.489Z"
   },
   {
    "duration": 45,
    "start_time": "2022-06-05T22:42:01.513Z"
   },
   {
    "duration": 10,
    "start_time": "2022-06-05T22:43:20.591Z"
   },
   {
    "duration": 4,
    "start_time": "2022-06-05T22:43:31.017Z"
   },
   {
    "duration": 703,
    "start_time": "2022-06-05T22:43:31.027Z"
   },
   {
    "duration": 36,
    "start_time": "2022-06-05T22:43:31.732Z"
   },
   {
    "duration": 492,
    "start_time": "2022-06-05T22:43:31.770Z"
   },
   {
    "duration": 2,
    "start_time": "2022-06-05T22:43:32.264Z"
   },
   {
    "duration": 10,
    "start_time": "2022-06-05T22:43:32.267Z"
   },
   {
    "duration": 8,
    "start_time": "2022-06-05T22:43:32.278Z"
   },
   {
    "duration": 9,
    "start_time": "2022-06-05T22:43:32.287Z"
   },
   {
    "duration": 15,
    "start_time": "2022-06-05T22:43:32.297Z"
   },
   {
    "duration": 14,
    "start_time": "2022-06-05T22:43:32.314Z"
   },
   {
    "duration": 4,
    "start_time": "2022-06-05T22:43:32.330Z"
   },
   {
    "duration": 7,
    "start_time": "2022-06-05T22:43:32.335Z"
   },
   {
    "duration": 86,
    "start_time": "2022-06-05T22:43:32.343Z"
   },
   {
    "duration": 114,
    "start_time": "2022-06-05T22:43:32.431Z"
   },
   {
    "duration": 19,
    "start_time": "2022-06-05T22:43:32.547Z"
   },
   {
    "duration": 7,
    "start_time": "2022-06-05T22:43:32.567Z"
   },
   {
    "duration": 18,
    "start_time": "2022-06-05T22:43:32.576Z"
   },
   {
    "duration": 8,
    "start_time": "2022-06-05T22:43:32.595Z"
   },
   {
    "duration": 459,
    "start_time": "2022-06-05T22:43:32.604Z"
   },
   {
    "duration": 371,
    "start_time": "2022-06-05T22:43:33.065Z"
   },
   {
    "duration": 364,
    "start_time": "2022-06-05T22:43:33.438Z"
   },
   {
    "duration": 24,
    "start_time": "2022-06-05T22:43:33.803Z"
   },
   {
    "duration": 8,
    "start_time": "2022-06-05T22:43:33.828Z"
   },
   {
    "duration": 415,
    "start_time": "2022-06-05T22:43:33.838Z"
   },
   {
    "duration": 573,
    "start_time": "2022-06-05T22:43:34.254Z"
   },
   {
    "duration": 431,
    "start_time": "2022-06-05T22:43:34.828Z"
   },
   {
    "duration": 254,
    "start_time": "2022-06-05T22:43:35.261Z"
   },
   {
    "duration": 13,
    "start_time": "2022-06-05T22:43:35.517Z"
   },
   {
    "duration": 7,
    "start_time": "2022-06-05T22:43:35.533Z"
   },
   {
    "duration": 3,
    "start_time": "2022-06-05T22:43:35.541Z"
   },
   {
    "duration": 136,
    "start_time": "2022-06-05T22:43:35.546Z"
   },
   {
    "duration": 111,
    "start_time": "2022-06-05T22:43:35.683Z"
   },
   {
    "duration": 124,
    "start_time": "2022-06-05T22:43:35.796Z"
   },
   {
    "duration": 7,
    "start_time": "2022-06-05T22:43:35.921Z"
   },
   {
    "duration": 14,
    "start_time": "2022-06-05T22:43:35.930Z"
   },
   {
    "duration": 3,
    "start_time": "2022-06-05T22:43:35.945Z"
   },
   {
    "duration": 6,
    "start_time": "2022-06-05T22:43:35.949Z"
   },
   {
    "duration": 8,
    "start_time": "2022-06-05T22:43:35.956Z"
   },
   {
    "duration": 7,
    "start_time": "2022-06-05T22:43:35.965Z"
   },
   {
    "duration": 7,
    "start_time": "2022-06-05T22:43:35.974Z"
   },
   {
    "duration": 6,
    "start_time": "2022-06-05T22:43:35.982Z"
   },
   {
    "duration": 8,
    "start_time": "2022-06-05T22:43:35.989Z"
   },
   {
    "duration": 50,
    "start_time": "2022-06-05T22:43:35.998Z"
   },
   {
    "duration": 9,
    "start_time": "2022-06-05T22:43:36.050Z"
   },
   {
    "duration": 10,
    "start_time": "2022-06-05T22:43:36.060Z"
   },
   {
    "duration": 6,
    "start_time": "2022-06-05T22:43:36.071Z"
   },
   {
    "duration": 6,
    "start_time": "2022-06-05T22:43:36.079Z"
   },
   {
    "duration": 9,
    "start_time": "2022-06-05T22:43:36.086Z"
   },
   {
    "duration": 31,
    "start_time": "2022-06-05T22:43:36.096Z"
   },
   {
    "duration": 3,
    "start_time": "2022-06-05T22:43:36.128Z"
   },
   {
    "duration": 2396,
    "start_time": "2022-06-05T22:43:36.132Z"
   },
   {
    "duration": 2,
    "start_time": "2022-06-05T22:43:38.530Z"
   },
   {
    "duration": 2756,
    "start_time": "2022-06-05T22:43:38.533Z"
   },
   {
    "duration": 3,
    "start_time": "2022-06-05T22:43:41.290Z"
   },
   {
    "duration": 32,
    "start_time": "2022-06-05T22:43:41.295Z"
   },
   {
    "duration": 22,
    "start_time": "2022-06-05T22:43:41.329Z"
   },
   {
    "duration": 43,
    "start_time": "2022-06-05T22:43:41.352Z"
   },
   {
    "duration": 33,
    "start_time": "2022-06-05T22:43:41.397Z"
   },
   {
    "duration": 21,
    "start_time": "2022-06-05T22:43:41.432Z"
   },
   {
    "duration": 40,
    "start_time": "2022-06-05T22:43:41.454Z"
   },
   {
    "duration": 939,
    "start_time": "2022-06-05T22:43:41.495Z"
   },
   {
    "duration": 1192,
    "start_time": "2022-06-05T22:43:42.436Z"
   },
   {
    "duration": 92,
    "start_time": "2022-06-05T22:43:43.636Z"
   },
   {
    "duration": 34,
    "start_time": "2022-06-05T22:43:43.731Z"
   },
   {
    "duration": 164,
    "start_time": "2022-06-05T22:43:43.767Z"
   },
   {
    "duration": 99,
    "start_time": "2022-06-05T22:43:43.933Z"
   },
   {
    "duration": 94,
    "start_time": "2022-06-05T22:43:44.034Z"
   },
   {
    "duration": 153,
    "start_time": "2022-06-05T22:43:44.130Z"
   },
   {
    "duration": 5,
    "start_time": "2022-06-05T22:43:44.285Z"
   },
   {
    "duration": 11,
    "start_time": "2022-06-05T22:43:44.291Z"
   },
   {
    "duration": 8,
    "start_time": "2022-06-05T22:43:44.303Z"
   },
   {
    "duration": 11,
    "start_time": "2022-06-05T22:43:44.312Z"
   },
   {
    "duration": 8,
    "start_time": "2022-06-05T22:43:44.325Z"
   },
   {
    "duration": 10,
    "start_time": "2022-06-05T22:43:44.335Z"
   },
   {
    "duration": 11,
    "start_time": "2022-06-05T22:43:44.346Z"
   },
   {
    "duration": 10,
    "start_time": "2022-06-05T22:43:44.359Z"
   },
   {
    "duration": 11,
    "start_time": "2022-06-05T22:43:44.371Z"
   },
   {
    "duration": 8,
    "start_time": "2022-06-05T22:43:44.383Z"
   },
   {
    "duration": 9,
    "start_time": "2022-06-05T22:43:44.392Z"
   },
   {
    "duration": 6,
    "start_time": "2022-06-05T22:43:44.402Z"
   },
   {
    "duration": 6,
    "start_time": "2022-06-05T22:43:44.409Z"
   },
   {
    "duration": 3,
    "start_time": "2022-06-05T23:50:24.258Z"
   },
   {
    "duration": 680,
    "start_time": "2022-06-05T23:50:24.265Z"
   },
   {
    "duration": 33,
    "start_time": "2022-06-05T23:50:24.947Z"
   },
   {
    "duration": 466,
    "start_time": "2022-06-05T23:50:24.981Z"
   },
   {
    "duration": 3,
    "start_time": "2022-06-05T23:50:25.448Z"
   },
   {
    "duration": 9,
    "start_time": "2022-06-05T23:50:25.452Z"
   },
   {
    "duration": 7,
    "start_time": "2022-06-05T23:50:25.462Z"
   },
   {
    "duration": 8,
    "start_time": "2022-06-05T23:50:25.470Z"
   },
   {
    "duration": 7,
    "start_time": "2022-06-05T23:50:25.480Z"
   },
   {
    "duration": 7,
    "start_time": "2022-06-05T23:50:25.489Z"
   },
   {
    "duration": 8,
    "start_time": "2022-06-05T23:50:25.498Z"
   },
   {
    "duration": 3,
    "start_time": "2022-06-05T23:50:25.527Z"
   },
   {
    "duration": 83,
    "start_time": "2022-06-05T23:50:25.531Z"
   },
   {
    "duration": 114,
    "start_time": "2022-06-05T23:50:25.616Z"
   },
   {
    "duration": 18,
    "start_time": "2022-06-05T23:50:25.732Z"
   },
   {
    "duration": 7,
    "start_time": "2022-06-05T23:50:25.751Z"
   },
   {
    "duration": 6,
    "start_time": "2022-06-05T23:50:25.759Z"
   },
   {
    "duration": 5,
    "start_time": "2022-06-05T23:50:25.766Z"
   },
   {
    "duration": 375,
    "start_time": "2022-06-05T23:50:25.772Z"
   },
   {
    "duration": 384,
    "start_time": "2022-06-05T23:50:26.149Z"
   },
   {
    "duration": 354,
    "start_time": "2022-06-05T23:50:26.535Z"
   },
   {
    "duration": 14,
    "start_time": "2022-06-05T23:50:26.891Z"
   },
   {
    "duration": 20,
    "start_time": "2022-06-05T23:50:26.907Z"
   },
   {
    "duration": 554,
    "start_time": "2022-06-05T23:50:26.928Z"
   },
   {
    "duration": 441,
    "start_time": "2022-06-05T23:50:27.483Z"
   },
   {
    "duration": 411,
    "start_time": "2022-06-05T23:50:27.926Z"
   },
   {
    "duration": 247,
    "start_time": "2022-06-05T23:50:28.339Z"
   },
   {
    "duration": 7,
    "start_time": "2022-06-05T23:50:28.588Z"
   },
   {
    "duration": 138,
    "start_time": "2022-06-05T23:50:28.599Z"
   },
   {
    "duration": 3,
    "start_time": "2022-06-05T23:50:28.738Z"
   },
   {
    "duration": 127,
    "start_time": "2022-06-05T23:50:28.742Z"
   },
   {
    "duration": 111,
    "start_time": "2022-06-05T23:50:28.870Z"
   },
   {
    "duration": 118,
    "start_time": "2022-06-05T23:50:28.982Z"
   },
   {
    "duration": 3,
    "start_time": "2022-06-05T23:50:29.101Z"
   },
   {
    "duration": 26,
    "start_time": "2022-06-05T23:50:29.105Z"
   },
   {
    "duration": 3,
    "start_time": "2022-06-05T23:50:29.133Z"
   },
   {
    "duration": 11,
    "start_time": "2022-06-05T23:50:29.137Z"
   },
   {
    "duration": 7,
    "start_time": "2022-06-05T23:50:29.150Z"
   },
   {
    "duration": 7,
    "start_time": "2022-06-05T23:50:29.159Z"
   },
   {
    "duration": 9,
    "start_time": "2022-06-05T23:50:29.167Z"
   },
   {
    "duration": 6,
    "start_time": "2022-06-05T23:50:29.177Z"
   },
   {
    "duration": 9,
    "start_time": "2022-06-05T23:50:29.184Z"
   },
   {
    "duration": 34,
    "start_time": "2022-06-05T23:50:29.194Z"
   },
   {
    "duration": 9,
    "start_time": "2022-06-05T23:50:29.229Z"
   },
   {
    "duration": 8,
    "start_time": "2022-06-05T23:50:29.240Z"
   },
   {
    "duration": 17,
    "start_time": "2022-06-05T23:50:29.250Z"
   },
   {
    "duration": 3,
    "start_time": "2022-06-05T23:50:29.269Z"
   },
   {
    "duration": 9,
    "start_time": "2022-06-05T23:50:29.273Z"
   },
   {
    "duration": 7,
    "start_time": "2022-06-05T23:50:29.283Z"
   },
   {
    "duration": 4,
    "start_time": "2022-06-05T23:50:29.292Z"
   },
   {
    "duration": 2272,
    "start_time": "2022-06-05T23:50:29.298Z"
   },
   {
    "duration": 2,
    "start_time": "2022-06-05T23:50:31.572Z"
   },
   {
    "duration": 2744,
    "start_time": "2022-06-05T23:50:31.576Z"
   },
   {
    "duration": 5,
    "start_time": "2022-06-05T23:50:34.322Z"
   },
   {
    "duration": 22,
    "start_time": "2022-06-05T23:50:34.329Z"
   },
   {
    "duration": 21,
    "start_time": "2022-06-05T23:50:34.353Z"
   },
   {
    "duration": 35,
    "start_time": "2022-06-05T23:50:34.375Z"
   },
   {
    "duration": 29,
    "start_time": "2022-06-05T23:50:34.412Z"
   },
   {
    "duration": 19,
    "start_time": "2022-06-05T23:50:34.443Z"
   },
   {
    "duration": 18,
    "start_time": "2022-06-05T23:50:34.463Z"
   },
   {
    "duration": 454,
    "start_time": "2022-06-05T23:50:34.482Z"
   },
   {
    "duration": 1298,
    "start_time": "2022-06-05T23:50:34.937Z"
   },
   {
    "duration": 5,
    "start_time": "2022-06-05T23:50:36.326Z"
   },
   {
    "duration": 98,
    "start_time": "2022-06-05T23:50:36.334Z"
   },
   {
    "duration": 98,
    "start_time": "2022-06-05T23:50:36.434Z"
   },
   {
    "duration": 107,
    "start_time": "2022-06-05T23:50:36.535Z"
   },
   {
    "duration": 26,
    "start_time": "2022-06-05T23:50:36.644Z"
   },
   {
    "duration": 185,
    "start_time": "2022-06-05T23:50:36.672Z"
   },
   {
    "duration": 4,
    "start_time": "2022-06-05T23:50:36.859Z"
   },
   {
    "duration": 28,
    "start_time": "2022-06-05T23:50:36.865Z"
   },
   {
    "duration": 21,
    "start_time": "2022-06-05T23:50:36.894Z"
   },
   {
    "duration": 21,
    "start_time": "2022-06-05T23:50:36.916Z"
   },
   {
    "duration": 14,
    "start_time": "2022-06-05T23:50:36.938Z"
   },
   {
    "duration": 28,
    "start_time": "2022-06-05T23:50:36.953Z"
   },
   {
    "duration": 29,
    "start_time": "2022-06-05T23:50:36.982Z"
   },
   {
    "duration": 42,
    "start_time": "2022-06-05T23:50:37.012Z"
   },
   {
    "duration": 32,
    "start_time": "2022-06-05T23:50:37.056Z"
   },
   {
    "duration": 30,
    "start_time": "2022-06-05T23:50:37.089Z"
   },
   {
    "duration": 19,
    "start_time": "2022-06-05T23:50:37.120Z"
   },
   {
    "duration": 1452,
    "start_time": "2022-06-06T06:06:09.190Z"
   },
   {
    "duration": 3355,
    "start_time": "2022-06-06T06:06:10.646Z"
   },
   {
    "duration": 38,
    "start_time": "2022-06-06T06:06:14.004Z"
   },
   {
    "duration": 667,
    "start_time": "2022-06-06T06:06:14.044Z"
   },
   {
    "duration": 2,
    "start_time": "2022-06-06T06:06:14.712Z"
   },
   {
    "duration": 15,
    "start_time": "2022-06-06T06:06:14.716Z"
   },
   {
    "duration": 7,
    "start_time": "2022-06-06T06:06:14.733Z"
   },
   {
    "duration": 6,
    "start_time": "2022-06-06T06:06:14.742Z"
   },
   {
    "duration": 13,
    "start_time": "2022-06-06T06:06:14.749Z"
   },
   {
    "duration": 10,
    "start_time": "2022-06-06T06:06:14.766Z"
   },
   {
    "duration": 9,
    "start_time": "2022-06-06T06:06:14.779Z"
   },
   {
    "duration": 4,
    "start_time": "2022-06-06T06:06:14.790Z"
   },
   {
    "duration": 111,
    "start_time": "2022-06-06T06:06:14.796Z"
   },
   {
    "duration": 135,
    "start_time": "2022-06-06T06:06:14.909Z"
   },
   {
    "duration": 35,
    "start_time": "2022-06-06T06:06:15.046Z"
   },
   {
    "duration": 7,
    "start_time": "2022-06-06T06:06:15.083Z"
   },
   {
    "duration": 11,
    "start_time": "2022-06-06T06:06:15.091Z"
   },
   {
    "duration": 6,
    "start_time": "2022-06-06T06:06:15.103Z"
   },
   {
    "duration": 460,
    "start_time": "2022-06-06T06:06:15.110Z"
   },
   {
    "duration": 448,
    "start_time": "2022-06-06T06:06:15.573Z"
   },
   {
    "duration": 558,
    "start_time": "2022-06-06T06:06:16.023Z"
   },
   {
    "duration": 23,
    "start_time": "2022-06-06T06:06:16.583Z"
   },
   {
    "duration": 11,
    "start_time": "2022-06-06T06:06:16.608Z"
   },
   {
    "duration": 542,
    "start_time": "2022-06-06T06:06:16.621Z"
   },
   {
    "duration": 574,
    "start_time": "2022-06-06T06:06:17.166Z"
   },
   {
    "duration": 514,
    "start_time": "2022-06-06T06:06:17.743Z"
   },
   {
    "duration": 447,
    "start_time": "2022-06-06T06:06:18.259Z"
   },
   {
    "duration": 9,
    "start_time": "2022-06-06T06:06:18.710Z"
   },
   {
    "duration": 8,
    "start_time": "2022-06-06T06:06:18.720Z"
   },
   {
    "duration": 4,
    "start_time": "2022-06-06T06:06:18.729Z"
   },
   {
    "duration": 186,
    "start_time": "2022-06-06T06:06:18.734Z"
   },
   {
    "duration": 158,
    "start_time": "2022-06-06T06:06:18.922Z"
   },
   {
    "duration": 148,
    "start_time": "2022-06-06T06:06:19.082Z"
   },
   {
    "duration": 3,
    "start_time": "2022-06-06T06:06:19.232Z"
   },
   {
    "duration": 17,
    "start_time": "2022-06-06T06:06:19.236Z"
   },
   {
    "duration": 5,
    "start_time": "2022-06-06T06:06:19.265Z"
   },
   {
    "duration": 15,
    "start_time": "2022-06-06T06:06:19.272Z"
   },
   {
    "duration": 11,
    "start_time": "2022-06-06T06:06:19.288Z"
   },
   {
    "duration": 18,
    "start_time": "2022-06-06T06:06:19.301Z"
   },
   {
    "duration": 8,
    "start_time": "2022-06-06T06:06:19.321Z"
   },
   {
    "duration": 6,
    "start_time": "2022-06-06T06:06:19.330Z"
   },
   {
    "duration": 8,
    "start_time": "2022-06-06T06:06:19.337Z"
   },
   {
    "duration": 45,
    "start_time": "2022-06-06T06:06:19.347Z"
   },
   {
    "duration": 12,
    "start_time": "2022-06-06T06:06:19.394Z"
   },
   {
    "duration": 12,
    "start_time": "2022-06-06T06:06:19.409Z"
   },
   {
    "duration": 7,
    "start_time": "2022-06-06T06:06:19.422Z"
   },
   {
    "duration": 34,
    "start_time": "2022-06-06T06:06:19.430Z"
   },
   {
    "duration": 21,
    "start_time": "2022-06-06T06:06:19.467Z"
   },
   {
    "duration": 14,
    "start_time": "2022-06-06T06:06:19.490Z"
   },
   {
    "duration": 8,
    "start_time": "2022-06-06T06:06:19.506Z"
   },
   {
    "duration": 2540,
    "start_time": "2022-06-06T06:06:19.515Z"
   },
   {
    "duration": 17,
    "start_time": "2022-06-06T06:06:22.056Z"
   },
   {
    "duration": 3071,
    "start_time": "2022-06-06T06:06:22.076Z"
   },
   {
    "duration": 3,
    "start_time": "2022-06-06T06:06:25.149Z"
   },
   {
    "duration": 28,
    "start_time": "2022-06-06T06:06:25.154Z"
   },
   {
    "duration": 18,
    "start_time": "2022-06-06T06:06:25.185Z"
   },
   {
    "duration": 26,
    "start_time": "2022-06-06T06:06:25.205Z"
   },
   {
    "duration": 17,
    "start_time": "2022-06-06T06:06:25.233Z"
   },
   {
    "duration": 8,
    "start_time": "2022-06-06T06:06:25.252Z"
   },
   {
    "duration": 44,
    "start_time": "2022-06-06T06:06:25.261Z"
   },
   {
    "duration": 869,
    "start_time": "2022-06-06T06:06:25.307Z"
   },
   {
    "duration": 1803,
    "start_time": "2022-06-06T06:06:26.180Z"
   },
   {
    "duration": 8,
    "start_time": "2022-06-06T06:06:28.066Z"
   },
   {
    "duration": 102,
    "start_time": "2022-06-06T06:06:28.076Z"
   },
   {
    "duration": 316,
    "start_time": "2022-06-06T06:06:28.180Z"
   },
   {
    "duration": 71,
    "start_time": "2022-06-06T06:06:28.498Z"
   },
   {
    "duration": 103,
    "start_time": "2022-06-06T06:06:28.572Z"
   },
   {
    "duration": 4,
    "start_time": "2022-06-06T06:06:28.678Z"
   },
   {
    "duration": 6,
    "start_time": "2022-06-06T06:06:28.683Z"
   },
   {
    "duration": 12,
    "start_time": "2022-06-06T06:06:28.691Z"
   },
   {
    "duration": 5,
    "start_time": "2022-06-06T06:06:28.706Z"
   },
   {
    "duration": 14,
    "start_time": "2022-06-06T06:06:28.713Z"
   },
   {
    "duration": 10,
    "start_time": "2022-06-06T06:06:28.729Z"
   },
   {
    "duration": 3,
    "start_time": "2022-06-06T06:06:28.766Z"
   },
   {
    "duration": 6,
    "start_time": "2022-06-06T06:06:28.772Z"
   },
   {
    "duration": 7,
    "start_time": "2022-06-06T06:37:03.366Z"
   },
   {
    "duration": 8,
    "start_time": "2022-06-06T06:37:19.822Z"
   },
   {
    "duration": 2538,
    "start_time": "2022-06-06T11:18:54.594Z"
   },
   {
    "duration": 1566,
    "start_time": "2022-06-06T11:18:57.136Z"
   },
   {
    "duration": 95,
    "start_time": "2022-06-06T11:18:58.704Z"
   },
   {
    "duration": 1297,
    "start_time": "2022-06-06T11:18:58.802Z"
   },
   {
    "duration": 3,
    "start_time": "2022-06-06T11:19:00.101Z"
   },
   {
    "duration": 14,
    "start_time": "2022-06-06T11:19:00.106Z"
   },
   {
    "duration": 72,
    "start_time": "2022-06-06T11:19:00.122Z"
   },
   {
    "duration": 6,
    "start_time": "2022-06-06T11:19:00.196Z"
   },
   {
    "duration": 18,
    "start_time": "2022-06-06T11:19:00.204Z"
   },
   {
    "duration": 9,
    "start_time": "2022-06-06T11:19:00.225Z"
   },
   {
    "duration": 72,
    "start_time": "2022-06-06T11:19:00.235Z"
   },
   {
    "duration": 27,
    "start_time": "2022-06-06T11:19:00.309Z"
   },
   {
    "duration": 205,
    "start_time": "2022-06-06T11:19:00.337Z"
   },
   {
    "duration": 231,
    "start_time": "2022-06-06T11:19:00.594Z"
   },
   {
    "duration": 77,
    "start_time": "2022-06-06T11:19:00.827Z"
   },
   {
    "duration": 9,
    "start_time": "2022-06-06T11:19:00.906Z"
   },
   {
    "duration": 12,
    "start_time": "2022-06-06T11:19:00.916Z"
   },
   {
    "duration": 68,
    "start_time": "2022-06-06T11:19:00.930Z"
   },
   {
    "duration": 814,
    "start_time": "2022-06-06T11:19:01.000Z"
   },
   {
    "duration": 884,
    "start_time": "2022-06-06T11:19:01.815Z"
   },
   {
    "duration": 1034,
    "start_time": "2022-06-06T11:19:02.701Z"
   },
   {
    "duration": 77,
    "start_time": "2022-06-06T11:19:03.737Z"
   },
   {
    "duration": 10,
    "start_time": "2022-06-06T11:19:03.816Z"
   },
   {
    "duration": 1692,
    "start_time": "2022-06-06T11:19:03.828Z"
   },
   {
    "duration": 1499,
    "start_time": "2022-06-06T11:19:05.522Z"
   },
   {
    "duration": 1072,
    "start_time": "2022-06-06T11:19:07.023Z"
   },
   {
    "duration": 852,
    "start_time": "2022-06-06T11:19:08.098Z"
   },
   {
    "duration": 51,
    "start_time": "2022-06-06T11:19:08.954Z"
   },
   {
    "duration": 15,
    "start_time": "2022-06-06T11:19:09.008Z"
   },
   {
    "duration": 70,
    "start_time": "2022-06-06T11:19:09.025Z"
   },
   {
    "duration": 236,
    "start_time": "2022-06-06T11:19:09.096Z"
   },
   {
    "duration": 286,
    "start_time": "2022-06-06T11:19:09.333Z"
   },
   {
    "duration": 500,
    "start_time": "2022-06-06T11:19:09.624Z"
   },
   {
    "duration": 71,
    "start_time": "2022-06-06T11:19:10.125Z"
   },
   {
    "duration": 97,
    "start_time": "2022-06-06T11:19:10.198Z"
   },
   {
    "duration": 3,
    "start_time": "2022-06-06T11:19:10.297Z"
   },
   {
    "duration": 9,
    "start_time": "2022-06-06T11:19:10.304Z"
   },
   {
    "duration": 7,
    "start_time": "2022-06-06T11:19:10.315Z"
   },
   {
    "duration": 8,
    "start_time": "2022-06-06T11:19:10.395Z"
   },
   {
    "duration": 16,
    "start_time": "2022-06-06T11:19:10.404Z"
   },
   {
    "duration": 75,
    "start_time": "2022-06-06T11:19:10.422Z"
   },
   {
    "duration": 10,
    "start_time": "2022-06-06T11:19:10.500Z"
   },
   {
    "duration": 102,
    "start_time": "2022-06-06T11:19:10.513Z"
   },
   {
    "duration": 80,
    "start_time": "2022-06-06T11:19:10.618Z"
   },
   {
    "duration": 98,
    "start_time": "2022-06-06T11:19:10.701Z"
   },
   {
    "duration": 7,
    "start_time": "2022-06-06T11:19:10.800Z"
   },
   {
    "duration": 11,
    "start_time": "2022-06-06T11:19:10.808Z"
   },
   {
    "duration": 10,
    "start_time": "2022-06-06T11:19:10.893Z"
   },
   {
    "duration": 9,
    "start_time": "2022-06-06T11:19:10.905Z"
   },
   {
    "duration": 5,
    "start_time": "2022-06-06T11:19:10.915Z"
   },
   {
    "duration": 6145,
    "start_time": "2022-06-06T11:19:10.993Z"
   },
   {
    "duration": 56,
    "start_time": "2022-06-06T11:19:17.139Z"
   },
   {
    "duration": 6139,
    "start_time": "2022-06-06T11:19:17.197Z"
   },
   {
    "duration": 56,
    "start_time": "2022-06-06T11:19:23.338Z"
   },
   {
    "duration": 5,
    "start_time": "2022-06-06T11:19:23.396Z"
   },
   {
    "duration": 16,
    "start_time": "2022-06-06T11:19:23.403Z"
   },
   {
    "duration": 8,
    "start_time": "2022-06-06T11:19:23.421Z"
   },
   {
    "duration": 6,
    "start_time": "2022-06-06T11:19:23.430Z"
   },
   {
    "duration": 57,
    "start_time": "2022-06-06T11:19:23.438Z"
   },
   {
    "duration": 8,
    "start_time": "2022-06-06T11:19:23.497Z"
   },
   {
    "duration": 795,
    "start_time": "2022-06-06T11:19:23.507Z"
   },
   {
    "duration": 1705,
    "start_time": "2022-06-06T11:19:24.394Z"
   },
   {
    "duration": 5,
    "start_time": "2022-06-06T11:19:26.100Z"
   },
   {
    "duration": 97,
    "start_time": "2022-06-06T11:19:26.108Z"
   },
   {
    "duration": 507,
    "start_time": "2022-06-06T11:19:26.210Z"
   },
   {
    "duration": 174,
    "start_time": "2022-06-06T11:19:26.719Z"
   },
   {
    "duration": 13,
    "start_time": "2022-06-06T11:19:26.895Z"
   },
   {
    "duration": 9,
    "start_time": "2022-06-06T11:19:26.910Z"
   },
   {
    "duration": 6,
    "start_time": "2022-06-06T11:19:26.921Z"
   },
   {
    "duration": 9,
    "start_time": "2022-06-06T11:19:26.928Z"
   },
   {
    "duration": 59,
    "start_time": "2022-06-06T11:19:26.939Z"
   },
   {
    "duration": 11,
    "start_time": "2022-06-06T11:19:26.999Z"
   },
   {
    "duration": 9,
    "start_time": "2022-06-06T11:19:27.012Z"
   },
   {
    "duration": 4,
    "start_time": "2022-06-06T11:19:27.023Z"
   },
   {
    "duration": 68,
    "start_time": "2022-06-06T11:19:27.028Z"
   },
   {
    "duration": 40,
    "start_time": "2022-06-06T11:22:39.199Z"
   },
   {
    "duration": 1619,
    "start_time": "2022-06-06T13:40:02.893Z"
   },
   {
    "duration": 1551,
    "start_time": "2022-06-07T06:54:30.589Z"
   },
   {
    "duration": 9,
    "start_time": "2022-06-07T07:04:04.547Z"
   },
   {
    "duration": 2545,
    "start_time": "2022-06-07T07:04:04.559Z"
   },
   {
    "duration": 48,
    "start_time": "2022-06-07T07:04:07.106Z"
   },
   {
    "duration": 818,
    "start_time": "2022-06-07T07:04:07.157Z"
   },
   {
    "duration": 3,
    "start_time": "2022-06-07T07:04:07.977Z"
   },
   {
    "duration": 18,
    "start_time": "2022-06-07T07:04:07.982Z"
   },
   {
    "duration": 10,
    "start_time": "2022-06-07T07:04:08.002Z"
   },
   {
    "duration": 9,
    "start_time": "2022-06-07T07:04:08.014Z"
   },
   {
    "duration": 27,
    "start_time": "2022-06-07T07:04:08.025Z"
   },
   {
    "duration": 9,
    "start_time": "2022-06-07T07:04:08.054Z"
   },
   {
    "duration": 10,
    "start_time": "2022-06-07T07:04:08.066Z"
   },
   {
    "duration": 16,
    "start_time": "2022-06-07T07:04:08.078Z"
   },
   {
    "duration": 121,
    "start_time": "2022-06-07T07:04:08.096Z"
   },
   {
    "duration": 148,
    "start_time": "2022-06-07T07:04:08.219Z"
   },
   {
    "duration": 23,
    "start_time": "2022-06-07T07:04:08.368Z"
   },
   {
    "duration": 10,
    "start_time": "2022-06-07T07:04:08.393Z"
   },
   {
    "duration": 37,
    "start_time": "2022-06-07T07:04:08.405Z"
   },
   {
    "duration": 8,
    "start_time": "2022-06-07T07:04:08.444Z"
   },
   {
    "duration": 545,
    "start_time": "2022-06-07T07:04:08.454Z"
   },
   {
    "duration": 462,
    "start_time": "2022-06-07T07:04:09.001Z"
   },
   {
    "duration": 596,
    "start_time": "2022-06-07T07:04:09.465Z"
   },
   {
    "duration": 24,
    "start_time": "2022-06-07T07:04:10.063Z"
   },
   {
    "duration": 10,
    "start_time": "2022-06-07T07:04:10.089Z"
   },
   {
    "duration": 692,
    "start_time": "2022-06-07T07:04:10.101Z"
   },
   {
    "duration": 772,
    "start_time": "2022-06-07T07:04:10.794Z"
   },
   {
    "duration": 577,
    "start_time": "2022-06-07T07:04:11.568Z"
   },
   {
    "duration": 537,
    "start_time": "2022-06-07T07:04:12.147Z"
   },
   {
    "duration": 11,
    "start_time": "2022-06-07T07:04:12.686Z"
   },
   {
    "duration": 15,
    "start_time": "2022-06-07T07:04:12.702Z"
   },
   {
    "duration": 11,
    "start_time": "2022-06-07T07:04:12.730Z"
   },
   {
    "duration": 168,
    "start_time": "2022-06-07T07:04:12.746Z"
   },
   {
    "duration": 153,
    "start_time": "2022-06-07T07:04:12.915Z"
   },
   {
    "duration": 179,
    "start_time": "2022-06-07T07:04:13.070Z"
   },
   {
    "duration": 4,
    "start_time": "2022-06-07T07:04:13.251Z"
   },
   {
    "duration": 23,
    "start_time": "2022-06-07T07:04:13.257Z"
   },
   {
    "duration": 3,
    "start_time": "2022-06-07T07:04:13.282Z"
   },
   {
    "duration": 7,
    "start_time": "2022-06-07T07:04:13.287Z"
   },
   {
    "duration": 6,
    "start_time": "2022-06-07T07:04:13.296Z"
   },
   {
    "duration": 11,
    "start_time": "2022-06-07T07:04:13.304Z"
   },
   {
    "duration": 27,
    "start_time": "2022-06-07T07:04:13.317Z"
   },
   {
    "duration": 10,
    "start_time": "2022-06-07T07:04:13.347Z"
   },
   {
    "duration": 14,
    "start_time": "2022-06-07T07:04:13.359Z"
   },
   {
    "duration": 31,
    "start_time": "2022-06-07T07:04:13.375Z"
   },
   {
    "duration": 11,
    "start_time": "2022-06-07T07:04:13.408Z"
   },
   {
    "duration": 14,
    "start_time": "2022-06-07T07:04:13.438Z"
   },
   {
    "duration": 5,
    "start_time": "2022-06-07T07:04:13.455Z"
   },
   {
    "duration": 5,
    "start_time": "2022-06-07T07:04:13.462Z"
   },
   {
    "duration": 17,
    "start_time": "2022-06-07T07:04:13.468Z"
   },
   {
    "duration": 61,
    "start_time": "2022-06-07T07:04:13.487Z"
   },
   {
    "duration": 21,
    "start_time": "2022-06-07T07:04:13.551Z"
   },
   {
    "duration": 2849,
    "start_time": "2022-06-07T07:04:13.574Z"
   },
   {
    "duration": 3,
    "start_time": "2022-06-07T07:04:16.429Z"
   },
   {
    "duration": 3243,
    "start_time": "2022-06-07T07:04:16.433Z"
   },
   {
    "duration": 3,
    "start_time": "2022-06-07T07:04:19.677Z"
   },
   {
    "duration": 22,
    "start_time": "2022-06-07T07:04:19.681Z"
   },
   {
    "duration": 25,
    "start_time": "2022-06-07T07:04:19.704Z"
   },
   {
    "duration": 143628,
    "start_time": "2022-06-07T07:04:19.731Z"
   },
   {
    "duration": 3,
    "start_time": "2022-06-07T07:06:43.362Z"
   },
   {
    "duration": 16,
    "start_time": "2022-06-07T07:06:43.367Z"
   },
   {
    "duration": 14,
    "start_time": "2022-06-07T07:06:43.385Z"
   },
   {
    "duration": 12,
    "start_time": "2022-06-07T07:06:43.401Z"
   },
   {
    "duration": 32,
    "start_time": "2022-06-07T07:06:43.414Z"
   },
   {
    "duration": 17,
    "start_time": "2022-06-07T07:06:43.448Z"
   },
   {
    "duration": 988,
    "start_time": "2022-06-07T07:06:43.467Z"
   },
   {
    "duration": 2279,
    "start_time": "2022-06-07T07:06:44.458Z"
   },
   {
    "duration": 5,
    "start_time": "2022-06-07T07:06:46.746Z"
   },
   {
    "duration": 9,
    "start_time": "2022-06-07T07:06:46.753Z"
   },
   {
    "duration": 310,
    "start_time": "2022-06-07T07:06:46.764Z"
   },
   {
    "duration": 10,
    "start_time": "2022-06-07T07:06:47.075Z"
   },
   {
    "duration": 118,
    "start_time": "2022-06-07T07:06:47.133Z"
   },
   {
    "duration": 17,
    "start_time": "2022-06-07T07:06:47.253Z"
   },
   {
    "duration": 13,
    "start_time": "2022-06-07T07:06:47.272Z"
   },
   {
    "duration": 15,
    "start_time": "2022-06-07T07:06:47.287Z"
   },
   {
    "duration": 8,
    "start_time": "2022-06-07T07:06:47.303Z"
   },
   {
    "duration": 14,
    "start_time": "2022-06-07T07:06:47.313Z"
   },
   {
    "duration": 19,
    "start_time": "2022-06-07T07:06:47.339Z"
   },
   {
    "duration": 7,
    "start_time": "2022-06-07T07:06:47.360Z"
   },
   {
    "duration": 11,
    "start_time": "2022-06-07T07:06:47.368Z"
   },
   {
    "duration": 6,
    "start_time": "2022-06-07T07:29:54.012Z"
   },
   {
    "duration": 935,
    "start_time": "2022-06-07T07:29:54.023Z"
   },
   {
    "duration": 41,
    "start_time": "2022-06-07T07:29:54.960Z"
   },
   {
    "duration": 586,
    "start_time": "2022-06-07T07:29:55.003Z"
   },
   {
    "duration": 3,
    "start_time": "2022-06-07T07:29:55.591Z"
   },
   {
    "duration": 12,
    "start_time": "2022-06-07T07:29:55.596Z"
   },
   {
    "duration": 27,
    "start_time": "2022-06-07T07:29:55.611Z"
   },
   {
    "duration": 10,
    "start_time": "2022-06-07T07:29:55.643Z"
   },
   {
    "duration": 13,
    "start_time": "2022-06-07T07:29:55.655Z"
   },
   {
    "duration": 8,
    "start_time": "2022-06-07T07:29:55.669Z"
   },
   {
    "duration": 6,
    "start_time": "2022-06-07T07:29:55.681Z"
   },
   {
    "duration": 7,
    "start_time": "2022-06-07T07:29:55.689Z"
   },
   {
    "duration": 122,
    "start_time": "2022-06-07T07:29:55.697Z"
   },
   {
    "duration": 144,
    "start_time": "2022-06-07T07:29:55.822Z"
   },
   {
    "duration": 22,
    "start_time": "2022-06-07T07:29:55.969Z"
   },
   {
    "duration": 9,
    "start_time": "2022-06-07T07:29:55.993Z"
   },
   {
    "duration": 8,
    "start_time": "2022-06-07T07:29:56.003Z"
   },
   {
    "duration": 7,
    "start_time": "2022-06-07T07:29:56.030Z"
   },
   {
    "duration": 461,
    "start_time": "2022-06-07T07:29:56.042Z"
   },
   {
    "duration": 578,
    "start_time": "2022-06-07T07:29:56.505Z"
   },
   {
    "duration": 452,
    "start_time": "2022-06-07T07:29:57.085Z"
   },
   {
    "duration": 23,
    "start_time": "2022-06-07T07:29:57.538Z"
   },
   {
    "duration": 9,
    "start_time": "2022-06-07T07:29:57.562Z"
   },
   {
    "duration": 569,
    "start_time": "2022-06-07T07:29:57.573Z"
   },
   {
    "duration": 721,
    "start_time": "2022-06-07T07:29:58.144Z"
   },
   {
    "duration": 521,
    "start_time": "2022-06-07T07:29:58.867Z"
   },
   {
    "duration": 325,
    "start_time": "2022-06-07T07:29:59.390Z"
   },
   {
    "duration": 24,
    "start_time": "2022-06-07T07:29:59.716Z"
   },
   {
    "duration": 14,
    "start_time": "2022-06-07T07:29:59.745Z"
   },
   {
    "duration": 4,
    "start_time": "2022-06-07T07:29:59.760Z"
   },
   {
    "duration": 150,
    "start_time": "2022-06-07T07:29:59.766Z"
   },
   {
    "duration": 148,
    "start_time": "2022-06-07T07:29:59.918Z"
   },
   {
    "duration": 157,
    "start_time": "2022-06-07T07:30:00.067Z"
   },
   {
    "duration": 12,
    "start_time": "2022-06-07T07:30:00.228Z"
   },
   {
    "duration": 31,
    "start_time": "2022-06-07T07:30:00.246Z"
   },
   {
    "duration": 20,
    "start_time": "2022-06-07T07:30:00.279Z"
   },
   {
    "duration": 14,
    "start_time": "2022-06-07T07:30:00.301Z"
   },
   {
    "duration": 37,
    "start_time": "2022-06-07T07:30:00.316Z"
   },
   {
    "duration": 16,
    "start_time": "2022-06-07T07:30:00.355Z"
   },
   {
    "duration": 14,
    "start_time": "2022-06-07T07:30:00.373Z"
   },
   {
    "duration": 11,
    "start_time": "2022-06-07T07:30:00.389Z"
   },
   {
    "duration": 20,
    "start_time": "2022-06-07T07:30:00.402Z"
   },
   {
    "duration": 50,
    "start_time": "2022-06-07T07:30:00.423Z"
   },
   {
    "duration": 12,
    "start_time": "2022-06-07T07:30:00.475Z"
   },
   {
    "duration": 14,
    "start_time": "2022-06-07T07:30:00.488Z"
   },
   {
    "duration": 37,
    "start_time": "2022-06-07T07:30:00.504Z"
   },
   {
    "duration": 20,
    "start_time": "2022-06-07T07:30:00.543Z"
   },
   {
    "duration": 19,
    "start_time": "2022-06-07T07:30:00.564Z"
   },
   {
    "duration": 38,
    "start_time": "2022-06-07T07:30:00.584Z"
   },
   {
    "duration": 23,
    "start_time": "2022-06-07T07:30:00.623Z"
   },
   {
    "duration": 2774,
    "start_time": "2022-06-07T07:30:00.648Z"
   },
   {
    "duration": 3,
    "start_time": "2022-06-07T07:30:03.424Z"
   },
   {
    "duration": 3403,
    "start_time": "2022-06-07T07:30:03.428Z"
   },
   {
    "duration": 7,
    "start_time": "2022-06-07T07:30:06.833Z"
   },
   {
    "duration": 33,
    "start_time": "2022-06-07T07:30:06.842Z"
   },
   {
    "duration": 33,
    "start_time": "2022-06-07T07:30:06.877Z"
   },
   {
    "duration": 1352,
    "start_time": "2022-06-07T11:24:13.527Z"
   },
   {
    "duration": 2469,
    "start_time": "2022-06-07T11:24:14.882Z"
   },
   {
    "duration": 33,
    "start_time": "2022-06-07T11:24:17.353Z"
   },
   {
    "duration": 571,
    "start_time": "2022-06-07T11:24:17.388Z"
   },
   {
    "duration": 2,
    "start_time": "2022-06-07T11:24:17.961Z"
   },
   {
    "duration": 11,
    "start_time": "2022-06-07T11:24:17.965Z"
   },
   {
    "duration": 9,
    "start_time": "2022-06-07T11:24:17.978Z"
   },
   {
    "duration": 8,
    "start_time": "2022-06-07T11:24:17.988Z"
   },
   {
    "duration": 7,
    "start_time": "2022-06-07T11:24:17.997Z"
   },
   {
    "duration": 5,
    "start_time": "2022-06-07T11:24:18.007Z"
   },
   {
    "duration": 7,
    "start_time": "2022-06-07T11:24:18.013Z"
   },
   {
    "duration": 4,
    "start_time": "2022-06-07T11:24:18.021Z"
   },
   {
    "duration": 113,
    "start_time": "2022-06-07T11:24:18.027Z"
   },
   {
    "duration": 115,
    "start_time": "2022-06-07T11:24:18.142Z"
   },
   {
    "duration": 18,
    "start_time": "2022-06-07T11:24:18.258Z"
   },
   {
    "duration": 7,
    "start_time": "2022-06-07T11:24:18.278Z"
   },
   {
    "duration": 7,
    "start_time": "2022-06-07T11:24:18.287Z"
   },
   {
    "duration": 4,
    "start_time": "2022-06-07T11:24:18.296Z"
   },
   {
    "duration": 366,
    "start_time": "2022-06-07T11:24:18.324Z"
   },
   {
    "duration": 393,
    "start_time": "2022-06-07T11:24:18.691Z"
   },
   {
    "duration": 542,
    "start_time": "2022-06-07T11:24:19.086Z"
   },
   {
    "duration": 31,
    "start_time": "2022-06-07T11:24:19.639Z"
   },
   {
    "duration": 8,
    "start_time": "2022-06-07T11:24:19.671Z"
   },
   {
    "duration": 419,
    "start_time": "2022-06-07T11:24:19.680Z"
   },
   {
    "duration": 491,
    "start_time": "2022-06-07T11:24:20.100Z"
   },
   {
    "duration": 457,
    "start_time": "2022-06-07T11:24:20.593Z"
   },
   {
    "duration": 356,
    "start_time": "2022-06-07T11:24:21.052Z"
   },
   {
    "duration": 16,
    "start_time": "2022-06-07T11:24:21.412Z"
   },
   {
    "duration": 13,
    "start_time": "2022-06-07T11:24:21.430Z"
   },
   {
    "duration": 12,
    "start_time": "2022-06-07T11:24:21.445Z"
   },
   {
    "duration": 148,
    "start_time": "2022-06-07T11:24:21.459Z"
   },
   {
    "duration": 160,
    "start_time": "2022-06-07T11:24:21.609Z"
   },
   {
    "duration": 158,
    "start_time": "2022-06-07T11:24:21.771Z"
   },
   {
    "duration": 4,
    "start_time": "2022-06-07T11:24:21.931Z"
   },
   {
    "duration": 27,
    "start_time": "2022-06-07T11:24:21.937Z"
   },
   {
    "duration": 3,
    "start_time": "2022-06-07T11:24:21.965Z"
   },
   {
    "duration": 4,
    "start_time": "2022-06-07T11:24:21.970Z"
   },
   {
    "duration": 4,
    "start_time": "2022-06-07T11:24:21.975Z"
   },
   {
    "duration": 9,
    "start_time": "2022-06-07T11:24:21.980Z"
   },
   {
    "duration": 5,
    "start_time": "2022-06-07T11:24:21.991Z"
   },
   {
    "duration": 5,
    "start_time": "2022-06-07T11:24:21.998Z"
   },
   {
    "duration": 27,
    "start_time": "2022-06-07T11:24:22.004Z"
   },
   {
    "duration": 38,
    "start_time": "2022-06-07T11:24:22.032Z"
   },
   {
    "duration": 9,
    "start_time": "2022-06-07T11:24:22.071Z"
   },
   {
    "duration": 9,
    "start_time": "2022-06-07T11:24:22.082Z"
   },
   {
    "duration": 5,
    "start_time": "2022-06-07T11:24:22.092Z"
   },
   {
    "duration": 5,
    "start_time": "2022-06-07T11:24:22.098Z"
   },
   {
    "duration": 33,
    "start_time": "2022-06-07T11:24:22.104Z"
   },
   {
    "duration": 16,
    "start_time": "2022-06-07T11:24:22.144Z"
   },
   {
    "duration": 5,
    "start_time": "2022-06-07T11:24:22.161Z"
   },
   {
    "duration": 2236,
    "start_time": "2022-06-07T11:24:22.167Z"
   },
   {
    "duration": 3,
    "start_time": "2022-06-07T11:24:24.404Z"
   },
   {
    "duration": 2884,
    "start_time": "2022-06-07T11:24:24.409Z"
   },
   {
    "duration": 3,
    "start_time": "2022-06-07T11:24:27.294Z"
   },
   {
    "duration": 6,
    "start_time": "2022-06-07T11:24:27.299Z"
   },
   {
    "duration": 3,
    "start_time": "2022-06-07T11:24:27.309Z"
   },
   {
    "duration": 61274,
    "start_time": "2022-06-07T11:24:27.313Z"
   },
   {
    "duration": 4,
    "start_time": "2022-06-07T11:25:28.589Z"
   },
   {
    "duration": 9,
    "start_time": "2022-06-07T11:25:28.594Z"
   },
   {
    "duration": 7,
    "start_time": "2022-06-07T11:25:28.604Z"
   },
   {
    "duration": 13,
    "start_time": "2022-06-07T11:25:28.612Z"
   },
   {
    "duration": 23,
    "start_time": "2022-06-07T11:25:28.627Z"
   },
   {
    "duration": 155656,
    "start_time": "2022-06-07T11:25:28.652Z"
   },
   {
    "duration": 4,
    "start_time": "2022-06-07T11:28:04.309Z"
   },
   {
    "duration": 29,
    "start_time": "2022-06-07T11:28:04.324Z"
   },
   {
    "duration": 4,
    "start_time": "2022-06-07T11:28:04.355Z"
   },
   {
    "duration": 24,
    "start_time": "2022-06-07T11:28:04.361Z"
   },
   {
    "duration": 1064,
    "start_time": "2022-06-07T11:28:04.387Z"
   },
   {
    "duration": 2006,
    "start_time": "2022-06-07T11:28:05.524Z"
   },
   {
    "duration": 23,
    "start_time": "2022-06-07T11:28:07.539Z"
   },
   {
    "duration": 64,
    "start_time": "2022-06-07T11:28:07.569Z"
   },
   {
    "duration": 392,
    "start_time": "2022-06-07T11:28:07.643Z"
   },
   {
    "duration": 89,
    "start_time": "2022-06-07T11:28:08.037Z"
   },
   {
    "duration": 120,
    "start_time": "2022-06-07T11:28:08.134Z"
   },
   {
    "duration": 6,
    "start_time": "2022-06-07T11:28:08.256Z"
   },
   {
    "duration": 4,
    "start_time": "2022-06-07T11:28:08.264Z"
   },
   {
    "duration": 11,
    "start_time": "2022-06-07T11:28:08.270Z"
   },
   {
    "duration": 7,
    "start_time": "2022-06-07T11:28:08.283Z"
   },
   {
    "duration": 12,
    "start_time": "2022-06-07T11:28:08.292Z"
   },
   {
    "duration": 7,
    "start_time": "2022-06-07T11:28:08.306Z"
   },
   {
    "duration": 16,
    "start_time": "2022-06-07T11:28:08.315Z"
   },
   {
    "duration": 12,
    "start_time": "2022-06-07T11:28:08.338Z"
   },
   {
    "duration": 5,
    "start_time": "2022-06-07T11:35:11.083Z"
   },
   {
    "duration": 5,
    "start_time": "2022-06-07T11:35:26.690Z"
   },
   {
    "duration": 173,
    "start_time": "2022-06-07T11:35:34.251Z"
   },
   {
    "duration": 4,
    "start_time": "2022-06-07T11:35:40.493Z"
   },
   {
    "duration": 6,
    "start_time": "2022-06-07T11:35:48.100Z"
   },
   {
    "duration": 6,
    "start_time": "2022-06-07T11:36:07.314Z"
   },
   {
    "duration": 5,
    "start_time": "2022-06-07T11:36:18.354Z"
   },
   {
    "duration": 5,
    "start_time": "2022-06-07T11:36:40.202Z"
   },
   {
    "duration": 14,
    "start_time": "2022-06-07T11:36:47.569Z"
   },
   {
    "duration": 5,
    "start_time": "2022-06-07T11:36:58.050Z"
   },
   {
    "duration": 4,
    "start_time": "2022-06-07T11:38:26.946Z"
   },
   {
    "duration": 4,
    "start_time": "2022-06-07T12:07:54.620Z"
   },
   {
    "duration": 669,
    "start_time": "2022-06-07T12:07:54.643Z"
   },
   {
    "duration": 47,
    "start_time": "2022-06-07T12:07:55.313Z"
   },
   {
    "duration": 445,
    "start_time": "2022-06-07T12:07:55.362Z"
   },
   {
    "duration": 3,
    "start_time": "2022-06-07T12:07:55.808Z"
   },
   {
    "duration": 25,
    "start_time": "2022-06-07T12:07:55.825Z"
   },
   {
    "duration": 6,
    "start_time": "2022-06-07T12:07:55.852Z"
   },
   {
    "duration": 6,
    "start_time": "2022-06-07T12:07:55.860Z"
   },
   {
    "duration": 5,
    "start_time": "2022-06-07T12:07:55.868Z"
   },
   {
    "duration": 5,
    "start_time": "2022-06-07T12:07:55.874Z"
   },
   {
    "duration": 5,
    "start_time": "2022-06-07T12:07:55.881Z"
   },
   {
    "duration": 5,
    "start_time": "2022-06-07T12:07:55.888Z"
   },
   {
    "duration": 90,
    "start_time": "2022-06-07T12:07:55.894Z"
   },
   {
    "duration": 105,
    "start_time": "2022-06-07T12:07:55.985Z"
   },
   {
    "duration": 18,
    "start_time": "2022-06-07T12:07:56.092Z"
   },
   {
    "duration": 19,
    "start_time": "2022-06-07T12:07:56.111Z"
   },
   {
    "duration": 22,
    "start_time": "2022-06-07T12:07:56.131Z"
   },
   {
    "duration": 4,
    "start_time": "2022-06-07T12:07:56.154Z"
   },
   {
    "duration": 377,
    "start_time": "2022-06-07T12:07:56.160Z"
   },
   {
    "duration": 529,
    "start_time": "2022-06-07T12:07:56.539Z"
   },
   {
    "duration": 358,
    "start_time": "2022-06-07T12:07:57.070Z"
   },
   {
    "duration": 18,
    "start_time": "2022-06-07T12:07:57.429Z"
   },
   {
    "duration": 9,
    "start_time": "2022-06-07T12:07:57.449Z"
   },
   {
    "duration": 420,
    "start_time": "2022-06-07T12:07:57.460Z"
   },
   {
    "duration": 624,
    "start_time": "2022-06-07T12:07:57.882Z"
   },
   {
    "duration": 467,
    "start_time": "2022-06-07T12:07:58.508Z"
   },
   {
    "duration": 255,
    "start_time": "2022-06-07T12:07:58.976Z"
   },
   {
    "duration": 8,
    "start_time": "2022-06-07T12:07:59.233Z"
   },
   {
    "duration": 8,
    "start_time": "2022-06-07T12:07:59.242Z"
   },
   {
    "duration": 5,
    "start_time": "2022-06-07T12:07:59.251Z"
   },
   {
    "duration": 147,
    "start_time": "2022-06-07T12:07:59.257Z"
   },
   {
    "duration": 113,
    "start_time": "2022-06-07T12:07:59.406Z"
   },
   {
    "duration": 123,
    "start_time": "2022-06-07T12:07:59.525Z"
   },
   {
    "duration": 3,
    "start_time": "2022-06-07T12:07:59.650Z"
   },
   {
    "duration": 18,
    "start_time": "2022-06-07T12:07:59.658Z"
   },
   {
    "duration": 3,
    "start_time": "2022-06-07T12:07:59.677Z"
   },
   {
    "duration": 7,
    "start_time": "2022-06-07T12:07:59.681Z"
   },
   {
    "duration": 5,
    "start_time": "2022-06-07T12:07:59.689Z"
   },
   {
    "duration": 8,
    "start_time": "2022-06-07T12:07:59.695Z"
   },
   {
    "duration": 22,
    "start_time": "2022-06-07T12:07:59.705Z"
   },
   {
    "duration": 7,
    "start_time": "2022-06-07T12:07:59.729Z"
   },
   {
    "duration": 15,
    "start_time": "2022-06-07T12:07:59.740Z"
   },
   {
    "duration": 24,
    "start_time": "2022-06-07T12:07:59.756Z"
   },
   {
    "duration": 8,
    "start_time": "2022-06-07T12:07:59.781Z"
   },
   {
    "duration": 9,
    "start_time": "2022-06-07T12:07:59.790Z"
   },
   {
    "duration": 5,
    "start_time": "2022-06-07T12:07:59.801Z"
   },
   {
    "duration": 3,
    "start_time": "2022-06-07T12:07:59.825Z"
   },
   {
    "duration": 16,
    "start_time": "2022-06-07T12:07:59.830Z"
   },
   {
    "duration": 10,
    "start_time": "2022-06-07T12:07:59.850Z"
   },
   {
    "duration": 5,
    "start_time": "2022-06-07T12:07:59.861Z"
   },
   {
    "duration": 2220,
    "start_time": "2022-06-07T12:07:59.867Z"
   },
   {
    "duration": 5,
    "start_time": "2022-06-07T12:08:02.089Z"
   },
   {
    "duration": 2925,
    "start_time": "2022-06-07T12:08:02.095Z"
   },
   {
    "duration": 3,
    "start_time": "2022-06-07T12:08:05.022Z"
   },
   {
    "duration": 8,
    "start_time": "2022-06-07T12:08:05.027Z"
   },
   {
    "duration": 7,
    "start_time": "2022-06-07T12:08:05.037Z"
   },
   {
    "duration": 70462,
    "start_time": "2022-06-07T12:08:05.045Z"
   },
   {
    "duration": 3,
    "start_time": "2022-06-07T12:09:15.509Z"
   },
   {
    "duration": 12,
    "start_time": "2022-06-07T12:09:15.514Z"
   },
   {
    "duration": 144006,
    "start_time": "2022-06-07T12:09:15.527Z"
   },
   {
    "duration": 4,
    "start_time": "2022-06-07T12:11:39.535Z"
   },
   {
    "duration": 16,
    "start_time": "2022-06-07T12:11:39.542Z"
   },
   {
    "duration": 885,
    "start_time": "2022-06-07T12:11:39.560Z"
   },
   {
    "duration": 1506,
    "start_time": "2022-06-07T12:11:40.451Z"
   },
   {
    "duration": 4,
    "start_time": "2022-06-07T12:11:41.960Z"
   },
   {
    "duration": 58,
    "start_time": "2022-06-07T12:11:41.967Z"
   },
   {
    "duration": 320,
    "start_time": "2022-06-07T12:11:42.027Z"
   },
   {
    "duration": 10,
    "start_time": "2022-06-07T12:11:42.348Z"
   },
   {
    "duration": 172,
    "start_time": "2022-06-07T12:11:42.359Z"
   },
   {
    "duration": 21,
    "start_time": "2022-06-07T12:11:42.533Z"
   },
   {
    "duration": 10,
    "start_time": "2022-06-07T12:11:42.555Z"
   },
   {
    "duration": 24,
    "start_time": "2022-06-07T12:11:42.567Z"
   },
   {
    "duration": 9,
    "start_time": "2022-06-07T12:11:42.593Z"
   },
   {
    "duration": 42,
    "start_time": "2022-06-07T12:11:42.604Z"
   },
   {
    "duration": 14,
    "start_time": "2022-06-07T12:11:42.648Z"
   },
   {
    "duration": 32,
    "start_time": "2022-06-07T12:11:42.663Z"
   },
   {
    "duration": 51,
    "start_time": "2022-06-07T12:11:42.697Z"
   },
   {
    "duration": 5,
    "start_time": "2022-06-07T12:11:44.117Z"
   },
   {
    "duration": 3,
    "start_time": "2022-06-07T12:12:06.442Z"
   },
   {
    "duration": 9502,
    "start_time": "2022-06-07T14:26:55.296Z"
   },
   {
    "duration": 8299,
    "start_time": "2022-06-07T14:27:04.899Z"
   },
   {
    "duration": 497,
    "start_time": "2022-06-07T14:27:13.201Z"
   },
   {
    "duration": 5710,
    "start_time": "2022-06-07T14:27:13.795Z"
   },
   {
    "duration": 186,
    "start_time": "2022-06-07T14:27:19.509Z"
   },
   {
    "duration": 204,
    "start_time": "2022-06-07T14:27:19.697Z"
   },
   {
    "duration": 496,
    "start_time": "2022-06-07T14:27:19.904Z"
   },
   {
    "duration": 305,
    "start_time": "2022-06-07T14:27:20.498Z"
   },
   {
    "duration": 392,
    "start_time": "2022-06-07T14:27:20.807Z"
   },
   {
    "duration": 397,
    "start_time": "2022-06-07T14:27:21.202Z"
   },
   {
    "duration": 398,
    "start_time": "2022-06-07T14:27:21.601Z"
   },
   {
    "duration": 596,
    "start_time": "2022-06-07T14:27:22.001Z"
   },
   {
    "duration": 2803,
    "start_time": "2022-06-07T14:27:22.599Z"
   },
   {
    "duration": 3691,
    "start_time": "2022-06-07T14:27:25.407Z"
   },
   {
    "duration": 397,
    "start_time": "2022-06-07T14:27:29.100Z"
   },
   {
    "duration": 200,
    "start_time": "2022-06-07T14:27:29.501Z"
   },
   {
    "duration": 111,
    "start_time": "2022-06-07T14:27:29.794Z"
   },
   {
    "duration": 496,
    "start_time": "2022-06-07T14:27:29.906Z"
   },
   {
    "duration": 5198,
    "start_time": "2022-06-07T14:27:30.405Z"
   },
   {
    "duration": 10499,
    "start_time": "2022-06-07T14:27:35.700Z"
   },
   {
    "duration": 8198,
    "start_time": "2022-06-07T14:27:46.207Z"
   },
   {
    "duration": 592,
    "start_time": "2022-06-07T14:27:54.503Z"
   },
   {
    "duration": 292,
    "start_time": "2022-06-07T14:27:55.105Z"
   },
   {
    "duration": 7308,
    "start_time": "2022-06-07T14:27:55.400Z"
   },
   {
    "duration": 5600,
    "start_time": "2022-06-07T14:28:02.798Z"
   },
   {
    "duration": 4396,
    "start_time": "2022-06-07T14:28:08.406Z"
   },
   {
    "duration": 3797,
    "start_time": "2022-06-07T14:28:12.805Z"
   },
   {
    "duration": 99,
    "start_time": "2022-06-07T14:28:16.604Z"
   },
   {
    "duration": 395,
    "start_time": "2022-06-07T14:28:16.798Z"
   },
   {
    "duration": 203,
    "start_time": "2022-06-07T14:28:17.196Z"
   },
   {
    "duration": 1794,
    "start_time": "2022-06-07T14:28:17.401Z"
   },
   {
    "duration": 1203,
    "start_time": "2022-06-07T14:28:19.198Z"
   },
   {
    "duration": 1400,
    "start_time": "2022-06-07T14:28:20.403Z"
   },
   {
    "duration": 6,
    "start_time": "2022-06-07T14:28:21.896Z"
   },
   {
    "duration": 499,
    "start_time": "2022-06-07T14:28:22.002Z"
   },
   {
    "duration": 99,
    "start_time": "2022-06-07T14:28:22.504Z"
   },
   {
    "duration": 298,
    "start_time": "2022-06-07T14:28:22.699Z"
   },
   {
    "duration": 499,
    "start_time": "2022-06-07T14:28:22.998Z"
   },
   {
    "duration": 507,
    "start_time": "2022-06-07T14:28:23.498Z"
   },
   {
    "duration": 386,
    "start_time": "2022-06-07T14:28:24.015Z"
   },
   {
    "duration": 100,
    "start_time": "2022-06-07T14:28:24.406Z"
   },
   {
    "duration": 191,
    "start_time": "2022-06-07T14:28:24.512Z"
   },
   {
    "duration": 890,
    "start_time": "2022-06-07T14:28:24.705Z"
   },
   {
    "duration": 197,
    "start_time": "2022-06-07T14:28:25.597Z"
   },
   {
    "duration": 393,
    "start_time": "2022-06-07T14:28:25.802Z"
   },
   {
    "duration": 202,
    "start_time": "2022-06-07T14:28:26.293Z"
   },
   {
    "duration": 191,
    "start_time": "2022-06-07T14:28:26.503Z"
   },
   {
    "duration": 101,
    "start_time": "2022-06-07T14:28:26.703Z"
   },
   {
    "duration": 489,
    "start_time": "2022-06-07T14:28:26.808Z"
   },
   {
    "duration": 291,
    "start_time": "2022-06-07T14:28:27.305Z"
   },
   {
    "duration": 26997,
    "start_time": "2022-06-07T14:28:27.599Z"
   },
   {
    "duration": 95,
    "start_time": "2022-06-07T14:28:54.603Z"
   },
   {
    "duration": 24507,
    "start_time": "2022-06-07T14:28:54.794Z"
   },
   {
    "duration": 95,
    "start_time": "2022-06-07T14:29:19.303Z"
   },
   {
    "duration": 400,
    "start_time": "2022-06-07T14:29:19.400Z"
   },
   {
    "duration": 395,
    "start_time": "2022-06-07T14:29:19.802Z"
   },
   {
    "duration": 187001,
    "start_time": "2022-06-07T14:29:20.199Z"
   },
   {
    "duration": 4,
    "start_time": "2022-06-07T14:32:27.203Z"
   },
   {
    "duration": 299,
    "start_time": "2022-06-07T14:32:27.297Z"
   },
   {
    "duration": 381097,
    "start_time": "2022-06-07T14:32:27.598Z"
   },
   {
    "duration": 4,
    "start_time": "2022-06-07T14:38:48.699Z"
   },
   {
    "duration": 93,
    "start_time": "2022-06-07T14:38:48.704Z"
   },
   {
    "duration": 1497,
    "start_time": "2022-06-07T14:38:48.801Z"
   },
   {
    "duration": 4001,
    "start_time": "2022-06-07T14:38:50.400Z"
   },
   {
    "duration": 93,
    "start_time": "2022-06-07T14:38:54.406Z"
   },
   {
    "duration": 93,
    "start_time": "2022-06-07T14:38:54.504Z"
   },
   {
    "duration": 1595,
    "start_time": "2022-06-07T14:38:54.600Z"
   },
   {
    "duration": 100,
    "start_time": "2022-06-07T14:38:56.201Z"
   },
   {
    "duration": 195,
    "start_time": "2022-06-07T14:38:56.305Z"
   },
   {
    "duration": 93,
    "start_time": "2022-06-07T14:38:56.502Z"
   },
   {
    "duration": 4,
    "start_time": "2022-06-07T14:38:56.597Z"
   },
   {
    "duration": 95,
    "start_time": "2022-06-07T14:38:56.701Z"
   },
   {
    "duration": 396,
    "start_time": "2022-06-07T14:38:56.798Z"
   },
   {
    "duration": 8,
    "start_time": "2022-06-07T14:38:57.196Z"
   },
   {
    "duration": 95,
    "start_time": "2022-06-07T14:38:57.206Z"
   },
   {
    "duration": 389,
    "start_time": "2022-06-07T14:38:57.306Z"
   },
   {
    "duration": 399,
    "start_time": "2022-06-07T14:38:57.696Z"
   }
  ],
  "kernelspec": {
   "display_name": "Python 3",
   "language": "python",
   "name": "python3"
  },
  "language_info": {
   "codemirror_mode": {
    "name": "ipython",
    "version": 3
   },
   "file_extension": ".py",
   "mimetype": "text/x-python",
   "name": "python",
   "nbconvert_exporter": "python",
   "pygments_lexer": "ipython3",
   "version": "3.8.8"
  },
  "toc": {
   "base_numbering": 1,
   "nav_menu": {},
   "number_sections": true,
   "sideBar": true,
   "skip_h1_title": true,
   "title_cell": "Содержание",
   "title_sidebar": "Contents",
   "toc_cell": true,
   "toc_position": {
    "height": "calc(100% - 180px)",
    "left": "10px",
    "top": "150px",
    "width": "228.18px"
   },
   "toc_section_display": true,
   "toc_window_display": true
  },
  "toc-autonumbering": true,
  "toc-showcode": false,
  "toc-showmarkdowntxt": false
 },
 "nbformat": 4,
 "nbformat_minor": 4
}
