{
 "cells": [
  {
   "cell_type": "markdown",
   "metadata": {},
   "source": [
    "# Машинное обучение для текстов"
   ]
  },
  {
   "cell_type": "markdown",
   "metadata": {},
   "source": [
    "Новый сервис интернет-магазина позволяет пользователям редактировать и дополнять описания товаров, как в вики-сообществах - клиенты предлагают свои правки и комментируют изменения других. Магазину нужен инструмент, который будет искать недопустимые к публикации комментарии и отправлять их на модерацию. \n",
    "\n",
    "Необходимо обучить модель классифицировать комментарии на позитивные и негативные. В вашем распоряжении набор данных с разметкой о токсичности правок.\n",
    "\n",
    "Постройте модель со значением метрики качества *F1* не меньше 0.75. \n",
    "\n",
    "Данные находятся в файле `toxic_comments.csv`. Столбец **text** в нём содержит текст комментария, а **toxic** — целевой признак."
   ]
  },
  {
   "cell_type": "markdown",
   "metadata": {},
   "source": [
    "## Подготовка библиотек"
   ]
  },
  {
   "cell_type": "code",
   "execution_count": 1,
   "metadata": {},
   "outputs": [],
   "source": [
    "import pandas as pd\n",
    "import seaborn as sns\n",
    "import nltk\n",
    "from nltk.tokenize import word_tokenize\n",
    "from nltk.corpus import stopwords\n",
    "from nltk.stem import WordNetLemmatizer\n",
    "from nltk.corpus import wordnet\n",
    "from sklearn.feature_extraction.text import CountVectorizer\n",
    "from sklearn.feature_extraction.text import TfidfVectorizer\n",
    "import re\n",
    "from sklearn.linear_model import LogisticRegression\n",
    "from sklearn.model_selection import train_test_split, cross_val_score, GridSearchCV\n",
    "from sklearn.metrics import f1_score\n",
    "from sklearn.tree import DecisionTreeClassifier\n",
    "from catboost import CatBoostClassifier"
   ]
  },
  {
   "cell_type": "code",
   "execution_count": 2,
   "metadata": {
    "scrolled": true
   },
   "outputs": [
    {
     "name": "stderr",
     "output_type": "stream",
     "text": [
      "[nltk_data] Downloading package wordnet to /home/jovyan/nltk_data...\n",
      "[nltk_data]   Package wordnet is already up-to-date!\n",
      "[nltk_data] Downloading package stopwords to /home/jovyan/nltk_data...\n",
      "[nltk_data]   Package stopwords is already up-to-date!\n",
      "[nltk_data] Downloading package averaged_perceptron_tagger to\n",
      "[nltk_data]     /home/jovyan/nltk_data...\n",
      "[nltk_data]   Package averaged_perceptron_tagger is already up-to-\n",
      "[nltk_data]       date!\n"
     ]
    },
    {
     "data": {
      "text/plain": [
       "True"
      ]
     },
     "execution_count": 2,
     "metadata": {},
     "output_type": "execute_result"
    }
   ],
   "source": [
    "# загрузка пакетов библиотеки лемматизации WordNetLemmatizer и списка \"стоп\" слов\n",
    "nltk.download('wordnet')\n",
    "nltk.download('stopwords')\n",
    "nltk.download('averaged_perceptron_tagger')"
   ]
  },
  {
   "cell_type": "code",
   "execution_count": 3,
   "metadata": {},
   "outputs": [],
   "source": [
    "# создание списка \"стоп\" слов английского языка\n",
    "stop_words = set(stopwords.words('english')) "
   ]
  },
  {
   "cell_type": "code",
   "execution_count": 5,
   "metadata": {},
   "outputs": [],
   "source": [
    "# создание объектов классов предобработки текстов\n",
    "count_vect = CountVectorizer(stop_words=stop_words)\n",
    "count_tf_idf = TfidfVectorizer()\n",
    "lemmatizer = WordNetLemmatizer()"
   ]
  },
  {
   "cell_type": "markdown",
   "metadata": {},
   "source": [
    "## Загрузка и знакомство с данными"
   ]
  },
  {
   "cell_type": "code",
   "execution_count": 6,
   "metadata": {},
   "outputs": [],
   "source": [
    "# загрузка данных\n",
    "data = pd.read_csv('/datasets/toxic_comments.csv')"
   ]
  },
  {
   "cell_type": "code",
   "execution_count": 7,
   "metadata": {
    "scrolled": true
   },
   "outputs": [
    {
     "data": {
      "text/html": [
       "<div>\n",
       "<style scoped>\n",
       "    .dataframe tbody tr th:only-of-type {\n",
       "        vertical-align: middle;\n",
       "    }\n",
       "\n",
       "    .dataframe tbody tr th {\n",
       "        vertical-align: top;\n",
       "    }\n",
       "\n",
       "    .dataframe thead th {\n",
       "        text-align: right;\n",
       "    }\n",
       "</style>\n",
       "<table border=\"1\" class=\"dataframe\">\n",
       "  <thead>\n",
       "    <tr style=\"text-align: right;\">\n",
       "      <th></th>\n",
       "      <th>text</th>\n",
       "      <th>toxic</th>\n",
       "    </tr>\n",
       "  </thead>\n",
       "  <tbody>\n",
       "    <tr>\n",
       "      <th>14298</th>\n",
       "      <td>If you think this was a little story, I can on...</td>\n",
       "      <td>0</td>\n",
       "    </tr>\n",
       "    <tr>\n",
       "      <th>75353</th>\n",
       "      <td>Hi Ged and Elen. I was pointed to the statemen...</td>\n",
       "      <td>0</td>\n",
       "    </tr>\n",
       "    <tr>\n",
       "      <th>81709</th>\n",
       "      <td>\"\\n\\nDYK\\nOn 28 August, 2007, Did you know? wa...</td>\n",
       "      <td>0</td>\n",
       "    </tr>\n",
       "    <tr>\n",
       "      <th>141039</th>\n",
       "      <td>Welcome!\\n\\nHello , and welcome to Wikipedia! ...</td>\n",
       "      <td>0</td>\n",
       "    </tr>\n",
       "    <tr>\n",
       "      <th>145899</th>\n",
       "      <td>\"\\n\\nRead the \"\"Signing\"\" section of the artic...</td>\n",
       "      <td>0</td>\n",
       "    </tr>\n",
       "    <tr>\n",
       "      <th>143796</th>\n",
       "      <td>list of surgeons \\n Recently, the list of surg...</td>\n",
       "      <td>0</td>\n",
       "    </tr>\n",
       "  </tbody>\n",
       "</table>\n",
       "</div>"
      ],
      "text/plain": [
       "                                                     text  toxic\n",
       "14298   If you think this was a little story, I can on...      0\n",
       "75353   Hi Ged and Elen. I was pointed to the statemen...      0\n",
       "81709   \"\\n\\nDYK\\nOn 28 August, 2007, Did you know? wa...      0\n",
       "141039  Welcome!\\n\\nHello , and welcome to Wikipedia! ...      0\n",
       "145899  \"\\n\\nRead the \"\"Signing\"\" section of the artic...      0\n",
       "143796  list of surgeons \\n Recently, the list of surg...      0"
      ]
     },
     "execution_count": 7,
     "metadata": {},
     "output_type": "execute_result"
    }
   ],
   "source": [
    "# несколько случайно выбранных записей позволяют визуально оценить датасет\n",
    "data.sample(6)"
   ]
  },
  {
   "cell_type": "code",
   "execution_count": 8,
   "metadata": {
    "scrolled": true
   },
   "outputs": [
    {
     "name": "stdout",
     "output_type": "stream",
     "text": [
      "<class 'pandas.core.frame.DataFrame'>\n",
      "RangeIndex: 159571 entries, 0 to 159570\n",
      "Data columns (total 2 columns):\n",
      " #   Column  Non-Null Count   Dtype \n",
      "---  ------  --------------   ----- \n",
      " 0   text    159571 non-null  object\n",
      " 1   toxic   159571 non-null  int64 \n",
      "dtypes: int64(1), object(1)\n",
      "memory usage: 2.4+ MB\n"
     ]
    }
   ],
   "source": [
    "# оценим размеры датасета, тип данных записей\n",
    "data.info()"
   ]
  },
  {
   "cell_type": "code",
   "execution_count": 9,
   "metadata": {},
   "outputs": [
    {
     "data": {
      "text/plain": [
       "0"
      ]
     },
     "execution_count": 9,
     "metadata": {},
     "output_type": "execute_result"
    }
   ],
   "source": [
    "# записи уникальны\n",
    "data.duplicated().sum()"
   ]
  },
  {
   "cell_type": "code",
   "execution_count": 10,
   "metadata": {
    "scrolled": true
   },
   "outputs": [
    {
     "data": {
      "image/png": "[encoded data removed]",
      "text/plain": [
       "<Figure size 432x288 with 1 Axes>"
      ]
     },
     "metadata": {
      "needs_background": "light"
     },
     "output_type": "display_data"
    }
   ],
   "source": [
    "# посмотрим на соотношение значений целевого признака\n",
    "data['toxic'].value_counts(normalize=True).plot(kind='bar', \n",
    "                                                grid=True, \n",
    "                                                title='Доли нейтральных (0) и токсичных (1) комментариев');"
   ]
  },
  {
   "cell_type": "markdown",
   "metadata": {},
   "source": [
    "### Выводы"
   ]
  },
  {
   "cell_type": "markdown",
   "metadata": {},
   "source": [
    "В состав датасета входят почти 160 тыс. записей пользоателей на английском языке. Пропусков и дубликатов нет. Данные для целевого признака ['toxic'] несбалансированны - соотношение 9:1, что следует учесть при разбиении на обучающую и тестовую выборку. На следующем этапе предстоит выполнить векторизацию текста для извлечения признаков."
   ]
  },
  {
   "cell_type": "markdown",
   "metadata": {},
   "source": [
    "## Предобработка"
   ]
  },
  {
   "cell_type": "markdown",
   "metadata": {},
   "source": [
    "Напишем функцию preprocess() которая последовательно:\n",
    "- С помощью регулярных выражений уберет из текста спецсимволы, пробелы и т.д.\n",
    "- Разобьет на токены текст\n",
    "- Выполнит лемматизацию списков слов\n",
    "\n",
    "В свою очередь функция preprocess() использует функцию get_pos(), которая для каждого слова извлекает тэг, указывающий на часть речи, к которой относится рассматриваемое слово. Более тщательное приведение слов к их леммам позволит уменьшить размеры датасета."
   ]
  },
  {
   "cell_type": "code",
   "execution_count": 11,
   "metadata": {},
   "outputs": [],
   "source": [
    "# функция определения части речи для слова\n",
    "## принимает на вход слово\n",
    "def get_pos(word):\n",
    "    # с помощьювстроенного в nltk метода извлекает трехбуквенный тэг части речи\n",
    "    tag = nltk.pos_tag([word])[0][1][0].upper()\n",
    "    # каждому значению сопоставляется тэг в кодировке понятной лемматизатору\n",
    "    tag_dict = {\"J\": wordnet.ADJ,\n",
    "                \"N\": wordnet.NOUN,\n",
    "                \"V\": wordnet.VERB,\n",
    "                \"R\": wordnet.ADV}\n",
    "    return tag_dict.get(tag, wordnet.NOUN)   "
   ]
  },
  {
   "cell_type": "code",
   "execution_count": 12,
   "metadata": {},
   "outputs": [],
   "source": [
    "# функция предобработки текстов вариант 1\n",
    "def preprocess(text):\n",
    "    # из текста каждой записи извлекаются только буквы, указанные в шаблоне, убираются лишние пробелы и др.символы\n",
    "    cleared = ' '.join(re.sub(r'[^A-Za-z ]', ' ', text).lower().split())\n",
    "    # текст каждой записи преобразуется в список слов\n",
    "    tokenized = nltk.word_tokenize(cleared)\n",
    "    # каждое слово лемматизируется\n",
    "    lemmatized = [lemmatizer.lemmatize(x, get_pos(x)) for x in tokenized]\n",
    "    # текст, прошдший обработку занимает место старого текста\n",
    "    text = ' '.join(str(x) for x in lemmatized)\n",
    "    return text"
   ]
  },
  {
   "cell_type": "code",
   "execution_count": 13,
   "metadata": {},
   "outputs": [],
   "source": [
    "# функция предобработки текстов вариант 2\n",
    "def process_text(s):\n",
    "    s = s.lower()\n",
    "    words = [re.sub(r'[^a-zA-Z]', '', word) for word in word_tokenize(s) if word not in stop_words]\n",
    "    words = [lemmatizer.lemmatize(word) for word in words if word != \"\"]\n",
    "    words = [word for word in words if word not in stop_words]\n",
    "    return \" \".join(words)"
   ]
  },
  {
   "cell_type": "markdown",
   "metadata": {},
   "source": [
    "Использование функции подстановки тэга для части речи, совместно с lower() уменьшило размеры матрицы векторного представления текстов более чем на 10%. Однако время обработки (лемматизации) увеличивается на порядок. В условиях реальной (неисследовательской) задачи этот факт может стать причиной для выбора разных стратегий поведения: например, провести максимально качественную предобработку текста затратив ресурсы, но отдать моделям более компактный датасет, что повысит качество предсказаний. Или делать быструю предобработку и ориентироваться пусть на не лучшее, но приемлемое качество предсказания."
   ]
  },
  {
   "cell_type": "code",
   "execution_count": 14,
   "metadata": {},
   "outputs": [
    {
     "name": "stdout",
     "output_type": "stream",
     "text": [
      "CPU times: user 2min 12s, sys: 244 ms, total: 2min 12s\n",
      "Wall time: 2min 12s\n"
     ]
    }
   ],
   "source": [
    "%%time\n",
    "# поместим лемматизированный текст в новый столбец \n",
    "data['lemm_text'] = data['text'].apply(lambda x: process_text(x)).values"
   ]
  },
  {
   "cell_type": "code",
   "execution_count": 15,
   "metadata": {},
   "outputs": [
    {
     "data": {
      "text/plain": [
       "'explanation edits made username hardcore metallica fan reverted nt vandalism closure gas voted new york doll fac please nt remove template talk page since retired'"
      ]
     },
     "execution_count": 15,
     "metadata": {},
     "output_type": "execute_result"
    }
   ],
   "source": [
    "# так выглядит текст после предобработки\n",
    "data['lemm_text'][0]"
   ]
  },
  {
   "cell_type": "code",
   "execution_count": 16,
   "metadata": {},
   "outputs": [
    {
     "data": {
      "text/plain": [
       "\"Explanation\\nWhy the edits made under my username Hardcore Metallica Fan were reverted? They weren't vandalisms, just closure on some GAs after I voted at New York Dolls FAC. And please don't remove the template from the talk page since I'm retired now.89.205.38.27\""
      ]
     },
     "execution_count": 16,
     "metadata": {},
     "output_type": "execute_result"
    }
   ],
   "source": [
    "# этот же текст до предобработки \n",
    "data['text'][0]"
   ]
  },
  {
   "cell_type": "markdown",
   "metadata": {},
   "source": [
    "Слово 'edits' , например, не приведено к единственному числу. Остаток от отрицания nt не был опознан в качестве стоп слова. Список стоп слов можно кастомизировать под более специфичные задачи добавляя свои исключения."
   ]
  },
  {
   "cell_type": "code",
   "execution_count": 17,
   "metadata": {},
   "outputs": [
    {
     "data": {
      "text/plain": [
       "False"
      ]
     },
     "execution_count": 17,
     "metadata": {},
     "output_type": "execute_result"
    }
   ],
   "source": [
    "# проверим есть ли 'nt' в списке стоп слов\n",
    "'nt' in stop_words"
   ]
  },
  {
   "cell_type": "markdown",
   "metadata": {},
   "source": [
    "## Разбиение на обучающую и тестировочную выборки"
   ]
  },
  {
   "cell_type": "markdown",
   "metadata": {},
   "source": [
    "На данном этапе разделим данные на обучающую и тестовую выборки. После чего можно будет переходить к векторизации."
   ]
  },
  {
   "cell_type": "code",
   "execution_count": 18,
   "metadata": {},
   "outputs": [],
   "source": [
    "# целевой и обучающий признаки\n",
    "feature = data['lemm_text']\n",
    "target =data['toxic']"
   ]
  },
  {
   "cell_type": "code",
   "execution_count": 19,
   "metadata": {},
   "outputs": [],
   "source": [
    "# при разбиении на обучающую и тестовую выборки укажем алгоритму, что данные в target несбалансированны\n",
    "feature_train, feature_test, target_train, target_test = train_test_split(feature, target, \n",
    "                                                                          test_size=0.33, \n",
    "                                                                          random_state=42, \n",
    "                                                                          stratify=target)"
   ]
  },
  {
   "cell_type": "code",
   "execution_count": 20,
   "metadata": {},
   "outputs": [
    {
     "data": {
      "image/png": "[encoded data removed]",
      "text/plain": [
       "<Figure size 432x288 with 1 Axes>"
      ]
     },
     "metadata": {
      "needs_background": "light"
     },
     "output_type": "display_data"
    }
   ],
   "source": [
    "# посмотрим сохранилось ли соотношение значений целевого признака после разбиения на обучающую и тестовую выборки\n",
    "target_test.value_counts(normalize=True).plot(kind='bar', \n",
    "                                                grid=True, \n",
    "                                                title='Долевое соотношение нетоксичных (0) и токсичных (1) комментариев после разбиения');"
   ]
  },
  {
   "cell_type": "markdown",
   "metadata": {},
   "source": [
    "## Векторизация"
   ]
  },
  {
   "cell_type": "markdown",
   "metadata": {},
   "source": [
    "Объект count_tf_idf класса TfidfVectorizer со списком стоп слов мы уже создали выше. Посчитаем веса уникальных слов и создадим матрицу их значимости."
   ]
  },
  {
   "cell_type": "code",
   "execution_count": 21,
   "metadata": {},
   "outputs": [],
   "source": [
    "# преобразуем лемматизированные ранее текст в векторное представление\n",
    "tf_idf = count_tf_idf.fit_transform(feature_train) "
   ]
  },
  {
   "cell_type": "code",
   "execution_count": 22,
   "metadata": {},
   "outputs": [
    {
     "data": {
      "text/plain": [
       "(106912, 150600)"
      ]
     },
     "execution_count": 22,
     "metadata": {},
     "output_type": "execute_result"
    }
   ],
   "source": [
    "# размеры матицы векторного представления\n",
    "tf_idf.shape"
   ]
  },
  {
   "cell_type": "code",
   "execution_count": 23,
   "metadata": {},
   "outputs": [
    {
     "data": {
      "text/plain": [
       "(106912,)"
      ]
     },
     "execution_count": 23,
     "metadata": {},
     "output_type": "execute_result"
    }
   ],
   "source": [
    "# убедимся что количество строк созданной матрицы совпадает с количеством строк\n",
    "## соответствующей ей матрицы целевого признака\n",
    "target_train.shape"
   ]
  },
  {
   "cell_type": "code",
   "execution_count": 24,
   "metadata": {},
   "outputs": [],
   "source": [
    "# обучающим признаком будет являться полученная матрица векторов значимости слов\n",
    "feature_train = tf_idf"
   ]
  },
  {
   "cell_type": "code",
   "execution_count": 25,
   "metadata": {},
   "outputs": [],
   "source": [
    "# признаками для тестирования будут вектора, полученные с помощью обученного на \n",
    "## обучающей выборке объекта count_tf_idf\n",
    "### с помощью него преобразуем признаки для тестирования моделей\n",
    "feature_test = count_tf_idf.transform(feature_test)"
   ]
  },
  {
   "cell_type": "markdown",
   "metadata": {},
   "source": [
    "Теперь мы имеем все, чтобы начать обучение моделей"
   ]
  },
  {
   "cell_type": "markdown",
   "metadata": {},
   "source": [
    "## Обучение и тестирование моделей"
   ]
  },
  {
   "cell_type": "markdown",
   "metadata": {},
   "source": [
    "### LogisticRegression"
   ]
  },
  {
   "cell_type": "markdown",
   "metadata": {},
   "source": [
    "С помощью GridSearchCV подберем параметры для логистической регресии. Время выполнения - 42 мин. Результат: {'C': 10, 'penalty': 'l2', 'solver': 'lbfgs'}"
   ]
  },
  {
   "cell_type": "code",
   "execution_count": 26,
   "metadata": {},
   "outputs": [],
   "source": [
    "# сообщим модели, что классы несбалансированны и увеличим количество итераций до 500\n",
    "model = LogisticRegression(class_weight='balanced', max_iter=500)"
   ]
  },
  {
   "cell_type": "code",
   "execution_count": 27,
   "metadata": {},
   "outputs": [],
   "source": [
    "# создадим словарь гиперпараметров для перебора\n",
    "solvers = ['newton-cg', 'lbfgs', 'liblinear']\n",
    "penalty = ['l2']\n",
    "c_values = [100, 10, 1.0, 0.1, 0.01]\n",
    "grid = dict(solver=solvers,penalty=penalty,C=c_values)"
   ]
  },
  {
   "cell_type": "code",
   "execution_count": 28,
   "metadata": {},
   "outputs": [],
   "source": [
    "# передадим словарь гиперпараметров конструктору\n",
    "grid_search = GridSearchCV(estimator=model, param_grid=grid, n_jobs=-1, scoring='f1',error_score=0)"
   ]
  },
  {
   "cell_type": "code",
   "execution_count": 29,
   "metadata": {
    "scrolled": true
   },
   "outputs": [],
   "source": [
    "%%time\n",
    "# полученные параметры поместим в переменную params\n",
    "grid_result = grid_search.fit(feature_train, target_train)\n",
    "params = grid_result.best_params_"
   ]
  },
  {
   "cell_type": "code",
   "execution_count": 30,
   "metadata": {},
   "outputs": [],
   "source": [
    "# полученные параметры для логистической регрессии\n",
    "params = {'C': 10, 'penalty': 'l2', 'solver': 'lbfgs'}"
   ]
  },
  {
   "cell_type": "code",
   "execution_count": 31,
   "metadata": {},
   "outputs": [],
   "source": [
    "# инициируем модель логистической регрессии с оптимальными параметрами\n",
    "clf = LogisticRegression(class_weight='balanced', max_iter=500, **params, random_state=234)"
   ]
  },
  {
   "cell_type": "code",
   "execution_count": 32,
   "metadata": {
    "scrolled": true
   },
   "outputs": [
    {
     "name": "stdout",
     "output_type": "stream",
     "text": [
      "CPU times: user 57.7 s, sys: 1min 11s, total: 2min 9s\n",
      "Wall time: 2min 9s\n"
     ]
    },
    {
     "data": {
      "text/plain": [
       "LogisticRegression(C=10, class_weight='balanced', max_iter=500,\n",
       "                   random_state=234)"
      ]
     },
     "execution_count": 32,
     "metadata": {},
     "output_type": "execute_result"
    }
   ],
   "source": [
    "%%time\n",
    "# обучение логистической регресии\n",
    "clf.fit(feature_train, target_train)"
   ]
  },
  {
   "cell_type": "code",
   "execution_count": 33,
   "metadata": {},
   "outputs": [],
   "source": [
    "# предсказания логистической регресии\n",
    "predict = clf.predict(feature_test)"
   ]
  },
  {
   "cell_type": "code",
   "execution_count": 34,
   "metadata": {},
   "outputs": [
    {
     "data": {
      "text/plain": [
       "0.7615237432596973"
      ]
     },
     "execution_count": 34,
     "metadata": {},
     "output_type": "execute_result"
    }
   ],
   "source": [
    "# оценка качества предсказаний логистической регрессии метрика F1\n",
    "f1_lr = f1_score(target_test, predict)\n",
    "f1_lr"
   ]
  },
  {
   "cell_type": "markdown",
   "metadata": {},
   "source": [
    "### DecisionTreeClassifier"
   ]
  },
  {
   "cell_type": "markdown",
   "metadata": {},
   "source": [
    "По аналогичной схеме подберем параметры для дерева решений. Время выполнения 40 мин. Найденные параметры: {'criterion': 'gini', 'max_depth': 20, 'min_samples_leaf': 5}"
   ]
  },
  {
   "cell_type": "code",
   "execution_count": 35,
   "metadata": {},
   "outputs": [],
   "source": [
    "# создадим словарь гиперпараметров\n",
    "params_dt = {\n",
    "    'max_depth': [2, 3, 5, 10, 20],\n",
    "    'min_samples_leaf': [5, 10, 20, 50, 100],\n",
    "    'criterion': [\"gini\", \"entropy\"]\n",
    "}"
   ]
  },
  {
   "cell_type": "code",
   "execution_count": 36,
   "metadata": {},
   "outputs": [],
   "source": [
    "# сообщим создаваемой модели о несбалансированности классов\n",
    "dt = DecisionTreeClassifier(class_weight='balanced', random_state=888)"
   ]
  },
  {
   "cell_type": "code",
   "execution_count": 37,
   "metadata": {},
   "outputs": [],
   "source": [
    "# передадим конструктору список параметров для оценки\n",
    "grid_search = GridSearchCV(estimator=dt, \n",
    "                           param_grid=params_dt, \n",
    "                           cv=4, n_jobs=-1, verbose=1, scoring = \"f1\")"
   ]
  },
  {
   "cell_type": "code",
   "execution_count": 38,
   "metadata": {},
   "outputs": [],
   "source": [
    "%%time\n",
    "# приступим к поиску оптимальных настроек модели перебирая различные варианты на наших данных\n",
    "grid_result_dt = grid_search.fit(feature_train, target_train)"
   ]
  },
  {
   "cell_type": "code",
   "execution_count": 39,
   "metadata": {},
   "outputs": [],
   "source": [
    "# найдены оптимальные параметры\n",
    "best_params = grid_result_dt.best_params_"
   ]
  },
  {
   "cell_type": "code",
   "execution_count": 40,
   "metadata": {},
   "outputs": [],
   "source": [
    "# поместим найденные параметры в переменнную best_params явно, чтобы не запускать процесс их подбора\n",
    "best_params = {'criterion': 'gini', 'max_depth': 20, 'min_samples_leaf': 5}"
   ]
  },
  {
   "cell_type": "code",
   "execution_count": 41,
   "metadata": {},
   "outputs": [],
   "source": [
    "# инициализируем модель с оптимальными настройками\n",
    "dt = DecisionTreeClassifier(class_weight='balanced', **best_params, random_state=888)"
   ]
  },
  {
   "cell_type": "code",
   "execution_count": 42,
   "metadata": {},
   "outputs": [
    {
     "name": "stdout",
     "output_type": "stream",
     "text": [
      "CPU times: user 13.2 s, sys: 19 ms, total: 13.3 s\n",
      "Wall time: 13.3 s\n"
     ]
    },
    {
     "data": {
      "text/plain": [
       "DecisionTreeClassifier(class_weight='balanced', max_depth=20,\n",
       "                       min_samples_leaf=5, random_state=888)"
      ]
     },
     "execution_count": 42,
     "metadata": {},
     "output_type": "execute_result"
    }
   ],
   "source": [
    "%%time\n",
    "# обучим\n",
    "dt.fit(feature_train, target_train)"
   ]
  },
  {
   "cell_type": "code",
   "execution_count": 43,
   "metadata": {},
   "outputs": [],
   "source": [
    "# получим предсказания на тестовой выборке\n",
    "predict_dt = dt.predict(feature_test)"
   ]
  },
  {
   "cell_type": "code",
   "execution_count": 44,
   "metadata": {},
   "outputs": [
    {
     "data": {
      "text/plain": [
       "0.6013464526152252"
      ]
     },
     "execution_count": 44,
     "metadata": {},
     "output_type": "execute_result"
    }
   ],
   "source": [
    "# подсчитаем метрику F1\n",
    "f1_dt = f1_score(target_test, predict_dt)\n",
    "f1_dt"
   ]
  },
  {
   "cell_type": "markdown",
   "metadata": {},
   "source": [
    "### CatBoostClassifier"
   ]
  },
  {
   "cell_type": "markdown",
   "metadata": {},
   "source": [
    "Передадим модели минимальный набор настроек, потому что CatBoost показывает хорошие результаты \"из коробки\". Сообщим только как распределить веса нулей и единиц в целевом признаке. Модель обучается 33 минуты. F1 = 0.75"
   ]
  },
  {
   "cell_type": "code",
   "execution_count": 45,
   "metadata": {},
   "outputs": [],
   "source": [
    "# инициализируем классификатор CatBoost \n",
    "model = CatBoostClassifier(class_weights=[0.1, 0.9], random_state=42)"
   ]
  },
  {
   "cell_type": "code",
   "execution_count": 46,
   "metadata": {
    "scrolled": true
   },
   "outputs": [],
   "source": [
    "%%time\n",
    "# обучим модель\n",
    "model.fit(feature_train, target_train)"
   ]
  },
  {
   "cell_type": "code",
   "execution_count": 47,
   "metadata": {},
   "outputs": [],
   "source": [
    "# получим предскзания CatBoost\n",
    "predict_cb = model.predict(feature_test)"
   ]
  },
  {
   "cell_type": "code",
   "execution_count": 48,
   "metadata": {},
   "outputs": [],
   "source": [
    "# метрика f1 для СatBoost\n",
    "f1_cb = f1_score(target_test, predict_cb)\n",
    "f1_cb"
   ]
  },
  {
   "cell_type": "markdown",
   "metadata": {},
   "source": [
    "## Выводы"
   ]
  },
  {
   "cell_type": "markdown",
   "metadata": {},
   "source": [
    "Модель логистической регрессии без оптимизации гиперпараметров выдавала результат 0,74. На этот результат невозможно было повлиять качеством предобработки. После оптимизации модели значение метрики F1 составило 0,76.\n",
    "Для DecisionTreeClassifier максимальное значение метрики F1 составило 0,6.\n",
    "CatBoostClassifier с настройками по умолчанию показал требуемое значение метрики.\n",
    "Просто наблюдения по ходу проекта:\n",
    "- Вроде бы качество предобработки должно влиять на качество работы модели. Но, после проставленных тегов частей речи в лемматизаторе обработка затянулась почти на 20 мин, вместо 2 мин. Вектор стал короче на 10%, а метрика осталась неизменной.\n",
    "- На метрику влияют пропорции выборок test и train. Выглядит странным, что при разбиении 1:9, метрика ухудшается по сравнению с разбиением 0.33:0.66. Ведь мы отдаем больше слов на обучение.\n",
    "- Даже с автоматическим подбором параметров, метрика едва преодолела требуемое значение. Значит ли это, что 0.75 является нормой для таких исследований. Интересно было бы узнать каковы сейчас отраслевые стандарты распознавания текста и что еще может быть источником повышения качества распознавания."
   ]
  }
 ],
 "metadata": {
  "ExecuteTimeLog": [
   {
    "duration": 407,
    "start_time": "2022-07-20T11:01:46.159Z"
   },
   {
    "duration": 2297,
    "start_time": "2022-07-20T11:02:37.602Z"
   },
   {
    "duration": 17,
    "start_time": "2022-07-20T11:02:49.972Z"
   },
   {
    "duration": 30,
    "start_time": "2022-07-20T11:27:05.802Z"
   },
   {
    "duration": 8,
    "start_time": "2022-07-20T11:30:29.157Z"
   },
   {
    "duration": 491,
    "start_time": "2022-07-20T11:30:42.218Z"
   },
   {
    "duration": 126,
    "start_time": "2022-07-20T11:31:15.471Z"
   },
   {
    "duration": 89,
    "start_time": "2022-07-20T11:32:43.706Z"
   },
   {
    "duration": 89,
    "start_time": "2022-07-20T11:33:08.480Z"
   },
   {
    "duration": 89,
    "start_time": "2022-07-20T11:40:25.806Z"
   },
   {
    "duration": 5,
    "start_time": "2022-07-20T11:43:54.591Z"
   },
   {
    "duration": 693,
    "start_time": "2022-07-20T11:43:54.597Z"
   },
   {
    "duration": 36,
    "start_time": "2022-07-20T11:43:55.292Z"
   },
   {
    "duration": 117,
    "start_time": "2022-07-20T11:43:55.331Z"
   },
   {
    "duration": 2,
    "start_time": "2022-07-20T11:43:55.450Z"
   },
   {
    "duration": 92,
    "start_time": "2022-07-20T11:43:55.454Z"
   },
   {
    "duration": 1786,
    "start_time": "2022-07-20T11:45:06.069Z"
   },
   {
    "duration": 2,
    "start_time": "2022-07-20T11:45:09.876Z"
   },
   {
    "duration": 11,
    "start_time": "2022-07-20T11:45:10.573Z"
   },
   {
    "duration": 2,
    "start_time": "2022-07-20T11:45:20.349Z"
   },
   {
    "duration": 730,
    "start_time": "2022-07-20T11:45:20.353Z"
   },
   {
    "duration": 26,
    "start_time": "2022-07-20T11:45:21.085Z"
   },
   {
    "duration": 132,
    "start_time": "2022-07-20T11:45:21.116Z"
   },
   {
    "duration": 398,
    "start_time": "2022-07-20T11:45:45.922Z"
   },
   {
    "duration": 2375,
    "start_time": "2022-07-20T11:45:46.322Z"
   },
   {
    "duration": 31,
    "start_time": "2022-07-20T11:45:48.699Z"
   },
   {
    "duration": 337,
    "start_time": "2022-07-20T11:45:48.732Z"
   },
   {
    "duration": 1814,
    "start_time": "2022-07-20T11:45:49.070Z"
   },
   {
    "duration": 26,
    "start_time": "2022-07-20T11:45:50.886Z"
   },
   {
    "duration": 74,
    "start_time": "2022-07-20T11:45:50.914Z"
   },
   {
    "duration": 747,
    "start_time": "2022-07-20T11:51:33.370Z"
   },
   {
    "duration": 5,
    "start_time": "2022-07-20T11:52:54.895Z"
   },
   {
    "duration": 15,
    "start_time": "2022-07-20T11:54:06.006Z"
   },
   {
    "duration": 10,
    "start_time": "2022-07-20T11:54:14.160Z"
   },
   {
    "duration": 51,
    "start_time": "2022-07-20T17:23:35.238Z"
   },
   {
    "duration": 404,
    "start_time": "2022-07-20T17:23:42.651Z"
   },
   {
    "duration": 2263,
    "start_time": "2022-07-20T17:23:43.057Z"
   },
   {
    "duration": 16,
    "start_time": "2022-07-20T17:23:45.322Z"
   },
   {
    "duration": 34,
    "start_time": "2022-07-20T17:23:45.340Z"
   },
   {
    "duration": 529,
    "start_time": "2022-07-20T17:23:45.375Z"
   },
   {
    "duration": 1855,
    "start_time": "2022-07-20T17:23:45.906Z"
   },
   {
    "duration": 12,
    "start_time": "2022-07-20T17:23:47.763Z"
   },
   {
    "duration": 733,
    "start_time": "2022-07-20T17:23:47.777Z"
   },
   {
    "duration": 146,
    "start_time": "2022-07-20T17:25:38.874Z"
   },
   {
    "duration": 99,
    "start_time": "2022-07-20T17:27:30.921Z"
   },
   {
    "duration": 8,
    "start_time": "2022-07-20T17:28:04.650Z"
   },
   {
    "duration": 6,
    "start_time": "2022-07-20T17:28:17.280Z"
   },
   {
    "duration": 7,
    "start_time": "2022-07-20T17:28:36.260Z"
   },
   {
    "duration": 6,
    "start_time": "2022-07-20T17:28:47.305Z"
   },
   {
    "duration": 7,
    "start_time": "2022-07-20T17:29:46.038Z"
   },
   {
    "duration": 42,
    "start_time": "2022-07-20T17:30:03.252Z"
   },
   {
    "duration": 6,
    "start_time": "2022-07-20T17:30:20.474Z"
   },
   {
    "duration": 7,
    "start_time": "2022-07-20T17:30:56.704Z"
   },
   {
    "duration": 7,
    "start_time": "2022-07-20T17:31:03.609Z"
   },
   {
    "duration": 6,
    "start_time": "2022-07-20T17:31:14.983Z"
   },
   {
    "duration": 7,
    "start_time": "2022-07-20T17:31:30.971Z"
   },
   {
    "duration": 8,
    "start_time": "2022-07-20T17:31:47.039Z"
   },
   {
    "duration": 822,
    "start_time": "2022-07-20T17:31:56.652Z"
   },
   {
    "duration": 76,
    "start_time": "2022-07-20T17:32:12.306Z"
   },
   {
    "duration": 7,
    "start_time": "2022-07-20T17:32:28.960Z"
   },
   {
    "duration": 7,
    "start_time": "2022-07-20T17:32:46.714Z"
   },
   {
    "duration": 6,
    "start_time": "2022-07-20T17:32:54.883Z"
   },
   {
    "duration": 7,
    "start_time": "2022-07-20T17:33:00.430Z"
   },
   {
    "duration": 6,
    "start_time": "2022-07-20T17:33:08.271Z"
   },
   {
    "duration": 3,
    "start_time": "2022-07-20T17:34:29.934Z"
   },
   {
    "duration": 162,
    "start_time": "2022-07-20T17:35:26.857Z"
   },
   {
    "duration": 14,
    "start_time": "2022-07-20T17:36:00.396Z"
   },
   {
    "duration": 6,
    "start_time": "2022-07-20T17:36:22.717Z"
   },
   {
    "duration": 6,
    "start_time": "2022-07-20T17:36:28.247Z"
   },
   {
    "duration": 178,
    "start_time": "2022-07-20T17:46:45.838Z"
   },
   {
    "duration": 106,
    "start_time": "2022-07-20T17:48:16.581Z"
   },
   {
    "duration": 113,
    "start_time": "2022-07-20T17:48:46.808Z"
   },
   {
    "duration": 100,
    "start_time": "2022-07-20T17:49:10.557Z"
   },
   {
    "duration": 120,
    "start_time": "2022-07-20T17:49:51.964Z"
   },
   {
    "duration": 46,
    "start_time": "2022-07-20T17:52:58.457Z"
   },
   {
    "duration": 637,
    "start_time": "2022-07-20T17:53:07.795Z"
   },
   {
    "duration": 2375,
    "start_time": "2022-07-20T17:53:08.433Z"
   },
   {
    "duration": 20,
    "start_time": "2022-07-20T17:53:10.809Z"
   },
   {
    "duration": 41,
    "start_time": "2022-07-20T17:53:10.834Z"
   },
   {
    "duration": 3,
    "start_time": "2022-07-20T17:53:10.877Z"
   },
   {
    "duration": 19,
    "start_time": "2022-07-20T17:53:10.881Z"
   },
   {
    "duration": 137,
    "start_time": "2022-07-20T17:53:10.902Z"
   },
   {
    "duration": 1954,
    "start_time": "2022-07-20T17:53:11.046Z"
   },
   {
    "duration": 0,
    "start_time": "2022-07-20T17:53:13.002Z"
   },
   {
    "duration": 0,
    "start_time": "2022-07-20T17:53:13.004Z"
   },
   {
    "duration": 0,
    "start_time": "2022-07-20T17:53:13.005Z"
   },
   {
    "duration": 152,
    "start_time": "2022-07-20T17:54:13.023Z"
   },
   {
    "duration": 5,
    "start_time": "2022-07-20T17:54:15.797Z"
   },
   {
    "duration": 13,
    "start_time": "2022-07-20T17:54:55.071Z"
   },
   {
    "duration": 13,
    "start_time": "2022-07-20T17:55:05.385Z"
   },
   {
    "duration": 90,
    "start_time": "2022-07-20T17:55:24.603Z"
   },
   {
    "duration": 11,
    "start_time": "2022-07-20T17:56:00.292Z"
   },
   {
    "duration": 10,
    "start_time": "2022-07-20T17:56:08.666Z"
   },
   {
    "duration": 19,
    "start_time": "2022-07-20T17:57:38.589Z"
   },
   {
    "duration": 4,
    "start_time": "2022-07-20T17:57:59.295Z"
   },
   {
    "duration": 4,
    "start_time": "2022-07-20T17:58:02.818Z"
   },
   {
    "duration": 4,
    "start_time": "2022-07-20T17:58:03.877Z"
   },
   {
    "duration": 3,
    "start_time": "2022-07-20T17:58:07.103Z"
   },
   {
    "duration": 721,
    "start_time": "2022-07-20T17:58:07.108Z"
   },
   {
    "duration": 15,
    "start_time": "2022-07-20T17:58:07.831Z"
   },
   {
    "duration": 48,
    "start_time": "2022-07-20T17:58:07.848Z"
   },
   {
    "duration": 3,
    "start_time": "2022-07-20T17:58:07.898Z"
   },
   {
    "duration": 8,
    "start_time": "2022-07-20T17:58:07.902Z"
   },
   {
    "duration": 114,
    "start_time": "2022-07-20T17:58:07.912Z"
   },
   {
    "duration": 25,
    "start_time": "2022-07-20T17:58:08.027Z"
   },
   {
    "duration": 13,
    "start_time": "2022-07-20T17:58:08.055Z"
   },
   {
    "duration": 5,
    "start_time": "2022-07-20T17:58:08.070Z"
   },
   {
    "duration": 680,
    "start_time": "2022-07-20T17:58:08.077Z"
   },
   {
    "duration": 9,
    "start_time": "2022-07-20T17:58:25.773Z"
   },
   {
    "duration": 8,
    "start_time": "2022-07-20T18:01:50.450Z"
   },
   {
    "duration": 4,
    "start_time": "2022-07-20T18:02:29.768Z"
   },
   {
    "duration": 5,
    "start_time": "2022-07-20T18:02:35.115Z"
   },
   {
    "duration": 7,
    "start_time": "2022-07-20T18:02:56.856Z"
   },
   {
    "duration": 139,
    "start_time": "2022-07-20T18:03:05.498Z"
   },
   {
    "duration": 95,
    "start_time": "2022-07-20T18:03:28.081Z"
   },
   {
    "duration": 170,
    "start_time": "2022-07-20T18:05:03.767Z"
   },
   {
    "duration": 108,
    "start_time": "2022-07-20T18:05:09.139Z"
   },
   {
    "duration": 98,
    "start_time": "2022-07-20T18:05:27.783Z"
   },
   {
    "duration": 850,
    "start_time": "2022-07-20T18:08:27.670Z"
   },
   {
    "duration": 221,
    "start_time": "2022-07-20T18:08:50.521Z"
   },
   {
    "duration": 56,
    "start_time": "2022-07-20T18:11:06.988Z"
   },
   {
    "duration": 2,
    "start_time": "2022-07-20T18:11:12.767Z"
   },
   {
    "duration": 4,
    "start_time": "2022-07-20T18:11:19.363Z"
   },
   {
    "duration": 1375,
    "start_time": "2022-07-20T18:14:44.038Z"
   },
   {
    "duration": 4,
    "start_time": "2022-07-20T18:15:13.772Z"
   },
   {
    "duration": 3,
    "start_time": "2022-07-20T18:15:31.120Z"
   },
   {
    "duration": 24,
    "start_time": "2022-07-20T18:15:31.125Z"
   },
   {
    "duration": 860,
    "start_time": "2022-07-20T18:15:31.150Z"
   },
   {
    "duration": 10,
    "start_time": "2022-07-20T18:15:32.012Z"
   },
   {
    "duration": 40,
    "start_time": "2022-07-20T18:15:32.024Z"
   },
   {
    "duration": 119,
    "start_time": "2022-07-20T18:15:32.066Z"
   },
   {
    "duration": 21,
    "start_time": "2022-07-20T18:15:32.187Z"
   },
   {
    "duration": 12,
    "start_time": "2022-07-20T18:15:32.209Z"
   },
   {
    "duration": 6,
    "start_time": "2022-07-20T18:15:32.223Z"
   },
   {
    "duration": 4,
    "start_time": "2022-07-20T18:16:30.382Z"
   },
   {
    "duration": 4,
    "start_time": "2022-07-20T18:16:43.829Z"
   },
   {
    "duration": 4,
    "start_time": "2022-07-20T18:16:58.091Z"
   },
   {
    "duration": 4,
    "start_time": "2022-07-20T18:17:18.741Z"
   },
   {
    "duration": 4,
    "start_time": "2022-07-20T18:17:43.771Z"
   },
   {
    "duration": 3,
    "start_time": "2022-07-20T18:19:45.812Z"
   },
   {
    "duration": 9,
    "start_time": "2022-07-20T18:20:14.317Z"
   },
   {
    "duration": 13,
    "start_time": "2022-07-20T18:20:23.881Z"
   },
   {
    "duration": 4,
    "start_time": "2022-07-20T18:20:25.520Z"
   },
   {
    "duration": 10,
    "start_time": "2022-07-20T18:20:30.565Z"
   },
   {
    "duration": 2,
    "start_time": "2022-07-20T18:38:23.536Z"
   },
   {
    "duration": 4,
    "start_time": "2022-07-20T18:38:33.809Z"
   },
   {
    "duration": 10,
    "start_time": "2022-07-20T18:40:06.243Z"
   },
   {
    "duration": 21,
    "start_time": "2022-07-20T18:40:28.901Z"
   },
   {
    "duration": 5,
    "start_time": "2022-07-20T18:40:51.922Z"
   },
   {
    "duration": 3,
    "start_time": "2022-07-20T18:42:50.963Z"
   },
   {
    "duration": 4,
    "start_time": "2022-07-20T18:43:04.883Z"
   },
   {
    "duration": 4,
    "start_time": "2022-07-20T18:49:01.238Z"
   },
   {
    "duration": 5,
    "start_time": "2022-07-20T18:49:12.749Z"
   },
   {
    "duration": 3,
    "start_time": "2022-07-20T18:50:42.879Z"
   },
   {
    "duration": 4,
    "start_time": "2022-07-20T18:50:48.398Z"
   },
   {
    "duration": 5,
    "start_time": "2022-07-20T18:50:57.346Z"
   },
   {
    "duration": 4,
    "start_time": "2022-07-20T18:51:10.063Z"
   },
   {
    "duration": 3,
    "start_time": "2022-07-20T18:51:15.746Z"
   },
   {
    "duration": 5,
    "start_time": "2022-07-20T18:51:16.384Z"
   },
   {
    "duration": 4,
    "start_time": "2022-07-20T19:09:07.511Z"
   },
   {
    "duration": 5,
    "start_time": "2022-07-20T19:09:10.546Z"
   },
   {
    "duration": 3,
    "start_time": "2022-07-20T19:09:31.451Z"
   },
   {
    "duration": 3,
    "start_time": "2022-07-20T19:09:32.310Z"
   },
   {
    "duration": 5,
    "start_time": "2022-07-20T19:09:54.780Z"
   },
   {
    "duration": 3,
    "start_time": "2022-07-20T19:28:02.864Z"
   },
   {
    "duration": 5,
    "start_time": "2022-07-20T19:32:21.063Z"
   },
   {
    "duration": 342,
    "start_time": "2022-07-20T19:54:09.256Z"
   },
   {
    "duration": 11,
    "start_time": "2022-07-20T19:54:53.610Z"
   },
   {
    "duration": 3,
    "start_time": "2022-07-20T19:55:50.397Z"
   },
   {
    "duration": 12,
    "start_time": "2022-07-20T19:55:50.402Z"
   },
   {
    "duration": 14,
    "start_time": "2022-07-20T19:55:50.416Z"
   },
   {
    "duration": 0,
    "start_time": "2022-07-20T19:55:50.432Z"
   },
   {
    "duration": 0,
    "start_time": "2022-07-20T19:55:50.433Z"
   },
   {
    "duration": 0,
    "start_time": "2022-07-20T19:55:50.434Z"
   },
   {
    "duration": 0,
    "start_time": "2022-07-20T19:55:50.435Z"
   },
   {
    "duration": 0,
    "start_time": "2022-07-20T19:55:50.436Z"
   },
   {
    "duration": 0,
    "start_time": "2022-07-20T19:55:50.437Z"
   },
   {
    "duration": 0,
    "start_time": "2022-07-20T19:55:50.438Z"
   },
   {
    "duration": 0,
    "start_time": "2022-07-20T19:55:50.440Z"
   },
   {
    "duration": 0,
    "start_time": "2022-07-20T19:55:50.440Z"
   },
   {
    "duration": 5,
    "start_time": "2022-07-20T19:55:50.443Z"
   },
   {
    "duration": 18,
    "start_time": "2022-07-20T19:55:50.450Z"
   },
   {
    "duration": 10,
    "start_time": "2022-07-20T19:55:50.470Z"
   },
   {
    "duration": 13,
    "start_time": "2022-07-20T19:55:50.481Z"
   },
   {
    "duration": 3,
    "start_time": "2022-07-20T19:57:42.521Z"
   },
   {
    "duration": 3,
    "start_time": "2022-07-20T19:57:56.135Z"
   },
   {
    "duration": 7,
    "start_time": "2022-07-20T19:57:56.140Z"
   },
   {
    "duration": 9,
    "start_time": "2022-07-20T19:57:56.149Z"
   },
   {
    "duration": 742,
    "start_time": "2022-07-20T19:57:56.159Z"
   },
   {
    "duration": 10,
    "start_time": "2022-07-20T19:57:56.903Z"
   },
   {
    "duration": 39,
    "start_time": "2022-07-20T19:57:56.914Z"
   },
   {
    "duration": 99,
    "start_time": "2022-07-20T19:57:56.955Z"
   },
   {
    "duration": 19,
    "start_time": "2022-07-20T19:57:57.056Z"
   },
   {
    "duration": 16,
    "start_time": "2022-07-20T19:57:57.077Z"
   },
   {
    "duration": 8,
    "start_time": "2022-07-20T19:57:57.095Z"
   },
   {
    "duration": 5,
    "start_time": "2022-07-20T19:57:57.106Z"
   },
   {
    "duration": 9,
    "start_time": "2022-07-20T19:57:57.113Z"
   },
   {
    "duration": 10,
    "start_time": "2022-07-20T19:57:57.123Z"
   },
   {
    "duration": 14,
    "start_time": "2022-07-20T19:57:57.134Z"
   },
   {
    "duration": 6,
    "start_time": "2022-07-20T19:57:57.150Z"
   },
   {
    "duration": 14,
    "start_time": "2022-07-20T19:57:57.158Z"
   },
   {
    "duration": 4,
    "start_time": "2022-07-20T19:59:07.475Z"
   },
   {
    "duration": 1224,
    "start_time": "2022-07-21T09:59:14.437Z"
   },
   {
    "duration": 576,
    "start_time": "2022-07-21T09:59:15.663Z"
   },
   {
    "duration": 4,
    "start_time": "2022-07-21T09:59:16.240Z"
   },
   {
    "duration": 3499,
    "start_time": "2022-07-21T09:59:16.246Z"
   },
   {
    "duration": 12,
    "start_time": "2022-07-21T09:59:19.746Z"
   },
   {
    "duration": 32,
    "start_time": "2022-07-21T09:59:19.760Z"
   },
   {
    "duration": 471,
    "start_time": "2022-07-21T09:59:19.793Z"
   },
   {
    "duration": 47,
    "start_time": "2022-07-21T09:59:20.265Z"
   },
   {
    "duration": 8,
    "start_time": "2022-07-21T09:59:20.317Z"
   },
   {
    "duration": 1258,
    "start_time": "2022-07-21T09:59:20.327Z"
   },
   {
    "duration": 3,
    "start_time": "2022-07-21T09:59:21.587Z"
   },
   {
    "duration": 13,
    "start_time": "2022-07-21T09:59:21.602Z"
   },
   {
    "duration": 11,
    "start_time": "2022-07-21T09:59:21.616Z"
   },
   {
    "duration": 5,
    "start_time": "2022-07-21T09:59:21.628Z"
   },
   {
    "duration": 6,
    "start_time": "2022-07-21T09:59:21.635Z"
   },
   {
    "duration": 4,
    "start_time": "2022-07-21T09:59:21.643Z"
   },
   {
    "duration": 6,
    "start_time": "2022-07-21T10:37:43.923Z"
   },
   {
    "duration": 33,
    "start_time": "2022-07-21T10:37:43.930Z"
   },
   {
    "duration": 4,
    "start_time": "2022-07-21T10:37:43.965Z"
   },
   {
    "duration": 738,
    "start_time": "2022-07-21T10:37:43.970Z"
   },
   {
    "duration": 12,
    "start_time": "2022-07-21T10:37:44.711Z"
   },
   {
    "duration": 93,
    "start_time": "2022-07-21T10:37:44.725Z"
   },
   {
    "duration": 151,
    "start_time": "2022-07-21T10:37:44.820Z"
   },
   {
    "duration": 19,
    "start_time": "2022-07-21T10:37:44.973Z"
   },
   {
    "duration": 33,
    "start_time": "2022-07-21T10:37:44.994Z"
   },
   {
    "duration": 43,
    "start_time": "2022-07-21T10:37:45.032Z"
   },
   {
    "duration": 18,
    "start_time": "2022-07-21T10:37:45.078Z"
   },
   {
    "duration": 67,
    "start_time": "2022-07-21T10:37:45.111Z"
   },
   {
    "duration": 8,
    "start_time": "2022-07-21T10:37:45.184Z"
   },
   {
    "duration": 54,
    "start_time": "2022-07-21T10:37:45.194Z"
   },
   {
    "duration": 27,
    "start_time": "2022-07-21T10:37:45.250Z"
   },
   {
    "duration": 9,
    "start_time": "2022-07-21T10:37:45.280Z"
   },
   {
    "duration": 12,
    "start_time": "2022-07-21T10:38:22.109Z"
   },
   {
    "duration": 5,
    "start_time": "2022-07-21T10:38:35.176Z"
   },
   {
    "duration": 8,
    "start_time": "2022-07-21T10:38:49.299Z"
   },
   {
    "duration": 11,
    "start_time": "2022-07-21T10:38:58.938Z"
   },
   {
    "duration": 3,
    "start_time": "2022-07-21T10:40:09.877Z"
   },
   {
    "duration": 55,
    "start_time": "2022-07-21T10:40:09.882Z"
   },
   {
    "duration": 22,
    "start_time": "2022-07-21T10:40:09.938Z"
   },
   {
    "duration": 842,
    "start_time": "2022-07-21T10:40:09.961Z"
   },
   {
    "duration": 21,
    "start_time": "2022-07-21T10:40:10.819Z"
   },
   {
    "duration": 65,
    "start_time": "2022-07-21T10:40:10.843Z"
   },
   {
    "duration": 163,
    "start_time": "2022-07-21T10:40:10.910Z"
   },
   {
    "duration": 19,
    "start_time": "2022-07-21T10:40:11.074Z"
   },
   {
    "duration": 52,
    "start_time": "2022-07-21T10:40:11.101Z"
   },
   {
    "duration": 10,
    "start_time": "2022-07-21T10:40:11.155Z"
   },
   {
    "duration": 27,
    "start_time": "2022-07-21T10:40:11.168Z"
   },
   {
    "duration": 65,
    "start_time": "2022-07-21T10:40:11.196Z"
   },
   {
    "duration": 19,
    "start_time": "2022-07-21T10:40:11.263Z"
   },
   {
    "duration": 23,
    "start_time": "2022-07-21T10:40:11.283Z"
   },
   {
    "duration": 52,
    "start_time": "2022-07-21T10:40:11.308Z"
   },
   {
    "duration": 18,
    "start_time": "2022-07-21T10:40:11.362Z"
   },
   {
    "duration": 6,
    "start_time": "2022-07-21T10:41:26.697Z"
   },
   {
    "duration": 3,
    "start_time": "2022-07-21T10:41:39.559Z"
   },
   {
    "duration": 9,
    "start_time": "2022-07-21T10:42:11.398Z"
   },
   {
    "duration": 3,
    "start_time": "2022-07-21T10:42:13.076Z"
   },
   {
    "duration": 5,
    "start_time": "2022-07-21T10:42:13.556Z"
   },
   {
    "duration": 4,
    "start_time": "2022-07-21T10:42:14.559Z"
   },
   {
    "duration": 4,
    "start_time": "2022-07-21T10:42:15.140Z"
   },
   {
    "duration": 6,
    "start_time": "2022-07-21T10:42:16.355Z"
   },
   {
    "duration": 18,
    "start_time": "2022-07-21T10:42:17.401Z"
   },
   {
    "duration": 4,
    "start_time": "2022-07-21T10:42:19.493Z"
   },
   {
    "duration": 4,
    "start_time": "2022-07-21T10:47:01.355Z"
   },
   {
    "duration": 4,
    "start_time": "2022-07-21T10:47:08.269Z"
   },
   {
    "duration": 5,
    "start_time": "2022-07-21T10:54:06.372Z"
   },
   {
    "duration": 5,
    "start_time": "2022-07-21T10:54:20.842Z"
   },
   {
    "duration": 4,
    "start_time": "2022-07-21T10:55:02.959Z"
   },
   {
    "duration": 9,
    "start_time": "2022-07-21T10:56:02.325Z"
   },
   {
    "duration": 5,
    "start_time": "2022-07-21T10:56:17.826Z"
   },
   {
    "duration": 3,
    "start_time": "2022-07-21T10:57:06.562Z"
   },
   {
    "duration": 4,
    "start_time": "2022-07-21T10:58:06.746Z"
   },
   {
    "duration": 4,
    "start_time": "2022-07-21T10:58:18.170Z"
   },
   {
    "duration": 3,
    "start_time": "2022-07-21T11:00:44.475Z"
   },
   {
    "duration": 3,
    "start_time": "2022-07-21T11:02:18.077Z"
   },
   {
    "duration": 4,
    "start_time": "2022-07-21T11:02:19.652Z"
   },
   {
    "duration": 6,
    "start_time": "2022-07-21T11:02:27.129Z"
   },
   {
    "duration": 4,
    "start_time": "2022-07-21T11:02:38.190Z"
   },
   {
    "duration": 125,
    "start_time": "2022-07-21T11:03:13.858Z"
   },
   {
    "duration": 5,
    "start_time": "2022-07-21T11:03:25.150Z"
   },
   {
    "duration": 4,
    "start_time": "2022-07-21T11:03:38.380Z"
   },
   {
    "duration": 7,
    "start_time": "2022-07-21T11:07:03.031Z"
   },
   {
    "duration": 7,
    "start_time": "2022-07-21T11:07:18.204Z"
   },
   {
    "duration": 14,
    "start_time": "2022-07-21T11:12:27.648Z"
   },
   {
    "duration": 6,
    "start_time": "2022-07-21T11:13:01.057Z"
   },
   {
    "duration": 6,
    "start_time": "2022-07-21T12:01:13.399Z"
   },
   {
    "duration": 5,
    "start_time": "2022-07-21T12:01:30.794Z"
   },
   {
    "duration": 3,
    "start_time": "2022-07-21T12:01:42.231Z"
   },
   {
    "duration": 5,
    "start_time": "2022-07-21T12:04:19.339Z"
   },
   {
    "duration": 3,
    "start_time": "2022-07-21T12:20:49.358Z"
   },
   {
    "duration": 9,
    "start_time": "2022-07-21T12:20:50.257Z"
   },
   {
    "duration": 3,
    "start_time": "2022-07-21T12:21:22.538Z"
   },
   {
    "duration": 14,
    "start_time": "2022-07-21T12:21:23.842Z"
   },
   {
    "duration": 3,
    "start_time": "2022-07-21T12:22:29.837Z"
   },
   {
    "duration": 17,
    "start_time": "2022-07-21T12:22:30.443Z"
   },
   {
    "duration": 5,
    "start_time": "2022-07-21T12:23:10.400Z"
   },
   {
    "duration": 409,
    "start_time": "2022-07-21T12:23:10.995Z"
   },
   {
    "duration": 4,
    "start_time": "2022-07-21T12:23:23.281Z"
   },
   {
    "duration": 480,
    "start_time": "2022-07-21T12:23:23.893Z"
   },
   {
    "duration": 4,
    "start_time": "2022-07-21T12:23:45.728Z"
   },
   {
    "duration": 18,
    "start_time": "2022-07-21T12:23:47.801Z"
   },
   {
    "duration": 3,
    "start_time": "2022-07-21T12:27:14.991Z"
   },
   {
    "duration": 3,
    "start_time": "2022-07-21T12:27:17.533Z"
   },
   {
    "duration": 29,
    "start_time": "2022-07-21T12:27:25.201Z"
   },
   {
    "duration": 17,
    "start_time": "2022-07-21T12:27:33.363Z"
   },
   {
    "duration": 4,
    "start_time": "2022-07-21T12:28:43.951Z"
   },
   {
    "duration": 324,
    "start_time": "2022-07-21T12:28:43.956Z"
   },
   {
    "duration": 4,
    "start_time": "2022-07-21T12:28:44.282Z"
   },
   {
    "duration": 753,
    "start_time": "2022-07-21T12:28:44.288Z"
   },
   {
    "duration": 19,
    "start_time": "2022-07-21T12:28:45.043Z"
   },
   {
    "duration": 48,
    "start_time": "2022-07-21T12:28:45.064Z"
   },
   {
    "duration": 205,
    "start_time": "2022-07-21T12:28:45.124Z"
   },
   {
    "duration": 35,
    "start_time": "2022-07-21T12:28:45.337Z"
   },
   {
    "duration": 10,
    "start_time": "2022-07-21T12:28:45.374Z"
   },
   {
    "duration": 11,
    "start_time": "2022-07-21T12:28:45.386Z"
   },
   {
    "duration": 90,
    "start_time": "2022-07-21T12:28:45.400Z"
   },
   {
    "duration": 24,
    "start_time": "2022-07-21T12:28:45.492Z"
   },
   {
    "duration": 48,
    "start_time": "2022-07-21T12:28:45.518Z"
   },
   {
    "duration": 5,
    "start_time": "2022-07-21T12:28:45.567Z"
   },
   {
    "duration": 6,
    "start_time": "2022-07-21T12:28:45.574Z"
   },
   {
    "duration": 6,
    "start_time": "2022-07-21T12:28:45.582Z"
   },
   {
    "duration": 5,
    "start_time": "2022-07-21T12:28:45.590Z"
   },
   {
    "duration": 15,
    "start_time": "2022-07-21T12:28:45.596Z"
   },
   {
    "duration": 47,
    "start_time": "2022-07-21T12:28:45.612Z"
   },
   {
    "duration": 5,
    "start_time": "2022-07-21T12:28:45.660Z"
   },
   {
    "duration": 9,
    "start_time": "2022-07-21T12:28:45.667Z"
   },
   {
    "duration": 10,
    "start_time": "2022-07-21T12:28:45.677Z"
   },
   {
    "duration": 4,
    "start_time": "2022-07-21T12:47:41.169Z"
   },
   {
    "duration": 3,
    "start_time": "2022-07-21T12:47:42.544Z"
   },
   {
    "duration": 2,
    "start_time": "2022-07-21T12:47:42.873Z"
   },
   {
    "duration": 89,
    "start_time": "2022-07-21T12:47:43.240Z"
   },
   {
    "duration": 2,
    "start_time": "2022-07-21T12:47:50.549Z"
   },
   {
    "duration": 4,
    "start_time": "2022-07-21T12:48:13.786Z"
   },
   {
    "duration": 7,
    "start_time": "2022-07-21T12:48:26.237Z"
   },
   {
    "duration": 4,
    "start_time": "2022-07-21T12:50:25.816Z"
   },
   {
    "duration": 4,
    "start_time": "2022-07-21T12:50:46.917Z"
   },
   {
    "duration": 14,
    "start_time": "2022-07-21T12:51:16.886Z"
   },
   {
    "duration": 15,
    "start_time": "2022-07-21T12:51:42.187Z"
   },
   {
    "duration": 3,
    "start_time": "2022-07-21T12:52:54.040Z"
   },
   {
    "duration": 20,
    "start_time": "2022-07-21T12:53:00.498Z"
   },
   {
    "duration": 3,
    "start_time": "2022-07-21T12:53:05.891Z"
   },
   {
    "duration": 20,
    "start_time": "2022-07-21T12:53:05.896Z"
   },
   {
    "duration": 9,
    "start_time": "2022-07-21T12:53:05.919Z"
   },
   {
    "duration": 688,
    "start_time": "2022-07-21T12:53:05.929Z"
   },
   {
    "duration": 11,
    "start_time": "2022-07-21T12:53:06.619Z"
   },
   {
    "duration": 51,
    "start_time": "2022-07-21T12:53:06.631Z"
   },
   {
    "duration": 103,
    "start_time": "2022-07-21T12:53:06.684Z"
   },
   {
    "duration": 22,
    "start_time": "2022-07-21T12:53:06.789Z"
   },
   {
    "duration": 25,
    "start_time": "2022-07-21T12:53:06.815Z"
   },
   {
    "duration": 4,
    "start_time": "2022-07-21T12:53:06.842Z"
   },
   {
    "duration": 5,
    "start_time": "2022-07-21T12:53:06.848Z"
   },
   {
    "duration": 8,
    "start_time": "2022-07-21T12:53:06.854Z"
   },
   {
    "duration": 10,
    "start_time": "2022-07-21T12:53:06.865Z"
   },
   {
    "duration": 17,
    "start_time": "2022-07-21T12:53:06.876Z"
   },
   {
    "duration": 7,
    "start_time": "2022-07-21T12:53:06.894Z"
   },
   {
    "duration": 19,
    "start_time": "2022-07-21T12:53:06.903Z"
   },
   {
    "duration": 7,
    "start_time": "2022-07-21T12:53:06.923Z"
   },
   {
    "duration": 19,
    "start_time": "2022-07-21T12:53:06.932Z"
   },
   {
    "duration": 7,
    "start_time": "2022-07-21T12:53:06.953Z"
   },
   {
    "duration": 5,
    "start_time": "2022-07-21T12:53:06.962Z"
   },
   {
    "duration": 7,
    "start_time": "2022-07-21T12:53:06.969Z"
   },
   {
    "duration": 6,
    "start_time": "2022-07-21T12:53:06.978Z"
   },
   {
    "duration": 7,
    "start_time": "2022-07-21T12:53:06.985Z"
   },
   {
    "duration": 7,
    "start_time": "2022-07-21T12:53:06.993Z"
   },
   {
    "duration": 3,
    "start_time": "2022-07-21T12:53:51.519Z"
   },
   {
    "duration": 7,
    "start_time": "2022-07-21T12:53:51.524Z"
   },
   {
    "duration": 6,
    "start_time": "2022-07-21T12:53:51.532Z"
   },
   {
    "duration": 656,
    "start_time": "2022-07-21T12:53:51.539Z"
   },
   {
    "duration": 17,
    "start_time": "2022-07-21T12:53:52.197Z"
   },
   {
    "duration": 26,
    "start_time": "2022-07-21T12:53:52.216Z"
   },
   {
    "duration": 101,
    "start_time": "2022-07-21T12:53:52.243Z"
   },
   {
    "duration": 17,
    "start_time": "2022-07-21T12:53:52.346Z"
   },
   {
    "duration": 4,
    "start_time": "2022-07-21T12:53:52.365Z"
   },
   {
    "duration": 4,
    "start_time": "2022-07-21T12:53:52.371Z"
   },
   {
    "duration": 4,
    "start_time": "2022-07-21T12:53:52.376Z"
   },
   {
    "duration": 25,
    "start_time": "2022-07-21T12:53:52.381Z"
   },
   {
    "duration": 19,
    "start_time": "2022-07-21T12:53:52.408Z"
   },
   {
    "duration": 14,
    "start_time": "2022-07-21T12:53:52.428Z"
   },
   {
    "duration": 4,
    "start_time": "2022-07-21T12:53:52.443Z"
   },
   {
    "duration": 4,
    "start_time": "2022-07-21T12:53:52.449Z"
   },
   {
    "duration": 5,
    "start_time": "2022-07-21T12:53:52.454Z"
   },
   {
    "duration": 6,
    "start_time": "2022-07-21T12:53:52.460Z"
   },
   {
    "duration": 3,
    "start_time": "2022-07-21T12:53:52.468Z"
   },
   {
    "duration": 7,
    "start_time": "2022-07-21T12:53:52.472Z"
   },
   {
    "duration": 4,
    "start_time": "2022-07-21T12:53:52.480Z"
   },
   {
    "duration": 19,
    "start_time": "2022-07-21T12:53:52.485Z"
   },
   {
    "duration": 4,
    "start_time": "2022-07-21T12:53:52.515Z"
   },
   {
    "duration": 5,
    "start_time": "2022-07-21T12:53:52.520Z"
   },
   {
    "duration": 3,
    "start_time": "2022-07-21T12:57:02.771Z"
   },
   {
    "duration": 24,
    "start_time": "2022-07-21T12:57:02.777Z"
   },
   {
    "duration": 32,
    "start_time": "2022-07-21T12:57:02.803Z"
   },
   {
    "duration": 678,
    "start_time": "2022-07-21T12:57:02.837Z"
   },
   {
    "duration": 11,
    "start_time": "2022-07-21T12:57:03.517Z"
   },
   {
    "duration": 37,
    "start_time": "2022-07-21T12:57:03.529Z"
   },
   {
    "duration": 103,
    "start_time": "2022-07-21T12:57:03.568Z"
   },
   {
    "duration": 19,
    "start_time": "2022-07-21T12:57:03.673Z"
   },
   {
    "duration": 29,
    "start_time": "2022-07-21T12:57:03.694Z"
   },
   {
    "duration": 24,
    "start_time": "2022-07-21T12:57:03.725Z"
   },
   {
    "duration": 14,
    "start_time": "2022-07-21T12:57:03.751Z"
   },
   {
    "duration": 29,
    "start_time": "2022-07-21T12:57:03.767Z"
   },
   {
    "duration": 28,
    "start_time": "2022-07-21T12:57:03.798Z"
   },
   {
    "duration": 42,
    "start_time": "2022-07-21T12:57:03.828Z"
   },
   {
    "duration": 15,
    "start_time": "2022-07-21T12:57:03.871Z"
   },
   {
    "duration": 34,
    "start_time": "2022-07-21T12:57:03.887Z"
   },
   {
    "duration": 4,
    "start_time": "2022-07-21T12:58:59.376Z"
   },
   {
    "duration": 8,
    "start_time": "2022-07-21T12:58:59.382Z"
   },
   {
    "duration": 3,
    "start_time": "2022-07-21T12:58:59.392Z"
   },
   {
    "duration": 689,
    "start_time": "2022-07-21T12:58:59.397Z"
   },
   {
    "duration": 21,
    "start_time": "2022-07-21T12:59:00.088Z"
   },
   {
    "duration": 41,
    "start_time": "2022-07-21T12:59:00.116Z"
   },
   {
    "duration": 99,
    "start_time": "2022-07-21T12:59:00.158Z"
   },
   {
    "duration": 18,
    "start_time": "2022-07-21T12:59:00.258Z"
   },
   {
    "duration": 8,
    "start_time": "2022-07-21T12:59:00.278Z"
   },
   {
    "duration": 5,
    "start_time": "2022-07-21T12:59:00.288Z"
   },
   {
    "duration": 20,
    "start_time": "2022-07-21T12:59:00.303Z"
   },
   {
    "duration": 9,
    "start_time": "2022-07-21T12:59:00.325Z"
   },
   {
    "duration": 8,
    "start_time": "2022-07-21T12:59:00.336Z"
   },
   {
    "duration": 16,
    "start_time": "2022-07-21T12:59:00.346Z"
   },
   {
    "duration": 0,
    "start_time": "2022-07-21T12:59:00.364Z"
   },
   {
    "duration": 0,
    "start_time": "2022-07-21T12:59:00.365Z"
   },
   {
    "duration": 15,
    "start_time": "2022-07-21T12:59:12.631Z"
   },
   {
    "duration": 5,
    "start_time": "2022-07-21T12:59:19.181Z"
   },
   {
    "duration": 3,
    "start_time": "2022-07-21T13:00:23.567Z"
   },
   {
    "duration": 10,
    "start_time": "2022-07-21T13:00:23.572Z"
   },
   {
    "duration": 5,
    "start_time": "2022-07-21T13:00:23.584Z"
   },
   {
    "duration": 673,
    "start_time": "2022-07-21T13:00:23.591Z"
   },
   {
    "duration": 11,
    "start_time": "2022-07-21T13:00:24.266Z"
   },
   {
    "duration": 49,
    "start_time": "2022-07-21T13:00:24.279Z"
   },
   {
    "duration": 100,
    "start_time": "2022-07-21T13:00:24.330Z"
   },
   {
    "duration": 19,
    "start_time": "2022-07-21T13:00:24.432Z"
   },
   {
    "duration": 12,
    "start_time": "2022-07-21T13:00:24.453Z"
   },
   {
    "duration": 25,
    "start_time": "2022-07-21T13:00:24.470Z"
   },
   {
    "duration": 25,
    "start_time": "2022-07-21T13:00:24.497Z"
   },
   {
    "duration": 25,
    "start_time": "2022-07-21T13:00:24.524Z"
   },
   {
    "duration": 17,
    "start_time": "2022-07-21T13:00:24.551Z"
   },
   {
    "duration": 21,
    "start_time": "2022-07-21T13:00:24.569Z"
   },
   {
    "duration": 395,
    "start_time": "2022-07-21T13:00:24.592Z"
   },
   {
    "duration": 0,
    "start_time": "2022-07-21T13:00:24.989Z"
   },
   {
    "duration": 435,
    "start_time": "2022-07-21T13:01:15.392Z"
   },
   {
    "duration": 6,
    "start_time": "2022-07-21T13:02:21.857Z"
   },
   {
    "duration": 4,
    "start_time": "2022-07-21T13:02:54.966Z"
   },
   {
    "duration": 3,
    "start_time": "2022-07-21T13:03:00.447Z"
   },
   {
    "duration": 12,
    "start_time": "2022-07-21T13:03:00.454Z"
   },
   {
    "duration": 6,
    "start_time": "2022-07-21T13:03:00.468Z"
   },
   {
    "duration": 668,
    "start_time": "2022-07-21T13:03:00.476Z"
   },
   {
    "duration": 10,
    "start_time": "2022-07-21T13:03:01.146Z"
   },
   {
    "duration": 53,
    "start_time": "2022-07-21T13:03:01.158Z"
   },
   {
    "duration": 101,
    "start_time": "2022-07-21T13:03:01.216Z"
   },
   {
    "duration": 17,
    "start_time": "2022-07-21T13:03:01.320Z"
   },
   {
    "duration": 26,
    "start_time": "2022-07-21T13:03:01.339Z"
   },
   {
    "duration": 14,
    "start_time": "2022-07-21T13:03:01.366Z"
   },
   {
    "duration": 9,
    "start_time": "2022-07-21T13:03:01.382Z"
   },
   {
    "duration": 49,
    "start_time": "2022-07-21T13:03:01.392Z"
   },
   {
    "duration": 30,
    "start_time": "2022-07-21T13:03:01.442Z"
   },
   {
    "duration": 443,
    "start_time": "2022-07-21T13:03:01.473Z"
   },
   {
    "duration": 0,
    "start_time": "2022-07-21T13:03:01.918Z"
   },
   {
    "duration": 0,
    "start_time": "2022-07-21T13:03:01.919Z"
   },
   {
    "duration": 0,
    "start_time": "2022-07-21T13:03:01.920Z"
   },
   {
    "duration": 10,
    "start_time": "2022-07-21T13:05:01.139Z"
   },
   {
    "duration": 10,
    "start_time": "2022-07-21T13:05:08.808Z"
   },
   {
    "duration": 20,
    "start_time": "2022-07-21T13:05:08.824Z"
   },
   {
    "duration": 25,
    "start_time": "2022-07-21T13:05:08.845Z"
   },
   {
    "duration": 715,
    "start_time": "2022-07-21T13:05:08.872Z"
   },
   {
    "duration": 24,
    "start_time": "2022-07-21T13:05:09.589Z"
   },
   {
    "duration": 47,
    "start_time": "2022-07-21T13:05:09.616Z"
   },
   {
    "duration": 108,
    "start_time": "2022-07-21T13:05:09.665Z"
   },
   {
    "duration": 19,
    "start_time": "2022-07-21T13:05:09.775Z"
   },
   {
    "duration": 5,
    "start_time": "2022-07-21T13:05:09.802Z"
   },
   {
    "duration": 37,
    "start_time": "2022-07-21T13:05:09.809Z"
   },
   {
    "duration": 11,
    "start_time": "2022-07-21T13:05:09.848Z"
   },
   {
    "duration": 4,
    "start_time": "2022-07-21T13:05:46.423Z"
   },
   {
    "duration": 74,
    "start_time": "2022-07-21T13:06:57.973Z"
   },
   {
    "duration": 4,
    "start_time": "2022-07-21T13:07:09.172Z"
   },
   {
    "duration": 83,
    "start_time": "2022-07-21T13:07:45.135Z"
   },
   {
    "duration": 2,
    "start_time": "2022-07-21T13:08:18.654Z"
   },
   {
    "duration": 5,
    "start_time": "2022-07-21T13:08:25.077Z"
   },
   {
    "duration": 2,
    "start_time": "2022-07-21T13:09:07.044Z"
   },
   {
    "duration": 2,
    "start_time": "2022-07-21T13:09:20.998Z"
   },
   {
    "duration": 33,
    "start_time": "2022-07-21T13:09:21.003Z"
   },
   {
    "duration": 8,
    "start_time": "2022-07-21T13:09:21.037Z"
   },
   {
    "duration": 695,
    "start_time": "2022-07-21T13:09:21.046Z"
   },
   {
    "duration": 10,
    "start_time": "2022-07-21T13:09:21.743Z"
   },
   {
    "duration": 35,
    "start_time": "2022-07-21T13:09:21.754Z"
   },
   {
    "duration": 137,
    "start_time": "2022-07-21T13:09:21.790Z"
   },
   {
    "duration": 18,
    "start_time": "2022-07-21T13:09:21.928Z"
   },
   {
    "duration": 8,
    "start_time": "2022-07-21T13:09:21.948Z"
   },
   {
    "duration": 6,
    "start_time": "2022-07-21T13:09:21.957Z"
   },
   {
    "duration": 6,
    "start_time": "2022-07-21T13:09:21.965Z"
   },
   {
    "duration": 7,
    "start_time": "2022-07-21T13:09:21.972Z"
   },
   {
    "duration": 3,
    "start_time": "2022-07-21T13:12:14.151Z"
   },
   {
    "duration": 6,
    "start_time": "2022-07-21T13:12:31.451Z"
   },
   {
    "duration": 3,
    "start_time": "2022-07-21T13:12:49.521Z"
   },
   {
    "duration": 4,
    "start_time": "2022-07-21T13:13:15.066Z"
   },
   {
    "duration": 3,
    "start_time": "2022-07-21T13:13:21.647Z"
   },
   {
    "duration": 10,
    "start_time": "2022-07-21T13:13:49.954Z"
   },
   {
    "duration": 7,
    "start_time": "2022-07-21T13:18:52.430Z"
   },
   {
    "duration": 13,
    "start_time": "2022-07-21T13:20:06.413Z"
   },
   {
    "duration": 9,
    "start_time": "2022-07-21T13:21:07.086Z"
   },
   {
    "duration": 4,
    "start_time": "2022-07-21T13:21:46.564Z"
   },
   {
    "duration": 11,
    "start_time": "2022-07-21T13:21:59.824Z"
   },
   {
    "duration": 11,
    "start_time": "2022-07-21T13:23:13.821Z"
   },
   {
    "duration": 1449,
    "start_time": "2022-07-22T03:26:17.582Z"
   },
   {
    "duration": 463,
    "start_time": "2022-07-22T03:26:19.033Z"
   },
   {
    "duration": 5,
    "start_time": "2022-07-22T03:26:19.497Z"
   },
   {
    "duration": 3287,
    "start_time": "2022-07-22T03:26:19.504Z"
   },
   {
    "duration": 13,
    "start_time": "2022-07-22T03:26:22.793Z"
   },
   {
    "duration": 33,
    "start_time": "2022-07-22T03:26:22.807Z"
   },
   {
    "duration": 528,
    "start_time": "2022-07-22T03:26:22.842Z"
   },
   {
    "duration": 49,
    "start_time": "2022-07-22T03:26:23.372Z"
   },
   {
    "duration": 5,
    "start_time": "2022-07-22T03:26:23.423Z"
   },
   {
    "duration": 32,
    "start_time": "2022-07-22T03:26:23.431Z"
   },
   {
    "duration": 4,
    "start_time": "2022-07-22T03:26:23.464Z"
   },
   {
    "duration": 6,
    "start_time": "2022-07-22T03:26:23.470Z"
   },
   {
    "duration": 4,
    "start_time": "2022-07-22T03:34:42.976Z"
   },
   {
    "duration": 212,
    "start_time": "2022-07-22T03:35:34.370Z"
   },
   {
    "duration": 14,
    "start_time": "2022-07-22T03:35:44.825Z"
   },
   {
    "duration": 4,
    "start_time": "2022-07-22T06:37:21.559Z"
   },
   {
    "duration": 128,
    "start_time": "2022-07-22T06:46:49.712Z"
   },
   {
    "duration": 12,
    "start_time": "2022-07-22T06:48:20.727Z"
   },
   {
    "duration": 12,
    "start_time": "2022-07-22T06:48:47.779Z"
   },
   {
    "duration": 12,
    "start_time": "2022-07-22T06:49:11.159Z"
   },
   {
    "duration": 3,
    "start_time": "2022-07-22T06:50:01.665Z"
   },
   {
    "duration": 299,
    "start_time": "2022-07-22T06:50:01.670Z"
   },
   {
    "duration": 3,
    "start_time": "2022-07-22T06:50:01.971Z"
   },
   {
    "duration": 881,
    "start_time": "2022-07-22T06:50:01.976Z"
   },
   {
    "duration": 12,
    "start_time": "2022-07-22T06:50:02.859Z"
   },
   {
    "duration": 49,
    "start_time": "2022-07-22T06:50:02.873Z"
   },
   {
    "duration": 117,
    "start_time": "2022-07-22T06:50:02.924Z"
   },
   {
    "duration": 20,
    "start_time": "2022-07-22T06:50:03.043Z"
   },
   {
    "duration": 12,
    "start_time": "2022-07-22T06:50:03.065Z"
   },
   {
    "duration": 12,
    "start_time": "2022-07-22T06:50:03.078Z"
   },
   {
    "duration": 8,
    "start_time": "2022-07-22T06:50:03.092Z"
   },
   {
    "duration": 24,
    "start_time": "2022-07-22T06:50:03.101Z"
   },
   {
    "duration": 0,
    "start_time": "2022-07-22T06:50:03.127Z"
   },
   {
    "duration": 0,
    "start_time": "2022-07-22T06:50:03.129Z"
   },
   {
    "duration": 4,
    "start_time": "2022-07-22T06:50:26.884Z"
   },
   {
    "duration": 12,
    "start_time": "2022-07-22T06:50:54.883Z"
   },
   {
    "duration": 78,
    "start_time": "2022-07-22T06:51:38.251Z"
   },
   {
    "duration": 19,
    "start_time": "2022-07-22T06:51:56.999Z"
   },
   {
    "duration": 16,
    "start_time": "2022-07-22T07:05:32.386Z"
   },
   {
    "duration": 15,
    "start_time": "2022-07-22T07:06:12.471Z"
   },
   {
    "duration": 4,
    "start_time": "2022-07-22T07:09:29.314Z"
   },
   {
    "duration": 15,
    "start_time": "2022-07-22T07:09:46.352Z"
   },
   {
    "duration": 17,
    "start_time": "2022-07-22T07:13:14.823Z"
   },
   {
    "duration": 16,
    "start_time": "2022-07-22T07:14:09.047Z"
   },
   {
    "duration": 17,
    "start_time": "2022-07-22T07:14:48.946Z"
   },
   {
    "duration": 16,
    "start_time": "2022-07-22T07:14:57.641Z"
   },
   {
    "duration": 15,
    "start_time": "2022-07-22T07:17:34.106Z"
   },
   {
    "duration": 3,
    "start_time": "2022-07-22T07:17:40.752Z"
   },
   {
    "duration": 11,
    "start_time": "2022-07-22T07:17:40.757Z"
   },
   {
    "duration": 9,
    "start_time": "2022-07-22T07:17:40.770Z"
   },
   {
    "duration": 857,
    "start_time": "2022-07-22T07:17:40.781Z"
   },
   {
    "duration": 12,
    "start_time": "2022-07-22T07:17:41.640Z"
   },
   {
    "duration": 35,
    "start_time": "2022-07-22T07:17:41.654Z"
   },
   {
    "duration": 143,
    "start_time": "2022-07-22T07:17:41.690Z"
   },
   {
    "duration": 28,
    "start_time": "2022-07-22T07:17:41.835Z"
   },
   {
    "duration": 22,
    "start_time": "2022-07-22T07:17:41.865Z"
   },
   {
    "duration": 11,
    "start_time": "2022-07-22T07:17:41.889Z"
   },
   {
    "duration": 11,
    "start_time": "2022-07-22T07:17:41.902Z"
   },
   {
    "duration": 24,
    "start_time": "2022-07-22T07:17:41.914Z"
   },
   {
    "duration": 4,
    "start_time": "2022-07-22T07:17:41.939Z"
   },
   {
    "duration": 10,
    "start_time": "2022-07-22T07:17:41.944Z"
   },
   {
    "duration": 16,
    "start_time": "2022-07-22T07:19:21.921Z"
   },
   {
    "duration": 15,
    "start_time": "2022-07-22T07:20:12.092Z"
   },
   {
    "duration": 15,
    "start_time": "2022-07-22T07:20:34.477Z"
   },
   {
    "duration": 3,
    "start_time": "2022-07-22T07:20:38.230Z"
   },
   {
    "duration": 10,
    "start_time": "2022-07-22T07:20:38.235Z"
   },
   {
    "duration": 5,
    "start_time": "2022-07-22T07:20:38.247Z"
   },
   {
    "duration": 869,
    "start_time": "2022-07-22T07:20:38.254Z"
   },
   {
    "duration": 12,
    "start_time": "2022-07-22T07:20:39.125Z"
   },
   {
    "duration": 48,
    "start_time": "2022-07-22T07:20:39.138Z"
   },
   {
    "duration": 116,
    "start_time": "2022-07-22T07:20:39.187Z"
   },
   {
    "duration": 22,
    "start_time": "2022-07-22T07:20:39.304Z"
   },
   {
    "duration": 12,
    "start_time": "2022-07-22T07:20:39.328Z"
   },
   {
    "duration": 9,
    "start_time": "2022-07-22T07:20:39.342Z"
   },
   {
    "duration": 6,
    "start_time": "2022-07-22T07:20:39.354Z"
   },
   {
    "duration": 20,
    "start_time": "2022-07-22T07:20:39.362Z"
   },
   {
    "duration": 11,
    "start_time": "2022-07-22T07:20:39.384Z"
   },
   {
    "duration": 2,
    "start_time": "2022-07-22T07:20:39.411Z"
   },
   {
    "duration": 24,
    "start_time": "2022-07-22T07:36:18.721Z"
   },
   {
    "duration": 20,
    "start_time": "2022-07-22T07:36:25.385Z"
   },
   {
    "duration": 17,
    "start_time": "2022-07-22T07:36:47.121Z"
   },
   {
    "duration": 25,
    "start_time": "2022-07-22T07:38:58.203Z"
   },
   {
    "duration": 15,
    "start_time": "2022-07-22T07:39:02.819Z"
   },
   {
    "duration": 3,
    "start_time": "2022-07-22T09:28:58.140Z"
   },
   {
    "duration": 175,
    "start_time": "2022-07-22T09:28:58.147Z"
   },
   {
    "duration": 4,
    "start_time": "2022-07-22T09:28:58.323Z"
   },
   {
    "duration": 806,
    "start_time": "2022-07-22T09:28:58.329Z"
   },
   {
    "duration": 11,
    "start_time": "2022-07-22T09:28:59.137Z"
   },
   {
    "duration": 35,
    "start_time": "2022-07-22T09:28:59.150Z"
   },
   {
    "duration": 134,
    "start_time": "2022-07-22T09:28:59.186Z"
   },
   {
    "duration": 19,
    "start_time": "2022-07-22T09:28:59.322Z"
   },
   {
    "duration": 7,
    "start_time": "2022-07-22T09:28:59.343Z"
   },
   {
    "duration": 5,
    "start_time": "2022-07-22T09:28:59.352Z"
   },
   {
    "duration": 4,
    "start_time": "2022-07-22T09:28:59.359Z"
   },
   {
    "duration": 14,
    "start_time": "2022-07-22T09:28:59.365Z"
   },
   {
    "duration": 30,
    "start_time": "2022-07-22T09:28:59.381Z"
   },
   {
    "duration": 5,
    "start_time": "2022-07-22T09:28:59.413Z"
   },
   {
    "duration": 12,
    "start_time": "2022-07-22T09:37:39.821Z"
   },
   {
    "duration": 11,
    "start_time": "2022-07-22T09:38:22.495Z"
   },
   {
    "duration": 12,
    "start_time": "2022-07-22T09:40:25.582Z"
   },
   {
    "duration": 6,
    "start_time": "2022-07-22T09:45:50.534Z"
   },
   {
    "duration": 5,
    "start_time": "2022-07-22T09:46:46.040Z"
   },
   {
    "duration": 7,
    "start_time": "2022-07-22T09:48:19.959Z"
   },
   {
    "duration": 9,
    "start_time": "2022-07-22T09:48:49.246Z"
   },
   {
    "duration": 14,
    "start_time": "2022-07-22T10:02:00.099Z"
   },
   {
    "duration": 1427,
    "start_time": "2022-07-22T10:03:27.017Z"
   },
   {
    "duration": 67,
    "start_time": "2022-07-22T10:42:50.276Z"
   },
   {
    "duration": 2142,
    "start_time": "2022-07-22T10:43:02.374Z"
   },
   {
    "duration": 396,
    "start_time": "2022-07-22T10:43:04.518Z"
   },
   {
    "duration": 6,
    "start_time": "2022-07-22T10:43:04.916Z"
   },
   {
    "duration": 2828,
    "start_time": "2022-07-22T10:43:04.925Z"
   },
   {
    "duration": 14,
    "start_time": "2022-07-22T10:43:07.755Z"
   },
   {
    "duration": 35,
    "start_time": "2022-07-22T10:43:07.771Z"
   },
   {
    "duration": 572,
    "start_time": "2022-07-22T10:43:07.808Z"
   },
   {
    "duration": 53,
    "start_time": "2022-07-22T10:43:08.382Z"
   },
   {
    "duration": 16,
    "start_time": "2022-07-22T10:43:08.437Z"
   },
   {
    "duration": 6,
    "start_time": "2022-07-22T10:43:08.457Z"
   },
   {
    "duration": 8,
    "start_time": "2022-07-22T10:43:08.465Z"
   },
   {
    "duration": 1754,
    "start_time": "2022-07-22T10:43:08.475Z"
   },
   {
    "duration": 6,
    "start_time": "2022-07-22T10:43:10.231Z"
   },
   {
    "duration": 13,
    "start_time": "2022-07-22T10:43:10.240Z"
   },
   {
    "duration": 24,
    "start_time": "2022-07-22T10:44:44.575Z"
   },
   {
    "duration": 2,
    "start_time": "2022-07-22T10:49:28.415Z"
   },
   {
    "duration": 3,
    "start_time": "2022-07-22T10:50:33.355Z"
   },
   {
    "duration": 12,
    "start_time": "2022-07-22T10:50:33.361Z"
   },
   {
    "duration": 7,
    "start_time": "2022-07-22T10:50:33.376Z"
   },
   {
    "duration": 818,
    "start_time": "2022-07-22T10:50:33.384Z"
   },
   {
    "duration": 19,
    "start_time": "2022-07-22T10:50:34.205Z"
   },
   {
    "duration": 42,
    "start_time": "2022-07-22T10:50:34.225Z"
   },
   {
    "duration": 127,
    "start_time": "2022-07-22T10:50:34.268Z"
   },
   {
    "duration": 36,
    "start_time": "2022-07-22T10:50:34.398Z"
   },
   {
    "duration": 32,
    "start_time": "2022-07-22T10:50:34.436Z"
   },
   {
    "duration": 22,
    "start_time": "2022-07-22T10:50:34.472Z"
   },
   {
    "duration": 17,
    "start_time": "2022-07-22T10:50:34.496Z"
   },
   {
    "duration": 22,
    "start_time": "2022-07-22T10:50:34.515Z"
   },
   {
    "duration": 43,
    "start_time": "2022-07-22T10:50:34.539Z"
   },
   {
    "duration": 5,
    "start_time": "2022-07-22T10:50:34.585Z"
   },
   {
    "duration": 5,
    "start_time": "2022-07-22T10:50:34.593Z"
   },
   {
    "duration": 96,
    "start_time": "2022-07-22T10:56:41.350Z"
   },
   {
    "duration": 25,
    "start_time": "2022-07-22T10:57:16.719Z"
   },
   {
    "duration": 29,
    "start_time": "2022-07-22T11:07:29.639Z"
   },
   {
    "duration": 17,
    "start_time": "2022-07-22T11:07:49.923Z"
   },
   {
    "duration": 22,
    "start_time": "2022-07-22T11:08:15.005Z"
   },
   {
    "duration": 5,
    "start_time": "2022-07-22T11:08:29.553Z"
   },
   {
    "duration": 24,
    "start_time": "2022-07-22T11:09:20.818Z"
   },
   {
    "duration": 19,
    "start_time": "2022-07-22T11:10:35.053Z"
   },
   {
    "duration": 5,
    "start_time": "2022-07-22T11:11:02.762Z"
   },
   {
    "duration": 20,
    "start_time": "2022-07-22T11:11:02.769Z"
   },
   {
    "duration": 11,
    "start_time": "2022-07-22T11:11:02.791Z"
   },
   {
    "duration": 941,
    "start_time": "2022-07-22T11:11:02.804Z"
   },
   {
    "duration": 17,
    "start_time": "2022-07-22T11:11:03.748Z"
   },
   {
    "duration": 34,
    "start_time": "2022-07-22T11:11:03.768Z"
   },
   {
    "duration": 146,
    "start_time": "2022-07-22T11:11:03.804Z"
   },
   {
    "duration": 26,
    "start_time": "2022-07-22T11:11:03.952Z"
   },
   {
    "duration": 18,
    "start_time": "2022-07-22T11:11:03.980Z"
   },
   {
    "duration": 8,
    "start_time": "2022-07-22T11:11:04.000Z"
   },
   {
    "duration": 52,
    "start_time": "2022-07-22T11:11:04.011Z"
   },
   {
    "duration": 20,
    "start_time": "2022-07-22T11:11:04.065Z"
   },
   {
    "duration": 18,
    "start_time": "2022-07-22T11:11:04.087Z"
   },
   {
    "duration": 6,
    "start_time": "2022-07-22T11:11:04.108Z"
   },
   {
    "duration": 34,
    "start_time": "2022-07-22T11:11:04.116Z"
   },
   {
    "duration": 7,
    "start_time": "2022-07-22T11:12:12.662Z"
   },
   {
    "duration": 5,
    "start_time": "2022-07-22T11:12:44.516Z"
   },
   {
    "duration": 60,
    "start_time": "2022-07-22T19:11:14.007Z"
   },
   {
    "duration": 1641,
    "start_time": "2022-07-22T19:11:17.618Z"
   },
   {
    "duration": 352,
    "start_time": "2022-07-22T19:11:19.261Z"
   },
   {
    "duration": 4,
    "start_time": "2022-07-22T19:11:19.615Z"
   },
   {
    "duration": 2941,
    "start_time": "2022-07-22T19:11:19.621Z"
   },
   {
    "duration": 16,
    "start_time": "2022-07-22T19:11:22.564Z"
   },
   {
    "duration": 39,
    "start_time": "2022-07-22T19:11:22.582Z"
   },
   {
    "duration": 680,
    "start_time": "2022-07-22T19:11:22.625Z"
   },
   {
    "duration": 50,
    "start_time": "2022-07-22T19:11:23.308Z"
   },
   {
    "duration": 11,
    "start_time": "2022-07-22T19:11:23.361Z"
   },
   {
    "duration": 7,
    "start_time": "2022-07-22T19:11:23.375Z"
   },
   {
    "duration": 8,
    "start_time": "2022-07-22T19:11:23.384Z"
   },
   {
    "duration": 6,
    "start_time": "2022-07-22T19:11:23.393Z"
   },
   {
    "duration": 1646,
    "start_time": "2022-07-22T19:11:23.401Z"
   },
   {
    "duration": 7,
    "start_time": "2022-07-22T19:11:25.052Z"
   },
   {
    "duration": 17,
    "start_time": "2022-07-22T19:11:25.065Z"
   },
   {
    "duration": 8,
    "start_time": "2022-07-22T19:11:25.084Z"
   },
   {
    "duration": 20,
    "start_time": "2022-07-22T19:11:25.094Z"
   },
   {
    "duration": 5,
    "start_time": "2022-07-22T19:14:24.877Z"
   },
   {
    "duration": 4,
    "start_time": "2022-07-22T19:14:40.245Z"
   },
   {
    "duration": 7,
    "start_time": "2022-07-22T19:15:34.925Z"
   },
   {
    "duration": 23,
    "start_time": "2022-07-22T19:15:34.946Z"
   },
   {
    "duration": 19,
    "start_time": "2022-07-22T19:15:34.972Z"
   },
   {
    "duration": 809,
    "start_time": "2022-07-22T19:15:34.993Z"
   },
   {
    "duration": 10,
    "start_time": "2022-07-22T19:15:35.804Z"
   },
   {
    "duration": 37,
    "start_time": "2022-07-22T19:15:35.825Z"
   },
   {
    "duration": 135,
    "start_time": "2022-07-22T19:15:35.864Z"
   },
   {
    "duration": 35,
    "start_time": "2022-07-22T19:15:36.001Z"
   },
   {
    "duration": 28,
    "start_time": "2022-07-22T19:15:36.038Z"
   },
   {
    "duration": 10,
    "start_time": "2022-07-22T19:15:36.068Z"
   },
   {
    "duration": 7,
    "start_time": "2022-07-22T19:15:36.080Z"
   },
   {
    "duration": 5,
    "start_time": "2022-07-22T19:15:36.089Z"
   },
   {
    "duration": 50,
    "start_time": "2022-07-22T19:15:36.096Z"
   },
   {
    "duration": 7,
    "start_time": "2022-07-22T19:15:36.148Z"
   },
   {
    "duration": 8,
    "start_time": "2022-07-22T19:15:36.158Z"
   },
   {
    "duration": 8,
    "start_time": "2022-07-22T19:15:36.167Z"
   },
   {
    "duration": 17,
    "start_time": "2022-07-22T19:15:36.177Z"
   },
   {
    "duration": 11,
    "start_time": "2022-07-22T19:15:36.196Z"
   },
   {
    "duration": 17,
    "start_time": "2022-07-22T19:15:36.209Z"
   },
   {
    "duration": 4,
    "start_time": "2022-07-22T19:16:25.878Z"
   },
   {
    "duration": 4,
    "start_time": "2022-07-22T19:17:38.276Z"
   },
   {
    "duration": 4,
    "start_time": "2022-07-22T19:18:01.182Z"
   },
   {
    "duration": 17,
    "start_time": "2022-07-22T19:18:24.761Z"
   },
   {
    "duration": 3,
    "start_time": "2022-07-22T19:18:55.318Z"
   },
   {
    "duration": 25,
    "start_time": "2022-07-22T19:18:55.323Z"
   },
   {
    "duration": 5,
    "start_time": "2022-07-22T19:18:55.349Z"
   },
   {
    "duration": 811,
    "start_time": "2022-07-22T19:18:55.356Z"
   },
   {
    "duration": 12,
    "start_time": "2022-07-22T19:18:56.169Z"
   },
   {
    "duration": 44,
    "start_time": "2022-07-22T19:18:56.183Z"
   },
   {
    "duration": 121,
    "start_time": "2022-07-22T19:18:56.229Z"
   },
   {
    "duration": 20,
    "start_time": "2022-07-22T19:18:56.352Z"
   },
   {
    "duration": 28,
    "start_time": "2022-07-22T19:18:56.375Z"
   },
   {
    "duration": 20,
    "start_time": "2022-07-22T19:18:56.404Z"
   },
   {
    "duration": 25,
    "start_time": "2022-07-22T19:18:56.426Z"
   },
   {
    "duration": 19,
    "start_time": "2022-07-22T19:18:56.453Z"
   },
   {
    "duration": 17,
    "start_time": "2022-07-22T19:18:56.474Z"
   },
   {
    "duration": 17,
    "start_time": "2022-07-22T19:18:56.493Z"
   },
   {
    "duration": 24,
    "start_time": "2022-07-22T19:18:56.511Z"
   },
   {
    "duration": 32,
    "start_time": "2022-07-22T19:18:56.538Z"
   },
   {
    "duration": 21,
    "start_time": "2022-07-22T19:18:56.572Z"
   },
   {
    "duration": 16,
    "start_time": "2022-07-22T19:18:56.595Z"
   },
   {
    "duration": 18,
    "start_time": "2022-07-22T19:18:56.612Z"
   },
   {
    "duration": 23,
    "start_time": "2022-07-22T19:18:56.632Z"
   },
   {
    "duration": 26,
    "start_time": "2022-07-22T19:18:56.657Z"
   },
   {
    "duration": 11,
    "start_time": "2022-07-22T19:18:56.685Z"
   },
   {
    "duration": 4,
    "start_time": "2022-07-22T19:19:16.706Z"
   },
   {
    "duration": 4,
    "start_time": "2022-07-22T19:19:24.774Z"
   },
   {
    "duration": 4,
    "start_time": "2022-07-22T19:24:03.452Z"
   },
   {
    "duration": 4,
    "start_time": "2022-07-22T19:31:32.491Z"
   },
   {
    "duration": 6,
    "start_time": "2022-07-22T19:31:50.850Z"
   },
   {
    "duration": 100,
    "start_time": "2022-07-22T19:37:30.403Z"
   },
   {
    "duration": 4,
    "start_time": "2022-07-22T19:50:06.509Z"
   },
   {
    "duration": 4,
    "start_time": "2022-07-22T19:50:21.130Z"
   },
   {
    "duration": 20,
    "start_time": "2022-07-22T19:50:21.140Z"
   },
   {
    "duration": 23,
    "start_time": "2022-07-22T19:50:21.162Z"
   },
   {
    "duration": 782,
    "start_time": "2022-07-22T19:50:21.187Z"
   },
   {
    "duration": 11,
    "start_time": "2022-07-22T19:50:21.970Z"
   },
   {
    "duration": 48,
    "start_time": "2022-07-22T19:50:21.983Z"
   },
   {
    "duration": 125,
    "start_time": "2022-07-22T19:50:22.033Z"
   },
   {
    "duration": 18,
    "start_time": "2022-07-22T19:50:22.159Z"
   },
   {
    "duration": 7,
    "start_time": "2022-07-22T19:50:22.179Z"
   },
   {
    "duration": 11,
    "start_time": "2022-07-22T19:50:22.188Z"
   },
   {
    "duration": 22,
    "start_time": "2022-07-22T19:50:22.201Z"
   },
   {
    "duration": 3,
    "start_time": "2022-07-22T19:50:22.225Z"
   },
   {
    "duration": 12,
    "start_time": "2022-07-22T19:50:22.230Z"
   },
   {
    "duration": 6,
    "start_time": "2022-07-22T19:50:22.244Z"
   },
   {
    "duration": 6,
    "start_time": "2022-07-22T19:50:22.253Z"
   },
   {
    "duration": 9,
    "start_time": "2022-07-22T19:50:22.261Z"
   },
   {
    "duration": 7,
    "start_time": "2022-07-22T19:50:22.272Z"
   },
   {
    "duration": 7,
    "start_time": "2022-07-22T19:50:22.280Z"
   },
   {
    "duration": 11,
    "start_time": "2022-07-22T19:50:22.288Z"
   },
   {
    "duration": 24,
    "start_time": "2022-07-22T19:50:22.300Z"
   },
   {
    "duration": 7,
    "start_time": "2022-07-22T19:50:22.326Z"
   },
   {
    "duration": 9,
    "start_time": "2022-07-22T19:50:22.335Z"
   },
   {
    "duration": 6,
    "start_time": "2022-07-22T19:50:22.346Z"
   },
   {
    "duration": 8,
    "start_time": "2022-07-22T19:50:33.953Z"
   },
   {
    "duration": 5,
    "start_time": "2022-07-22T19:51:15.349Z"
   },
   {
    "duration": 3,
    "start_time": "2022-07-22T20:19:44.775Z"
   },
   {
    "duration": 3,
    "start_time": "2022-07-22T20:22:21.343Z"
   },
   {
    "duration": 12,
    "start_time": "2022-07-22T20:24:21.878Z"
   },
   {
    "duration": 3,
    "start_time": "2022-07-22T20:24:29.768Z"
   },
   {
    "duration": 5,
    "start_time": "2022-07-22T20:24:30.971Z"
   },
   {
    "duration": 197,
    "start_time": "2022-07-22T20:26:02.012Z"
   },
   {
    "duration": 8,
    "start_time": "2022-07-22T20:27:17.327Z"
   },
   {
    "duration": 4,
    "start_time": "2022-07-22T20:28:09.281Z"
   },
   {
    "duration": 4,
    "start_time": "2022-07-22T20:28:28.113Z"
   },
   {
    "duration": 3,
    "start_time": "2022-07-22T20:30:41.709Z"
   },
   {
    "duration": 183,
    "start_time": "2022-07-22T20:30:41.714Z"
   },
   {
    "duration": 3,
    "start_time": "2022-07-22T20:30:41.899Z"
   },
   {
    "duration": 815,
    "start_time": "2022-07-22T20:30:41.904Z"
   },
   {
    "duration": 4,
    "start_time": "2022-07-22T20:30:42.723Z"
   },
   {
    "duration": 81,
    "start_time": "2022-07-22T20:30:42.730Z"
   },
   {
    "duration": 6,
    "start_time": "2022-07-22T20:30:42.812Z"
   },
   {
    "duration": 245,
    "start_time": "2022-07-22T20:30:42.820Z"
   },
   {
    "duration": 14,
    "start_time": "2022-07-22T20:30:43.067Z"
   },
   {
    "duration": 58,
    "start_time": "2022-07-22T20:30:43.082Z"
   },
   {
    "duration": 117,
    "start_time": "2022-07-22T20:30:43.144Z"
   },
   {
    "duration": 3,
    "start_time": "2022-07-22T20:30:43.263Z"
   },
   {
    "duration": 28,
    "start_time": "2022-07-22T20:30:43.268Z"
   },
   {
    "duration": 21,
    "start_time": "2022-07-22T20:30:43.298Z"
   },
   {
    "duration": 35,
    "start_time": "2022-07-22T20:30:43.321Z"
   },
   {
    "duration": 18,
    "start_time": "2022-07-22T20:30:43.358Z"
   },
   {
    "duration": 18,
    "start_time": "2022-07-22T20:30:43.378Z"
   },
   {
    "duration": 29,
    "start_time": "2022-07-22T20:30:43.398Z"
   },
   {
    "duration": 31,
    "start_time": "2022-07-22T20:30:43.429Z"
   },
   {
    "duration": 18,
    "start_time": "2022-07-22T20:30:43.461Z"
   },
   {
    "duration": 14,
    "start_time": "2022-07-22T20:30:43.481Z"
   },
   {
    "duration": 21,
    "start_time": "2022-07-22T20:30:43.497Z"
   },
   {
    "duration": 30,
    "start_time": "2022-07-22T20:30:43.520Z"
   },
   {
    "duration": 28,
    "start_time": "2022-07-22T20:30:43.551Z"
   },
   {
    "duration": 27,
    "start_time": "2022-07-22T20:30:43.581Z"
   },
   {
    "duration": 53,
    "start_time": "2022-07-22T20:30:43.610Z"
   },
   {
    "duration": 11,
    "start_time": "2022-07-22T20:30:43.665Z"
   },
   {
    "duration": 26,
    "start_time": "2022-07-22T20:30:43.678Z"
   },
   {
    "duration": 120,
    "start_time": "2022-07-22T20:31:36.228Z"
   },
   {
    "duration": 120,
    "start_time": "2022-07-22T20:31:55.587Z"
   },
   {
    "duration": 1362,
    "start_time": "2022-07-22T20:36:53.448Z"
   },
   {
    "duration": 15,
    "start_time": "2022-07-22T20:36:54.812Z"
   },
   {
    "duration": 3,
    "start_time": "2022-07-22T20:36:57.963Z"
   },
   {
    "duration": 3,
    "start_time": "2022-07-22T20:37:10.477Z"
   },
   {
    "duration": 2,
    "start_time": "2022-07-22T20:37:11.190Z"
   },
   {
    "duration": 143739,
    "start_time": "2022-07-22T20:37:47.458Z"
   },
   {
    "duration": 0,
    "start_time": "2022-07-22T20:40:11.199Z"
   },
   {
    "duration": 19363,
    "start_time": "2022-07-22T20:41:10.195Z"
   },
   {
    "duration": 109,
    "start_time": "2022-07-22T21:01:34.447Z"
   },
   {
    "duration": 61,
    "start_time": "2022-07-22T21:01:42.769Z"
   },
   {
    "duration": 1279,
    "start_time": "2022-07-22T23:09:15.773Z"
   },
   {
    "duration": 196,
    "start_time": "2022-07-22T23:09:17.054Z"
   },
   {
    "duration": 6,
    "start_time": "2022-07-22T23:09:17.252Z"
   },
   {
    "duration": 4,
    "start_time": "2022-07-22T23:09:17.260Z"
   },
   {
    "duration": 2343,
    "start_time": "2022-07-22T23:09:17.265Z"
   },
   {
    "duration": 13,
    "start_time": "2022-07-22T23:09:19.609Z"
   },
   {
    "duration": 34,
    "start_time": "2022-07-22T23:09:19.623Z"
   },
   {
    "duration": 235,
    "start_time": "2022-07-22T23:09:19.658Z"
   },
   {
    "duration": 300,
    "start_time": "2022-07-22T23:09:19.895Z"
   },
   {
    "duration": 69,
    "start_time": "2022-07-22T23:09:20.197Z"
   },
   {
    "duration": 45,
    "start_time": "2022-07-22T23:09:20.267Z"
   },
   {
    "duration": 0,
    "start_time": "2022-07-22T23:09:20.314Z"
   },
   {
    "duration": 4,
    "start_time": "2022-07-22T23:09:48.269Z"
   },
   {
    "duration": 22,
    "start_time": "2022-07-22T23:09:48.275Z"
   },
   {
    "duration": 34,
    "start_time": "2022-07-22T23:09:48.298Z"
   },
   {
    "duration": 26,
    "start_time": "2022-07-22T23:09:48.334Z"
   },
   {
    "duration": 788,
    "start_time": "2022-07-22T23:09:48.362Z"
   },
   {
    "duration": 13,
    "start_time": "2022-07-22T23:09:49.152Z"
   },
   {
    "duration": 41,
    "start_time": "2022-07-22T23:09:49.167Z"
   },
   {
    "duration": 228,
    "start_time": "2022-07-22T23:09:49.210Z"
   },
   {
    "duration": 107,
    "start_time": "2022-07-22T23:09:49.440Z"
   },
   {
    "duration": 76,
    "start_time": "2022-07-22T23:09:49.549Z"
   },
   {
    "duration": 6,
    "start_time": "2022-07-22T23:09:49.626Z"
   },
   {
    "duration": 212140,
    "start_time": "2022-07-22T23:09:49.633Z"
   },
   {
    "duration": 3305,
    "start_time": "2022-07-22T23:20:28.727Z"
   },
   {
    "duration": 11,
    "start_time": "2022-07-22T23:21:01.961Z"
   },
   {
    "duration": 5,
    "start_time": "2022-07-22T23:21:31.231Z"
   },
   {
    "duration": 19,
    "start_time": "2022-07-22T23:21:50.070Z"
   },
   {
    "duration": 3,
    "start_time": "2022-07-22T23:22:25.537Z"
   },
   {
    "duration": 3,
    "start_time": "2022-07-22T23:24:10.518Z"
   },
   {
    "duration": 11,
    "start_time": "2022-07-22T23:24:10.523Z"
   },
   {
    "duration": 7,
    "start_time": "2022-07-22T23:24:10.535Z"
   },
   {
    "duration": 7,
    "start_time": "2022-07-22T23:24:10.544Z"
   },
   {
    "duration": 738,
    "start_time": "2022-07-22T23:24:10.553Z"
   },
   {
    "duration": 10,
    "start_time": "2022-07-22T23:24:11.292Z"
   },
   {
    "duration": 46,
    "start_time": "2022-07-22T23:24:11.304Z"
   },
   {
    "duration": 229,
    "start_time": "2022-07-22T23:24:11.352Z"
   },
   {
    "duration": 118,
    "start_time": "2022-07-22T23:24:11.584Z"
   },
   {
    "duration": 1960,
    "start_time": "2022-07-22T23:24:11.703Z"
   },
   {
    "duration": 69,
    "start_time": "2022-07-22T23:24:13.666Z"
   },
   {
    "duration": 0,
    "start_time": "2022-07-22T23:24:13.736Z"
   },
   {
    "duration": 4,
    "start_time": "2022-07-22T23:24:57.146Z"
   },
   {
    "duration": 13,
    "start_time": "2022-07-22T23:24:57.152Z"
   },
   {
    "duration": 6,
    "start_time": "2022-07-22T23:24:57.167Z"
   },
   {
    "duration": 7,
    "start_time": "2022-07-22T23:24:57.175Z"
   },
   {
    "duration": 725,
    "start_time": "2022-07-22T23:24:57.183Z"
   },
   {
    "duration": 17,
    "start_time": "2022-07-22T23:24:57.910Z"
   },
   {
    "duration": 34,
    "start_time": "2022-07-22T23:24:57.929Z"
   },
   {
    "duration": 222,
    "start_time": "2022-07-22T23:24:57.965Z"
   },
   {
    "duration": 112,
    "start_time": "2022-07-22T23:24:58.189Z"
   },
   {
    "duration": 1208,
    "start_time": "2022-07-22T23:25:20.766Z"
   },
   {
    "duration": 172,
    "start_time": "2022-07-22T23:25:21.976Z"
   },
   {
    "duration": 6,
    "start_time": "2022-07-22T23:25:22.149Z"
   },
   {
    "duration": 4,
    "start_time": "2022-07-22T23:25:22.157Z"
   },
   {
    "duration": 2367,
    "start_time": "2022-07-22T23:25:22.163Z"
   },
   {
    "duration": 13,
    "start_time": "2022-07-22T23:25:24.531Z"
   },
   {
    "duration": 49,
    "start_time": "2022-07-22T23:25:24.546Z"
   },
   {
    "duration": 228,
    "start_time": "2022-07-22T23:25:24.597Z"
   },
   {
    "duration": 297,
    "start_time": "2022-07-22T23:25:24.826Z"
   },
   {
    "duration": 1976,
    "start_time": "2022-07-22T23:25:25.126Z"
   },
   {
    "duration": 9,
    "start_time": "2022-07-22T23:25:27.103Z"
   },
   {
    "duration": 1219,
    "start_time": "2022-07-22T23:27:12.942Z"
   },
   {
    "duration": 153,
    "start_time": "2022-07-22T23:27:14.163Z"
   },
   {
    "duration": 5,
    "start_time": "2022-07-22T23:27:14.318Z"
   },
   {
    "duration": 6,
    "start_time": "2022-07-22T23:27:14.325Z"
   },
   {
    "duration": 2346,
    "start_time": "2022-07-22T23:27:14.333Z"
   },
   {
    "duration": 14,
    "start_time": "2022-07-22T23:27:16.680Z"
   },
   {
    "duration": 62,
    "start_time": "2022-07-22T23:27:16.696Z"
   },
   {
    "duration": 241,
    "start_time": "2022-07-22T23:27:16.760Z"
   },
   {
    "duration": 322,
    "start_time": "2022-07-22T23:27:17.003Z"
   },
   {
    "duration": 1933,
    "start_time": "2022-07-22T23:27:17.327Z"
   },
   {
    "duration": 10,
    "start_time": "2022-07-22T23:27:19.262Z"
   },
   {
    "duration": 1196,
    "start_time": "2022-07-22T23:27:36.473Z"
   },
   {
    "duration": 210,
    "start_time": "2022-07-22T23:27:37.670Z"
   },
   {
    "duration": 4,
    "start_time": "2022-07-22T23:27:37.884Z"
   },
   {
    "duration": 12,
    "start_time": "2022-07-22T23:27:37.889Z"
   },
   {
    "duration": 779,
    "start_time": "2022-07-22T23:27:37.902Z"
   },
   {
    "duration": 14,
    "start_time": "2022-07-22T23:27:38.683Z"
   },
   {
    "duration": 54,
    "start_time": "2022-07-22T23:27:38.698Z"
   },
   {
    "duration": 259,
    "start_time": "2022-07-22T23:27:38.753Z"
   },
   {
    "duration": 338,
    "start_time": "2022-07-22T23:27:39.015Z"
   },
   {
    "duration": 1974,
    "start_time": "2022-07-22T23:27:39.355Z"
   },
   {
    "duration": 10,
    "start_time": "2022-07-22T23:27:41.332Z"
   },
   {
    "duration": 1239,
    "start_time": "2022-07-22T23:30:15.769Z"
   },
   {
    "duration": 218,
    "start_time": "2022-07-22T23:30:17.010Z"
   },
   {
    "duration": 6,
    "start_time": "2022-07-22T23:30:17.230Z"
   },
   {
    "duration": 24,
    "start_time": "2022-07-22T23:30:17.238Z"
   },
   {
    "duration": 2369,
    "start_time": "2022-07-22T23:30:17.264Z"
   },
   {
    "duration": 13,
    "start_time": "2022-07-22T23:30:19.634Z"
   },
   {
    "duration": 46,
    "start_time": "2022-07-22T23:30:19.649Z"
   },
   {
    "duration": 245,
    "start_time": "2022-07-22T23:30:19.697Z"
   },
   {
    "duration": 309,
    "start_time": "2022-07-22T23:30:19.943Z"
   },
   {
    "duration": 1969,
    "start_time": "2022-07-22T23:30:20.255Z"
   },
   {
    "duration": 16,
    "start_time": "2022-07-22T23:30:22.225Z"
   },
   {
    "duration": 1279,
    "start_time": "2022-07-23T04:01:49.647Z"
   },
   {
    "duration": 144,
    "start_time": "2022-07-23T04:01:50.928Z"
   },
   {
    "duration": 7,
    "start_time": "2022-07-23T04:01:51.073Z"
   },
   {
    "duration": 7,
    "start_time": "2022-07-23T04:01:51.082Z"
   },
   {
    "duration": 2332,
    "start_time": "2022-07-23T04:01:51.091Z"
   },
   {
    "duration": 12,
    "start_time": "2022-07-23T04:01:53.425Z"
   },
   {
    "duration": 34,
    "start_time": "2022-07-23T04:01:53.439Z"
   },
   {
    "duration": 241,
    "start_time": "2022-07-23T04:01:53.475Z"
   },
   {
    "duration": 283,
    "start_time": "2022-07-23T04:01:53.718Z"
   },
   {
    "duration": 3,
    "start_time": "2022-07-23T04:01:54.003Z"
   },
   {
    "duration": 27,
    "start_time": "2022-07-23T04:01:54.008Z"
   },
   {
    "duration": 1286,
    "start_time": "2022-07-23T04:01:54.036Z"
   },
   {
    "duration": 4,
    "start_time": "2022-07-23T04:01:55.324Z"
   },
   {
    "duration": 34,
    "start_time": "2022-07-23T04:01:55.330Z"
   },
   {
    "duration": 126,
    "start_time": "2022-07-23T04:01:55.366Z"
   },
   {
    "duration": 0,
    "start_time": "2022-07-23T04:01:55.494Z"
   },
   {
    "duration": 0,
    "start_time": "2022-07-23T04:01:55.495Z"
   },
   {
    "duration": 0,
    "start_time": "2022-07-23T04:01:55.497Z"
   },
   {
    "duration": 0,
    "start_time": "2022-07-23T04:01:55.498Z"
   },
   {
    "duration": 0,
    "start_time": "2022-07-23T04:01:55.499Z"
   },
   {
    "duration": 0,
    "start_time": "2022-07-23T04:01:55.501Z"
   },
   {
    "duration": 0,
    "start_time": "2022-07-23T04:01:55.501Z"
   },
   {
    "duration": 0,
    "start_time": "2022-07-23T04:01:55.502Z"
   },
   {
    "duration": 0,
    "start_time": "2022-07-23T04:01:55.503Z"
   },
   {
    "duration": 1,
    "start_time": "2022-07-23T04:01:55.504Z"
   },
   {
    "duration": 0,
    "start_time": "2022-07-23T04:01:55.523Z"
   },
   {
    "duration": 0,
    "start_time": "2022-07-23T04:01:55.524Z"
   },
   {
    "duration": 0,
    "start_time": "2022-07-23T04:01:55.525Z"
   },
   {
    "duration": 0,
    "start_time": "2022-07-23T04:01:55.527Z"
   },
   {
    "duration": 0,
    "start_time": "2022-07-23T04:01:55.528Z"
   },
   {
    "duration": 3,
    "start_time": "2022-07-23T04:10:33.085Z"
   },
   {
    "duration": 10,
    "start_time": "2022-07-23T04:10:33.094Z"
   },
   {
    "duration": 5,
    "start_time": "2022-07-23T04:10:33.106Z"
   },
   {
    "duration": 5,
    "start_time": "2022-07-23T04:10:33.113Z"
   },
   {
    "duration": 723,
    "start_time": "2022-07-23T04:10:33.120Z"
   },
   {
    "duration": 11,
    "start_time": "2022-07-23T04:10:33.844Z"
   },
   {
    "duration": 36,
    "start_time": "2022-07-23T04:10:33.856Z"
   },
   {
    "duration": 237,
    "start_time": "2022-07-23T04:10:33.894Z"
   },
   {
    "duration": 107,
    "start_time": "2022-07-23T04:10:34.132Z"
   },
   {
    "duration": 3,
    "start_time": "2022-07-23T04:10:34.242Z"
   },
   {
    "duration": 7,
    "start_time": "2022-07-23T04:10:34.247Z"
   },
   {
    "duration": 68,
    "start_time": "2022-07-23T04:10:34.256Z"
   },
   {
    "duration": 4,
    "start_time": "2022-07-23T04:10:34.326Z"
   },
   {
    "duration": 8,
    "start_time": "2022-07-23T04:10:34.332Z"
   },
   {
    "duration": 13,
    "start_time": "2022-07-23T04:10:34.341Z"
   },
   {
    "duration": 16,
    "start_time": "2022-07-23T04:10:34.355Z"
   },
   {
    "duration": 126,
    "start_time": "2022-07-23T04:10:34.372Z"
   },
   {
    "duration": 3,
    "start_time": "2022-07-23T04:10:34.500Z"
   },
   {
    "duration": 18,
    "start_time": "2022-07-23T04:10:34.505Z"
   },
   {
    "duration": 4,
    "start_time": "2022-07-23T04:10:34.524Z"
   },
   {
    "duration": 12,
    "start_time": "2022-07-23T04:10:34.530Z"
   },
   {
    "duration": 3,
    "start_time": "2022-07-23T04:10:34.544Z"
   },
   {
    "duration": 19,
    "start_time": "2022-07-23T04:10:34.549Z"
   },
   {
    "duration": 6,
    "start_time": "2022-07-23T04:10:34.570Z"
   },
   {
    "duration": 9,
    "start_time": "2022-07-23T04:10:34.577Z"
   },
   {
    "duration": 7,
    "start_time": "2022-07-23T04:10:34.588Z"
   },
   {
    "duration": 12,
    "start_time": "2022-07-23T04:10:34.623Z"
   },
   {
    "duration": 13,
    "start_time": "2022-07-23T04:10:34.636Z"
   },
   {
    "duration": 13,
    "start_time": "2022-07-23T04:10:34.650Z"
   },
   {
    "duration": 6,
    "start_time": "2022-07-23T04:10:34.665Z"
   },
   {
    "duration": 3,
    "start_time": "2022-07-23T04:11:45.168Z"
   },
   {
    "duration": 11,
    "start_time": "2022-07-23T04:11:45.173Z"
   },
   {
    "duration": 5,
    "start_time": "2022-07-23T04:11:45.186Z"
   },
   {
    "duration": 13,
    "start_time": "2022-07-23T04:11:45.193Z"
   },
   {
    "duration": 716,
    "start_time": "2022-07-23T04:11:45.208Z"
   },
   {
    "duration": 10,
    "start_time": "2022-07-23T04:11:45.926Z"
   },
   {
    "duration": 36,
    "start_time": "2022-07-23T04:11:45.937Z"
   },
   {
    "duration": 243,
    "start_time": "2022-07-23T04:11:45.975Z"
   },
   {
    "duration": 104,
    "start_time": "2022-07-23T04:11:46.219Z"
   },
   {
    "duration": 15,
    "start_time": "2022-07-23T04:11:46.325Z"
   },
   {
    "duration": 6,
    "start_time": "2022-07-23T04:11:46.343Z"
   },
   {
    "duration": 522,
    "start_time": "2022-07-23T04:11:46.351Z"
   },
   {
    "duration": 3,
    "start_time": "2022-07-23T04:11:46.875Z"
   },
   {
    "duration": 22,
    "start_time": "2022-07-23T04:11:46.880Z"
   },
   {
    "duration": 47,
    "start_time": "2022-07-23T04:11:46.903Z"
   },
   {
    "duration": 26,
    "start_time": "2022-07-23T04:11:46.952Z"
   },
   {
    "duration": 122,
    "start_time": "2022-07-23T04:11:46.979Z"
   },
   {
    "duration": 4,
    "start_time": "2022-07-23T04:11:47.102Z"
   },
   {
    "duration": 26,
    "start_time": "2022-07-23T04:11:47.107Z"
   },
   {
    "duration": 31,
    "start_time": "2022-07-23T04:11:47.135Z"
   },
   {
    "duration": 86,
    "start_time": "2022-07-23T04:11:47.167Z"
   },
   {
    "duration": 3,
    "start_time": "2022-07-23T04:11:47.255Z"
   },
   {
    "duration": 75,
    "start_time": "2022-07-23T04:11:47.260Z"
   },
   {
    "duration": 4,
    "start_time": "2022-07-23T04:11:47.336Z"
   },
   {
    "duration": 8,
    "start_time": "2022-07-23T04:11:47.342Z"
   },
   {
    "duration": 14,
    "start_time": "2022-07-23T04:11:47.351Z"
   },
   {
    "duration": 17,
    "start_time": "2022-07-23T04:11:47.366Z"
   },
   {
    "duration": 398,
    "start_time": "2022-07-23T04:11:47.385Z"
   },
   {
    "duration": 10,
    "start_time": "2022-07-23T04:11:47.786Z"
   },
   {
    "duration": 6,
    "start_time": "2022-07-23T04:11:47.797Z"
   },
   {
    "duration": 3,
    "start_time": "2022-07-23T04:12:38.565Z"
   },
   {
    "duration": 12,
    "start_time": "2022-07-23T04:12:38.570Z"
   },
   {
    "duration": 4,
    "start_time": "2022-07-23T04:12:38.583Z"
   },
   {
    "duration": 7,
    "start_time": "2022-07-23T04:12:38.589Z"
   },
   {
    "duration": 745,
    "start_time": "2022-07-23T04:12:38.598Z"
   },
   {
    "duration": 10,
    "start_time": "2022-07-23T04:12:39.344Z"
   },
   {
    "duration": 35,
    "start_time": "2022-07-23T04:12:39.355Z"
   },
   {
    "duration": 225,
    "start_time": "2022-07-23T04:12:39.392Z"
   },
   {
    "duration": 240,
    "start_time": "2022-07-23T04:12:39.623Z"
   },
   {
    "duration": 1274,
    "start_time": "2022-07-23T04:12:39.865Z"
   },
   {
    "duration": 9,
    "start_time": "2022-07-23T04:12:41.141Z"
   },
   {
    "duration": 1294,
    "start_time": "2022-07-23T05:17:42.691Z"
   },
   {
    "duration": 226,
    "start_time": "2022-07-23T05:17:43.986Z"
   },
   {
    "duration": 9,
    "start_time": "2022-07-23T05:17:44.213Z"
   },
   {
    "duration": 3,
    "start_time": "2022-07-23T05:17:44.224Z"
   },
   {
    "duration": 2327,
    "start_time": "2022-07-23T05:17:44.228Z"
   },
   {
    "duration": 12,
    "start_time": "2022-07-23T05:17:46.557Z"
   },
   {
    "duration": 34,
    "start_time": "2022-07-23T05:17:46.571Z"
   },
   {
    "duration": 230,
    "start_time": "2022-07-23T05:17:46.607Z"
   },
   {
    "duration": 286,
    "start_time": "2022-07-23T05:17:46.839Z"
   },
   {
    "duration": 1252,
    "start_time": "2022-07-23T05:17:47.128Z"
   },
   {
    "duration": 9,
    "start_time": "2022-07-23T05:17:48.383Z"
   },
   {
    "duration": 15,
    "start_time": "2022-07-23T05:17:48.394Z"
   },
   {
    "duration": 46727,
    "start_time": "2022-07-23T05:17:48.411Z"
   },
   {
    "duration": 4,
    "start_time": "2022-07-23T05:18:35.140Z"
   },
   {
    "duration": 3,
    "start_time": "2022-07-23T05:20:54.680Z"
   },
   {
    "duration": 40,
    "start_time": "2022-07-23T05:20:55.970Z"
   },
   {
    "duration": 5,
    "start_time": "2022-07-23T05:20:57.767Z"
   },
   {
    "duration": 5,
    "start_time": "2022-07-23T05:21:59.718Z"
   },
   {
    "duration": 2699,
    "start_time": "2022-07-23T05:35:47.237Z"
   },
   {
    "duration": 4,
    "start_time": "2022-07-23T05:35:52.878Z"
   },
   {
    "duration": 4,
    "start_time": "2022-07-23T05:38:52.720Z"
   },
   {
    "duration": 1140,
    "start_time": "2022-07-24T14:04:16.418Z"
   },
   {
    "duration": 377,
    "start_time": "2022-07-24T14:04:17.559Z"
   },
   {
    "duration": 4,
    "start_time": "2022-07-24T14:04:17.938Z"
   },
   {
    "duration": 4,
    "start_time": "2022-07-24T14:04:17.944Z"
   },
   {
    "duration": 3024,
    "start_time": "2022-07-24T14:04:17.949Z"
   },
   {
    "duration": 12,
    "start_time": "2022-07-24T14:04:20.974Z"
   },
   {
    "duration": 30,
    "start_time": "2022-07-24T14:04:20.987Z"
   },
   {
    "duration": 199,
    "start_time": "2022-07-24T14:04:21.018Z"
   },
   {
    "duration": 441,
    "start_time": "2022-07-24T14:04:21.219Z"
   },
   {
    "duration": 1085,
    "start_time": "2022-07-24T14:04:21.662Z"
   },
   {
    "duration": 6,
    "start_time": "2022-07-24T14:04:22.749Z"
   },
   {
    "duration": 7,
    "start_time": "2022-07-24T14:04:22.756Z"
   },
   {
    "duration": 45432,
    "start_time": "2022-07-24T14:04:22.764Z"
   },
   {
    "duration": 3,
    "start_time": "2022-07-24T14:05:08.198Z"
   },
   {
    "duration": 9,
    "start_time": "2022-07-24T14:05:08.203Z"
   },
   {
    "duration": 47,
    "start_time": "2022-07-24T14:05:08.213Z"
   },
   {
    "duration": 109,
    "start_time": "2022-07-24T14:05:08.262Z"
   },
   {
    "duration": 2507,
    "start_time": "2022-07-24T14:05:08.373Z"
   },
   {
    "duration": 3,
    "start_time": "2022-07-24T14:05:10.882Z"
   },
   {
    "duration": 13,
    "start_time": "2022-07-24T14:05:10.886Z"
   },
   {
    "duration": 110,
    "start_time": "2022-07-24T14:05:10.900Z"
   },
   {
    "duration": 0,
    "start_time": "2022-07-24T14:05:11.011Z"
   },
   {
    "duration": 0,
    "start_time": "2022-07-24T14:05:11.012Z"
   },
   {
    "duration": 0,
    "start_time": "2022-07-24T14:05:11.013Z"
   },
   {
    "duration": 3,
    "start_time": "2022-07-24T14:06:22.463Z"
   },
   {
    "duration": 3,
    "start_time": "2022-07-24T14:09:55.812Z"
   },
   {
    "duration": 18,
    "start_time": "2022-07-24T14:09:55.817Z"
   },
   {
    "duration": 10,
    "start_time": "2022-07-24T14:09:55.837Z"
   },
   {
    "duration": 6,
    "start_time": "2022-07-24T14:09:55.849Z"
   },
   {
    "duration": 667,
    "start_time": "2022-07-24T14:09:55.857Z"
   },
   {
    "duration": 10,
    "start_time": "2022-07-24T14:09:56.525Z"
   },
   {
    "duration": 38,
    "start_time": "2022-07-24T14:09:56.536Z"
   },
   {
    "duration": 202,
    "start_time": "2022-07-24T14:09:56.575Z"
   },
   {
    "duration": 98,
    "start_time": "2022-07-24T14:09:56.779Z"
   },
   {
    "duration": 1174,
    "start_time": "2022-07-24T14:10:57.704Z"
   },
   {
    "duration": 181,
    "start_time": "2022-07-24T14:10:58.880Z"
   },
   {
    "duration": 10,
    "start_time": "2022-07-24T14:10:59.063Z"
   },
   {
    "duration": 14,
    "start_time": "2022-07-24T14:10:59.075Z"
   },
   {
    "duration": 3045,
    "start_time": "2022-07-24T14:10:59.090Z"
   },
   {
    "duration": 12,
    "start_time": "2022-07-24T14:11:02.137Z"
   },
   {
    "duration": 32,
    "start_time": "2022-07-24T14:11:02.150Z"
   },
   {
    "duration": 200,
    "start_time": "2022-07-24T14:11:02.184Z"
   },
   {
    "duration": 277,
    "start_time": "2022-07-24T14:11:02.386Z"
   },
   {
    "duration": 1064,
    "start_time": "2022-07-24T14:11:02.665Z"
   },
   {
    "duration": 9,
    "start_time": "2022-07-24T14:11:03.730Z"
   },
   {
    "duration": 6,
    "start_time": "2022-07-24T14:11:03.741Z"
   },
   {
    "duration": 45501,
    "start_time": "2022-07-24T14:11:03.752Z"
   },
   {
    "duration": 4,
    "start_time": "2022-07-24T14:11:49.255Z"
   },
   {
    "duration": 9,
    "start_time": "2022-07-24T14:11:49.260Z"
   },
   {
    "duration": 36,
    "start_time": "2022-07-24T14:11:49.270Z"
   },
   {
    "duration": 103,
    "start_time": "2022-07-24T14:11:49.308Z"
   },
   {
    "duration": 2430,
    "start_time": "2022-07-24T14:11:49.412Z"
   },
   {
    "duration": 3,
    "start_time": "2022-07-24T14:11:51.844Z"
   },
   {
    "duration": 11,
    "start_time": "2022-07-24T14:11:51.852Z"
   },
   {
    "duration": 6,
    "start_time": "2022-07-24T14:11:51.864Z"
   },
   {
    "duration": 70,
    "start_time": "2022-07-24T14:11:51.871Z"
   },
   {
    "duration": 0,
    "start_time": "2022-07-24T14:11:51.943Z"
   },
   {
    "duration": 0,
    "start_time": "2022-07-24T14:11:51.944Z"
   },
   {
    "duration": 0,
    "start_time": "2022-07-24T14:11:51.945Z"
   },
   {
    "duration": 1221,
    "start_time": "2022-07-24T18:42:36.384Z"
   },
   {
    "duration": 4,
    "start_time": "2022-07-24T19:00:57.280Z"
   },
   {
    "duration": 719,
    "start_time": "2022-07-24T19:00:57.287Z"
   },
   {
    "duration": 4,
    "start_time": "2022-07-24T19:00:58.009Z"
   },
   {
    "duration": 5,
    "start_time": "2022-07-24T19:00:58.014Z"
   },
   {
    "duration": 3347,
    "start_time": "2022-07-24T19:00:58.022Z"
   },
   {
    "duration": 12,
    "start_time": "2022-07-24T19:01:01.370Z"
   },
   {
    "duration": 38,
    "start_time": "2022-07-24T19:01:01.383Z"
   },
   {
    "duration": 214,
    "start_time": "2022-07-24T19:01:01.422Z"
   },
   {
    "duration": 460,
    "start_time": "2022-07-24T19:01:01.638Z"
   },
   {
    "duration": 1120,
    "start_time": "2022-07-24T19:01:02.100Z"
   },
   {
    "duration": 4,
    "start_time": "2022-07-24T19:01:03.223Z"
   },
   {
    "duration": 5,
    "start_time": "2022-07-24T19:01:03.229Z"
   },
   {
    "duration": 17,
    "start_time": "2022-07-24T19:01:03.236Z"
   },
   {
    "duration": 638,
    "start_time": "2022-07-24T19:01:03.255Z"
   },
   {
    "duration": 1290,
    "start_time": "2022-07-24T19:01:03.894Z"
   },
   {
    "duration": 0,
    "start_time": "2022-07-24T19:01:05.187Z"
   },
   {
    "duration": 0,
    "start_time": "2022-07-24T19:01:05.188Z"
   },
   {
    "duration": 0,
    "start_time": "2022-07-24T19:01:05.189Z"
   },
   {
    "duration": 0,
    "start_time": "2022-07-24T19:01:05.190Z"
   },
   {
    "duration": 0,
    "start_time": "2022-07-24T19:01:05.191Z"
   },
   {
    "duration": 0,
    "start_time": "2022-07-24T19:01:05.192Z"
   },
   {
    "duration": 0,
    "start_time": "2022-07-24T19:01:05.194Z"
   },
   {
    "duration": 0,
    "start_time": "2022-07-24T19:01:05.195Z"
   },
   {
    "duration": 0,
    "start_time": "2022-07-24T19:01:05.197Z"
   },
   {
    "duration": 0,
    "start_time": "2022-07-24T19:01:05.198Z"
   },
   {
    "duration": 0,
    "start_time": "2022-07-24T19:01:05.200Z"
   },
   {
    "duration": 643,
    "start_time": "2022-07-24T19:02:05.940Z"
   },
   {
    "duration": 4,
    "start_time": "2022-07-24T19:02:15.973Z"
   },
   {
    "duration": 14,
    "start_time": "2022-07-24T19:02:15.979Z"
   },
   {
    "duration": 3,
    "start_time": "2022-07-24T19:02:15.995Z"
   },
   {
    "duration": 6,
    "start_time": "2022-07-24T19:02:16.000Z"
   },
   {
    "duration": 803,
    "start_time": "2022-07-24T19:02:16.007Z"
   },
   {
    "duration": 11,
    "start_time": "2022-07-24T19:02:16.812Z"
   },
   {
    "duration": 46,
    "start_time": "2022-07-24T19:02:16.826Z"
   },
   {
    "duration": 251,
    "start_time": "2022-07-24T19:02:16.874Z"
   },
   {
    "duration": 103,
    "start_time": "2022-07-24T19:02:17.130Z"
   },
   {
    "duration": 1393,
    "start_time": "2022-07-24T19:02:50.549Z"
   },
   {
    "duration": 260,
    "start_time": "2022-07-24T19:02:51.944Z"
   },
   {
    "duration": 5,
    "start_time": "2022-07-24T19:02:52.206Z"
   },
   {
    "duration": 3,
    "start_time": "2022-07-24T19:02:52.213Z"
   },
   {
    "duration": 3765,
    "start_time": "2022-07-24T19:02:52.217Z"
   },
   {
    "duration": 16,
    "start_time": "2022-07-24T19:02:55.984Z"
   },
   {
    "duration": 38,
    "start_time": "2022-07-24T19:02:56.002Z"
   },
   {
    "duration": 264,
    "start_time": "2022-07-24T19:02:56.042Z"
   },
   {
    "duration": 377,
    "start_time": "2022-07-24T19:02:56.307Z"
   },
   {
    "duration": 1192,
    "start_time": "2022-07-24T19:02:56.687Z"
   },
   {
    "duration": 7,
    "start_time": "2022-07-24T19:02:57.881Z"
   },
   {
    "duration": 6,
    "start_time": "2022-07-24T19:02:57.890Z"
   },
   {
    "duration": 9,
    "start_time": "2022-07-24T19:02:57.898Z"
   },
   {
    "duration": 691898,
    "start_time": "2022-07-24T19:02:57.909Z"
   },
   {
    "duration": 4,
    "start_time": "2022-07-24T19:14:29.809Z"
   },
   {
    "duration": 6,
    "start_time": "2022-07-24T19:14:29.814Z"
   },
   {
    "duration": 48,
    "start_time": "2022-07-24T19:14:29.821Z"
   },
   {
    "duration": 97,
    "start_time": "2022-07-24T19:14:29.870Z"
   },
   {
    "duration": 2536,
    "start_time": "2022-07-24T19:14:29.968Z"
   },
   {
    "duration": 4,
    "start_time": "2022-07-24T19:14:32.505Z"
   },
   {
    "duration": 13,
    "start_time": "2022-07-24T19:14:32.510Z"
   },
   {
    "duration": 5,
    "start_time": "2022-07-24T19:14:32.524Z"
   },
   {
    "duration": 72,
    "start_time": "2022-07-24T19:14:32.530Z"
   },
   {
    "duration": 0,
    "start_time": "2022-07-24T19:14:32.604Z"
   },
   {
    "duration": 0,
    "start_time": "2022-07-24T19:14:32.605Z"
   },
   {
    "duration": 0,
    "start_time": "2022-07-24T19:14:32.607Z"
   },
   {
    "duration": 4,
    "start_time": "2022-07-24T19:16:59.836Z"
   },
   {
    "duration": 4,
    "start_time": "2022-07-24T19:22:00.756Z"
   },
   {
    "duration": 2,
    "start_time": "2022-07-24T19:26:39.264Z"
   },
   {
    "duration": 1410,
    "start_time": "2022-07-24T19:39:24.556Z"
   },
   {
    "duration": 145,
    "start_time": "2022-07-24T19:41:51.882Z"
   },
   {
    "duration": 9,
    "start_time": "2022-07-24T19:42:11.221Z"
   },
   {
    "duration": 1270,
    "start_time": "2022-07-24T19:42:28.075Z"
   },
   {
    "duration": 220,
    "start_time": "2022-07-24T19:42:29.347Z"
   },
   {
    "duration": 6,
    "start_time": "2022-07-24T19:42:29.570Z"
   },
   {
    "duration": 4,
    "start_time": "2022-07-24T19:42:29.579Z"
   },
   {
    "duration": 3413,
    "start_time": "2022-07-24T19:42:29.585Z"
   },
   {
    "duration": 14,
    "start_time": "2022-07-24T19:42:33.000Z"
   },
   {
    "duration": 35,
    "start_time": "2022-07-24T19:42:33.016Z"
   },
   {
    "duration": 220,
    "start_time": "2022-07-24T19:42:33.053Z"
   },
   {
    "duration": 293,
    "start_time": "2022-07-24T19:42:33.275Z"
   },
   {
    "duration": 1144,
    "start_time": "2022-07-24T19:42:33.571Z"
   },
   {
    "duration": 10,
    "start_time": "2022-07-24T19:42:34.718Z"
   },
   {
    "duration": 6,
    "start_time": "2022-07-24T19:42:34.731Z"
   },
   {
    "duration": 14,
    "start_time": "2022-07-24T19:42:34.738Z"
   },
   {
    "duration": 690989,
    "start_time": "2022-07-24T19:42:34.753Z"
   },
   {
    "duration": 21,
    "start_time": "2022-07-24T19:54:05.743Z"
   },
   {
    "duration": 7,
    "start_time": "2022-07-24T19:54:05.766Z"
   },
   {
    "duration": 4,
    "start_time": "2022-07-24T19:54:05.775Z"
   },
   {
    "duration": 42,
    "start_time": "2022-07-24T19:54:05.781Z"
   },
   {
    "duration": 114,
    "start_time": "2022-07-24T19:54:05.825Z"
   },
   {
    "duration": 2792,
    "start_time": "2022-07-24T19:54:05.940Z"
   },
   {
    "duration": 5,
    "start_time": "2022-07-24T19:54:08.734Z"
   },
   {
    "duration": 24,
    "start_time": "2022-07-24T19:54:08.740Z"
   },
   {
    "duration": 10,
    "start_time": "2022-07-24T19:54:08.765Z"
   },
   {
    "duration": 4,
    "start_time": "2022-07-24T19:54:08.776Z"
   },
   {
    "duration": 5,
    "start_time": "2022-07-24T19:54:08.782Z"
   },
   {
    "duration": 6,
    "start_time": "2022-07-24T19:54:08.789Z"
   },
   {
    "duration": 61,
    "start_time": "2022-07-24T19:55:48.412Z"
   },
   {
    "duration": 1238,
    "start_time": "2022-07-24T19:56:01.084Z"
   },
   {
    "duration": 215,
    "start_time": "2022-07-24T19:56:02.323Z"
   },
   {
    "duration": 5,
    "start_time": "2022-07-24T19:56:02.539Z"
   },
   {
    "duration": 4,
    "start_time": "2022-07-24T19:56:02.545Z"
   },
   {
    "duration": 3577,
    "start_time": "2022-07-24T19:56:02.550Z"
   },
   {
    "duration": 16,
    "start_time": "2022-07-24T19:56:06.129Z"
   },
   {
    "duration": 75,
    "start_time": "2022-07-24T19:56:06.147Z"
   },
   {
    "duration": 214,
    "start_time": "2022-07-24T19:56:06.224Z"
   },
   {
    "duration": 340,
    "start_time": "2022-07-24T19:56:06.440Z"
   },
   {
    "duration": 1149,
    "start_time": "2022-07-24T19:56:06.782Z"
   },
   {
    "duration": 5,
    "start_time": "2022-07-24T19:56:07.933Z"
   },
   {
    "duration": 6,
    "start_time": "2022-07-24T19:56:07.939Z"
   },
   {
    "duration": 20,
    "start_time": "2022-07-24T19:56:07.954Z"
   },
   {
    "duration": 690701,
    "start_time": "2022-07-24T19:56:07.977Z"
   },
   {
    "duration": 4,
    "start_time": "2022-07-24T20:07:38.679Z"
   },
   {
    "duration": 7,
    "start_time": "2022-07-24T20:07:38.685Z"
   },
   {
    "duration": 5,
    "start_time": "2022-07-24T20:07:38.694Z"
   },
   {
    "duration": 69,
    "start_time": "2022-07-24T20:07:38.700Z"
   },
   {
    "duration": 109,
    "start_time": "2022-07-24T20:07:38.771Z"
   },
   {
    "duration": 2754,
    "start_time": "2022-07-24T20:07:38.882Z"
   },
   {
    "duration": 3,
    "start_time": "2022-07-24T20:07:41.638Z"
   },
   {
    "duration": 13,
    "start_time": "2022-07-24T20:07:41.655Z"
   },
   {
    "duration": 5,
    "start_time": "2022-07-24T20:07:41.669Z"
   },
   {
    "duration": 3,
    "start_time": "2022-07-24T20:07:41.676Z"
   },
   {
    "duration": 5,
    "start_time": "2022-07-24T20:07:41.681Z"
   },
   {
    "duration": 6,
    "start_time": "2022-07-24T20:07:41.687Z"
   },
   {
    "duration": 43,
    "start_time": "2022-07-24T20:08:21.904Z"
   },
   {
    "duration": 1273,
    "start_time": "2022-07-24T20:09:07.971Z"
   },
   {
    "duration": 314,
    "start_time": "2022-07-24T20:09:09.246Z"
   },
   {
    "duration": 12,
    "start_time": "2022-07-24T20:09:09.562Z"
   },
   {
    "duration": 6,
    "start_time": "2022-07-24T20:09:09.576Z"
   },
   {
    "duration": 3619,
    "start_time": "2022-07-24T20:09:09.583Z"
   },
   {
    "duration": 12,
    "start_time": "2022-07-24T20:09:13.204Z"
   },
   {
    "duration": 31,
    "start_time": "2022-07-24T20:09:13.217Z"
   },
   {
    "duration": 236,
    "start_time": "2022-07-24T20:09:13.251Z"
   },
   {
    "duration": 342,
    "start_time": "2022-07-24T20:09:13.489Z"
   },
   {
    "duration": 128,
    "start_time": "2022-07-24T20:09:13.834Z"
   },
   {
    "duration": 8,
    "start_time": "2022-07-24T20:09:13.967Z"
   },
   {
    "duration": 7,
    "start_time": "2022-07-24T20:09:13.977Z"
   },
   {
    "duration": 5,
    "start_time": "2022-07-24T20:09:13.986Z"
   },
   {
    "duration": 72903,
    "start_time": "2022-07-24T20:09:13.993Z"
   },
   {
    "duration": 5,
    "start_time": "2022-07-24T20:10:26.897Z"
   },
   {
    "duration": 7,
    "start_time": "2022-07-24T20:10:26.903Z"
   },
   {
    "duration": 5,
    "start_time": "2022-07-24T20:10:26.911Z"
   },
   {
    "duration": 12,
    "start_time": "2022-07-24T20:10:26.917Z"
   },
   {
    "duration": 144,
    "start_time": "2022-07-24T20:10:26.931Z"
   },
   {
    "duration": 327,
    "start_time": "2022-07-24T20:10:27.076Z"
   },
   {
    "duration": 4,
    "start_time": "2022-07-24T20:10:27.405Z"
   },
   {
    "duration": 13,
    "start_time": "2022-07-24T20:10:27.411Z"
   },
   {
    "duration": 6,
    "start_time": "2022-07-24T20:10:27.425Z"
   },
   {
    "duration": 6,
    "start_time": "2022-07-24T20:10:27.432Z"
   },
   {
    "duration": 5,
    "start_time": "2022-07-24T20:10:27.452Z"
   },
   {
    "duration": 18,
    "start_time": "2022-07-24T20:10:27.464Z"
   },
   {
    "duration": 478,
    "start_time": "2022-07-24T20:10:27.484Z"
   },
   {
    "duration": 2,
    "start_time": "2022-07-24T20:10:27.966Z"
   },
   {
    "duration": 23185,
    "start_time": "2022-07-24T20:10:27.974Z"
   },
   {
    "duration": 447,
    "start_time": "2022-07-24T20:10:51.161Z"
   },
   {
    "duration": 160,
    "start_time": "2022-07-24T20:10:51.610Z"
   },
   {
    "duration": 85,
    "start_time": "2022-07-24T20:10:51.772Z"
   },
   {
    "duration": 7,
    "start_time": "2022-07-24T20:10:51.859Z"
   },
   {
    "duration": 1320,
    "start_time": "2022-07-24T20:12:26.011Z"
   },
   {
    "duration": 298,
    "start_time": "2022-07-24T20:12:27.334Z"
   },
   {
    "duration": 4,
    "start_time": "2022-07-24T20:12:27.633Z"
   },
   {
    "duration": 8,
    "start_time": "2022-07-24T20:12:27.639Z"
   },
   {
    "duration": 840,
    "start_time": "2022-07-24T20:12:27.648Z"
   },
   {
    "duration": 17,
    "start_time": "2022-07-24T20:12:28.490Z"
   },
   {
    "duration": 57,
    "start_time": "2022-07-24T20:12:28.509Z"
   },
   {
    "duration": 232,
    "start_time": "2022-07-24T20:12:28.567Z"
   },
   {
    "duration": 317,
    "start_time": "2022-07-24T20:12:28.801Z"
   },
   {
    "duration": 2,
    "start_time": "2022-07-24T20:12:29.121Z"
   },
   {
    "duration": 5,
    "start_time": "2022-07-24T20:12:29.125Z"
   },
   {
    "duration": 7,
    "start_time": "2022-07-24T20:12:29.131Z"
   },
   {
    "duration": 13,
    "start_time": "2022-07-24T20:12:29.140Z"
   },
   {
    "duration": 1091979,
    "start_time": "2022-07-24T20:12:29.164Z"
   },
   {
    "duration": 21,
    "start_time": "2022-07-24T20:30:41.144Z"
   },
   {
    "duration": 4,
    "start_time": "2022-07-24T20:30:41.167Z"
   },
   {
    "duration": 13,
    "start_time": "2022-07-24T20:30:41.173Z"
   },
   {
    "duration": 73,
    "start_time": "2022-07-24T20:30:41.187Z"
   },
   {
    "duration": 109,
    "start_time": "2022-07-24T20:30:41.261Z"
   },
   {
    "duration": 4159,
    "start_time": "2022-07-24T20:30:41.372Z"
   },
   {
    "duration": 3,
    "start_time": "2022-07-24T20:30:45.533Z"
   },
   {
    "duration": 30,
    "start_time": "2022-07-24T20:30:45.538Z"
   },
   {
    "duration": 5,
    "start_time": "2022-07-24T20:30:45.569Z"
   },
   {
    "duration": 4,
    "start_time": "2022-07-24T20:30:45.576Z"
   },
   {
    "duration": 5,
    "start_time": "2022-07-24T20:30:45.581Z"
   },
   {
    "duration": 5,
    "start_time": "2022-07-24T20:30:45.587Z"
   },
   {
    "duration": 51,
    "start_time": "2022-07-24T20:32:29.540Z"
   },
   {
    "duration": 6,
    "start_time": "2022-07-24T20:32:34.740Z"
   },
   {
    "duration": 1255,
    "start_time": "2022-07-24T20:32:51.558Z"
   },
   {
    "duration": 268,
    "start_time": "2022-07-24T20:32:52.815Z"
   },
   {
    "duration": 5,
    "start_time": "2022-07-24T20:32:53.084Z"
   },
   {
    "duration": 3,
    "start_time": "2022-07-24T20:32:53.091Z"
   },
   {
    "duration": 3370,
    "start_time": "2022-07-24T20:32:53.095Z"
   },
   {
    "duration": 12,
    "start_time": "2022-07-24T20:32:56.466Z"
   },
   {
    "duration": 30,
    "start_time": "2022-07-24T20:32:56.479Z"
   },
   {
    "duration": 216,
    "start_time": "2022-07-24T20:32:56.510Z"
   },
   {
    "duration": 284,
    "start_time": "2022-07-24T20:32:56.728Z"
   },
   {
    "duration": 2,
    "start_time": "2022-07-24T20:32:57.014Z"
   },
   {
    "duration": 5,
    "start_time": "2022-07-24T20:32:57.017Z"
   },
   {
    "duration": 10,
    "start_time": "2022-07-24T20:32:57.023Z"
   },
   {
    "duration": 4,
    "start_time": "2022-07-24T20:33:05.810Z"
   },
   {
    "duration": 1010262,
    "start_time": "2022-07-24T20:33:15.257Z"
   },
   {
    "duration": 4,
    "start_time": "2022-07-24T20:50:11.573Z"
   },
   {
    "duration": 4,
    "start_time": "2022-07-24T20:50:13.685Z"
   },
   {
    "duration": 3,
    "start_time": "2022-07-24T20:50:24.959Z"
   },
   {
    "duration": 70,
    "start_time": "2022-07-24T20:50:27.310Z"
   },
   {
    "duration": 102,
    "start_time": "2022-07-24T20:50:28.614Z"
   },
   {
    "duration": 3944,
    "start_time": "2022-07-24T20:50:37.342Z"
   },
   {
    "duration": 4,
    "start_time": "2022-07-24T20:50:44.361Z"
   },
   {
    "duration": 12,
    "start_time": "2022-07-24T20:50:48.364Z"
   },
   {
    "duration": 4,
    "start_time": "2022-07-24T20:50:56.448Z"
   },
   {
    "duration": 11,
    "start_time": "2022-07-24T20:51:34.246Z"
   },
   {
    "duration": 48,
    "start_time": "2022-07-24T21:05:57.731Z"
   },
   {
    "duration": 1336,
    "start_time": "2022-07-24T21:08:26.172Z"
   },
   {
    "duration": 201,
    "start_time": "2022-07-24T21:08:27.510Z"
   },
   {
    "duration": 5,
    "start_time": "2022-07-24T21:08:27.712Z"
   },
   {
    "duration": 4,
    "start_time": "2022-07-24T21:08:27.718Z"
   },
   {
    "duration": 3395,
    "start_time": "2022-07-24T21:08:27.725Z"
   },
   {
    "duration": 12,
    "start_time": "2022-07-24T21:08:31.122Z"
   },
   {
    "duration": 36,
    "start_time": "2022-07-24T21:08:31.136Z"
   },
   {
    "duration": 215,
    "start_time": "2022-07-24T21:08:31.174Z"
   },
   {
    "duration": 277,
    "start_time": "2022-07-24T21:08:31.390Z"
   },
   {
    "duration": 2,
    "start_time": "2022-07-24T21:08:31.669Z"
   },
   {
    "duration": 7,
    "start_time": "2022-07-24T21:08:31.672Z"
   },
   {
    "duration": 9,
    "start_time": "2022-07-24T21:08:31.681Z"
   },
   {
    "duration": 6,
    "start_time": "2022-07-24T21:08:31.692Z"
   },
   {
    "duration": 1014836,
    "start_time": "2022-07-24T21:08:31.700Z"
   },
   {
    "duration": 5,
    "start_time": "2022-07-24T21:25:26.538Z"
   },
   {
    "duration": 10,
    "start_time": "2022-07-24T21:25:26.544Z"
   },
   {
    "duration": 3,
    "start_time": "2022-07-24T21:33:17.826Z"
   },
   {
    "duration": 74,
    "start_time": "2022-07-24T21:33:28.171Z"
   },
   {
    "duration": 90,
    "start_time": "2022-07-24T21:33:32.940Z"
   },
   {
    "duration": 2960,
    "start_time": "2022-07-24T21:33:38.719Z"
   },
   {
    "duration": 4,
    "start_time": "2022-07-24T21:33:52.627Z"
   },
   {
    "duration": 4,
    "start_time": "2022-07-24T21:34:20.228Z"
   },
   {
    "duration": 5,
    "start_time": "2022-07-24T21:36:51.744Z"
   },
   {
    "duration": 2,
    "start_time": "2022-07-24T21:36:53.902Z"
   },
   {
    "duration": 29935,
    "start_time": "2022-07-24T21:36:59.618Z"
   },
   {
    "duration": 2717,
    "start_time": "2022-07-24T21:37:42.343Z"
   },
   {
    "duration": 9,
    "start_time": "2022-07-24T21:37:49.124Z"
   },
   {
    "duration": 21,
    "start_time": "2022-07-24T21:37:58.849Z"
   },
   {
    "duration": 58,
    "start_time": "2022-07-25T08:57:42.805Z"
   },
   {
    "duration": 43,
    "start_time": "2022-07-25T09:20:49.690Z"
   },
   {
    "duration": 439,
    "start_time": "2022-07-25T09:50:17.811Z"
   },
   {
    "duration": 956,
    "start_time": "2022-07-25T09:50:18.252Z"
   },
   {
    "duration": 4,
    "start_time": "2022-07-25T09:50:19.210Z"
   },
   {
    "duration": 25,
    "start_time": "2022-07-25T09:50:19.216Z"
   },
   {
    "duration": 2864,
    "start_time": "2022-07-25T09:50:19.243Z"
   },
   {
    "duration": 15,
    "start_time": "2022-07-25T09:50:22.110Z"
   },
   {
    "duration": 44,
    "start_time": "2022-07-25T09:50:22.127Z"
   },
   {
    "duration": 269,
    "start_time": "2022-07-25T09:50:22.174Z"
   },
   {
    "duration": 801,
    "start_time": "2022-07-25T09:50:22.445Z"
   },
   {
    "duration": 2,
    "start_time": "2022-07-25T09:50:23.249Z"
   },
   {
    "duration": 43,
    "start_time": "2022-07-25T09:50:23.253Z"
   },
   {
    "duration": 25,
    "start_time": "2022-07-25T09:50:23.297Z"
   },
   {
    "duration": 1223069,
    "start_time": "2022-07-25T09:50:23.324Z"
   },
   {
    "duration": 5,
    "start_time": "2022-07-25T10:10:46.395Z"
   },
   {
    "duration": 34,
    "start_time": "2022-07-25T10:10:46.401Z"
   },
   {
    "duration": 46,
    "start_time": "2022-07-25T10:10:46.437Z"
   },
   {
    "duration": 3,
    "start_time": "2022-07-25T10:28:23.858Z"
   },
   {
    "duration": 79,
    "start_time": "2022-07-25T10:28:30.613Z"
   },
   {
    "duration": 62,
    "start_time": "2022-07-25T10:28:32.649Z"
   },
   {
    "duration": 109,
    "start_time": "2022-07-25T10:28:59.980Z"
   },
   {
    "duration": 4806,
    "start_time": "2022-07-25T10:29:15.351Z"
   },
   {
    "duration": 6,
    "start_time": "2022-07-25T10:29:20.159Z"
   },
   {
    "duration": 4,
    "start_time": "2022-07-25T10:29:30.981Z"
   },
   {
    "duration": 5,
    "start_time": "2022-07-25T10:29:37.890Z"
   },
   {
    "duration": 1997,
    "start_time": "2022-07-25T10:29:42.173Z"
   },
   {
    "duration": 4,
    "start_time": "2022-07-25T10:30:55.519Z"
   },
   {
    "duration": 13867,
    "start_time": "2022-07-25T10:31:01.012Z"
   },
   {
    "duration": 11,
    "start_time": "2022-07-25T10:31:21.764Z"
   },
   {
    "duration": 20,
    "start_time": "2022-07-25T10:31:33.838Z"
   },
   {
    "duration": 196958,
    "start_time": "2022-07-25T10:31:47.322Z"
   },
   {
    "duration": 1191988,
    "start_time": "2022-07-25T10:35:20.910Z"
   },
   {
    "duration": 985,
    "start_time": "2022-07-25T10:55:36.291Z"
   },
   {
    "duration": 3,
    "start_time": "2022-07-25T10:59:19.888Z"
   },
   {
    "duration": 3,
    "start_time": "2022-07-25T11:01:56.660Z"
   },
   {
    "duration": 620,
    "start_time": "2022-07-25T11:02:00.548Z"
   },
   {
    "duration": 3,
    "start_time": "2022-07-25T11:02:51.702Z"
   },
   {
    "duration": 58,
    "start_time": "2022-07-25T11:02:52.762Z"
   },
   {
    "duration": 4,
    "start_time": "2022-07-25T11:03:33.376Z"
   },
   {
    "duration": 640981,
    "start_time": "2022-07-25T11:03:35.488Z"
   },
   {
    "duration": 498,
    "start_time": "2022-07-25T11:14:56.651Z"
   },
   {
    "duration": 18,
    "start_time": "2022-07-25T11:15:01.843Z"
   },
   {
    "duration": 1830,
    "start_time": "2022-07-25T11:22:47.057Z"
   },
   {
    "duration": 233,
    "start_time": "2022-07-25T11:22:48.889Z"
   },
   {
    "duration": 3,
    "start_time": "2022-07-25T11:22:49.125Z"
   },
   {
    "duration": 10,
    "start_time": "2022-07-25T11:22:49.130Z"
   },
   {
    "duration": 1068,
    "start_time": "2022-07-25T11:22:49.142Z"
   },
   {
    "duration": 14,
    "start_time": "2022-07-25T11:22:50.211Z"
   },
   {
    "duration": 33,
    "start_time": "2022-07-25T11:22:50.226Z"
   },
   {
    "duration": 218,
    "start_time": "2022-07-25T11:22:50.261Z"
   },
   {
    "duration": 365,
    "start_time": "2022-07-25T11:22:50.480Z"
   },
   {
    "duration": 2,
    "start_time": "2022-07-25T11:22:50.847Z"
   },
   {
    "duration": 11,
    "start_time": "2022-07-25T11:22:50.850Z"
   },
   {
    "duration": 5,
    "start_time": "2022-07-25T11:22:50.863Z"
   },
   {
    "duration": 1080951,
    "start_time": "2022-07-25T11:22:50.869Z"
   },
   {
    "duration": 4,
    "start_time": "2022-07-25T11:40:51.822Z"
   },
   {
    "duration": 8,
    "start_time": "2022-07-25T11:40:51.828Z"
   },
   {
    "duration": 6,
    "start_time": "2022-07-25T11:40:51.838Z"
   },
   {
    "duration": 77,
    "start_time": "2022-07-25T11:40:51.845Z"
   },
   {
    "duration": 111,
    "start_time": "2022-07-25T11:40:51.924Z"
   },
   {
    "duration": 6214,
    "start_time": "2022-07-25T11:40:52.037Z"
   },
   {
    "duration": 8,
    "start_time": "2022-07-25T11:40:58.253Z"
   },
   {
    "duration": 10,
    "start_time": "2022-07-25T11:40:58.263Z"
   },
   {
    "duration": 12,
    "start_time": "2022-07-25T11:40:58.276Z"
   },
   {
    "duration": 618,
    "start_time": "2022-07-25T11:40:58.290Z"
   },
   {
    "duration": 4,
    "start_time": "2022-07-25T11:40:58.910Z"
   },
   {
    "duration": 14471,
    "start_time": "2022-07-25T11:40:58.915Z"
   },
   {
    "duration": 5,
    "start_time": "2022-07-25T11:41:13.388Z"
   },
   {
    "duration": 12,
    "start_time": "2022-07-25T11:41:13.395Z"
   },
   {
    "duration": 321654,
    "start_time": "2022-07-25T11:41:13.409Z"
   },
   {
    "duration": 4,
    "start_time": "2022-07-25T11:46:35.066Z"
   },
   {
    "duration": 14,
    "start_time": "2022-07-25T11:46:35.072Z"
   },
   {
    "duration": 860333,
    "start_time": "2022-07-25T11:46:35.087Z"
   },
   {
    "duration": 259,
    "start_time": "2022-07-25T12:00:55.421Z"
   },
   {
    "duration": 12,
    "start_time": "2022-07-25T12:00:55.681Z"
   },
   {
    "duration": 25,
    "start_time": "2022-07-25T12:28:31.801Z"
   },
   {
    "duration": 418,
    "start_time": "2022-07-25T12:29:06.743Z"
   },
   {
    "duration": 403,
    "start_time": "2022-07-25T12:29:18.815Z"
   },
   {
    "duration": 422,
    "start_time": "2022-07-25T12:30:19.191Z"
   },
   {
    "duration": 15,
    "start_time": "2022-07-25T12:33:11.172Z"
   },
   {
    "duration": 36,
    "start_time": "2022-07-25T12:33:55.061Z"
   },
   {
    "duration": 293122,
    "start_time": "2022-07-25T12:37:27.980Z"
   },
   {
    "duration": 129,
    "start_time": "2022-07-25T12:46:21.584Z"
   },
   {
    "duration": 3,
    "start_time": "2022-07-25T12:48:38.575Z"
   },
   {
    "duration": 2786,
    "start_time": "2022-07-25T12:48:39.450Z"
   },
   {
    "duration": 10,
    "start_time": "2022-07-25T12:48:47.275Z"
   },
   {
    "duration": 8,
    "start_time": "2022-07-25T12:48:49.664Z"
   },
   {
    "duration": 292133,
    "start_time": "2022-07-25T13:00:16.880Z"
   },
   {
    "duration": 2672,
    "start_time": "2022-07-25T18:57:11.957Z"
   },
   {
    "duration": 1021,
    "start_time": "2022-07-25T18:57:14.631Z"
   },
   {
    "duration": 4,
    "start_time": "2022-07-25T18:57:15.654Z"
   },
   {
    "duration": 3,
    "start_time": "2022-07-25T18:57:22.931Z"
   },
   {
    "duration": 6,
    "start_time": "2022-07-25T18:57:39.467Z"
   },
   {
    "duration": 4,
    "start_time": "2022-07-25T18:57:58.257Z"
   },
   {
    "duration": 2052,
    "start_time": "2022-07-26T05:58:10.787Z"
   },
   {
    "duration": 810,
    "start_time": "2022-07-26T05:58:12.842Z"
   },
   {
    "duration": 5,
    "start_time": "2022-07-26T05:58:13.654Z"
   },
   {
    "duration": 15,
    "start_time": "2022-07-26T05:58:13.662Z"
   },
   {
    "duration": 4,
    "start_time": "2022-07-26T05:58:18.222Z"
   },
   {
    "duration": 4,
    "start_time": "2022-07-26T05:58:31.810Z"
   },
   {
    "duration": 4,
    "start_time": "2022-07-26T05:58:42.425Z"
   },
   {
    "duration": 4,
    "start_time": "2022-07-26T05:58:49.609Z"
   },
   {
    "duration": 6,
    "start_time": "2022-07-26T05:59:04.478Z"
   },
   {
    "duration": 4,
    "start_time": "2022-07-26T05:59:15.844Z"
   },
   {
    "duration": 4,
    "start_time": "2022-07-26T06:05:39.018Z"
   },
   {
    "duration": 5,
    "start_time": "2022-07-26T06:14:42.162Z"
   },
   {
    "duration": 21,
    "start_time": "2022-07-26T06:14:42.169Z"
   },
   {
    "duration": 3,
    "start_time": "2022-07-26T06:14:42.192Z"
   },
   {
    "duration": 6,
    "start_time": "2022-07-26T06:14:42.197Z"
   },
   {
    "duration": 2382,
    "start_time": "2022-07-26T06:14:42.205Z"
   },
   {
    "duration": 20,
    "start_time": "2022-07-26T06:14:44.590Z"
   },
   {
    "duration": 54,
    "start_time": "2022-07-26T06:14:44.613Z"
   },
   {
    "duration": 244,
    "start_time": "2022-07-26T06:14:44.669Z"
   },
   {
    "duration": 137,
    "start_time": "2022-07-26T06:14:44.915Z"
   },
   {
    "duration": 4,
    "start_time": "2022-07-26T06:14:45.053Z"
   },
   {
    "duration": 36,
    "start_time": "2022-07-26T06:14:45.060Z"
   },
   {
    "duration": 7,
    "start_time": "2022-07-26T06:14:45.098Z"
   },
   {
    "duration": 8,
    "start_time": "2022-07-26T06:14:45.107Z"
   },
   {
    "duration": 406,
    "start_time": "2022-07-26T06:14:45.117Z"
   },
   {
    "duration": 791,
    "start_time": "2022-07-26T06:14:45.525Z"
   },
   {
    "duration": 0,
    "start_time": "2022-07-26T06:14:46.318Z"
   },
   {
    "duration": 0,
    "start_time": "2022-07-26T06:14:46.319Z"
   },
   {
    "duration": 5,
    "start_time": "2022-07-26T06:15:32.268Z"
   },
   {
    "duration": 13,
    "start_time": "2022-07-26T06:15:32.275Z"
   },
   {
    "duration": 17,
    "start_time": "2022-07-26T06:15:32.290Z"
   },
   {
    "duration": 22,
    "start_time": "2022-07-26T06:15:32.309Z"
   },
   {
    "duration": 852,
    "start_time": "2022-07-26T06:15:32.333Z"
   },
   {
    "duration": 17,
    "start_time": "2022-07-26T06:15:33.188Z"
   },
   {
    "duration": 58,
    "start_time": "2022-07-26T06:15:33.208Z"
   },
   {
    "duration": 260,
    "start_time": "2022-07-26T06:15:33.269Z"
   },
   {
    "duration": 112,
    "start_time": "2022-07-26T06:15:33.531Z"
   },
   {
    "duration": 3,
    "start_time": "2022-07-26T06:15:33.645Z"
   },
   {
    "duration": 15,
    "start_time": "2022-07-26T06:15:33.650Z"
   },
   {
    "duration": 16,
    "start_time": "2022-07-26T06:15:33.666Z"
   },
   {
    "duration": 12,
    "start_time": "2022-07-26T06:15:33.684Z"
   },
   {
    "duration": 274,
    "start_time": "2022-07-26T06:15:33.697Z"
   },
   {
    "duration": 806,
    "start_time": "2022-07-26T06:15:33.973Z"
   },
   {
    "duration": 0,
    "start_time": "2022-07-26T06:15:34.781Z"
   },
   {
    "duration": 0,
    "start_time": "2022-07-26T06:15:34.782Z"
   },
   {
    "duration": 5,
    "start_time": "2022-07-26T06:16:48.655Z"
   },
   {
    "duration": 11,
    "start_time": "2022-07-26T06:16:48.663Z"
   },
   {
    "duration": 14,
    "start_time": "2022-07-26T06:16:48.676Z"
   },
   {
    "duration": 10,
    "start_time": "2022-07-26T06:16:48.692Z"
   },
   {
    "duration": 827,
    "start_time": "2022-07-26T06:16:48.704Z"
   },
   {
    "duration": 12,
    "start_time": "2022-07-26T06:16:49.532Z"
   },
   {
    "duration": 41,
    "start_time": "2022-07-26T06:16:49.546Z"
   },
   {
    "duration": 262,
    "start_time": "2022-07-26T06:16:49.589Z"
   },
   {
    "duration": 115,
    "start_time": "2022-07-26T06:16:49.853Z"
   },
   {
    "duration": 3,
    "start_time": "2022-07-26T06:16:49.970Z"
   },
   {
    "duration": 8,
    "start_time": "2022-07-26T06:16:49.976Z"
   },
   {
    "duration": 13,
    "start_time": "2022-07-26T06:16:49.986Z"
   },
   {
    "duration": 6,
    "start_time": "2022-07-26T06:16:50.000Z"
   },
   {
    "duration": 271,
    "start_time": "2022-07-26T06:16:50.008Z"
   },
   {
    "duration": 822,
    "start_time": "2022-07-26T06:16:50.281Z"
   },
   {
    "duration": 0,
    "start_time": "2022-07-26T06:16:51.105Z"
   },
   {
    "duration": 0,
    "start_time": "2022-07-26T06:16:51.107Z"
   },
   {
    "duration": 4,
    "start_time": "2022-07-26T06:17:56.257Z"
   },
   {
    "duration": 15,
    "start_time": "2022-07-26T06:17:56.263Z"
   },
   {
    "duration": 17,
    "start_time": "2022-07-26T06:17:56.280Z"
   },
   {
    "duration": 11,
    "start_time": "2022-07-26T06:17:56.299Z"
   },
   {
    "duration": 907,
    "start_time": "2022-07-26T06:17:56.312Z"
   },
   {
    "duration": 12,
    "start_time": "2022-07-26T06:17:57.221Z"
   },
   {
    "duration": 47,
    "start_time": "2022-07-26T06:17:57.236Z"
   },
   {
    "duration": 250,
    "start_time": "2022-07-26T06:17:57.285Z"
   },
   {
    "duration": 119,
    "start_time": "2022-07-26T06:17:57.539Z"
   },
   {
    "duration": 4,
    "start_time": "2022-07-26T06:17:57.660Z"
   },
   {
    "duration": 9,
    "start_time": "2022-07-26T06:17:57.666Z"
   },
   {
    "duration": 8,
    "start_time": "2022-07-26T06:17:57.677Z"
   },
   {
    "duration": 13,
    "start_time": "2022-07-26T06:17:57.687Z"
   },
   {
    "duration": 1743,
    "start_time": "2022-07-26T06:17:57.702Z"
   },
   {
    "duration": 1175,
    "start_time": "2022-07-26T06:17:59.447Z"
   },
   {
    "duration": 0,
    "start_time": "2022-07-26T06:18:00.624Z"
   },
   {
    "duration": 0,
    "start_time": "2022-07-26T06:18:00.625Z"
   },
   {
    "duration": 4,
    "start_time": "2022-07-26T06:18:42.943Z"
   },
   {
    "duration": 9,
    "start_time": "2022-07-26T06:18:42.950Z"
   },
   {
    "duration": 13,
    "start_time": "2022-07-26T06:18:42.962Z"
   },
   {
    "duration": 8,
    "start_time": "2022-07-26T06:18:42.978Z"
   },
   {
    "duration": 823,
    "start_time": "2022-07-26T06:18:42.988Z"
   },
   {
    "duration": 13,
    "start_time": "2022-07-26T06:18:43.813Z"
   },
   {
    "duration": 37,
    "start_time": "2022-07-26T06:18:43.827Z"
   },
   {
    "duration": 247,
    "start_time": "2022-07-26T06:18:43.866Z"
   },
   {
    "duration": 128,
    "start_time": "2022-07-26T06:18:44.116Z"
   },
   {
    "duration": 3,
    "start_time": "2022-07-26T06:18:44.246Z"
   },
   {
    "duration": 8,
    "start_time": "2022-07-26T06:18:44.251Z"
   },
   {
    "duration": 11,
    "start_time": "2022-07-26T06:18:44.261Z"
   },
   {
    "duration": 8,
    "start_time": "2022-07-26T06:18:44.274Z"
   },
   {
    "duration": 116,
    "start_time": "2022-07-26T06:18:44.284Z"
   },
   {
    "duration": 26,
    "start_time": "2022-07-26T06:18:44.402Z"
   },
   {
    "duration": 5,
    "start_time": "2022-07-26T06:18:44.431Z"
   },
   {
    "duration": 11,
    "start_time": "2022-07-26T06:18:44.438Z"
   },
   {
    "duration": 4,
    "start_time": "2022-07-26T06:19:31.495Z"
   },
   {
    "duration": 27,
    "start_time": "2022-07-26T06:19:31.502Z"
   },
   {
    "duration": 18,
    "start_time": "2022-07-26T06:19:31.531Z"
   },
   {
    "duration": 9,
    "start_time": "2022-07-26T06:19:31.551Z"
   },
   {
    "duration": 868,
    "start_time": "2022-07-26T06:19:31.562Z"
   },
   {
    "duration": 12,
    "start_time": "2022-07-26T06:19:32.432Z"
   },
   {
    "duration": 45,
    "start_time": "2022-07-26T06:19:32.446Z"
   },
   {
    "duration": 240,
    "start_time": "2022-07-26T06:19:32.493Z"
   },
   {
    "duration": 117,
    "start_time": "2022-07-26T06:19:32.735Z"
   },
   {
    "duration": 3,
    "start_time": "2022-07-26T06:19:32.855Z"
   },
   {
    "duration": 13,
    "start_time": "2022-07-26T06:19:32.861Z"
   },
   {
    "duration": 11,
    "start_time": "2022-07-26T06:19:32.876Z"
   },
   {
    "duration": 20,
    "start_time": "2022-07-26T06:19:32.890Z"
   },
   {
    "duration": 122131,
    "start_time": "2022-07-26T06:19:32.912Z"
   },
   {
    "duration": 5560,
    "start_time": "2022-07-26T06:21:35.044Z"
   },
   {
    "duration": 5,
    "start_time": "2022-07-26T06:21:40.606Z"
   },
   {
    "duration": 11,
    "start_time": "2022-07-26T06:21:40.613Z"
   },
   {
    "duration": 11,
    "start_time": "2022-07-26T06:21:40.626Z"
   },
   {
    "duration": 108,
    "start_time": "2022-07-26T06:21:40.639Z"
   },
   {
    "duration": 127,
    "start_time": "2022-07-26T06:21:40.750Z"
   },
   {
    "duration": 4001,
    "start_time": "2022-07-26T06:21:40.879Z"
   },
   {
    "duration": 4,
    "start_time": "2022-07-26T06:21:44.882Z"
   },
   {
    "duration": 8,
    "start_time": "2022-07-26T06:21:44.887Z"
   },
   {
    "duration": 11,
    "start_time": "2022-07-26T06:21:44.897Z"
   },
   {
    "duration": 1718,
    "start_time": "2022-07-26T06:21:44.923Z"
   },
   {
    "duration": 3,
    "start_time": "2022-07-26T06:21:46.643Z"
   },
   {
    "duration": 12803,
    "start_time": "2022-07-26T06:21:46.648Z"
   },
   {
    "duration": 11,
    "start_time": "2022-07-26T06:21:59.453Z"
   },
   {
    "duration": 20,
    "start_time": "2022-07-26T06:21:59.468Z"
   },
   {
    "duration": 266958,
    "start_time": "2022-07-26T06:21:59.490Z"
   },
   {
    "duration": 3,
    "start_time": "2022-07-26T06:26:26.449Z"
   },
   {
    "duration": 2578,
    "start_time": "2022-07-26T06:26:26.454Z"
   },
   {
    "duration": 28,
    "start_time": "2022-07-26T06:26:29.034Z"
   },
   {
    "duration": 18,
    "start_time": "2022-07-26T06:26:29.064Z"
   },
   {
    "duration": 3,
    "start_time": "2022-07-26T06:26:29.083Z"
   },
   {
    "duration": 818187,
    "start_time": "2022-07-26T06:26:29.088Z"
   },
   {
    "duration": 676,
    "start_time": "2022-07-26T06:40:07.277Z"
   },
   {
    "duration": 18,
    "start_time": "2022-07-26T06:40:07.955Z"
   },
   {
    "duration": 4,
    "start_time": "2022-07-26T09:33:28.846Z"
   },
   {
    "duration": 221,
    "start_time": "2022-07-26T09:33:28.853Z"
   },
   {
    "duration": 3,
    "start_time": "2022-07-26T09:33:29.077Z"
   },
   {
    "duration": 23,
    "start_time": "2022-07-26T09:33:29.082Z"
   },
   {
    "duration": 939,
    "start_time": "2022-07-26T09:33:29.107Z"
   },
   {
    "duration": 12,
    "start_time": "2022-07-26T09:33:30.049Z"
   },
   {
    "duration": 70,
    "start_time": "2022-07-26T09:33:30.063Z"
   },
   {
    "duration": 314,
    "start_time": "2022-07-26T09:33:30.137Z"
   },
   {
    "duration": 133,
    "start_time": "2022-07-26T09:33:30.453Z"
   },
   {
    "duration": 2,
    "start_time": "2022-07-26T09:33:30.589Z"
   },
   {
    "duration": 40,
    "start_time": "2022-07-26T09:33:30.594Z"
   },
   {
    "duration": 19,
    "start_time": "2022-07-26T09:33:30.638Z"
   },
   {
    "duration": 52,
    "start_time": "2022-07-26T09:33:30.659Z"
   },
   {
    "duration": 877507,
    "start_time": "2022-07-26T09:33:30.712Z"
   },
   {
    "duration": 6483,
    "start_time": "2022-07-26T09:48:08.223Z"
   },
   {
    "duration": 5,
    "start_time": "2022-07-26T09:48:14.708Z"
   },
   {
    "duration": 30,
    "start_time": "2022-07-26T09:48:14.716Z"
   },
   {
    "duration": 5,
    "start_time": "2022-07-26T09:53:01.002Z"
   },
   {
    "duration": 3,
    "start_time": "2022-07-26T09:55:56.283Z"
   },
   {
    "duration": 82,
    "start_time": "2022-07-26T09:55:56.290Z"
   },
   {
    "duration": 137,
    "start_time": "2022-07-26T09:55:56.375Z"
   },
   {
    "duration": 3761,
    "start_time": "2022-07-26T09:55:56.514Z"
   },
   {
    "duration": 4,
    "start_time": "2022-07-26T09:56:00.277Z"
   },
   {
    "duration": 8,
    "start_time": "2022-07-26T09:56:00.283Z"
   },
   {
    "duration": 13,
    "start_time": "2022-07-26T09:56:00.293Z"
   },
   {
    "duration": 1574,
    "start_time": "2022-07-26T09:56:00.308Z"
   },
   {
    "duration": 3,
    "start_time": "2022-07-26T09:56:01.884Z"
   },
   {
    "duration": 13465,
    "start_time": "2022-07-26T09:56:01.889Z"
   },
   {
    "duration": 10,
    "start_time": "2022-07-26T09:56:15.357Z"
   },
   {
    "duration": 23,
    "start_time": "2022-07-26T09:56:15.369Z"
   },
   {
    "duration": 255130,
    "start_time": "2022-07-26T09:56:15.394Z"
   },
   {
    "duration": 3,
    "start_time": "2022-07-26T10:00:30.526Z"
   },
   {
    "duration": 2659,
    "start_time": "2022-07-26T10:00:30.531Z"
   },
   {
    "duration": 43,
    "start_time": "2022-07-26T10:00:33.192Z"
   },
   {
    "duration": 17,
    "start_time": "2022-07-26T10:00:33.237Z"
   },
   {
    "duration": 3,
    "start_time": "2022-07-26T10:00:33.256Z"
   },
   {
    "duration": 741453,
    "start_time": "2022-07-26T10:00:33.261Z"
   },
   {
    "duration": 607,
    "start_time": "2022-07-26T10:12:54.716Z"
   },
   {
    "duration": 19,
    "start_time": "2022-07-26T10:12:55.325Z"
   },
   {
    "duration": 2,
    "start_time": "2022-07-26T10:16:36.770Z"
   },
   {
    "duration": 4,
    "start_time": "2022-07-26T10:19:09.462Z"
   },
   {
    "duration": 8,
    "start_time": "2022-07-26T10:19:09.469Z"
   },
   {
    "duration": 5,
    "start_time": "2022-07-26T10:19:09.479Z"
   },
   {
    "duration": 7,
    "start_time": "2022-07-26T10:19:09.486Z"
   },
   {
    "duration": 18,
    "start_time": "2022-07-26T10:19:09.495Z"
   },
   {
    "duration": 816,
    "start_time": "2022-07-26T10:19:09.515Z"
   },
   {
    "duration": 12,
    "start_time": "2022-07-26T10:19:10.333Z"
   },
   {
    "duration": 41,
    "start_time": "2022-07-26T10:19:10.347Z"
   },
   {
    "duration": 245,
    "start_time": "2022-07-26T10:19:10.390Z"
   },
   {
    "duration": 127,
    "start_time": "2022-07-26T10:19:10.637Z"
   },
   {
    "duration": 3,
    "start_time": "2022-07-26T10:19:10.767Z"
   },
   {
    "duration": 10,
    "start_time": "2022-07-26T10:19:10.772Z"
   },
   {
    "duration": 9,
    "start_time": "2022-07-26T10:19:10.783Z"
   },
   {
    "duration": 10,
    "start_time": "2022-07-26T10:19:10.794Z"
   },
   {
    "duration": 831566,
    "start_time": "2022-07-26T10:19:10.806Z"
   },
   {
    "duration": 26038,
    "start_time": "2022-07-26T10:33:02.374Z"
   },
   {
    "duration": 8,
    "start_time": "2022-07-26T10:33:28.414Z"
   },
   {
    "duration": 6,
    "start_time": "2022-07-26T10:33:28.424Z"
   },
   {
    "duration": 24,
    "start_time": "2022-07-26T10:33:28.432Z"
   },
   {
    "duration": 165,
    "start_time": "2022-07-26T10:33:28.458Z"
   },
   {
    "duration": 121,
    "start_time": "2022-07-26T10:33:28.625Z"
   },
   {
    "duration": 17317,
    "start_time": "2022-07-26T10:33:28.749Z"
   },
   {
    "duration": 4,
    "start_time": "2022-07-26T10:33:46.068Z"
   },
   {
    "duration": 9,
    "start_time": "2022-07-26T10:33:46.073Z"
   },
   {
    "duration": 9,
    "start_time": "2022-07-26T10:33:46.084Z"
   },
   {
    "duration": 4190,
    "start_time": "2022-07-26T10:33:46.094Z"
   },
   {
    "duration": 3,
    "start_time": "2022-07-26T10:33:50.286Z"
   },
   {
    "duration": 16048,
    "start_time": "2022-07-26T10:33:50.292Z"
   },
   {
    "duration": 22,
    "start_time": "2022-07-26T10:34:06.341Z"
   },
   {
    "duration": 20,
    "start_time": "2022-07-26T10:34:06.364Z"
   },
   {
    "duration": 3,
    "start_time": "2022-07-26T10:34:06.386Z"
   },
   {
    "duration": 35,
    "start_time": "2022-07-26T10:34:06.391Z"
   },
   {
    "duration": 58502,
    "start_time": "2022-07-26T10:34:06.428Z"
   },
   {
    "duration": 91,
    "start_time": "2022-07-26T10:35:04.931Z"
   },
   {
    "duration": 20,
    "start_time": "2022-07-26T10:35:05.024Z"
   },
   {
    "duration": 3,
    "start_time": "2022-07-26T10:35:05.045Z"
   },
   {
    "duration": 2509,
    "start_time": "2022-07-26T10:49:24.631Z"
   },
   {
    "duration": 344,
    "start_time": "2022-07-26T10:49:27.142Z"
   },
   {
    "duration": 7,
    "start_time": "2022-07-26T10:49:27.488Z"
   },
   {
    "duration": 5,
    "start_time": "2022-07-26T10:49:27.497Z"
   },
   {
    "duration": 9,
    "start_time": "2022-07-26T10:49:27.503Z"
   },
   {
    "duration": 2371,
    "start_time": "2022-07-26T10:49:27.513Z"
   },
   {
    "duration": 15,
    "start_time": "2022-07-26T10:49:29.886Z"
   },
   {
    "duration": 37,
    "start_time": "2022-07-26T10:49:29.902Z"
   },
   {
    "duration": 269,
    "start_time": "2022-07-26T10:49:29.941Z"
   },
   {
    "duration": 156,
    "start_time": "2022-07-26T10:49:30.215Z"
   },
   {
    "duration": 2,
    "start_time": "2022-07-26T10:49:30.373Z"
   },
   {
    "duration": 31,
    "start_time": "2022-07-26T10:49:30.377Z"
   },
   {
    "duration": 25,
    "start_time": "2022-07-26T10:49:30.411Z"
   },
   {
    "duration": 19,
    "start_time": "2022-07-26T10:49:30.437Z"
   },
   {
    "duration": 14789,
    "start_time": "2022-07-26T10:49:30.458Z"
   },
   {
    "duration": 857,
    "start_time": "2022-07-26T10:49:45.250Z"
   },
   {
    "duration": 0,
    "start_time": "2022-07-26T10:49:46.109Z"
   },
   {
    "duration": 0,
    "start_time": "2022-07-26T10:49:46.111Z"
   },
   {
    "duration": 0,
    "start_time": "2022-07-26T10:49:46.112Z"
   },
   {
    "duration": 0,
    "start_time": "2022-07-26T10:49:46.113Z"
   },
   {
    "duration": 0,
    "start_time": "2022-07-26T10:49:46.115Z"
   },
   {
    "duration": 0,
    "start_time": "2022-07-26T10:49:46.116Z"
   },
   {
    "duration": 0,
    "start_time": "2022-07-26T10:49:46.118Z"
   },
   {
    "duration": 0,
    "start_time": "2022-07-26T10:49:46.119Z"
   },
   {
    "duration": 0,
    "start_time": "2022-07-26T10:49:46.120Z"
   },
   {
    "duration": 0,
    "start_time": "2022-07-26T10:49:46.121Z"
   },
   {
    "duration": 0,
    "start_time": "2022-07-26T10:49:46.122Z"
   },
   {
    "duration": 0,
    "start_time": "2022-07-26T10:49:46.123Z"
   },
   {
    "duration": 0,
    "start_time": "2022-07-26T10:49:46.125Z"
   },
   {
    "duration": 0,
    "start_time": "2022-07-26T10:49:46.126Z"
   },
   {
    "duration": 6,
    "start_time": "2022-07-26T10:50:26.848Z"
   },
   {
    "duration": 12,
    "start_time": "2022-07-26T10:50:26.857Z"
   },
   {
    "duration": 10,
    "start_time": "2022-07-26T10:50:26.871Z"
   },
   {
    "duration": 6,
    "start_time": "2022-07-26T10:50:26.884Z"
   },
   {
    "duration": 11,
    "start_time": "2022-07-26T10:50:26.892Z"
   },
   {
    "duration": 824,
    "start_time": "2022-07-26T10:50:26.905Z"
   },
   {
    "duration": 13,
    "start_time": "2022-07-26T10:50:27.731Z"
   },
   {
    "duration": 42,
    "start_time": "2022-07-26T10:50:27.746Z"
   },
   {
    "duration": 256,
    "start_time": "2022-07-26T10:50:27.791Z"
   },
   {
    "duration": 119,
    "start_time": "2022-07-26T10:50:28.051Z"
   },
   {
    "duration": 3,
    "start_time": "2022-07-26T10:50:28.172Z"
   },
   {
    "duration": 14,
    "start_time": "2022-07-26T10:50:28.177Z"
   },
   {
    "duration": 11,
    "start_time": "2022-07-26T10:50:28.193Z"
   },
   {
    "duration": 17,
    "start_time": "2022-07-26T10:50:28.205Z"
   },
   {
    "duration": 124125,
    "start_time": "2022-07-26T10:50:28.225Z"
   },
   {
    "duration": 5354,
    "start_time": "2022-07-26T10:52:32.352Z"
   },
   {
    "duration": 4,
    "start_time": "2022-07-26T10:52:37.708Z"
   },
   {
    "duration": 9,
    "start_time": "2022-07-26T10:52:37.714Z"
   },
   {
    "duration": 9,
    "start_time": "2022-07-26T10:52:37.725Z"
   },
   {
    "duration": 93,
    "start_time": "2022-07-26T10:52:37.736Z"
   },
   {
    "duration": 126,
    "start_time": "2022-07-26T10:52:37.831Z"
   },
   {
    "duration": 3600,
    "start_time": "2022-07-26T10:52:37.959Z"
   },
   {
    "duration": 5,
    "start_time": "2022-07-26T10:52:41.561Z"
   },
   {
    "duration": 15,
    "start_time": "2022-07-26T10:52:41.568Z"
   },
   {
    "duration": 15,
    "start_time": "2022-07-26T10:52:41.585Z"
   },
   {
    "duration": 1559,
    "start_time": "2022-07-26T10:52:41.602Z"
   },
   {
    "duration": 3,
    "start_time": "2022-07-26T10:52:43.163Z"
   },
   {
    "duration": 6,
    "start_time": "2022-07-26T10:52:43.170Z"
   },
   {
    "duration": 10,
    "start_time": "2022-07-26T10:52:43.178Z"
   },
   {
    "duration": 1859811,
    "start_time": "2022-07-26T10:52:43.191Z"
   },
   {
    "duration": 4,
    "start_time": "2022-07-26T11:45:13.826Z"
   },
   {
    "duration": 126,
    "start_time": "2022-07-26T11:45:15.369Z"
   },
   {
    "duration": 8,
    "start_time": "2022-07-26T11:45:50.544Z"
   },
   {
    "duration": 7,
    "start_time": "2022-07-26T11:46:55.513Z"
   },
   {
    "duration": 5,
    "start_time": "2022-07-26T11:48:13.473Z"
   },
   {
    "duration": 8,
    "start_time": "2022-07-26T11:57:24.557Z"
   },
   {
    "duration": 109632,
    "start_time": "2022-07-26T11:57:24.568Z"
   },
   {
    "duration": 103,
    "start_time": "2022-07-26T11:59:14.203Z"
   },
   {
    "duration": 19,
    "start_time": "2022-07-26T11:59:14.308Z"
   },
   {
    "duration": 3,
    "start_time": "2022-07-26T12:47:29.785Z"
   },
   {
    "duration": 9,
    "start_time": "2022-07-26T12:47:29.791Z"
   },
   {
    "duration": 7,
    "start_time": "2022-07-26T12:47:29.802Z"
   },
   {
    "duration": 2556498,
    "start_time": "2022-07-26T12:47:29.811Z"
   },
   {
    "duration": 87,
    "start_time": "2022-07-26T13:30:06.312Z"
   },
   {
    "duration": 100798,
    "start_time": "2022-07-26T13:30:06.401Z"
   },
   {
    "duration": 8,
    "start_time": "2022-07-26T13:31:47.200Z"
   },
   {
    "duration": 21,
    "start_time": "2022-07-26T13:31:47.209Z"
   },
   {
    "duration": 4,
    "start_time": "2022-07-26T13:36:05.204Z"
   },
   {
    "duration": 3,
    "start_time": "2022-07-26T13:37:45.073Z"
   },
   {
    "duration": 15,
    "start_time": "2022-07-26T13:37:45.079Z"
   },
   {
    "duration": 0,
    "start_time": "2022-07-26T13:37:45.096Z"
   },
   {
    "duration": 0,
    "start_time": "2022-07-26T13:37:45.098Z"
   },
   {
    "duration": 0,
    "start_time": "2022-07-26T13:37:45.099Z"
   },
   {
    "duration": 0,
    "start_time": "2022-07-26T13:37:45.100Z"
   },
   {
    "duration": 9,
    "start_time": "2022-07-26T13:37:45.102Z"
   },
   {
    "duration": 0,
    "start_time": "2022-07-26T13:37:45.113Z"
   },
   {
    "duration": 0,
    "start_time": "2022-07-26T13:37:45.114Z"
   },
   {
    "duration": 3,
    "start_time": "2022-07-26T13:38:37.738Z"
   },
   {
    "duration": 5,
    "start_time": "2022-07-26T13:38:37.743Z"
   },
   {
    "duration": 4,
    "start_time": "2022-07-26T13:38:37.749Z"
   },
   {
    "duration": 1929144,
    "start_time": "2022-07-26T13:38:37.754Z"
   },
   {
    "duration": 2,
    "start_time": "2022-07-26T14:10:46.901Z"
   },
   {
    "duration": 18,
    "start_time": "2022-07-26T14:10:46.905Z"
   },
   {
    "duration": 11526,
    "start_time": "2022-07-26T14:10:46.925Z"
   },
   {
    "duration": 8,
    "start_time": "2022-07-26T14:10:58.453Z"
   },
   {
    "duration": 0,
    "start_time": "2022-07-26T14:10:58.463Z"
   },
   {
    "duration": 28,
    "start_time": "2022-07-26T14:17:26.119Z"
   },
   {
    "duration": 9,
    "start_time": "2022-07-26T14:17:33.254Z"
   },
   {
    "duration": 18,
    "start_time": "2022-07-26T14:17:41.498Z"
   },
   {
    "duration": 3,
    "start_time": "2022-07-26T14:19:46.401Z"
   },
   {
    "duration": 2016865,
    "start_time": "2022-07-26T14:19:54.553Z"
   },
   {
    "duration": 670,
    "start_time": "2022-07-26T14:53:31.421Z"
   },
   {
    "duration": 3,
    "start_time": "2022-07-26T14:53:32.093Z"
   },
   {
    "duration": 704,
    "start_time": "2022-07-26T15:30:07.468Z"
   },
   {
    "duration": 24,
    "start_time": "2022-07-26T15:30:47.191Z"
   },
   {
    "duration": 1903,
    "start_time": "2022-07-26T18:42:38.500Z"
   },
   {
    "duration": 929,
    "start_time": "2022-07-26T18:42:40.406Z"
   },
   {
    "duration": 3,
    "start_time": "2022-07-26T18:42:41.337Z"
   },
   {
    "duration": 11,
    "start_time": "2022-07-26T18:42:41.342Z"
   },
   {
    "duration": 6,
    "start_time": "2022-07-26T18:42:41.354Z"
   },
   {
    "duration": 2433,
    "start_time": "2022-07-26T18:42:41.372Z"
   },
   {
    "duration": 14,
    "start_time": "2022-07-26T18:42:43.807Z"
   },
   {
    "duration": 116,
    "start_time": "2022-07-26T18:42:43.823Z"
   },
   {
    "duration": 247,
    "start_time": "2022-07-26T18:42:43.941Z"
   },
   {
    "duration": 128,
    "start_time": "2022-07-26T18:42:44.191Z"
   },
   {
    "duration": 4,
    "start_time": "2022-07-26T18:43:21.651Z"
   },
   {
    "duration": 1747,
    "start_time": "2022-07-26T20:01:26.191Z"
   },
   {
    "duration": 167,
    "start_time": "2022-07-26T20:01:27.940Z"
   },
   {
    "duration": 5,
    "start_time": "2022-07-26T20:01:28.109Z"
   },
   {
    "duration": 6,
    "start_time": "2022-07-26T20:01:28.116Z"
   },
   {
    "duration": 5,
    "start_time": "2022-07-26T20:01:28.123Z"
   },
   {
    "duration": 910,
    "start_time": "2022-07-26T20:01:28.130Z"
   },
   {
    "duration": 19,
    "start_time": "2022-07-26T20:01:29.042Z"
   },
   {
    "duration": 141,
    "start_time": "2022-07-26T20:01:29.063Z"
   },
   {
    "duration": 250,
    "start_time": "2022-07-26T20:01:29.205Z"
   },
   {
    "duration": 152,
    "start_time": "2022-07-26T20:01:29.457Z"
   },
   {
    "duration": 3,
    "start_time": "2022-07-26T20:01:29.611Z"
   },
   {
    "duration": 8,
    "start_time": "2022-07-26T20:01:29.616Z"
   },
   {
    "duration": 6,
    "start_time": "2022-07-26T20:01:29.626Z"
   },
   {
    "duration": 132685,
    "start_time": "2022-07-26T20:01:29.634Z"
   },
   {
    "duration": 4,
    "start_time": "2022-07-26T20:03:42.321Z"
   },
   {
    "duration": 24,
    "start_time": "2022-07-26T20:03:42.328Z"
   },
   {
    "duration": 26,
    "start_time": "2022-07-26T20:03:42.354Z"
   },
   {
    "duration": 21,
    "start_time": "2022-07-26T20:03:42.382Z"
   },
   {
    "duration": 94,
    "start_time": "2022-07-26T20:03:42.405Z"
   },
   {
    "duration": 117,
    "start_time": "2022-07-26T20:03:42.501Z"
   },
   {
    "duration": 3518,
    "start_time": "2022-07-26T20:03:42.621Z"
   },
   {
    "duration": 4,
    "start_time": "2022-07-26T20:03:46.141Z"
   },
   {
    "duration": 29,
    "start_time": "2022-07-26T20:03:46.147Z"
   },
   {
    "duration": 27,
    "start_time": "2022-07-26T20:03:46.178Z"
   },
   {
    "duration": 1649,
    "start_time": "2022-07-26T20:03:46.207Z"
   },
   {
    "duration": 2,
    "start_time": "2022-07-26T20:03:47.858Z"
   },
   {
    "duration": 5,
    "start_time": "2022-07-26T20:03:47.863Z"
   },
   {
    "duration": 3,
    "start_time": "2022-07-26T20:03:47.873Z"
   },
   {
    "duration": 6,
    "start_time": "2022-07-26T20:03:47.878Z"
   },
   {
    "duration": 4,
    "start_time": "2022-07-26T20:03:47.886Z"
   },
   {
    "duration": 24,
    "start_time": "2022-07-26T20:03:47.892Z"
   },
   {
    "duration": 129660,
    "start_time": "2022-07-26T20:03:47.918Z"
   },
   {
    "duration": 81,
    "start_time": "2022-07-26T20:05:57.586Z"
   },
   {
    "duration": 53,
    "start_time": "2022-07-26T20:05:57.681Z"
   },
   {
    "duration": 3,
    "start_time": "2022-07-26T20:05:57.736Z"
   },
   {
    "duration": 22,
    "start_time": "2022-07-26T20:05:57.741Z"
   },
   {
    "duration": 79,
    "start_time": "2022-07-26T20:05:57.766Z"
   },
   {
    "duration": 40,
    "start_time": "2022-07-26T20:05:57.847Z"
   },
   {
    "duration": 27,
    "start_time": "2022-07-26T20:05:57.889Z"
   },
   {
    "duration": 28,
    "start_time": "2022-07-26T20:05:57.918Z"
   },
   {
    "duration": 40,
    "start_time": "2022-07-26T20:05:57.948Z"
   },
   {
    "duration": 13310,
    "start_time": "2022-07-26T20:05:57.990Z"
   },
   {
    "duration": 42,
    "start_time": "2022-07-26T20:06:11.301Z"
   },
   {
    "duration": 45,
    "start_time": "2022-07-26T20:06:11.346Z"
   },
   {
    "duration": 3,
    "start_time": "2022-07-26T20:06:11.392Z"
   },
   {
    "duration": 9,
    "start_time": "2022-07-26T20:06:11.396Z"
   },
   {
    "duration": 5,
    "start_time": "2022-07-26T20:06:11.406Z"
   },
   {
    "duration": 5,
    "start_time": "2022-07-26T20:06:11.413Z"
   }
  ],
  "kernelspec": {
   "display_name": "Python 3",
   "language": "python",
   "name": "python3"
  },
  "language_info": {
   "codemirror_mode": {
    "name": "ipython",
    "version": 3
   },
   "file_extension": ".py",
   "mimetype": "text/x-python",
   "name": "python",
   "nbconvert_exporter": "python",
   "pygments_lexer": "ipython3",
   "version": "3.8.8"
  },
  "toc": {
   "base_numbering": 1,
   "nav_menu": {},
   "number_sections": true,
   "sideBar": true,
   "skip_h1_title": true,
   "title_cell": "Содержание",
   "title_sidebar": "Contents",
   "toc_cell": true,
   "toc_position": {
    "height": "calc(100% - 180px)",
    "left": "10px",
    "top": "150px",
    "width": "302.391px"
   },
   "toc_section_display": true,
   "toc_window_display": false
  }
 },
 "nbformat": 4,
 "nbformat_minor": 4
}
